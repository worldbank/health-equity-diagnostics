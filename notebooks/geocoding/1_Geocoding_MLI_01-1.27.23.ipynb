{
 "cells": [
  {
   "cell_type": "markdown",
   "metadata": {
    "toc": true
   },
   "source": [
    "<h1>Geocoding Notebook - Mali<span class=\"tocSkip\"></span></h1>\n",
    "<div class=\"toc\"><ul class=\"toc-item\"><li><span><a href=\"#Packages-and-functions\" data-toc-modified-id=\"Packages-and-functions-1\"><span class=\"toc-item-num\">1&nbsp;&nbsp;</span>Packages and functions</a></span></li><li><span><a href=\"#Prepare-and-match-admin-boundary-data\" data-toc-modified-id=\"Prepare-and-match-admin-boundary-data-2\"><span class=\"toc-item-num\">2&nbsp;&nbsp;</span>Prepare and match admin boundary data</a></span><ul class=\"toc-item\"><li><span><a href=\"#Match-health-list-admin-names-to-shapefile-admin-names\" data-toc-modified-id=\"Match-health-list-admin-names-to-shapefile-admin-names-2.1\"><span class=\"toc-item-num\">2.1&nbsp;&nbsp;</span>Match health list admin names to shapefile admin names</a></span><ul class=\"toc-item\"><li><span><a href=\"#Match-orgunitlevel4-to-geoboundaries-Adm-3\" data-toc-modified-id=\"Match-orgunitlevel4-to-geoboundaries-Adm-3-2.1.1\"><span class=\"toc-item-num\">2.1.1&nbsp;&nbsp;</span>Match orgunitlevel4 to geoboundaries Adm 3</a></span></li><li><span><a href=\"#Match-orgunitlevel3-to-FEWS-Adm-2\" data-toc-modified-id=\"Match-orgunitlevel3-to-FEWS-Adm-2-2.1.2\"><span class=\"toc-item-num\">2.1.2&nbsp;&nbsp;</span>Match orgunitlevel3 to FEWS Adm 2</a></span></li></ul></li></ul></li><li><span><a href=\"#Match-to-locations-from-alternative-sources-based-on-facility-name\" data-toc-modified-id=\"Match-to-locations-from-alternative-sources-based-on-facility-name-3\"><span class=\"toc-item-num\">3&nbsp;&nbsp;</span>Match to locations from alternative sources based on facility name</a></span><ul class=\"toc-item\"><li><span><a href=\"#Health-Sites-IO\" data-toc-modified-id=\"Health-Sites-IO-3.1\"><span class=\"toc-item-num\">3.1&nbsp;&nbsp;</span>Health Sites IO</a></span></li><li><span><a href=\"#RHINoVision-Master-Facility-List-Decision-Support-System\" data-toc-modified-id=\"RHINoVision-Master-Facility-List-Decision-Support-System-3.2\"><span class=\"toc-item-num\">3.2&nbsp;&nbsp;</span>RHINoVision Master Facility List Decision Support System</a></span></li></ul></li><li><span><a href=\"#Geocoding-with-APIs\" data-toc-modified-id=\"Geocoding-with-APIs-4\"><span class=\"toc-item-num\">4&nbsp;&nbsp;</span>Geocoding with APIs</a></span><ul class=\"toc-item\"><li><span><a href=\"#Facility-name-and-admin-3-names\" data-toc-modified-id=\"Facility-name-and-admin-3-names-4.1\"><span class=\"toc-item-num\">4.1&nbsp;&nbsp;</span>Facility name and admin 3 names</a></span></li><li><span><a href=\"#Facility-name-and-admin-2-names\" data-toc-modified-id=\"Facility-name-and-admin-2-names-4.2\"><span class=\"toc-item-num\">4.2&nbsp;&nbsp;</span>Facility name and admin 2 names</a></span></li><li><span><a href=\"#Admin-3-names\" data-toc-modified-id=\"Admin-3-names-4.3\"><span class=\"toc-item-num\">4.3&nbsp;&nbsp;</span>Admin 3 names</a></span></li><li><span><a href=\"#Admin-3--and-admin-2-names\" data-toc-modified-id=\"Admin-3--and-admin-2-names-4.4\"><span class=\"toc-item-num\">4.4&nbsp;&nbsp;</span>Admin 3  and admin 2 names</a></span></li></ul></li><li><span><a href=\"#Map-and-save-results\" data-toc-modified-id=\"Map-and-save-results-5\"><span class=\"toc-item-num\">5&nbsp;&nbsp;</span>Map and save results</a></span><ul class=\"toc-item\"><li><span><a href=\"#Join-attributes-from-adminsitrative-polygons\" data-toc-modified-id=\"Join-attributes-from-adminsitrative-polygons-5.1\"><span class=\"toc-item-num\">5.1&nbsp;&nbsp;</span>Join attributes from adminsitrative polygons</a></span></li></ul></li></ul></div>"
   ]
  },
  {
   "cell_type": "markdown",
   "metadata": {},
   "source": [
    "Version: January 27, 2023\n",
    "\n",
    "This notebook works with health facilities from the HMIS Database and attempts to geolocate them, by joining them to administrative shapefiles, other sources for health POI data, and running queries with geocoding APIs.\n",
    "\n",
    "**Data Sources**\n",
    "- Health facilities (hierarchy list)\n",
    "- Geoboundaries (Adm1 through 3)\n",
    "- Health Sites IO\n",
    "- RHINoVision Master Facility List Decision Support System"
   ]
  },
  {
   "cell_type": "markdown",
   "metadata": {},
   "source": [
    "# Packages and functions"
   ]
  },
  {
   "cell_type": "code",
   "execution_count": 701,
   "metadata": {},
   "outputs": [],
   "source": [
    "import os, sys\n",
    "import geopandas as gpd\n",
    "import pandas as pd\n",
    "from geopy.geocoders import GeoNames, Nominatim, Bing, GoogleV3\n",
    "from shapely.geometry import Point\n",
    "from tqdm import tqdm\n",
    "from thefuzz import fuzz\n",
    "from thefuzz import process\n",
    "import matplotlib.pyplot as plt\n",
    "from string import ascii_uppercase\n",
    "import contextily as ctx\n",
    "from os.path import join\n",
    "import numpy as np\n",
    "from dotenv import load_dotenv, find_dotenv"
   ]
  },
  {
   "cell_type": "code",
   "execution_count": 702,
   "metadata": {
    "code_folding": [
     0,
     16,
     32,
     58,
     74
    ]
   },
   "outputs": [],
   "source": [
    "def remove_words(data_frame, column_name, words_to_remove = ['community', 'clinic', 'centre', 'center', 'hospital', 'health', 'government']):\n",
    "    \"\"\" Remove words from strings in a specified column\n",
    "    \n",
    "    Args:\n",
    "        data_frame: Pandas data frame\n",
    "        column_name: Column name to remove words from\n",
    "        words_to_remove: List of words\n",
    "\n",
    "    Returns:\n",
    "        Removes words in place\n",
    "\n",
    "    \"\"\"\n",
    "    for word in words_to_remove:\n",
    "        data_frame[column_name] = data_frame[column_name].str.replace(word, \"\")\n",
    "    data_frame[column_name] = data_frame[column_name].str.strip()\n",
    "        \n",
    "def report_geocoding(records):\n",
    "    \"\"\" Report value counts and % from geocoding_method column.\n",
    "    \n",
    "    Args:\n",
    "        records: Pandas data frame\n",
    "\n",
    "    Returns:\n",
    "        Table with count stats \n",
    "    \"\"\"\n",
    "    table = records[['NAME', 'geocoding_method']].groupby('geocoding_method').count().rename(columns={'NAME':'count'})\n",
    "    table.loc[:, \"pct\"] = table/(table['count'].sum())\n",
    "    table = table.style.format({\n",
    "        'pct': '{:,.1%}'.format,\n",
    "    })\n",
    "    return(table)\n",
    "\n",
    "def match_name(name, list_names, min_score=0):\n",
    "    \"\"\" Uses fuzzy matching between one string and a list of candidate names.\n",
    "    \n",
    "    Args:\n",
    "        name: string\n",
    "        list_names: list of candidate names to match\n",
    "        min_score: minimum score allowed\n",
    "\n",
    "    Returns:\n",
    "        Returns name with the highest match, and match score\n",
    "        If no match is higher than min score, returns \"\" and -1\n",
    "    \"\"\"\n",
    "    # -1 score incase we don't get any matches\n",
    "    max_score = -1\n",
    "    # Returning empty name for no match as well\n",
    "    max_name = \"\"\n",
    "    # Iterating over all names in the other\n",
    "    for name2 in list_names:\n",
    "        #Finding fuzzy match score\n",
    "        score = fuzz.ratio(name, name2)\n",
    "        # Checking if we are above our threshold and have a better score\n",
    "        if (score > min_score) & (score > max_score):\n",
    "            max_name = name2\n",
    "            max_score = score\n",
    "    return (max_name, max_score)\n",
    "\n",
    "def match_to_closest(row, gdf, column='ADMIN2'):\n",
    "    \"\"\" Spatial join using closest distance algorithm.\n",
    "    \n",
    "    Args:\n",
    "        row: row from geo data frame\n",
    "        gdf: gdf with attributes to join\n",
    "        column: attribute to join\n",
    "\n",
    "    Returns:\n",
    "        Returns specified attribute of closest feature\n",
    "    \"\"\"\n",
    "    distances = [row.geometry.distance(pol) for pol in gdf.geometry]\n",
    "    min_id = np.argmin(distances)\n",
    "    closest = gdf.iloc[min_id]\n",
    "    return closest[column]\n",
    "\n",
    "def run_geocoding(idx, row, master_table, admin_area, components, country_code):\n",
    "    \"\"\"\n",
    "    Geocoding workflow to be applied to each row in a dataset\n",
    "    \n",
    "    Args:\n",
    "        idx: index\n",
    "        row: row with index and names to geocode\n",
    "        master_table: master table to store results\n",
    "        admin_area: gdf of admin area to ensure result falls within\n",
    "        components: list of names of attributes to use in query\n",
    "        country_code: two letter iso code\n",
    "    \n",
    "    Returns:\n",
    "        Stores geocoding results in master_table object\n",
    "    \"\"\"\n",
    "    admin_bounds = admin_area.bounds\n",
    "    bb = [(admin_bounds.iloc[0].miny, admin_bounds.iloc[0].minx), (admin_bounds.iloc[0].maxy, admin_bounds.iloc[0].maxx)]\n",
    "    method = ' and '.join(components)\n",
    "    \n",
    "    # error checking\n",
    "    for item in components:\n",
    "        if isinstance(row[item], str) == False:\n",
    "            print(f'{row[item]} is not a string')\n",
    "    \n",
    "    items = [row[item] for item in components]\n",
    "    query = ', '.join(items)\n",
    "    \n",
    "    geocoding_result = None\n",
    "    geocoding_method = \"None\"\n",
    "    # Try Geocoding with OSM\n",
    "    try:\n",
    "        res = geolocator_osm.geocode(query, country_codes=country_code)\n",
    "        # if within admin\n",
    "        if admin_area.contains(Point(res.longitude,res.latitude)).values[0] == True:\n",
    "            geocoding_result = res\n",
    "            geocoding_method = f\"{method} query OSM\"\n",
    "        else:\n",
    "            raise Exception(\"OSM point not valid or not within polygon\")\n",
    "    except:\n",
    "        # Try Geocoding with Bing Maps\n",
    "        try:\n",
    "            res = geolocator_bing.geocode(query)\n",
    "            # if within admin\n",
    "            if admin_area.contains(Point(res.longitude,res.latitude)).values[0] == True:\n",
    "                geocoding_result = res\n",
    "                geocoding_method = f\"{method} query Bing\"\n",
    "            else:\n",
    "                raise Exception(\"Bing point not valid or not within polygon\")\n",
    "        except:\n",
    "            # Try Geocoding with Google\n",
    "            try:\n",
    "                res = geolocator_google.geocode(query = query, region = country_code, bounds = bb)\n",
    "                if res:\n",
    "                    # if within admin\n",
    "                    if admin_area.contains(Point(res.longitude,res.latitude)).values[0] == True:\n",
    "                        geocoding_result = res\n",
    "                        geocoding_method = f\"{method} query Google\"\n",
    "            except:\n",
    "                raise Exception(\"Google point not valid or not within polygon\")\n",
    "    \n",
    "    master_table.loc[idx, \"geocoding_method\"] = geocoding_method\n",
    "    if geocoding_result:\n",
    "        master_table.loc[idx, \"longitude\"] = res.longitude\n",
    "        master_table.loc[idx, \"latitude\"] = res.latitude"
   ]
  },
  {
   "cell_type": "code",
   "execution_count": 703,
   "metadata": {},
   "outputs": [],
   "source": [
    "iso3 = \"MLI\"\n",
    "country = \"Mali\"\n",
    "input_dir = \"/home/public/Data/PROJECTS/Health\" \n",
    "output_dir = join(input_dir, \"output\")\n",
    "# if not os.path.exists(out_folder):\n",
    "#     os.mkdir(out_folder)"
   ]
  },
  {
   "cell_type": "markdown",
   "metadata": {},
   "source": [
    "# Prepare and match admin boundary data "
   ]
  },
  {
   "cell_type": "code",
   "execution_count": 704,
   "metadata": {},
   "outputs": [],
   "source": [
    "# only up to Admin 3 exists for Mali\n",
    "#geob4 = gpd.read_file(f\"https://github.com/wmgeolab/geoBoundaries/raw/b7dd6a5/releaseData/gbOpen/{iso3}/ADM4/geoBoundaries-{iso3}-ADM4.geojson\")\n",
    "geob3 = gpd.read_file(f\"https://github.com/wmgeolab/geoBoundaries/raw/b7dd6a5/releaseData/gbOpen/{iso3}/ADM3/geoBoundaries-{iso3}-ADM3.geojson\")\n",
    "geob2 = gpd.read_file(f\"https://github.com/wmgeolab/geoBoundaries/raw/b7dd6a5/releaseData/gbOpen/{iso3}/ADM2/geoBoundaries-{iso3}-ADM2.geojson\")\n",
    "geob1 = gpd.read_file(f\"https://github.com/wmgeolab/geoBoundaries/raw/b7dd6a5/releaseData/gbOpen/{iso3}/ADM1/geoBoundaries-{iso3}-ADM1.geojson\")\n",
    "#fews2 = gpd.read_file(join(input_dir, 'FEWS', 'SLE', 'SL_Admin2_2017.shp'))"
   ]
  },
  {
   "cell_type": "code",
   "execution_count": 705,
   "metadata": {},
   "outputs": [
    {
     "data": {
      "text/plain": [
       "Text(0.5, 1.0, '9 ADM1 boundaries')"
      ]
     },
     "execution_count": 705,
     "metadata": {},
     "output_type": "execute_result"
    },
    {
     "data": {
      "image/png": "[encoded data removed]",
      "text/plain": [
       "<Figure size 720x720 with 4 Axes>"
      ]
     },
     "metadata": {
      "needs_background": "light"
     },
     "output_type": "display_data"
    }
   ],
   "source": [
    "fig, ax = plt.subplots(2, 2, figsize=(10,10))\n",
    "# geob4.boundary.plot(ax=ax[0, 0], color='black', linewidth=0.5).set_axis_off()\n",
    "# ax[0, 0].set_title(f'{len(geob4)} ADM4 boundaries')\n",
    "geob3.boundary.plot(ax=ax[0, 1], color='black', linewidth=1).set_axis_off()\n",
    "ax[0, 1].set_title(f'{len(geob3)} ADM3 boundaries')\n",
    "geob2.boundary.plot(ax=ax[1, 0], color='black').set_axis_off()\n",
    "ax[1, 0].set_title(f'{len(geob2)} ADM2 boundaries')\n",
    "geob1.boundary.plot(ax=ax[1, 1], color='black').set_axis_off()\n",
    "ax[1, 1].set_title(f'{len(geob1)} ADM1 boundaries')\n",
    "# plt.axis('off')"
   ]
  },
  {
   "cell_type": "code",
   "execution_count": 706,
   "metadata": {},
   "outputs": [],
   "source": [
    "#master_table = pd.read_csv(os.path.join(input_dir, \"tom_formatted\", \"hierarchy\", \"tom_edited_mali_collapsed.csv\"), encoding='utf-8')\n",
    "# in this case received an error when trying to import as latin-1\n",
    "master_table = pd.read_csv(os.path.join(input_dir, \"tom_formatted\", \"hierarchy\", \"tom_edited_mali_collapsed.csv\"), encoding='latin-1')"
   ]
  },
  {
   "cell_type": "code",
   "execution_count": 707,
   "metadata": {},
   "outputs": [
    {
     "data": {
      "text/html": [
       "<div>\n",
       "<style scoped>\n",
       "    .dataframe tbody tr th:only-of-type {\n",
       "        vertical-align: middle;\n",
       "    }\n",
       "\n",
       "    .dataframe tbody tr th {\n",
       "        vertical-align: top;\n",
       "    }\n",
       "\n",
       "    .dataframe thead th {\n",
       "        text-align: right;\n",
       "    }\n",
       "</style>\n",
       "<table border=\"1\" class=\"dataframe\">\n",
       "  <thead>\n",
       "    <tr style=\"text-align: right;\">\n",
       "      <th></th>\n",
       "      <th>orgunitlevel1</th>\n",
       "      <th>orgunitlevel2</th>\n",
       "      <th>orgunitlevel3</th>\n",
       "      <th>orgunitlevel4</th>\n",
       "      <th>orgunitlevel5</th>\n",
       "    </tr>\n",
       "  </thead>\n",
       "  <tbody>\n",
       "    <tr>\n",
       "      <th>0</th>\n",
       "      <td>Mali</td>\n",
       "      <td>Bamako</td>\n",
       "      <td>CRLD</td>\n",
       "      <td>zzz a supprimer</td>\n",
       "      <td>ZCorbeille</td>\n",
       "    </tr>\n",
       "    <tr>\n",
       "      <th>1</th>\n",
       "      <td>Mali</td>\n",
       "      <td>Bamako</td>\n",
       "      <td>District Commune I</td>\n",
       "      <td>Asacko Nord</td>\n",
       "      <td>ASACKO NORD</td>\n",
       "    </tr>\n",
       "  </tbody>\n",
       "</table>\n",
       "</div>"
      ],
      "text/plain": [
       "  orgunitlevel1 orgunitlevel2       orgunitlevel3    orgunitlevel4  \\\n",
       "0          Mali        Bamako                CRLD  zzz a supprimer   \n",
       "1          Mali        Bamako  District Commune I      Asacko Nord   \n",
       "\n",
       "  orgunitlevel5  \n",
       "0    ZCorbeille  \n",
       "1   ASACKO NORD  "
      ]
     },
     "execution_count": 707,
     "metadata": {},
     "output_type": "execute_result"
    }
   ],
   "source": [
    "master_table.head(2)"
   ]
  },
  {
   "cell_type": "code",
   "execution_count": 708,
   "metadata": {
    "scrolled": true
   },
   "outputs": [
    {
     "data": {
      "text/plain": [
       "1891"
      ]
     },
     "execution_count": 708,
     "metadata": {},
     "output_type": "execute_result"
    }
   ],
   "source": [
    "len(master_table)"
   ]
  },
  {
   "cell_type": "code",
   "execution_count": 709,
   "metadata": {},
   "outputs": [
    {
     "name": "stdout",
     "output_type": "stream",
     "text": [
      "Unique Level 2: 11\n",
      "Unique Level 3: 76\n",
      "Unique Level 4: 1473\n",
      "Unique Level 5: 1855\n"
     ]
    }
   ],
   "source": [
    "print(f\"Unique Level 2: {len(master_table.orgunitlevel2.unique())}\")\n",
    "print(f\"Unique Level 3: {len(master_table.orgunitlevel3.unique())}\")\n",
    "print(f\"Unique Level 4: {len(master_table.orgunitlevel4.unique())}\")\n",
    "print(f\"Unique Level 5: {len(master_table.orgunitlevel5.unique())}\")"
   ]
  },
  {
   "cell_type": "code",
   "execution_count": 710,
   "metadata": {},
   "outputs": [
    {
     "name": "stdout",
     "output_type": "stream",
     "text": [
      "Unique Geoboundaries Adm 1: 9\n",
      "Unique Geoboundaries Adm 2: 50\n",
      "Unique Geoboundaries Adm 3: 701\n"
     ]
    }
   ],
   "source": [
    "print(f\"Unique Geoboundaries Adm 1: {len(geob1)}\")\n",
    "print(f\"Unique Geoboundaries Adm 2: {len(geob2)}\")\n",
    "print(f\"Unique Geoboundaries Adm 3: {len(geob3)}\")\n",
    "#print(f\"Unique Geoboundaries Adm 4: {len(geob4)}\")"
   ]
  },
  {
   "cell_type": "code",
   "execution_count": 711,
   "metadata": {},
   "outputs": [
    {
     "data": {
      "text/html": [
       "<div>\n",
       "<style scoped>\n",
       "    .dataframe tbody tr th:only-of-type {\n",
       "        vertical-align: middle;\n",
       "    }\n",
       "\n",
       "    .dataframe tbody tr th {\n",
       "        vertical-align: top;\n",
       "    }\n",
       "\n",
       "    .dataframe thead th {\n",
       "        text-align: right;\n",
       "    }\n",
       "</style>\n",
       "<table border=\"1\" class=\"dataframe\">\n",
       "  <thead>\n",
       "    <tr style=\"text-align: right;\">\n",
       "      <th></th>\n",
       "      <th>shapeName</th>\n",
       "      <th>shapeISO</th>\n",
       "      <th>shapeID</th>\n",
       "      <th>shapeGroup</th>\n",
       "      <th>shapeType</th>\n",
       "      <th>geometry</th>\n",
       "    </tr>\n",
       "  </thead>\n",
       "  <tbody>\n",
       "    <tr>\n",
       "      <th>0</th>\n",
       "      <td>Bamako</td>\n",
       "      <td></td>\n",
       "      <td>8926073B64014376877490</td>\n",
       "      <td>MLI</td>\n",
       "      <td>ADM2</td>\n",
       "      <td>POLYGON ((-7.92938 12.68171, -7.92966 12.68184...</td>\n",
       "    </tr>\n",
       "    <tr>\n",
       "      <th>1</th>\n",
       "      <td>Ansongo</td>\n",
       "      <td></td>\n",
       "      <td>8926073B90341072377578</td>\n",
       "      <td>MLI</td>\n",
       "      <td>ADM2</td>\n",
       "      <td>POLYGON ((1.32448 16.90639, 1.03227 16.61402, ...</td>\n",
       "    </tr>\n",
       "    <tr>\n",
       "      <th>2</th>\n",
       "      <td>Bourem</td>\n",
       "      <td></td>\n",
       "      <td>8926073B84614450489986</td>\n",
       "      <td>MLI</td>\n",
       "      <td>ADM2</td>\n",
       "      <td>POLYGON ((1.17767 17.69959, 1.15458 17.70648, ...</td>\n",
       "    </tr>\n",
       "    <tr>\n",
       "      <th>3</th>\n",
       "      <td>Gao</td>\n",
       "      <td></td>\n",
       "      <td>8926073B21578619246094</td>\n",
       "      <td>MLI</td>\n",
       "      <td>ADM2</td>\n",
       "      <td>POLYGON ((1.32448 16.90639, 1.65353 17.57350, ...</td>\n",
       "    </tr>\n",
       "    <tr>\n",
       "      <th>4</th>\n",
       "      <td>Menaka</td>\n",
       "      <td></td>\n",
       "      <td>8926073B55463907794266</td>\n",
       "      <td>MLI</td>\n",
       "      <td>ADM2</td>\n",
       "      <td>POLYGON ((1.31144 15.27381, 1.34241 15.27543, ...</td>\n",
       "    </tr>\n",
       "    <tr>\n",
       "      <th>5</th>\n",
       "      <td>Bafoulabe</td>\n",
       "      <td></td>\n",
       "      <td>8926073B9201374937054</td>\n",
       "      <td>MLI</td>\n",
       "      <td>ADM2</td>\n",
       "      <td>POLYGON ((-10.19528 14.60615, -10.27128 14.638...</td>\n",
       "    </tr>\n",
       "    <tr>\n",
       "      <th>6</th>\n",
       "      <td>Diema</td>\n",
       "      <td></td>\n",
       "      <td>8926073B17500772127777</td>\n",
       "      <td>MLI</td>\n",
       "      <td>ADM2</td>\n",
       "      <td>POLYGON ((-9.82228 14.25412, -9.75029 14.29212...</td>\n",
       "    </tr>\n",
       "    <tr>\n",
       "      <th>7</th>\n",
       "      <td>Kayes</td>\n",
       "      <td></td>\n",
       "      <td>8926073B50456005927577</td>\n",
       "      <td>MLI</td>\n",
       "      <td>ADM2</td>\n",
       "      <td>POLYGON ((-10.76957 14.62765, -10.77667 14.630...</td>\n",
       "    </tr>\n",
       "    <tr>\n",
       "      <th>8</th>\n",
       "      <td>Kenieba</td>\n",
       "      <td></td>\n",
       "      <td>8926073B29096122960907</td>\n",
       "      <td>MLI</td>\n",
       "      <td>ADM2</td>\n",
       "      <td>POLYGON ((-11.46925 13.69106, -11.49825 13.636...</td>\n",
       "    </tr>\n",
       "    <tr>\n",
       "      <th>9</th>\n",
       "      <td>Kita</td>\n",
       "      <td></td>\n",
       "      <td>8926073B55037454613491</td>\n",
       "      <td>MLI</td>\n",
       "      <td>ADM2</td>\n",
       "      <td>POLYGON ((-10.25643 12.83592, -10.24856 12.834...</td>\n",
       "    </tr>\n",
       "    <tr>\n",
       "      <th>10</th>\n",
       "      <td>Nioro</td>\n",
       "      <td></td>\n",
       "      <td>8926073B24636235959463</td>\n",
       "      <td>MLI</td>\n",
       "      <td>ADM2</td>\n",
       "      <td>POLYGON ((-10.19528 14.60615, -10.14328 14.621...</td>\n",
       "    </tr>\n",
       "    <tr>\n",
       "      <th>11</th>\n",
       "      <td>Yelimane</td>\n",
       "      <td></td>\n",
       "      <td>8926073B29693845004508</td>\n",
       "      <td>MLI</td>\n",
       "      <td>ADM2</td>\n",
       "      <td>POLYGON ((-10.65554 14.61999, -10.51627 14.717...</td>\n",
       "    </tr>\n",
       "    <tr>\n",
       "      <th>12</th>\n",
       "      <td>Abeibara</td>\n",
       "      <td></td>\n",
       "      <td>8926073B62061433451591</td>\n",
       "      <td>MLI</td>\n",
       "      <td>ADM2</td>\n",
       "      <td>POLYGON ((3.12022 19.12955, 3.11993 19.13086, ...</td>\n",
       "    </tr>\n",
       "    <tr>\n",
       "      <th>13</th>\n",
       "      <td>Kidal</td>\n",
       "      <td></td>\n",
       "      <td>8926073B39042809938873</td>\n",
       "      <td>MLI</td>\n",
       "      <td>ADM2</td>\n",
       "      <td>POLYGON ((1.17767 17.69959, 1.67017 17.74303, ...</td>\n",
       "    </tr>\n",
       "    <tr>\n",
       "      <th>14</th>\n",
       "      <td>Tessalit</td>\n",
       "      <td></td>\n",
       "      <td>8926073B43031363383040</td>\n",
       "      <td>MLI</td>\n",
       "      <td>ADM2</td>\n",
       "      <td>POLYGON ((0.27599 18.41589, 0.78273 18.74530, ...</td>\n",
       "    </tr>\n",
       "    <tr>\n",
       "      <th>15</th>\n",
       "      <td>Tin-Essako</td>\n",
       "      <td></td>\n",
       "      <td>8926073B71151526690393</td>\n",
       "      <td>MLI</td>\n",
       "      <td>ADM2</td>\n",
       "      <td>POLYGON ((4.24284 18.00563, 4.24194 18.04076, ...</td>\n",
       "    </tr>\n",
       "    <tr>\n",
       "      <th>16</th>\n",
       "      <td>Banamba</td>\n",
       "      <td></td>\n",
       "      <td>8926073B66971953273846</td>\n",
       "      <td>MLI</td>\n",
       "      <td>ADM2</td>\n",
       "      <td>POLYGON ((-6.90035 13.74607, -6.93610 13.82179...</td>\n",
       "    </tr>\n",
       "    <tr>\n",
       "      <th>17</th>\n",
       "      <td>Dioila</td>\n",
       "      <td></td>\n",
       "      <td>8926073B98185630396738</td>\n",
       "      <td>MLI</td>\n",
       "      <td>ADM2</td>\n",
       "      <td>POLYGON ((-6.42202 12.71833, -6.42767 12.71556...</td>\n",
       "    </tr>\n",
       "    <tr>\n",
       "      <th>18</th>\n",
       "      <td>Kangaba</td>\n",
       "      <td></td>\n",
       "      <td>8926073B93026192233818</td>\n",
       "      <td>MLI</td>\n",
       "      <td>ADM2</td>\n",
       "      <td>POLYGON ((-8.21596 11.71060, -8.21164 11.71469...</td>\n",
       "    </tr>\n",
       "    <tr>\n",
       "      <th>19</th>\n",
       "      <td>Kati</td>\n",
       "      <td></td>\n",
       "      <td>8926073B54119460885487</td>\n",
       "      <td>MLI</td>\n",
       "      <td>ADM2</td>\n",
       "      <td>POLYGON ((-9.04476 12.42636, -9.04366 12.42571...</td>\n",
       "    </tr>\n",
       "    <tr>\n",
       "      <th>20</th>\n",
       "      <td>Kolokani</td>\n",
       "      <td></td>\n",
       "      <td>8926073B98822267557743</td>\n",
       "      <td>MLI</td>\n",
       "      <td>ADM2</td>\n",
       "      <td>POLYGON ((-8.79933 14.29037, -8.80427 14.28456...</td>\n",
       "    </tr>\n",
       "    <tr>\n",
       "      <th>21</th>\n",
       "      <td>Koulikoro</td>\n",
       "      <td></td>\n",
       "      <td>8926073B6592197340437</td>\n",
       "      <td>MLI</td>\n",
       "      <td>ADM2</td>\n",
       "      <td>POLYGON ((-7.50446 13.43249, -7.57719 13.42833...</td>\n",
       "    </tr>\n",
       "    <tr>\n",
       "      <th>22</th>\n",
       "      <td>Nara</td>\n",
       "      <td></td>\n",
       "      <td>8926073B74793910446673</td>\n",
       "      <td>MLI</td>\n",
       "      <td>ADM2</td>\n",
       "      <td>POLYGON ((-8.16231 14.31713, -8.03327 14.30066...</td>\n",
       "    </tr>\n",
       "    <tr>\n",
       "      <th>23</th>\n",
       "      <td>Bandiagara</td>\n",
       "      <td></td>\n",
       "      <td>8926073B34109076996163</td>\n",
       "      <td>MLI</td>\n",
       "      <td>ADM2</td>\n",
       "      <td>POLYGON ((-2.90734 14.81957, -2.92876 14.82256...</td>\n",
       "    </tr>\n",
       "    <tr>\n",
       "      <th>24</th>\n",
       "      <td>Bankass</td>\n",
       "      <td></td>\n",
       "      <td>8926073B68848249516367</td>\n",
       "      <td>MLI</td>\n",
       "      <td>ADM2</td>\n",
       "      <td>POLYGON ((-4.04141 13.83609, -4.01041 13.69707...</td>\n",
       "    </tr>\n",
       "    <tr>\n",
       "      <th>25</th>\n",
       "      <td>Djenne</td>\n",
       "      <td></td>\n",
       "      <td>8926073B10377064513052</td>\n",
       "      <td>MLI</td>\n",
       "      <td>ADM2</td>\n",
       "      <td>POLYGON ((-4.06166 14.20070, -4.17810 14.16685...</td>\n",
       "    </tr>\n",
       "    <tr>\n",
       "      <th>26</th>\n",
       "      <td>Douentza</td>\n",
       "      <td></td>\n",
       "      <td>8926073B58683632595256</td>\n",
       "      <td>MLI</td>\n",
       "      <td>ADM2</td>\n",
       "      <td>POLYGON ((-2.90734 14.81957, -2.84943 14.82318...</td>\n",
       "    </tr>\n",
       "    <tr>\n",
       "      <th>27</th>\n",
       "      <td>Koro</td>\n",
       "      <td></td>\n",
       "      <td>8926073B99659232210530</td>\n",
       "      <td>MLI</td>\n",
       "      <td>ADM2</td>\n",
       "      <td>POLYGON ((-3.47835 14.19283, -3.45951 14.14039...</td>\n",
       "    </tr>\n",
       "    <tr>\n",
       "      <th>28</th>\n",
       "      <td>Mopti</td>\n",
       "      <td></td>\n",
       "      <td>8926073B29825157299179</td>\n",
       "      <td>MLI</td>\n",
       "      <td>ADM2</td>\n",
       "      <td>POLYGON ((-3.76641 14.91919, -3.80441 14.94619...</td>\n",
       "    </tr>\n",
       "    <tr>\n",
       "      <th>29</th>\n",
       "      <td>Tenenkou</td>\n",
       "      <td></td>\n",
       "      <td>8926073B43989763715710</td>\n",
       "      <td>MLI</td>\n",
       "      <td>ADM2</td>\n",
       "      <td>POLYGON ((-4.67822 14.42043, -4.68931 14.43339...</td>\n",
       "    </tr>\n",
       "    <tr>\n",
       "      <th>30</th>\n",
       "      <td>Youwarou</td>\n",
       "      <td></td>\n",
       "      <td>8926073B12552452133709</td>\n",
       "      <td>MLI</td>\n",
       "      <td>ADM2</td>\n",
       "      <td>POLYGON ((-3.87156 15.51409, -3.87070 15.51493...</td>\n",
       "    </tr>\n",
       "    <tr>\n",
       "      <th>31</th>\n",
       "      <td>Baroueli</td>\n",
       "      <td></td>\n",
       "      <td>8926073B93073799629985</td>\n",
       "      <td>MLI</td>\n",
       "      <td>ADM2</td>\n",
       "      <td>POLYGON ((-6.42202 12.71833, -6.39996 12.73514...</td>\n",
       "    </tr>\n",
       "    <tr>\n",
       "      <th>32</th>\n",
       "      <td>Bla</td>\n",
       "      <td></td>\n",
       "      <td>8926073B43185816832409</td>\n",
       "      <td>MLI</td>\n",
       "      <td>ADM2</td>\n",
       "      <td>POLYGON ((-6.25991 12.54944, -6.21136 12.60197...</td>\n",
       "    </tr>\n",
       "    <tr>\n",
       "      <th>33</th>\n",
       "      <td>Macina</td>\n",
       "      <td></td>\n",
       "      <td>8926073B7475340882962</td>\n",
       "      <td>MLI</td>\n",
       "      <td>ADM2</td>\n",
       "      <td>POLYGON ((-4.90520 14.10491, -4.91380 14.11217...</td>\n",
       "    </tr>\n",
       "    <tr>\n",
       "      <th>34</th>\n",
       "      <td>Niono</td>\n",
       "      <td></td>\n",
       "      <td>8926073B12913722639101</td>\n",
       "      <td>MLI</td>\n",
       "      <td>ADM2</td>\n",
       "      <td>POLYGON ((-6.45935 14.44314, -6.38536 14.40714...</td>\n",
       "    </tr>\n",
       "    <tr>\n",
       "      <th>35</th>\n",
       "      <td>San</td>\n",
       "      <td></td>\n",
       "      <td>8926073B25315410333245</td>\n",
       "      <td>MLI</td>\n",
       "      <td>ADM2</td>\n",
       "      <td>POLYGON ((-4.87739 13.63407, -4.92661 13.63815...</td>\n",
       "    </tr>\n",
       "    <tr>\n",
       "      <th>36</th>\n",
       "      <td>Segou</td>\n",
       "      <td></td>\n",
       "      <td>8926073B29682143266775</td>\n",
       "      <td>MLI</td>\n",
       "      <td>ADM2</td>\n",
       "      <td>POLYGON ((-6.90035 13.74607, -6.84135 13.68807...</td>\n",
       "    </tr>\n",
       "    <tr>\n",
       "      <th>37</th>\n",
       "      <td>Tominian</td>\n",
       "      <td></td>\n",
       "      <td>8926073B97968382576970</td>\n",
       "      <td>MLI</td>\n",
       "      <td>ADM2</td>\n",
       "      <td>POLYGON ((-4.09452 13.94599, -4.11440 13.93510...</td>\n",
       "    </tr>\n",
       "    <tr>\n",
       "      <th>38</th>\n",
       "      <td>Bougouni</td>\n",
       "      <td></td>\n",
       "      <td>8926073B85465598251298</td>\n",
       "      <td>MLI</td>\n",
       "      <td>ADM2</td>\n",
       "      <td>POLYGON ((-7.35503 12.21618, -7.36215 12.21499...</td>\n",
       "    </tr>\n",
       "    <tr>\n",
       "      <th>39</th>\n",
       "      <td>Kadiolo</td>\n",
       "      <td></td>\n",
       "      <td>8926073B79803186197978</td>\n",
       "      <td>MLI</td>\n",
       "      <td>ADM2</td>\n",
       "      <td>POLYGON ((-5.49110 10.97180, -5.49792 10.98244...</td>\n",
       "    </tr>\n",
       "    <tr>\n",
       "      <th>40</th>\n",
       "      <td>Kolondieba</td>\n",
       "      <td></td>\n",
       "      <td>8926073B82193655034823</td>\n",
       "      <td>MLI</td>\n",
       "      <td>ADM2</td>\n",
       "      <td>POLYGON ((-6.93548 10.35239, -6.93491 10.35258...</td>\n",
       "    </tr>\n",
       "    <tr>\n",
       "      <th>41</th>\n",
       "      <td>Koutiala</td>\n",
       "      <td></td>\n",
       "      <td>8926073B38744106285901</td>\n",
       "      <td>MLI</td>\n",
       "      <td>ADM2</td>\n",
       "      <td>POLYGON ((-5.96431 12.23211, -5.96047 12.23289...</td>\n",
       "    </tr>\n",
       "    <tr>\n",
       "      <th>42</th>\n",
       "      <td>Sikasso</td>\n",
       "      <td></td>\n",
       "      <td>8926073B67229890881276</td>\n",
       "      <td>MLI</td>\n",
       "      <td>ADM2</td>\n",
       "      <td>POLYGON ((-6.54726 11.63785, -6.55719 11.63576...</td>\n",
       "    </tr>\n",
       "    <tr>\n",
       "      <th>43</th>\n",
       "      <td>Yanfolila</td>\n",
       "      <td></td>\n",
       "      <td>8926073B84383917947198</td>\n",
       "      <td>MLI</td>\n",
       "      <td>ADM2</td>\n",
       "      <td>POLYGON ((-8.53101 11.48609, -8.52947 11.48732...</td>\n",
       "    </tr>\n",
       "    <tr>\n",
       "      <th>44</th>\n",
       "      <td>Yorosso</td>\n",
       "      <td></td>\n",
       "      <td>8926073B99634363148929</td>\n",
       "      <td>MLI</td>\n",
       "      <td>ADM2</td>\n",
       "      <td>POLYGON ((-4.94341 12.59066, -4.94819 12.54228...</td>\n",
       "    </tr>\n",
       "    <tr>\n",
       "      <th>45</th>\n",
       "      <td>Dire</td>\n",
       "      <td></td>\n",
       "      <td>8926073B89784869181263</td>\n",
       "      <td>MLI</td>\n",
       "      <td>ADM2</td>\n",
       "      <td>POLYGON ((-3.30162 16.01290, -3.29112 16.01257...</td>\n",
       "    </tr>\n",
       "    <tr>\n",
       "      <th>46</th>\n",
       "      <td>Goundam</td>\n",
       "      <td></td>\n",
       "      <td>8926073B39834930223386</td>\n",
       "      <td>MLI</td>\n",
       "      <td>ADM2</td>\n",
       "      <td>POLYGON ((-5.22630 15.67486, -5.22559 15.67572...</td>\n",
       "    </tr>\n",
       "    <tr>\n",
       "      <th>47</th>\n",
       "      <td>Gourma-Rharous</td>\n",
       "      <td></td>\n",
       "      <td>8926073B69669476004263</td>\n",
       "      <td>MLI</td>\n",
       "      <td>ADM2</td>\n",
       "      <td>POLYGON ((-1.58302 17.04383, -1.61667 17.03808...</td>\n",
       "    </tr>\n",
       "    <tr>\n",
       "      <th>48</th>\n",
       "      <td>Niafunke</td>\n",
       "      <td></td>\n",
       "      <td>8926073B86112719249417</td>\n",
       "      <td>MLI</td>\n",
       "      <td>ADM2</td>\n",
       "      <td>POLYGON ((-3.29632 15.86947, -3.33174 15.86404...</td>\n",
       "    </tr>\n",
       "    <tr>\n",
       "      <th>49</th>\n",
       "      <td>Tombouctou</td>\n",
       "      <td></td>\n",
       "      <td>8926073B71174488748519</td>\n",
       "      <td>MLI</td>\n",
       "      <td>ADM2</td>\n",
       "      <td>POLYGON ((-0.88848 19.03658, -1.12498 19.07419...</td>\n",
       "    </tr>\n",
       "  </tbody>\n",
       "</table>\n",
       "</div>"
      ],
      "text/plain": [
       "         shapeName shapeISO                 shapeID shapeGroup shapeType  \\\n",
       "0           Bamako           8926073B64014376877490        MLI      ADM2   \n",
       "1          Ansongo           8926073B90341072377578        MLI      ADM2   \n",
       "2           Bourem           8926073B84614450489986        MLI      ADM2   \n",
       "3              Gao           8926073B21578619246094        MLI      ADM2   \n",
       "4           Menaka           8926073B55463907794266        MLI      ADM2   \n",
       "5        Bafoulabe            8926073B9201374937054        MLI      ADM2   \n",
       "6            Diema           8926073B17500772127777        MLI      ADM2   \n",
       "7            Kayes           8926073B50456005927577        MLI      ADM2   \n",
       "8          Kenieba           8926073B29096122960907        MLI      ADM2   \n",
       "9             Kita           8926073B55037454613491        MLI      ADM2   \n",
       "10           Nioro           8926073B24636235959463        MLI      ADM2   \n",
       "11        Yelimane           8926073B29693845004508        MLI      ADM2   \n",
       "12        Abeibara           8926073B62061433451591        MLI      ADM2   \n",
       "13           Kidal           8926073B39042809938873        MLI      ADM2   \n",
       "14        Tessalit           8926073B43031363383040        MLI      ADM2   \n",
       "15      Tin-Essako           8926073B71151526690393        MLI      ADM2   \n",
       "16         Banamba           8926073B66971953273846        MLI      ADM2   \n",
       "17          Dioila           8926073B98185630396738        MLI      ADM2   \n",
       "18         Kangaba           8926073B93026192233818        MLI      ADM2   \n",
       "19            Kati           8926073B54119460885487        MLI      ADM2   \n",
       "20        Kolokani           8926073B98822267557743        MLI      ADM2   \n",
       "21       Koulikoro            8926073B6592197340437        MLI      ADM2   \n",
       "22            Nara           8926073B74793910446673        MLI      ADM2   \n",
       "23      Bandiagara           8926073B34109076996163        MLI      ADM2   \n",
       "24         Bankass           8926073B68848249516367        MLI      ADM2   \n",
       "25          Djenne           8926073B10377064513052        MLI      ADM2   \n",
       "26        Douentza           8926073B58683632595256        MLI      ADM2   \n",
       "27            Koro           8926073B99659232210530        MLI      ADM2   \n",
       "28           Mopti           8926073B29825157299179        MLI      ADM2   \n",
       "29        Tenenkou           8926073B43989763715710        MLI      ADM2   \n",
       "30        Youwarou           8926073B12552452133709        MLI      ADM2   \n",
       "31        Baroueli           8926073B93073799629985        MLI      ADM2   \n",
       "32             Bla           8926073B43185816832409        MLI      ADM2   \n",
       "33          Macina            8926073B7475340882962        MLI      ADM2   \n",
       "34           Niono           8926073B12913722639101        MLI      ADM2   \n",
       "35             San           8926073B25315410333245        MLI      ADM2   \n",
       "36           Segou           8926073B29682143266775        MLI      ADM2   \n",
       "37        Tominian           8926073B97968382576970        MLI      ADM2   \n",
       "38        Bougouni           8926073B85465598251298        MLI      ADM2   \n",
       "39         Kadiolo           8926073B79803186197978        MLI      ADM2   \n",
       "40      Kolondieba           8926073B82193655034823        MLI      ADM2   \n",
       "41        Koutiala           8926073B38744106285901        MLI      ADM2   \n",
       "42         Sikasso           8926073B67229890881276        MLI      ADM2   \n",
       "43       Yanfolila           8926073B84383917947198        MLI      ADM2   \n",
       "44         Yorosso           8926073B99634363148929        MLI      ADM2   \n",
       "45            Dire           8926073B89784869181263        MLI      ADM2   \n",
       "46         Goundam           8926073B39834930223386        MLI      ADM2   \n",
       "47  Gourma-Rharous           8926073B69669476004263        MLI      ADM2   \n",
       "48        Niafunke           8926073B86112719249417        MLI      ADM2   \n",
       "49      Tombouctou           8926073B71174488748519        MLI      ADM2   \n",
       "\n",
       "                                             geometry  \n",
       "0   POLYGON ((-7.92938 12.68171, -7.92966 12.68184...  \n",
       "1   POLYGON ((1.32448 16.90639, 1.03227 16.61402, ...  \n",
       "2   POLYGON ((1.17767 17.69959, 1.15458 17.70648, ...  \n",
       "3   POLYGON ((1.32448 16.90639, 1.65353 17.57350, ...  \n",
       "4   POLYGON ((1.31144 15.27381, 1.34241 15.27543, ...  \n",
       "5   POLYGON ((-10.19528 14.60615, -10.27128 14.638...  \n",
       "6   POLYGON ((-9.82228 14.25412, -9.75029 14.29212...  \n",
       "7   POLYGON ((-10.76957 14.62765, -10.77667 14.630...  \n",
       "8   POLYGON ((-11.46925 13.69106, -11.49825 13.636...  \n",
       "9   POLYGON ((-10.25643 12.83592, -10.24856 12.834...  \n",
       "10  POLYGON ((-10.19528 14.60615, -10.14328 14.621...  \n",
       "11  POLYGON ((-10.65554 14.61999, -10.51627 14.717...  \n",
       "12  POLYGON ((3.12022 19.12955, 3.11993 19.13086, ...  \n",
       "13  POLYGON ((1.17767 17.69959, 1.67017 17.74303, ...  \n",
       "14  POLYGON ((0.27599 18.41589, 0.78273 18.74530, ...  \n",
       "15  POLYGON ((4.24284 18.00563, 4.24194 18.04076, ...  \n",
       "16  POLYGON ((-6.90035 13.74607, -6.93610 13.82179...  \n",
       "17  POLYGON ((-6.42202 12.71833, -6.42767 12.71556...  \n",
       "18  POLYGON ((-8.21596 11.71060, -8.21164 11.71469...  \n",
       "19  POLYGON ((-9.04476 12.42636, -9.04366 12.42571...  \n",
       "20  POLYGON ((-8.79933 14.29037, -8.80427 14.28456...  \n",
       "21  POLYGON ((-7.50446 13.43249, -7.57719 13.42833...  \n",
       "22  POLYGON ((-8.16231 14.31713, -8.03327 14.30066...  \n",
       "23  POLYGON ((-2.90734 14.81957, -2.92876 14.82256...  \n",
       "24  POLYGON ((-4.04141 13.83609, -4.01041 13.69707...  \n",
       "25  POLYGON ((-4.06166 14.20070, -4.17810 14.16685...  \n",
       "26  POLYGON ((-2.90734 14.81957, -2.84943 14.82318...  \n",
       "27  POLYGON ((-3.47835 14.19283, -3.45951 14.14039...  \n",
       "28  POLYGON ((-3.76641 14.91919, -3.80441 14.94619...  \n",
       "29  POLYGON ((-4.67822 14.42043, -4.68931 14.43339...  \n",
       "30  POLYGON ((-3.87156 15.51409, -3.87070 15.51493...  \n",
       "31  POLYGON ((-6.42202 12.71833, -6.39996 12.73514...  \n",
       "32  POLYGON ((-6.25991 12.54944, -6.21136 12.60197...  \n",
       "33  POLYGON ((-4.90520 14.10491, -4.91380 14.11217...  \n",
       "34  POLYGON ((-6.45935 14.44314, -6.38536 14.40714...  \n",
       "35  POLYGON ((-4.87739 13.63407, -4.92661 13.63815...  \n",
       "36  POLYGON ((-6.90035 13.74607, -6.84135 13.68807...  \n",
       "37  POLYGON ((-4.09452 13.94599, -4.11440 13.93510...  \n",
       "38  POLYGON ((-7.35503 12.21618, -7.36215 12.21499...  \n",
       "39  POLYGON ((-5.49110 10.97180, -5.49792 10.98244...  \n",
       "40  POLYGON ((-6.93548 10.35239, -6.93491 10.35258...  \n",
       "41  POLYGON ((-5.96431 12.23211, -5.96047 12.23289...  \n",
       "42  POLYGON ((-6.54726 11.63785, -6.55719 11.63576...  \n",
       "43  POLYGON ((-8.53101 11.48609, -8.52947 11.48732...  \n",
       "44  POLYGON ((-4.94341 12.59066, -4.94819 12.54228...  \n",
       "45  POLYGON ((-3.30162 16.01290, -3.29112 16.01257...  \n",
       "46  POLYGON ((-5.22630 15.67486, -5.22559 15.67572...  \n",
       "47  POLYGON ((-1.58302 17.04383, -1.61667 17.03808...  \n",
       "48  POLYGON ((-3.29632 15.86947, -3.33174 15.86404...  \n",
       "49  POLYGON ((-0.88848 19.03658, -1.12498 19.07419...  "
      ]
     },
     "execution_count": 711,
     "metadata": {},
     "output_type": "execute_result"
    }
   ],
   "source": [
    "geob2"
   ]
  },
  {
   "cell_type": "markdown",
   "metadata": {},
   "source": [
    "## Match health list admin names to shapefile admin names\n",
    "### Match orgunitlevel4 to geoboundaries Adm 3\n",
    "Try using fuzzy matching  "
   ]
  },
  {
   "cell_type": "code",
   "execution_count": 712,
   "metadata": {},
   "outputs": [],
   "source": [
    "level4_list = list(master_table.orgunitlevel4.unique())\n",
    "level4_list.sort()\n",
    "geob3_list = list(geob3.shapeName)\n",
    "geob3_list.sort()"
   ]
  },
  {
   "cell_type": "markdown",
   "metadata": {},
   "source": [
    "Print names one at a time for both datasets one letter at a time, and manually inspect"
   ]
  },
  {
   "cell_type": "code",
   "execution_count": 713,
   "metadata": {
    "scrolled": true
   },
   "outputs": [
    {
     "name": "stdout",
     "output_type": "stream",
     "text": [
      "begins with letter A\n",
      "Master list level 4\n",
      "\t['Abakoria', 'Aballag', 'Abeibara Central', 'Abosac', 'Achibogho', 'Adalwa 1', 'Adalwa 2', 'Adarmalane', 'Adasco', 'Adeken', 'Adiora', 'Adjel-Hoc', 'Afirnane', 'Agamhor', 'Agazaragane', 'Agdilinta', 'Aghabo', 'Aglal', 'Agouni', 'Ahl Cheick', 'Al Ou la', 'Al-Matlaa', 'Al-Ourche central', 'Aladi', 'Alasso', 'Aliou', 'Aljanabandja', 'Aljounoub', 'Allahina', 'Almoustarat Central', 'Alwalidji', 'Amasrakad', 'Amba', 'Ambidedi-Poste', 'Ambidedikore', 'Ambiri', 'Anderamboukane Central', 'Andiam', 'Anefif', 'Aniasco', 'Anonzegren', 'Ansongo Central', 'Aourou', 'Arabebe', 'Arawane central', 'Arham', 'Asacko Nord', 'Asaco-Sodia', 'Asacoba', 'Asacobafa', 'Asacobag', 'Asacobakon', 'Asacoboul1', 'Asacoboul2', 'Asacocy', 'Asacoda', 'Asacodes', 'Asacodjan', 'Asacodje', 'Asacodjeneka', 'Asacodjip', 'Asacodou', 'Asacodrab', 'Asacofa', 'Asacofadi', 'Asacoga', 'Asacoham', 'Asacohi', 'Asacoka', 'Asacokal', 'Asacokala ACI', 'Asacokalko', 'Asacokosa', 'Asacokoul-Point', 'Asacola1', 'Asacola2', 'Asacolab5', 'Asacolabasad', 'Asacoma', 'Asacome', 'Asacomi', 'Asacomiss', 'Asacomsi', 'Asaconia', 'Asacoob', 'Asacos', 'Asacosab1', 'Asacosab2', 'Asacosab3', 'Asacose', 'Asacosek', 'Asacosekasi', 'Asacosisou', 'Asacoso', 'Asacotom', 'Asacotoqua', 'Asacoyici', 'Asacoyir', 'Ascoda', 'Ascodar', 'Ascom', 'Ascom-Bacodji', 'Ascotam', 'Assatiemala', 'Attara', 'Awoiny']\n",
      "Geoboundaries adm3\n",
      "\t['Abeibara', 'Adarmalane', 'Adjelhoc', 'Alafia', 'Allahina', 'Alzounoub', 'Anchawadi', 'Anderamboukane', 'Anefif', 'Ansongo', 'Arham']\n",
      "\n",
      "\n",
      "begins with letter B\n",
      "Master list level 4\n",
      "\t['B- Zangasso', 'BALAN-BAKAMA', 'Baala', 'Babala', 'Babougou', 'Badinko', 'Badiougoula', 'Badogo', 'BadoumbÃ©', 'Bafarara', 'BafoulabÃ©', 'Bagadadji Sud', 'Bagnandji', 'Bagoini', 'Bagoundje', 'Baguineda', 'BaguÃ©', 'Bahondo', 'Balandougou', 'Balanfina', 'Balle', 'BalÃ©a', 'BamafelÃ©', 'Bamanantou', 'Bamba', 'Bamba Bourem', 'Bamba-Koro', 'Bambara MaoudÃ©', 'Banamba  Central', 'Banamba  Ouest', 'Banancoro', 'Bananissaba Somon', 'Banankoda', 'Banankoro', 'Bananso', 'Banco', 'Bancoumana', 'Bandiagara Central', 'Bandieresso', 'Banesso', 'Banido', 'Banierekore', 'Banikane', 'Bankass Central', 'Bankassi', 'Bankassi_Kita', 'Bankassikoto', 'Banzana', 'Baoufoulala', 'Baquita', 'Bara', 'Baramandougou', 'Baramba', 'Barapireli', 'Bargou', 'Baria', 'Barkaina', 'Baroueli Central', 'Bassabougou', 'Batama', 'Batimakana', 'Baye', 'Baye-KÃ©niÃ©ba', 'Bazigourma', 'Bazihaoussa', 'Beco', 'Bediatt', 'Beleco', 'Bellefarandi', 'Bendjeli', 'Bendougou', 'Bendougouba', 'Benguel', 'Benguene', 'Benkady', 'Bentia', 'Ber', 'Beregoungou', 'Berrah', 'Bertha', 'Biladjimi', 'Bineou-Niakate', 'Binko', 'Bintagoungou', 'Bla Central', 'Bladie-Tiemala', 'Blendio', 'Boghassa', 'Bogoni', 'Boh', 'Boidie', 'Bole', 'Bolibana B6', 'Bondo', 'Bongosso', 'Boni', 'Boniaba', 'Bori', 'Borko', 'Borogoba', 'Boron', 'BorÃ©', 'BouarÃ©-TougounÃ©', 'Boudjiguire', 'Boudofo', 'Boudoubadi', 'Bougaribaya', 'Bougouba', 'BougoudalÃ©', 'BougoudÃ©rÃ©', 'Bougoukourala', 'Bougoula', 'Bougoula Hameau', 'Bougouni Est', 'Bougouni Nord', 'Bougouni Ouest', 'Bougouni Sud', 'Bougoura', 'Boujbeha central', 'Boukywere', 'Boulal', 'Boulgoundje', 'Bounguel', 'Bounoumba', 'Boura', 'Bourem Central', 'Bourem Inaly', 'Bourem Sidi Amar', 'Bourgouma', 'Boussin', 'Boutinguisse', 'Boya', 'Boyo', 'BrÃ©nimba', 'BÃ©ma', 'BÃ©nÃ¨ko', 'BÃ©nÃ©na']\n",
      "Geoboundaries adm3\n",
      "\t['Badia', 'Bafoulabe', 'Baguindabougou', 'Baguineda Camp', 'Balan Bakama', 'Bamafele', 'Bamba', 'Bamba', 'Bambara Maoude', 'Banamba', 'Banco', 'Bancoumana', 'Bandiagara Commune', 'Bangassi', 'Baniere Kore', 'Banikane', 'Banikane Narhawa', 'Bankass', 'Bara', 'Bara Sara', 'Baramandougou', 'Baraoueli', 'Barapireli', 'Bassirou', 'Baya', 'Baye', 'Baye', 'Beguene', 'Bellen', 'Bema', 'Ben Kadi', 'Bendougouba', 'Benena', 'Benkadi', 'Benkadi', 'Benkadi', 'Benkadi Founia', 'Ber', 'Bimbere Tama', 'Binga', 'Binko', 'Bintagoungou', 'Bla', 'Bladie-Tiemala', 'Blendio', 'Boghassa', 'Boidie', 'Boky Were', 'Bolo-Fouta', 'Bondo', 'Borko', 'Boron', 'Borondougou', 'Bossofala', 'Boudofo', 'Bougarybaya', 'Bougoula', 'Bougoula', 'Bougouni Commune', 'Boura', 'Bourem', 'Bourem Inaly', 'Bourem Sidi Amar', 'Bourra', 'Boussin']\n",
      "\n",
      "\n",
      "begins with letter C\n",
      "Master list level 4\n",
      "\t['CarriÃ¨re', 'Central', 'Centre Momo', 'Chabaria', 'Chirfiga', 'Chola', 'ChÃ¢teau', 'Cinzana Gare', 'Cocody', 'Cscom central II', 'Cst']\n",
      "Geoboundaries adm3\n",
      "\t['Cinzana', 'Colimbine', 'Commune I', 'Commune II', 'Commune III', 'Commune IV', 'Commune V', 'Commune VI']\n",
      "\n",
      "\n",
      "begins with letter D\n",
      "Master list level 4\n",
      "\t['Daban', 'Dabia', 'Dafela', 'Dagassenou', 'Dah', 'Dalibougou', 'Dallah', 'Dally', 'DallÃ©', 'Dampha', 'Dandoli', 'Dandougou', 'DandÃ©rÃ©sso', 'Danga', 'Dangado', 'Dangassa', 'Dangatene', 'Dangha', 'Daoula Sonzana', 'Dari', 'Darsalam', 'Darsalam_Kita', 'Defina', 'Degnekoro', 'Dembella', 'Dia', 'Diabaguela', 'Diabaly', 'Diabarou', 'Diabidiala', 'Diabigue', 'DiafarabÃ©', 'DiagarÃ©la', 'Diago', 'Diaka', 'Diakaba', 'DiakitÃ©la', 'Diakiwere', 'Diakon', 'Diakourouna', 'Dialacorodji', 'Dialafara', 'Dialaka', 'Dialakasso', 'Dialakon', 'Dialakoro', 'Dialakoroba', 'Dialakorobougou', 'DialanÃ©', 'Diallan', 'Diallassagou', 'Diallaye', 'DialloubÃ©', 'DialoubÃ©', 'Diamakan', 'Diamarabougou', 'Diambacourou', 'Diamou', 'DianguirdÃ©', 'DianguontÃ© Camara', 'Diankabou', 'Diankassagou', 'Dianke', 'Dianweli MaoundÃ©', 'Dianwely Kounda', 'Diarah', 'Diaramana', 'Diarani', 'Diaye Coura', 'Diban', 'Diboli', 'Didieni', 'Diebe', 'Diebock', 'Diedala', 'Diele', 'Dieli', 'Diena', 'Dienso', 'Digan', 'DiguicirÃ©', 'Dilly', 'Dimamou', 'Dimbal', 'Dinangourou', 'Dio Gare', 'Dio-Ba', 'Dioforongo', 'Dioila Central', 'Diokeli', 'Dioko', 'DiomatÃ©nÃ©', 'Dioncoulane', 'Diondiori', 'Diongaga', 'Diora', 'Dioro', 'Diou', 'DiougountÃ©', 'Dioumara', 'DioumatÃ©nÃ©', 'Diouna', 'Dioungani', 'Dioura', 'Dire', 'Dittin', 'DiÃ¨ma Central', 'DiÃ©oura', 'Djebala', 'Djeguena', 'Djela', 'DjennÃ© Central', 'Djibougou', 'Djibrouya', 'Djidara', 'Djidian', 'Djigue', 'Djigui Bombo', 'Djiguidala', 'Djinguilou', 'DjinÃ©', 'Djitamana', 'Djoliba', 'Djoufoya Tintokan', 'Djougoun', 'Djoulabougou Saneye', 'Djoumazana', 'Dofana', 'Dogani-BÃ©rÃ©', 'Dogo', 'Dogodouma', 'Dogofri', 'Dogofry', 'Dogoni', 'Domba', 'Dombia', 'Dombila', 'Dorey', 'Doro', 'Dotembougou', 'DoualÃ©', 'Doubabougou', 'Doubala', 'Douekire', 'Dougabougou', 'Dougouba', 'Dougoufe', 'Dougoukolobougou', 'Dougounikoro', 'Dougouolo', 'Doumanaba', 'Doumanani', 'Doumba', 'Douna', 'DoundÃ©', 'Doura', 'Dourou', 'Doussoudiana', 'Dramane', 'DÃ©', 'DÃ©bomassassi', 'DÃ©bÃ©lin', 'DÃ©bÃ©rÃ©', 'DÃ©mÃ©kÃ©']\n",
      "Geoboundaries adm3\n",
      "\t['Daban', 'Dabia', 'Dabo', 'Dah', 'Dallah', 'Danderesso', 'Dandoli', 'Dandougou Fakala', 'Dangha', 'Dangol Bore', 'Danou', 'Debelin', 'Debere', 'Deboye', 'Defina', 'Degnekoro', 'Dembela', 'Derrary', 'Diabaly', 'Diabigue', 'Diafarabe', 'Diafounou Diongaga', 'Diafounou Gory', 'Diago', 'Diaka', 'Diakon', 'Diakourouna', 'Dialafara', 'Dialakoro', 'Dialakoroba', 'Dialakorodji', 'Diallan', 'Diallassagou', 'Dialloube', 'Diamnati', 'Diamou', 'Diangounte Camara', 'Dianguirde', 'Diankabou', 'Dianke', 'Dianwely', 'Diaramana', 'Diarra', 'Diaye Coura', 'Didieni', 'Diebe', 'Diedougou', 'Diedougou', 'Diedougou', 'Diedougou', 'Dieli', 'Diema', 'Diena', 'Dieoura', 'Diganibougou', 'Dilly', 'Dimbal Habe', 'Dinandougou', 'Dinangourou', 'Dindanko', 'Dio Gare', 'Diokeli', 'Diomatene', 'Diondiori', 'Diora', 'Dioro', 'Diou', 'Diougani', 'Diouman', 'Dioumara Koussata', 'Dioumatene', 'Diouna', 'Diouradougou Kafo', 'Dire', 'Dirma', 'Djallon-Foula', 'Djaptodji', 'Djeguena', 'Djelebou', 'Djenne Commune', 'Djidian', 'Djiguiya De Koloni', 'Djougoun', 'Dogani Bere', 'Dogo', 'Dogodouman', 'Dogofry', 'Dogofry', 'Dogoni', 'Dolendougou', 'Domba', 'Dombia', 'Dombila', 'Dongo', 'Doubabougou', 'Doucoumbo', 'Douekire', 'Douentza Commune', 'Dougabougou', 'Dougoufie', 'Dougouolo', 'Dougoutene 1', 'Dougoutene 2', 'Doukouria', 'Doumanaba', 'Doumba', 'Dourou', 'Duguwolowula']\n",
      "\n",
      "\n",
      "begins with letter E\n",
      "Master list level 4\n",
      "\t['EbanguemalÃ¨ne', 'Echell', 'Echgane', 'Egachar', 'El Assbag', 'Emisdounane', 'Emissemis', 'EndÃ©', 'Ersane', 'EryntÃ©djeft', 'EssahÃ¨ne', \"Essaillail N'Bahou\", 'Essakane', 'Essouk', 'Etambar', 'EuguÃ¨dÃ¨che']\n",
      "Geoboundaries adm3\n",
      "\t['Essakane', 'Essouk']\n",
      "\n",
      "\n",
      "begins with letter F\n",
      "Master list level 4\n",
      "\t['Fadougou', 'Fafa', 'Fakola', 'Fala II', 'Faladie', 'Falako', 'Falakono', 'Falani', 'Falea', 'Falema', 'Fallou', 'Falo', 'Fama', 'Famorila', 'Famoussasso', 'Fana', 'Fanga', 'Fangasso', 'Fani', 'Fanidiama', 'Fantarasso', 'Faou', 'Faraba', 'Farabana', 'Farabougou', 'Faracoro', 'Farada', 'Farakala', 'Farako', 'Farangouaran', 'FassoudÃ¨bÃ¨', 'Fassoun (Ibatou)', 'Fatafing', 'Fatao', 'Fatine', 'Fatoma', 'Fegui', 'Ferme', 'Figuira Tomo', 'Filamana', 'Finkolo Ac', 'Finkologanadougou', 'Fion', 'Fissaba', 'Fladougou Marena', 'Fogoba', 'Folomana', 'Fonfana', 'Forgo', 'Fosse Karta', 'Fougadougou', 'Fougala', 'FougatiÃ©', 'Foulabougoula', 'Foulalaba', 'Foum Alba Central', 'Founia Moribougou', 'Fourou', 'Frandalla', 'FÃ´h']\n",
      "Geoboundaries adm3\n",
      "\t['Fagui', 'Fakala', 'Fakola', 'Fakolo', 'Falea', 'Faleme', 'Fallou', 'Falo', 'Fama', 'Fanga', 'Fangasso', 'Fani', 'Faraba', 'Faraba', 'Faradiele', 'Faragouaran', 'Farakala', 'Farako', 'Farako', 'Farakou Massa', 'Farimake', 'Fassou Debe', 'Fatao', 'Fatine', 'Fatoma', 'Fegui', 'Femaye', 'Finkolo', 'Finkolo Ganadougou', 'Fion', 'Fittouga', 'Folomana', 'Fourou']\n",
      "\n",
      "\n",
      "begins with letter G\n",
      "Master list level 4\n",
      "\t['Gabery', 'Gabou', 'Gadeye', 'Gadiaba Kadiel', 'Gagna', 'Gaina', 'Gainabossobon', 'Gakroukoto', 'GallÃ©', 'Gandamia', 'Gandathideye', 'Gangafani', 'Gangano', 'Ganidah', 'Garalo 1', 'Garalo 2', 'Garasso', 'Garbacoira', 'GarbamÃ©', 'Gareygoungo', 'Gargando', 'Gargouna', 'Gari', 'Garna', 'Garnati', 'Gassambarou', 'Gathi', 'Gavinane', 'Gaye Maoude', 'GladiÃ©', 'Gogui', 'Golingo', 'GolÃ©a', 'Gomi', 'Gomitogo', 'Gomitradougou', 'Gomossagou', 'Gongasso', 'Goro', 'Gory', 'Gory-Gopela', 'Gossi', 'Gouana', 'GouandjÃ¨sso', 'Gouendo', 'Goulombo', 'Goumbou', 'Goumera', 'Gounambougou', 'Goundaka', 'Goundam Central', 'Goundara', 'Gounfan', 'Gounka', 'Gourou', 'Gourouko', 'Goussela', 'GouthioubÃ©', 'GouÃ¨nÃ¨', 'GouÃ©lÃ©', 'GroumÃ©ra', 'Gualala', 'Guelelenkoro', 'Guemoukouraba', 'Guene-Gore', 'Gueneba', 'Gueneibe', 'Gueni', 'Guenikoro', 'Guenoubatan', 'Guessene', 'Guetema', 'Guidio-Sare', 'Guihoyo', 'GuilÃ©', 'Guinaolo', 'Guindessou', 'Guindigata Nari', 'Guire', 'GuÃ©dÃ©binÃ©']\n",
      "Geoboundaries adm3\n",
      "\t['Gabero', 'Gadougou 1', 'Gadougou 2', 'Gandamia', 'Gao', 'Garalo', 'Garbakoira', 'Gargando', 'Gavinane', 'Gogui', 'Gomitradougou', 'Gongasso', 'Gory', 'Gory Gopela', 'Gossi', 'Gouadie Sougouna', 'Gouadji Kao', 'Gouanan', 'Gouandiaka', 'Gouendo', 'Goumera', 'Goundam Commune', 'Gounfan', 'Gounzoureye', 'Groumera', 'Guedebine', 'Guegneka', 'Guemoukouraba', 'Guenegore', 'Gueneibe', 'Guetema', 'Guidimakan Keri Kaff', 'Guidime', 'Guihoyo', 'Guire']\n",
      "\n",
      "\n",
      "begins with letter H\n",
      "Master list level 4\n",
      "\t['H.KÃ©niÃ©ba', 'Ha', 'Haibongo', 'Hamake', 'Hamakouladji', 'Hamankoira', 'Hamdallaye', 'Hamdallaye  Sido', 'Hamzakoma', 'Hangabera', 'Haoussa Foulane', 'Haribomo', 'Hassidina', 'Hawa', 'Herba', 'Hombori', 'Hondoubomo Koina', 'Horogoungou', 'Horokoto', 'Horosseno', 'Hourara']\n",
      "Geoboundaries adm3\n",
      "\t['Haibongo', 'Haire', 'Hamzakoma', 'Haribomo', 'Hawa Dembaya', 'Hombori']\n",
      "\n",
      "\n",
      "begins with letter I\n",
      "Master list level 4\n",
      "\t['Iby', 'Ihinita', 'Imakara', 'Imboulal', 'Imenass', 'Imilach', 'Iminaguel', 'Inadiatafane', 'Inagade', 'Inagam', 'Inagar', 'Inakassof', 'Inalakam', 'Inarabane', 'Inchinanane', 'Indelimane', 'Inekar', 'Inekar Ouest', 'Infokarekane', 'Inhalid', 'Inkadewane', 'Inlamawane', 'Intadeinit', 'Intadeyne', 'Intibzaz', 'Intigart', 'IntimarwalÃ¨ne', 'IrÃ©li', 'Issa-Bery', 'Issafaye']\n",
      "Geoboundaries adm3\n",
      "\t['Inadiatafane', 'Inekar', 'Issa Bery']\n",
      "\n",
      "\n",
      "begins with letter J\n",
      "Geoboundaries adm3\n",
      "\t['Jekafo']\n",
      "\n",
      "\n",
      "begins with letter K\n",
      "Master list level 4\n",
      "\t['K2', 'Kaara', 'Kabaika', 'Kabala', 'Kabalabougou', 'KabalÃ©a', 'Kabara', 'Kabarasso', 'Kabaya', 'Kaboila', 'Kadial', 'Kadiana', 'Kadiolo Central', 'Kafana', 'Kafara', 'Kafouziela', 'Kagoro Mountan', 'Kai', 'Kakadian', 'Kakagna', 'Kalabancoro', 'Kalabancoro Koulouba', 'Kalabancoro KouloublÃ©ni', 'Kalabancoro Nerecoro', 'Kalabancoro S Extension', 'Kalabancro Heremakono', 'Kalake', 'Kalako', 'Kalana', 'Kalifabougou', 'Kalinioro', 'Kaloumba', 'Kamagalamadji', 'Kamani', 'Kamba', 'Kamona', 'Kanadjiguila', 'Kandara', 'Kaneye', 'Kangaba Central', 'KangarÃ©', 'Kanguessanou', 'Kani-Bonzon', 'Kani-G', 'Kaniegue', 'Kankoni', 'Kapala', 'Kara', 'Karaba', 'Karabassane', 'Karagouana', 'Karakinde', 'Karan', 'Karangana', 'Karangasso', 'Karfabougou', 'KarguÃ©', 'Kassa-Saou', 'Kassama', 'Kassaro', 'Kassorola', 'KassÃ©kara', 'Kati Koko', 'Katiena', 'KatiÃ©lÃ©', 'KatÃ©lÃ©', 'Kayes Ndi', 'Kaygoutane', 'Kazangasso', 'KembÃ©', 'Kemeni', 'KendiÃ©', 'KendÃ©', 'Kenenkoun', 'Kenienife', 'Kerela', 'Kermachoe', 'Kermetogo', 'Kerouane', 'Kersignane Diafounou', 'Kersignane Kaniaga', 'Kessana', 'Kessoubiby', 'Khasso', 'Kiban', 'Kidal Central', 'Kiffosso I', 'Kignan central', 'Kimparana', 'Kirane', 'Kirango', 'Kirchamba', 'Kle', 'KlÃ©la', 'KlÃ©ssokoro', 'Koa', 'Kobokoto', 'Kobokotossou', 'Kobri', 'Kochakarey', 'Kodje', 'Kodougouni', 'Koe', 'Kofeba', 'Koflatie', 'Koila', 'Koira', 'Koko', 'Koko II', 'Kokofata', 'Kokonto', 'Kokoun', 'Kokry', 'Kola', 'Kolebougou', 'Kolly', 'Kolobo', 'Kologo', 'Kolokani Central', 'Kolokoba', 'Kolondinkoye', 'KolondiÃ©ba Central', 'Kolongo', 'Koloni', 'Koloni_Y', 'Kolosso', 'Komeoulou', 'Komoguel 1', 'Komola-Zanfina', 'Kondi', 'Kondo', 'Koni', 'Koniakary', 'Konina', 'Konio', 'Konkobougou', 'Konkon', 'Konkorom', 'Konna', 'Konobougou', 'Konodimini', 'Konosso', 'Konou', 'KonsÃ©guÃ©la', 'Kontza', 'Koporo Na', 'Koporo Pen', 'Kora', 'Korampo', 'Korarou', 'Korera Kore', 'Kori-MaoudÃ©', 'KorientzÃ©', 'Kormou', 'Koro', 'Koro Bella', 'Koro Central', 'Korokoro', 'Koronga', 'Kotouba', 'Kotoula', 'Kouakourou', 'Kouale', 'Koubewel Koundia', 'Koubi', 'Kougnan', 'Kouima', 'Koula', 'Koulandougou', 'Koulikoroba', 'Koulogo', 'Koulou', 'Kouloukan', 'Kouloun', 'Koumaira', 'Koumankou', 'Koumantou', 'Koumbia', 'Koumi', 'Kounabougou', 'Koundian', 'Koungo', 'Koungoba', 'Kouniana', 'Kouo', 'Kouorobarrage', 'Koura', 'Kourale', 'KouremalÃ©', 'Kourouba', 'Kouroubambara', 'Kouroukere', 'Kouroukoto', 'Kourouma', 'Kourounikoto', 'KoursalÃ©', 'Koury', 'Koussane', 'Koutienso', 'Kremis', 'KÃ©bila', 'KÃ©bÃ©ni', 'KÃ©kÃ©', 'KÃ©lÃ©ya', 'KÃ©niekeniÃ©ba', 'KÃ©niÃ©ba central', 'KÃ©niÃ©goulou', 'KÃ©niÃ©gouÃ©', 'KÃ©rÃ©na']\n",
      "Geoboundaries adm3\n",
      "\t['Kabarasso', 'Kaboila', 'Kadiaba Kadiel', 'Kadiana', 'Kadiolo', 'Kafo Faboli', 'Kafouziela', 'Kai', 'Kala Siguida', 'Kalabancoro', 'Kaladougou', 'Kalake', 'Kalifabougou', 'Kambila', 'Kamiandougou', 'Kaneye', 'Kani Bozon', 'Kaniegue', 'Kaniogo', 'Kapala', 'Kapala', 'Kapolondougou', 'Karaba', 'Karagouana Malle', 'Karakoro', 'Karan Commune', 'Karangana', 'Kareri', 'Kassa', 'Kassama', 'Kassaro', 'Kassorola', 'Kati Commune', 'Katiena', 'Kava', 'Kayes Commune', 'Kazangasso', 'Kebila', 'Keleya', 'Kemekafo', 'Kemene Tambo', 'Kemeni', 'Kende', 'Kendie', 'Kenieba', 'Kerela', 'Kerena', 'Kewa', 'Khouloum', 'Kiban', 'Kidal', 'Kiffosso 1', 'Kignan', 'Kilidougou', 'Kirane Kaniaga', 'Kirchamba', 'Kita Commune', 'Kita Nord', 'Kita Ouest', 'Klela', 'Kobri', 'Kofan', 'Kokele', 'Kokofata', 'Kokry Centre', 'Kola', 'Kolokani', 'Kolokoba', 'Kolondieba', 'Kolongo', 'Kolonigue', 'Kolosso', 'Kondi', 'Koniakary', 'Konina', 'Koningue', 'Konna', 'Konobougou', 'Konodimini', 'Konseguela', 'Konsiga', 'Kontela', 'Koporo Pen', 'Koporokendie Na', 'Korarou', 'Korera Kore', 'Koro', 'Korodougou', 'Korombana', 'Koromo', 'Koronga', 'Kotouba', 'Koubaye', 'Koubewel Koundia', 'Koula', 'Koula', 'Koulandougou', 'Koulikoro Commune', 'Koulogon Habe', 'Koulou', 'Koumaira', 'Koumankou', 'Koumantou', 'Koumbia', 'Kounari', 'Koundian', 'Kouniana', 'Kouoro', 'Kourouba', 'Kouroukoto', 'Kouroulamini', 'Kourouma', 'Kourounikoto', 'Koury', 'Koussan', 'Koussane', 'Koutiala Commune', 'Kremis']\n",
      "\n",
      "\n",
      "begins with letter L\n",
      "Master list level 4\n",
      "\t['LabbÃ©zanga', 'Lafiabougou', 'Lahandy', 'LakamanÃ©', 'Lakanguemou', 'Lambatra', 'Lambidou', 'Lanfiala', 'Lany-Tounka', 'Lattakaf', 'Lellehoye', 'Lere', 'Lessagou', 'LinkÃ©coto', 'Liraka', 'Lobou', 'Lobougoula', 'LofiguÃ©', 'LofinÃ¨', 'Logo-SaboussirÃ©', 'Lontola', 'Lontou', 'Loulo', 'Loulouni', 'Loutana', 'LÃ©lÃ©ni', 'LÃ©ya']\n",
      "Geoboundaries adm3\n",
      "\t['Lafia', 'Lakamane', 'Lambidou', 'Lanfiala', 'Lere', 'Lessagou Habe', 'Liberte Dembaya', 'Lobougoula', 'Logo', 'Logouana', 'Loulouni', 'Lowol Gueou']\n",
      "\n",
      "\n",
      "begins with letter M\n",
      "Master list level 4\n",
      "\t[\"M'Babou\", \"M'Bana\", \"M'Pebougou\", \"M'Pesso Hameau\", \"M'PÃ©ssoba\", 'Maban', 'Macina Central', 'Madalaya', 'Madiakoye', 'Madiama', 'Madiga Sacko', 'Madihawaya', 'Madina', 'Madina  Sacko', 'Madina Kagoro', 'Madinakoun', 'Madinakouta', 'Madougou', 'Mafeleni', 'MafounÃ©', 'MafÃ¨lÃ¨', 'MagnadouÃ©', 'Mahina', 'Mahinamine', 'Mahou', 'Mahou II', 'Makandiambougou', 'Makarila', 'Makono', 'Malibougou', 'Malimana', 'Mamari Sibiri', 'Mamassoni', 'Mamissa', 'Mana', 'Manankoro', 'Manantali', 'Mancourani', 'Mandela', 'Mandiakuy', 'MandiÃ©la', 'Manicoura', 'MankoÃ¯na', 'Manta', 'Marako', 'Marela', 'Marena', 'Marena Tringa', 'Marena-Diombougou', 'Marena-Gadiaga', 'Marintoumania', 'Markacoungo', 'Markanibougou', 'Marsi', 'MarÃ©na', 'Massala', 'Massantola', 'Massarazana', 'Massigui', 'Maternite Hamdallaye', 'Matomo', 'Mbewani', 'Mbouna', 'Mdiassa', 'Medina Coura', 'Medine', 'Mekore', 'Mena', 'Mena-KolondiÃ¨ba', 'Menaka central', 'Mercoya', 'Miniko', 'Minkiri', 'Missirikoro', 'MissÃ©ni', 'MiÃ©na', 'Moabougou', 'Modinkanou', 'Mogola', 'Molobala', 'Molodo', 'Mondoro', 'Monimpe', 'Monisso', 'Monzombala', 'Monzombougou', 'Mopti Keba', 'Moribabougou', 'Moribila', 'Moro-Moro', 'Mory', 'Moudakane', 'Moudett', 'Mougna', 'Mountougoula', 'Mourdiah', 'Mourrah', 'MÃ©namba I', 'MÃ©ridiÃ©la']\n",
      "Geoboundaries adm3\n",
      "\t[\"M'bouna\", \"M'pessoba\", 'Macina', 'Madiama', 'Madiga Sacko', 'Madina', 'Madina Sacko', 'Madougou', 'Mafoune', 'Mahina', 'Mahou', 'Makano', 'Mande', 'Mandiakuy', 'Maramandougou', 'Marekaffo', 'Marena Diombougou', 'Mariko', 'Marintoumania', 'Markala', 'Massala', 'Massantola', 'Massigui', 'Matomo', 'Meguetan', 'Mena', 'Menaka', 'Menamba 1', 'Meridiela', 'Metoumou', 'Miena', 'Minidian', 'Miniko', 'Miria', 'Misseni', 'Missirikoro', 'Mondoro', 'Monimpebougou', 'Mopti Commune', 'Moribabougou', 'Moribila', 'Mountougoula']\n",
      "\n",
      "\n",
      "begins with letter N\n",
      "Master list level 4\n",
      "\t[\"N'Daki\", \"N'Djilla\", \"N'Gai\", \"N'Gara\", \"N'Gassola\", \"N'Goa\", \"N'Golobougou\", \"N'Golokouna\", \"N'Golona\", \"N'Golonianasso\", \"N'Gorola\", \"N'Gouma\", \"N'Gouni\", \"N'Gountjina\", \"N'Gouraba\", \"N'Tabacoro Att Bougou\", \"N'Tobougou\", \"N'Togonasso\", \"N'Tombougou-DIGANI\", \"N'Torosso\", \"N'Tosso\", \"N'Tossoni\", \"N'gana\", \"N'goko\", 'N8 Werekela', 'NTabakoro Village', 'NTomodo', 'Nafadji', 'Nafadjicoro', 'Namala', 'NamatiÃ©', 'Nampala', 'Nampasso', 'Nana Kenieba', 'Nando', 'Nangalasso', 'Nangola', 'NanÃ©rÃ©bougou', 'Naoulena', 'Nara Central', 'Narena', 'Natien', 'Ndebougou', 'Neguela', 'Neguetabali', 'Ngabakoro Droit', 'Ngara', 'Ngorkou', 'Niafunke Central', 'Niagadina', 'NiaganÃ©', 'Niakalinsiraya', 'Niakongo', 'Niakourazana', 'Niala', 'Niamala', 'Niamana', 'Niambourgou', 'Niamiga', 'Niamnia', 'NiamÃ©', 'Niangassaiou', 'Niantasso', 'Niantjila', 'Nianzana', 'Niaouro', 'Niasso', 'Nibket Elk', 'Niessoumala', 'Nimbougou', 'Ningari', 'Niogomera', 'Niogona', 'Niono C3', 'Niono Central', 'Niono Extension', 'Nioumamakana', 'NiÃ©na Central', 'Nkourala', 'Nokara', 'Nongon', 'Nonkon', 'Nono', 'Nonongo', 'Nossombougou', 'Nouh Bozo', 'Nounou', 'Ntahaka', 'Ntiele', 'Ntillit', 'Ntjikouna', 'Ntjilla', 'Nyamina']\n",
      "Geoboundaries adm3\n",
      "\t[\"N'dlondougou\", \"N'dodjiga\", \"N'gabacoro\", \"N'gara\", \"N'garadougou\", \"N'gassola\", \"N'goa\", \"N'golobougou\", \"N'golodiana\", \"N'golonianasso\", \"N'gorkou\", \"N'gouraba\", \"N'goutjina\", \"N'koumandougou\", \"N'tillit\", \"N'tjiba\", \"N'tjikouna\", \"N'torosso\", \"N'tossoni\", 'Nafanga', 'Namala Guimba', 'Nampalari', 'Nampe', 'Nangalasso', 'Nangola', 'Nara', 'Narena', 'Natien', 'Nema Badenyakafo', 'Niagadina', 'Niala', 'Niamana', 'Niamana', 'Niambia', 'Niansanari', 'Niantaga', 'Niantanso', 'Niantjila', 'Niasso', 'Niena', 'Nimbougou', 'Niono', 'Nioro Commune', 'Nioro Tougoune Ranga', 'Nioumakana', 'Nongo-Souala', 'Nonkon', 'Nossombougou', 'Nouga', 'Nyamina']\n",
      "\n",
      "\n",
      "begins with letter O\n",
      "Master list level 4\n",
      "\t['Ondougou', 'Ouahibera', 'Oualia', 'Oualo', 'Ouan', 'Ouaro', 'Ouassala', 'Ouatagouna', 'Ouatialy', 'Oudeika', 'Ouenkoro', 'Ouezzindou', 'Oula', 'Oulan', 'Ouleni', 'Ouo', 'Ouolodo', 'Ouologuela', 'Ouolon', 'Oure', 'Ourikela', 'Ouro Guiya', 'Ouro Modi', 'Ouroly', 'Ouroumpana', 'Ouroun', 'Oussadia', 'Oussibidiagna', 'OuÃ©lessÃ©bougou']\n",
      "Geoboundaries adm3\n",
      "\t['Ondougou', 'Ouagadou', 'Oualia', 'Ouan', 'Ouattagouna', 'Ouelessebougou', 'Ouinerden', 'Ouolodo', 'Ouolon', 'Ouonkoro', 'Ourikela', 'Ouro Ali', 'Ouro Ardo', 'Ouro Guire', 'Ouro Modi', 'Ouroube Doude', 'Ouroun']\n",
      "\n",
      "\n",
      "begins with letter P\n",
      "Master list level 4\n",
      "\t['Pel-Maoude', 'Pelegana Nord', 'Pelegana Sud', 'Pelou', 'Penesso', 'Petaka', 'Pimperna', 'Pissa', 'Plateau', 'Pogo', 'Pomorododiou', 'PÃ©guÃ©na']\n",
      "Geoboundaries adm3\n",
      "\t['Pel Maoude', 'Pelengana', 'Pelou', 'Petaka', 'Pignari', 'Pignari Bana', 'Pimperna', 'Pogo', 'Pondori']\n",
      "\n",
      "\n",
      "begins with letter Q\n",
      "\n",
      "\n",
      "begins with letter R\n",
      "Master list level 4\n",
      "\t['Razelma', 'Rharous']\n",
      "Geoboundaries adm3\n",
      "\t['Razelma', 'Rharous']\n",
      "\n",
      "\n",
      "begins with letter S\n",
      "Master list level 4\n",
      "\t['Sabougou', 'Sadiola', 'Safo', 'SafÃ©-Bougoula', 'Sagabala', 'Sagabari', 'Sagala', 'Sagalo', 'Sah', 'Saint Felix', 'Sakoiba', 'Sakoro', 'Salakoira', 'Salamale', 'Sama', 'Sama Foulala', 'Samabogo', 'Samakele', 'Samantara', 'Samaya', 'Sambaga', 'SambagorÃ©', 'Sambala', 'Same Ouolof', 'Samine', 'Samit', 'Sampaga', 'Sampara', 'San Central', 'Sanancoroba', 'Sanando', 'Sananfara', 'Sanankoro', 'Sanankoroba', 'Sanankorodjitoumou', 'Sandama', 'Sandare', 'Sandiambougou', 'Sanfagadala', 'Sanfinia', 'Sangarebougou', 'Sangha', 'SanguÃ©la', 'SankorÃ©', 'Sanoubougou 1', 'Sanoubougou 2', 'Sanougou', 'Sansanding', 'SansankidÃ©', 'Sanso', 'Sanwa', 'Sanzana', 'SanÃ©kuy', 'Sarafere', 'Sare Dina', 'Sare Mala', 'Sareyamou', 'Sarro', 'SawanÃ©', 'Saye', 'Sebekoro', 'Sebekoro I', 'Sebete', 'Sebougou', 'Sefeto', 'Segala', 'Segou Coura Baka', 'Segue', 'Seguela', 'Sekelo', 'Sekoro', 'Selefougou', 'Selifely', 'Selinkegny', 'Sendegue', 'Senebamana', 'Senko', 'Senou', 'Serenaty', 'Seribila', 'Seriwala', 'Sero', 'Sevare 2', 'Seyla', 'Seyna', 'Sibikily', 'Sibila', 'Sibindi', 'Sibiriifina', 'Siby', 'Sido', 'SiekorolÃ©', 'Siengo Extension', 'Simbi', 'Sincina', 'Sinkolo', 'Sinzani', 'Sirakoro', 'Sirakoro Meguetana', 'Sirakoroba', 'Sirakorobougou', 'Sirakorola', 'SirakÃ©lÃ©', 'SiramissÃ©', 'Siribala', 'Sirimanzo', 'Sitakily', 'Sitakoto', 'Sitakourou', 'Sitaninkoto', 'Sitaoule', 'Soala', 'Sofara', 'Sogomougou', 'Soignebougou', 'Soke', 'Sokolo', 'Sokoura', 'Sokoura_B', 'Solenkoro', 'Soloba', 'Somadougou', 'Somankidi', 'Somasso', 'Somo - Baroueli', 'Somo - San', 'Sondage', 'Songho', 'Soninkegny', 'SonkegnÃ©', 'Sorobasso', 'SossobÃ©', 'Sossokoira', 'Souba', 'Soubala', 'Souban', 'Soufroulaye', 'Sougoumba', 'Souleye', 'Soumouni', 'Soumpi', 'Sountiana', 'Souranguedou', 'Souranzan', 'Sourountouna', 'Soye', 'Sy', 'SÃ©gouna', 'SÃ©guÃ©', 'SÃ©guÃ©la', 'SÃ©nossa', 'SÃ©varÃ© 3', 'SÃ©vÃ©ry']\n",
      "Geoboundaries adm3\n",
      "\t['Saboula', 'Sadiola', 'Safo', 'Sagabala', 'Sagalo', 'Sahel', 'Sakoiba', 'Salam', 'Saloba', 'Sama Foulala', 'Samabogo', 'Same Diomboma', 'Samine', 'San Commune', 'Sana', 'Sanando', 'Sanankoro Djitoumou', 'Sanankoroba', 'Sandare', 'Sanekuy', 'Sangarebougou', 'Sangha', 'Sankarani', 'Sansanding', 'Sansankide', 'Sanso', 'Sanzana', 'Sareyamou', 'Sasalbe', 'Sebecoro 1', 'Sebekoro', 'Sebete', 'Sebougou', 'Sefeto Nord', 'Sefeto Ouest', 'Segala', 'Segou Commune', 'Segue', 'Segue Ire', 'Selefougou', 'Senko', 'Sere Moussa Ani Samo', 'Serere', 'Sero Diamanou', 'Siadougou', 'Sibila', 'Sibirila', 'Siby', 'Sidibela', 'Sido', 'Sikasso Commune', 'Simbi', 'Sincina', 'Sinkolo', 'Sio', 'Sirakoro', 'Sirakorola', 'Siribala', 'Sirifila Boundy', 'Sitakily', 'Soboundou', 'Sobra', 'Socoura', 'Soignebougou', 'Sokolo', 'Sokoura', 'Sokourani Missirikoro', 'Somankidy', 'Somasso', 'Somo', 'Somo', 'Songo Doubacoro', 'Songoua', 'Sony', 'Sony Aliber', 'Sorobasso', 'Soroly', 'Souba', 'Soubala', 'Sougoulbe', 'Souleye', 'Soumpi', 'Soumpou', 'Souransan Tomoto', 'Sourountouna', 'Soye', 'Sy', 'Syen Toula']\n",
      "\n",
      "\n",
      "begins with letter T\n",
      "Master list level 4\n",
      "\t['Tabakoto', 'Tabankort', 'Tabi Tongo', 'Taboye', 'Tacharane', 'Tadamakat', 'Tadjalat', 'Tadriante', 'Tafassirga', 'Taga', 'Tagalalt', 'Tagan', 'Taghrist', 'Tahabanat', 'Takaba', 'Takalot', 'Tako', 'Talataye', 'Tallo', 'Tamakoutat', 'Tamalett', 'Tamani', 'Tambacara', 'Tambafigna', 'Tambaga', 'Tamtack', 'Tanainait', 'Tanima', 'Taoudenit central', 'TarabÃ©', 'Tarinkate', 'Tarkint', 'Tassassat', 'Tassiga', 'Tassik', 'Tassiriste', 'Tassona', 'TchintabaradÃ¨ne', 'Tegueret', 'TeherdjÃ©', 'Telabit', 'Tella', 'Temou', 'TemÃ©ra', 'Tendio', 'Tene', 'Tenenkou', 'Tesserela', 'Tessit', 'Thiadjol', 'Thial', 'Thirissoro', 'Tiagala', 'Tiaka Dialakoro', 'Tiapato', 'Tiby', 'Tichift', 'Tichitt', 'Tichy', 'Tidermene central', 'Tiebala', 'Tiefala', 'Tiefimbougou', 'Tieguecourouni', 'Tienabougou', 'Tienfala', 'Tienkour', 'Tiere', 'Tigana', 'Tigui', 'Tiguila', 'Tilemsi', 'Timboukri', 'Timissa', 'TimtaghÃ¨ne', 'Tin Agalhadji', 'Tin Aouker', 'Tin Telout', 'Tin-Aicha', 'Tin-Essako', 'Tinabaw', 'Tinadhidj', 'Tinagaroft', 'Tindirma', 'Tindjambane', 'Tinfada', 'Tinfadimata', 'Tinfrikawene', 'Tingole', 'Tinhamma', 'TinkarÃ©', 'TinkÃ©lÃ©', 'Tinsagou', 'Tinsako', 'Tintachori', 'Tintadenit', 'Tintara', 'Tintiba', 'Tinzaouatene', 'TinÃ©loine', 'Tiongui', 'Tioribougou', 'TiÃ¨lÃ¨', 'TiÃ¨oulena', 'Toba', 'Todougou KolondiÃ¨', 'Tofola', 'Togo', 'Togou', 'Toguel', 'ToguÃ©rÃ© CoumbÃ©', 'Tombola', 'Tombougou', 'Tomina', 'Tominian Central', 'Tondibi', 'Tondidarou', 'Tondidji', 'Tongo', 'Tongo-Tongo', 'Tongorongon', 'Tongue', 'Tonka', 'Tonto', 'Torakoro', 'Tori', 'Torodo', 'Torokoro', 'Toroli', 'Tossost', 'Tota', 'Touba', 'Toubacoro', 'Tougouni', 'Touhara', 'Toukoro', 'Toukoroba', 'Toukoto', 'Toulabele', 'Touloupe', 'Toumbinassou', 'Touna', 'Tourakolomba', 'Tourela', 'Tourourou', 'Toussana', 'ToussÃ©guÃ©la', 'Toutiala', 'Touwal', 'Toya', 'Trentimou', 'Troun', 'Troungoumbe', 'Turula', 'TÃ©guÃ©', 'TÃ©riyabougou', 'TÃ©tou']\n",
      "Geoboundaries adm3\n",
      "\t['Taboye', 'Tafacirga', 'Tagandougou', 'Talataye', 'Tamani', 'Tambaga', 'Tao', 'Tarkint', 'Tedie', 'Tele', 'Tella', 'Temera', 'Tene', 'Teneni', 'Tenenkou Commune', 'Tenindougou', 'Tessalit', 'Tesserla', 'Tessit', 'Tiakadougou Dialakoro', 'Tiankadi', 'Tidermene', 'Tiele', 'Tiemala Banimonotie', 'Tiemena', 'Tienfala', 'Tienkour', 'Tilemsi', 'Tilemsi', 'Timiri', 'Timissa', 'Timtaghene', 'Tin Aicha', 'Tin Essako', 'Tin Hama', 'Tindirma', 'Tinguereguif', 'Tinzawatene', 'Tiongui', 'Tioribougou', 'Togoro Kotia', 'Togou', 'Togue Mourari', 'Toguere-Coumbe', 'Tombouctou', 'Tominian', 'Tomora', 'Tongue', 'Tonka', 'Tori', 'Toridaga Ko', 'Toubacoro', 'Tougouni', 'Toukoroba', 'Toukoto', 'Touna', 'Tourakolomba', 'Tousseguela', 'Toya', 'Tringa', 'Troungoumbe']\n",
      "\n",
      "\n",
      "begins with letter U\n",
      "\n",
      "\n",
      "begins with letter V\n",
      "\n",
      "\n",
      "begins with letter W\n",
      "Master list level 4\n",
      "\t['Wabaria', 'Wacoro', 'Waikanou', 'Waki', 'Wako', 'Wakoro', 'Waky', 'Walo', 'Wana', 'Waourou', 'Waramata', 'Wayerma 1', 'Wayerma 2', 'Wola', 'Wondobougou', 'Woroni']\n",
      "Geoboundaries adm3\n",
      "\t['Wacoro', 'Wadouba', 'Waki', 'Wassoulou Balle', 'Wateni', 'Wola']\n",
      "\n",
      "\n",
      "begins with letter X\n",
      "\n",
      "\n",
      "begins with letter Y\n",
      "Master list level 4\n",
      "\t['Yafola', 'Yaguine', 'Yaguine Banda', 'Yanfolila Central', 'Yangasso', 'Yasso', 'Yatera', 'Yebe', 'Yelekebougou', 'Yelimane Central', 'Yendouma', 'Yerebougou', 'Yerere', 'Yira', 'Yiringasso', 'Yollo', 'Yoro', 'Yorobougoula', 'Yorosso', 'Youdiou', 'Yougonsire', 'Youri', 'Yourmi', 'Youwarou-Central']\n",
      "Geoboundaries adm3\n",
      "\t['Yallankoro-Soloba', 'Yangasso', 'Yasso', 'Yelekebougou', 'Yeredon Saniona', 'Yerere', 'Yinindougou', 'Yiridougou', 'Yognogo', 'Yoro', 'Yorosso', 'Youdiou', 'Youri', 'Youwarou']\n",
      "\n",
      "\n",
      "begins with letter Z\n",
      "Master list level 4\n",
      "\t['Zambougou-Central', 'Zambougou-Cinzana', 'Zamiasso', 'Zana', 'Zanabougou', 'Zanferebougou', 'Zangalan', 'Zangaradougou', 'Zangasso', 'Zangousso', 'Zanina', 'ZaniÃ©na', 'Zantiguila', 'ZantiÃ¨bougou', 'Zanzoni', 'Zarho', 'Ziasso', 'Zignasso', 'Zinda', 'ZiÃ©na', 'Zon', 'Zoueya', 'ZÃ©bala', 'ZÃ©goua', 'ZÃ©guÃ©rÃ©']\n",
      "Geoboundaries adm3\n",
      "\t['Zan Coulibaly', 'Zanferebougou', 'Zanfigue', 'Zangaradougou', 'Zangasso', 'Zaniena', 'Zanina', 'Zantiebougou', 'Zebala', 'Zegoua']\n",
      "\n",
      "\n"
     ]
    }
   ],
   "source": [
    "for letter in ascii_uppercase:\n",
    "    print(f'begins with letter {letter}')\n",
    "    level4_sublist = [name for name in level4_list if name[0]==letter]\n",
    "    geob3_sublist = [name for name in geob3_list if name[0]==letter]\n",
    "\n",
    "    if len(level4_sublist)>0:\n",
    "        print(\"Master list level 4\")\n",
    "        print(\"\\t\"+str(level4_sublist))\n",
    "    if len(geob3_sublist) >0:\n",
    "        print(\"Geoboundaries adm3\")\n",
    "        print(\"\\t\"+str(geob3_sublist))\n",
    "        \n",
    "    print(\"\\n\")"
   ]
  },
  {
   "cell_type": "markdown",
   "metadata": {},
   "source": [
    "Manually adjust spellings of master health list to create more matches."
   ]
  },
  {
   "cell_type": "code",
   "execution_count": 714,
   "metadata": {},
   "outputs": [],
   "source": [
    "master_table.loc[:, \"orgunitlevel4_edit\"] = master_table.orgunitlevel4"
   ]
  },
  {
   "cell_type": "code",
   "execution_count": 715,
   "metadata": {},
   "outputs": [],
   "source": [
    "# master_table.loc[master_table.orgunitlevel4 == \"Bo City\", \"orgunitlevel4_edit\"] = \"Bo Town\"\n",
    "# master_table.loc[master_table.orgunitlevel4 == \"Central 1 Zone\", \"orgunitlevel4_edit\"] = \"Central I\"\n",
    "# master_table.loc[master_table.orgunitlevel4 == \"Central 2 Zone\", \"orgunitlevel4_edit\"] = \"Central II\"\n",
    "# master_table.loc[master_table.orgunitlevel4 == \"East 1 Zone\", \"orgunitlevel4_edit\"] = \"East I\"\n",
    "# master_table.loc[master_table.orgunitlevel4 == \"East 2 Zone\", \"orgunitlevel4_edit\"] = \"East II\"\n",
    "# master_table.loc[master_table.orgunitlevel4 == \"East 3 Zone\", \"orgunitlevel4_edit\"] = \"East III\"\n",
    "# master_table.loc[master_table.orgunitlevel4 == \"West 1 Zone\", \"orgunitlevel4_edit\"] = \"West I\"\n",
    "# master_table.loc[master_table.orgunitlevel4 == \"West 2 Zone\", \"orgunitlevel4_edit\"] = \"West II\"\n",
    "# master_table.loc[master_table.orgunitlevel4 == \"West 3 Zone\", \"orgunitlevel4_edit\"] = \"West III\"\n",
    "# master_table.loc[master_table.orgunitlevel4 == \"Bagbwe\", \"orgunitlevel4_edit\"] = \"Bagbwe(Bagbe)\""
   ]
  },
  {
   "cell_type": "markdown",
   "metadata": {},
   "source": [
    "Remove key words that confuse matching algorithm"
   ]
  },
  {
   "cell_type": "code",
   "execution_count": 716,
   "metadata": {},
   "outputs": [],
   "source": [
    "remove_words(geob3, \"shapeName\", ['Town', 'City', 'Urban', 'Zone'])\n",
    "remove_words(master_table, \"orgunitlevel4_edit\", ['Town', 'City', 'Urban', 'Zone'])"
   ]
  },
  {
   "cell_type": "code",
   "execution_count": 717,
   "metadata": {},
   "outputs": [],
   "source": [
    "# level4_list = list(master_table.orgunitlevel4.unique())\n",
    "level4_list = list(master_table.orgunitlevel4_edit.unique())\n",
    "level4_list.sort()\n",
    "geob3_list = list(geob3.shapeName)\n",
    "geob3_list.sort()"
   ]
  },
  {
   "cell_type": "code",
   "execution_count": 718,
   "metadata": {
    "scrolled": true
   },
   "outputs": [],
   "source": [
    "# List for dicts for easy dataframe creation\n",
    "dict_list = []\n",
    "# iterating over orgunitlevel4_edit list\n",
    "for name in level4_list:\n",
    "    \n",
    "    # Use our method to find best match, we can set a threshold here\n",
    "    match = match_name(name, geob3_list, 30)\n",
    "\n",
    "    # New dict for storing data\n",
    "    dict_ = {}\n",
    "    dict_.update({\"name_level4\" : name})\n",
    "    dict_.update({\"name_geob3\" : match[0]})\n",
    "    dict_.update({\"score\" : match[1]})\n",
    "    dict_list.append(dict_)\n",
    "\n",
    "table_adm3 = pd.DataFrame(dict_list)\n",
    "table_adm3_matches = table_adm3[table_adm3.score > 70].copy()"
   ]
  },
  {
   "cell_type": "code",
   "execution_count": 719,
   "metadata": {},
   "outputs": [
    {
     "data": {
      "text/plain": [
       "'59.13%'"
      ]
     },
     "execution_count": 719,
     "metadata": {},
     "output_type": "execute_result"
    }
   ],
   "source": [
    "matches_pct = (len(table_adm3_matches) / len(level4_list))\n",
    "'{:.2f}%'.format(matches_pct*100)"
   ]
  },
  {
   "cell_type": "code",
   "execution_count": 720,
   "metadata": {
    "scrolled": true
   },
   "outputs": [
    {
     "data": {
      "text/html": [
       "<div>\n",
       "<style scoped>\n",
       "    .dataframe tbody tr th:only-of-type {\n",
       "        vertical-align: middle;\n",
       "    }\n",
       "\n",
       "    .dataframe tbody tr th {\n",
       "        vertical-align: top;\n",
       "    }\n",
       "\n",
       "    .dataframe thead th {\n",
       "        text-align: right;\n",
       "    }\n",
       "</style>\n",
       "<table border=\"1\" class=\"dataframe\">\n",
       "  <thead>\n",
       "    <tr style=\"text-align: right;\">\n",
       "      <th></th>\n",
       "      <th>name_level4</th>\n",
       "      <th>name_geob3</th>\n",
       "      <th>score</th>\n",
       "    </tr>\n",
       "  </thead>\n",
       "  <tbody>\n",
       "    <tr>\n",
       "      <th>10</th>\n",
       "      <td>Adiora</td>\n",
       "      <td>Diora</td>\n",
       "      <td>73</td>\n",
       "    </tr>\n",
       "    <tr>\n",
       "      <th>18</th>\n",
       "      <td>Agouni</td>\n",
       "      <td>Tougouni</td>\n",
       "      <td>71</td>\n",
       "    </tr>\n",
       "    <tr>\n",
       "      <th>23</th>\n",
       "      <td>Aladi</td>\n",
       "      <td>Alafia</td>\n",
       "      <td>73</td>\n",
       "    </tr>\n",
       "    <tr>\n",
       "      <th>24</th>\n",
       "      <td>Alasso</td>\n",
       "      <td>Yasso</td>\n",
       "      <td>73</td>\n",
       "    </tr>\n",
       "    <tr>\n",
       "      <th>36</th>\n",
       "      <td>Anderamboukane Central</td>\n",
       "      <td>Anderamboukane</td>\n",
       "      <td>78</td>\n",
       "    </tr>\n",
       "    <tr>\n",
       "      <th>...</th>\n",
       "      <td>...</td>\n",
       "      <td>...</td>\n",
       "      <td>...</td>\n",
       "    </tr>\n",
       "    <tr>\n",
       "      <th>1463</th>\n",
       "      <td>Zignasso</td>\n",
       "      <td>Zangasso</td>\n",
       "      <td>75</td>\n",
       "    </tr>\n",
       "    <tr>\n",
       "      <th>1464</th>\n",
       "      <td>Zinda</td>\n",
       "      <td>Zanina</td>\n",
       "      <td>73</td>\n",
       "    </tr>\n",
       "    <tr>\n",
       "      <th>1468</th>\n",
       "      <td>ZÃ©bala</td>\n",
       "      <td>Zebala</td>\n",
       "      <td>77</td>\n",
       "    </tr>\n",
       "    <tr>\n",
       "      <th>1469</th>\n",
       "      <td>ZÃ©goua</td>\n",
       "      <td>Zegoua</td>\n",
       "      <td>77</td>\n",
       "    </tr>\n",
       "    <tr>\n",
       "      <th>1471</th>\n",
       "      <td>kassakare</td>\n",
       "      <td>Essakane</td>\n",
       "      <td>71</td>\n",
       "    </tr>\n",
       "  </tbody>\n",
       "</table>\n",
       "<p>362 rows × 3 columns</p>\n",
       "</div>"
      ],
      "text/plain": [
       "                 name_level4      name_geob3  score\n",
       "10                    Adiora           Diora     73\n",
       "18                    Agouni        Tougouni     71\n",
       "23                     Aladi          Alafia     73\n",
       "24                    Alasso           Yasso     73\n",
       "36    Anderamboukane Central  Anderamboukane     78\n",
       "...                      ...             ...    ...\n",
       "1463                Zignasso        Zangasso     75\n",
       "1464                   Zinda          Zanina     73\n",
       "1468                 ZÃ©bala          Zebala     77\n",
       "1469                 ZÃ©goua          Zegoua     77\n",
       "1471               kassakare        Essakane     71\n",
       "\n",
       "[362 rows x 3 columns]"
      ]
     },
     "execution_count": 720,
     "metadata": {},
     "output_type": "execute_result"
    }
   ],
   "source": [
    "# could save this list for someone to confirm matches manually\n",
    "# for now take input noting which ones should be dropped based on quick inspection\n",
    "table_adm3_matches.loc[table_adm3_matches.score<=80]"
   ]
  },
  {
   "cell_type": "code",
   "execution_count": 721,
   "metadata": {},
   "outputs": [
    {
     "name": "stdout",
     "output_type": "stream",
     "text": [
      "name_level4    Adiora\n",
      "name_geob3      Diora\n",
      "score              73\n",
      "Name: 10, dtype: object\n",
      "\n",
      "\n",
      "name_level4      Agouni\n",
      "name_geob3     Tougouni\n",
      "score                71\n",
      "Name: 18, dtype: object\n",
      "\n",
      "\n",
      "name_level4     Aladi\n",
      "name_geob3     Alafia\n",
      "score              73\n",
      "Name: 23, dtype: object\n",
      "\n",
      "\n",
      "name_level4    Alasso\n",
      "name_geob3      Yasso\n",
      "score              73\n",
      "Name: 24, dtype: object\n",
      "\n",
      "\n",
      "name_level4    Anderamboukane Central\n",
      "name_geob3             Anderamboukane\n",
      "score                              78\n",
      "Name: 36, dtype: object\n",
      "\n",
      "\n",
      "name_level4    Baala\n",
      "name_geob3       Bla\n",
      "score             75\n",
      "Name: 108, dtype: object\n",
      "\n",
      "\n",
      "name_level4    Babala\n",
      "name_geob3      Bamba\n",
      "score              73\n",
      "Name: 109, dtype: object\n",
      "\n",
      "\n",
      "name_level4    Babougou\n",
      "name_geob3     Bougoula\n",
      "score                75\n",
      "Name: 110, dtype: object\n",
      "\n",
      "\n",
      "name_level4      Badogo\n",
      "name_geob3     Madougou\n",
      "score                71\n",
      "Name: 113, dtype: object\n",
      "\n",
      "\n",
      "name_level4     Bafarara\n",
      "name_geob3     Bara Sara\n",
      "score                 71\n",
      "Name: 115, dtype: object\n",
      "\n",
      "\n",
      "name_level4         Baguineda\n",
      "name_geob3     Baguineda Camp\n",
      "score                      78\n",
      "Name: 121, dtype: object\n",
      "\n",
      "\n",
      "name_level4     Balle\n",
      "name_geob3     Bellen\n",
      "score              73\n",
      "Name: 126, dtype: object\n",
      "\n",
      "\n",
      "name_level4    Banancoro\n",
      "name_geob3         Banco\n",
      "score                 71\n",
      "Name: 136, dtype: object\n",
      "\n",
      "\n",
      "name_level4      Banankoro\n",
      "name_geob3     Sanankoroba\n",
      "score                   80\n",
      "Name: 139, dtype: object\n",
      "\n",
      "\n",
      "name_level4      Bananso\n",
      "name_geob3     Niantanso\n",
      "score                 75\n",
      "Name: 140, dtype: object\n",
      "\n",
      "\n",
      "name_level4    Bandiagara Central\n",
      "name_geob3     Bandiagara Commune\n",
      "score                          72\n",
      "Name: 143, dtype: object\n",
      "\n",
      "\n",
      "name_level4    Banesso\n",
      "name_geob3     Bankass\n",
      "score               71\n",
      "Name: 145, dtype: object\n",
      "\n",
      "\n",
      "name_level4    Banido\n",
      "name_geob3      Banco\n",
      "score              73\n",
      "Name: 146, dtype: object\n",
      "\n",
      "\n",
      "name_level4    Bankassikoto\n",
      "name_geob3          Bankass\n",
      "score                    74\n",
      "Name: 152, dtype: object\n",
      "\n",
      "\n",
      "name_level4    Baoufoulala\n",
      "name_geob3        Bougoula\n",
      "score                   74\n",
      "Name: 154, dtype: object\n",
      "\n",
      "\n",
      "name_level4      Bargou\n",
      "name_geob3     Bassirou\n",
      "score                71\n",
      "Name: 160, dtype: object\n",
      "\n",
      "\n",
      "name_level4       Bassabougou\n",
      "name_geob3     Baguindabougou\n",
      "score                      72\n",
      "Name: 164, dtype: object\n",
      "\n",
      "\n",
      "name_level4     Batama\n",
      "name_geob3     Banamba\n",
      "score               77\n",
      "Name: 165, dtype: object\n",
      "\n",
      "\n",
      "name_level4    Benguel\n",
      "name_geob3     Beguene\n",
      "score               71\n",
      "Name: 178, dtype: object\n",
      "\n",
      "\n",
      "name_level4    Bongosso\n",
      "name_geob3     Gongasso\n",
      "score                75\n",
      "Name: 200, dtype: object\n",
      "\n",
      "\n",
      "name_level4    Boniaba\n",
      "name_geob3     Banamba\n",
      "score               71\n",
      "Name: 202, dtype: object\n",
      "\n",
      "\n",
      "name_level4    Bori\n",
      "name_geob3     Tori\n",
      "score            75\n",
      "Name: 203, dtype: object\n",
      "\n",
      "\n",
      "name_level4    BougoudalÃ©\n",
      "name_geob3        Bougoula\n",
      "score                   74\n",
      "Name: 214, dtype: object\n",
      "\n",
      "\n",
      "name_level4    Bougoukourala\n",
      "name_geob3          Bougoula\n",
      "score                     76\n",
      "Name: 216, dtype: object\n",
      "\n",
      "\n",
      "name_level4      Bougouni Ouest\n",
      "name_geob3     Bougouni Commune\n",
      "score                        73\n",
      "Name: 221, dtype: object\n",
      "\n",
      "\n",
      "name_level4        Bougouni Sud\n",
      "name_geob3     Bougouni Commune\n",
      "score                        71\n",
      "Name: 222, dtype: object\n",
      "\n",
      "\n",
      "name_level4    Boukywere\n",
      "name_geob3     Boky Were\n",
      "score                 78\n",
      "Name: 225, dtype: object\n",
      "\n",
      "\n",
      "name_level4    Boulal\n",
      "name_geob3      Boura\n",
      "score              73\n",
      "Name: 226, dtype: object\n",
      "\n",
      "\n",
      "name_level4    Bounguel\n",
      "name_geob3     Bougoula\n",
      "score                75\n",
      "Name: 228, dtype: object\n",
      "\n",
      "\n",
      "name_level4    Bounoumba\n",
      "name_geob3      Bougoula\n",
      "score                 71\n",
      "Name: 229, dtype: object\n",
      "\n",
      "\n",
      "name_level4    Bourem Central\n",
      "name_geob3       Bourem Inaly\n",
      "score                      77\n",
      "Name: 231, dtype: object\n",
      "\n",
      "\n",
      "name_level4    Boya\n",
      "name_geob3     Baya\n",
      "score            75\n",
      "Name: 237, dtype: object\n",
      "\n",
      "\n",
      "name_level4    Cinzana Gare\n",
      "name_geob3          Cinzana\n",
      "score                    74\n",
      "Name: 250, dtype: object\n",
      "\n",
      "\n",
      "name_level4    Dally\n",
      "name_geob3     Dilly\n",
      "score             80\n",
      "Name: 261, dtype: object\n",
      "\n",
      "\n",
      "name_level4    DandÃ©rÃ©sso\n",
      "name_geob3       Danderesso\n",
      "score                    73\n",
      "Name: 266, dtype: object\n",
      "\n",
      "\n",
      "name_level4    Dangado\n",
      "name_geob3      Dangha\n",
      "score               77\n",
      "Name: 268, dtype: object\n",
      "\n",
      "\n",
      "name_level4    Dangassa\n",
      "name_geob3     Bangassi\n",
      "score                75\n",
      "Name: 269, dtype: object\n",
      "\n",
      "\n",
      "name_level4      Dia\n",
      "name_geob3     Dabia\n",
      "score             75\n",
      "Name: 279, dtype: object\n",
      "\n",
      "\n",
      "name_level4    Diabaguela\n",
      "name_geob3       Diabigue\n",
      "score                  78\n",
      "Name: 280, dtype: object\n",
      "\n",
      "\n",
      "name_level4     Diabarou\n",
      "name_geob3     Dialakoro\n",
      "score                 71\n",
      "Name: 282, dtype: object\n",
      "\n",
      "\n",
      "name_level4    Diabidiala\n",
      "name_geob3        Diabaly\n",
      "score                  71\n",
      "Name: 283, dtype: object\n",
      "\n",
      "\n",
      "name_level4    Dialakasso\n",
      "name_geob3      Dialakoro\n",
      "score                  74\n",
      "Name: 297, dtype: object\n",
      "\n",
      "\n",
      "name_level4    Dialakorobougou\n",
      "name_geob3         Dialakoroba\n",
      "score                       77\n",
      "Name: 301, dtype: object\n",
      "\n",
      "\n",
      "name_level4    DialanÃ©\n",
      "name_geob3      Diallan\n",
      "score                80\n",
      "Name: 302, dtype: object\n",
      "\n",
      "\n",
      "name_level4    Diallaye\n",
      "name_geob3      Diallan\n",
      "score                80\n",
      "Name: 305, dtype: object\n",
      "\n",
      "\n",
      "name_level4    DialoubÃ©\n",
      "name_geob3     Dialloube\n",
      "score                 78\n",
      "Name: 307, dtype: object\n",
      "\n",
      "\n",
      "name_level4    Diamakan\n",
      "name_geob3        Diaka\n",
      "score                77\n",
      "Name: 308, dtype: object\n",
      "\n",
      "\n",
      "name_level4    Diamarabougou\n",
      "name_geob3         Nimbougou\n",
      "score                     73\n",
      "Name: 309, dtype: object\n",
      "\n",
      "\n",
      "name_level4    Diarani\n",
      "name_geob3      Diarra\n",
      "score               77\n",
      "Name: 321, dtype: object\n",
      "\n",
      "\n",
      "name_level4    Diban\n",
      "name_geob3     Daban\n",
      "score             80\n",
      "Name: 323, dtype: object\n",
      "\n",
      "\n",
      "name_level4     Diboli\n",
      "name_geob3     Diokeli\n",
      "score               77\n",
      "Name: 324, dtype: object\n",
      "\n",
      "\n",
      "name_level4    Diedala\n",
      "name_geob3     Diallan\n",
      "score               71\n",
      "Name: 328, dtype: object\n",
      "\n",
      "\n",
      "name_level4    Diele\n",
      "name_geob3     Diebe\n",
      "score             80\n",
      "Name: 329, dtype: object\n",
      "\n",
      "\n",
      "name_level4    Dienso\n",
      "name_geob3      Diena\n",
      "score              73\n",
      "Name: 332, dtype: object\n",
      "\n",
      "\n",
      "name_level4       Digan\n",
      "name_geob3     Diougani\n",
      "score                77\n",
      "Name: 333, dtype: object\n",
      "\n",
      "\n",
      "name_level4     Dimbal\n",
      "name_geob3     Diabaly\n",
      "score               77\n",
      "Name: 337, dtype: object\n",
      "\n",
      "\n",
      "name_level4    Dio-Ba\n",
      "name_geob3      Diora\n",
      "score              73\n",
      "Name: 340, dtype: object\n",
      "\n",
      "\n",
      "name_level4    Dioko\n",
      "name_geob3     Dioro\n",
      "score             80\n",
      "Name: 344, dtype: object\n",
      "\n",
      "\n",
      "name_level4    Diongaga\n",
      "name_geob3       Diouna\n",
      "score                71\n",
      "Name: 348, dtype: object\n",
      "\n",
      "\n",
      "name_level4    DiougountÃ©\n",
      "name_geob3        Djougoun\n",
      "score                   74\n",
      "Name: 352, dtype: object\n",
      "\n",
      "\n",
      "name_level4    Dioumara\n",
      "name_geob3      Dieoura\n",
      "score                80\n",
      "Name: 353, dtype: object\n",
      "\n",
      "\n",
      "name_level4    DioumatÃ©nÃ©\n",
      "name_geob3          Diouman\n",
      "score                    74\n",
      "Name: 354, dtype: object\n",
      "\n",
      "\n",
      "name_level4    DiÃ©oura\n",
      "name_geob3      Dieoura\n",
      "score                80\n",
      "Name: 361, dtype: object\n",
      "\n",
      "\n",
      "name_level4    Djebala\n",
      "name_geob3      Zebala\n",
      "score               77\n",
      "Name: 362, dtype: object\n",
      "\n",
      "\n",
      "name_level4    Djidara\n",
      "name_geob3      Diarra\n",
      "score               77\n",
      "Name: 368, dtype: object\n",
      "\n",
      "\n",
      "name_level4      Djigue\n",
      "name_geob3     Diabigue\n",
      "score                71\n",
      "Name: 370, dtype: object\n",
      "\n",
      "\n",
      "name_level4    Djitamana\n",
      "name_geob3     Diaramana\n",
      "score                 78\n",
      "Name: 375, dtype: object\n",
      "\n",
      "\n",
      "name_level4    Djoumazana\n",
      "name_geob3      Doumanaba\n",
      "score                  74\n",
      "Name: 380, dtype: object\n",
      "\n",
      "\n",
      "name_level4    Dofana\n",
      "name_geob3      Kofan\n",
      "score              73\n",
      "Name: 381, dtype: object\n",
      "\n",
      "\n",
      "name_level4    Dotembougou\n",
      "name_geob3        Sebougou\n",
      "score                   74\n",
      "Name: 393, dtype: object\n",
      "\n",
      "\n",
      "name_level4    Dougouba\n",
      "name_geob3     Bougoula\n",
      "score                75\n",
      "Name: 399, dtype: object\n",
      "\n",
      "\n",
      "name_level4    Dougoukolobougou\n",
      "name_geob3          Dougabougou\n",
      "score                        74\n",
      "Name: 401, dtype: object\n",
      "\n",
      "\n",
      "name_level4    Dougounikoro\n",
      "name_geob3        Dougouolo\n",
      "score                    76\n",
      "Name: 402, dtype: object\n",
      "\n",
      "\n",
      "name_level4    Doumanani\n",
      "name_geob3     Doumanaba\n",
      "score                 78\n",
      "Name: 405, dtype: object\n",
      "\n",
      "\n",
      "name_level4      Dramane\n",
      "name_geob3     Diaramana\n",
      "score                 75\n",
      "Name: 412, dtype: object\n",
      "\n",
      "\n",
      "name_level4      Ersane\n",
      "name_geob3     Essakane\n",
      "score                71\n",
      "Name: 426, dtype: object\n",
      "\n",
      "\n",
      "name_level4    EssahÃ¨ne\n",
      "name_geob3      Essakane\n",
      "score                 71\n",
      "Name: 428, dtype: object\n",
      "\n",
      "\n",
      "name_level4    Fafa\n",
      "name_geob3     Fama\n",
      "score            75\n",
      "Name: 435, dtype: object\n",
      "\n",
      "\n",
      "name_level4      Faladie\n",
      "name_geob3     Faradiele\n",
      "score                 75\n",
      "Name: 438, dtype: object\n",
      "\n",
      "\n",
      "name_level4     Falakono\n",
      "name_geob3     Dialakoro\n",
      "score                 71\n",
      "Name: 440, dtype: object\n",
      "\n",
      "\n",
      "name_level4    Falani\n",
      "name_geob3       Fani\n",
      "score              80\n",
      "Name: 441, dtype: object\n",
      "\n",
      "\n",
      "name_level4    Famorila\n",
      "name_geob3       Fakola\n",
      "score                71\n",
      "Name: 447, dtype: object\n",
      "\n",
      "\n",
      "name_level4    Fanidiama\n",
      "name_geob3       Madiama\n",
      "score                 75\n",
      "Name: 453, dtype: object\n",
      "\n",
      "\n",
      "name_level4    Fantarasso\n",
      "name_geob3       Fangasso\n",
      "score                  78\n",
      "Name: 454, dtype: object\n",
      "\n",
      "\n",
      "name_level4      Faou\n",
      "name_geob3     Fallou\n",
      "score              80\n",
      "Name: 455, dtype: object\n",
      "\n",
      "\n",
      "name_level4      Farabougou\n",
      "name_geob3     Kalifabougou\n",
      "score                    73\n",
      "Name: 458, dtype: object\n",
      "\n",
      "\n",
      "name_level4    Faracoro\n",
      "name_geob3     Karakoro\n",
      "score                75\n",
      "Name: 459, dtype: object\n",
      "\n",
      "\n",
      "name_level4    Fatafing\n",
      "name_geob3       Fatine\n",
      "score                71\n",
      "Name: 466, dtype: object\n",
      "\n",
      "\n",
      "name_level4     Ferme\n",
      "name_geob3     Faleme\n",
      "score              73\n",
      "Name: 471, dtype: object\n",
      "\n",
      "\n",
      "name_level4    Filamana\n",
      "name_geob3      Niamana\n",
      "score                80\n",
      "Name: 473, dtype: object\n",
      "\n",
      "\n",
      "name_level4    Fonfana\n",
      "name_geob3     Gounfan\n",
      "score               71\n",
      "Name: 481, dtype: object\n",
      "\n",
      "\n",
      "name_level4     Forgo\n",
      "name_geob3     Fourou\n",
      "score              73\n",
      "Name: 482, dtype: object\n",
      "\n",
      "\n",
      "name_level4    Fougala\n",
      "name_geob3     Soubala\n",
      "score               71\n",
      "Name: 485, dtype: object\n",
      "\n",
      "\n",
      "name_level4    Foulabougoula\n",
      "name_geob3        Lobougoula\n",
      "score                     78\n",
      "Name: 487, dtype: object\n",
      "\n",
      "\n",
      "name_level4    Founia Moribougou\n",
      "name_geob3           Tioribougou\n",
      "score                         71\n",
      "Name: 490, dtype: object\n",
      "\n",
      "\n",
      "name_level4    Frandalla\n",
      "name_geob3      Farakala\n",
      "score                 71\n",
      "Name: 492, dtype: object\n",
      "\n",
      "\n",
      "name_level4    Gabou\n",
      "name_geob3       Gao\n",
      "score             75\n",
      "Name: 495, dtype: object\n",
      "\n",
      "\n",
      "name_level4       Gaina\n",
      "name_geob3     Gavinane\n",
      "score                77\n",
      "Name: 499, dtype: object\n",
      "\n",
      "\n",
      "name_level4    Gakroukoto\n",
      "name_geob3        Toukoto\n",
      "score                  71\n",
      "Name: 501, dtype: object\n",
      "\n",
      "\n",
      "name_level4     Gangano\n",
      "name_geob3     Gargando\n",
      "score                80\n",
      "Name: 506, dtype: object\n",
      "\n",
      "\n",
      "name_level4    Garasso\n",
      "name_geob3      Garalo\n",
      "score               77\n",
      "Name: 510, dtype: object\n",
      "\n",
      "\n",
      "name_level4     Garna\n",
      "name_geob3     Garalo\n",
      "score              73\n",
      "Name: 517, dtype: object\n",
      "\n",
      "\n",
      "name_level4    Gaye Maoude\n",
      "name_geob3      Pel Maoude\n",
      "score                   76\n",
      "Name: 522, dtype: object\n",
      "\n",
      "\n",
      "name_level4    Golingo\n",
      "name_geob3     Kolongo\n",
      "score               71\n",
      "Name: 525, dtype: object\n",
      "\n",
      "\n",
      "name_level4         Gomitogo\n",
      "name_geob3     Gomitradougou\n",
      "score                     76\n",
      "Name: 528, dtype: object\n",
      "\n",
      "\n",
      "name_level4    Goro\n",
      "name_geob3     Gory\n",
      "score            75\n",
      "Name: 532, dtype: object\n",
      "\n",
      "\n",
      "name_level4     Goulombo\n",
      "name_geob3     Doucoumbo\n",
      "score                 71\n",
      "Name: 539, dtype: object\n",
      "\n",
      "\n",
      "name_level4    Goumbou\n",
      "name_geob3     Soumpou\n",
      "score               71\n",
      "Name: 540, dtype: object\n",
      "\n",
      "\n",
      "name_level4    Gounambougou\n",
      "name_geob3      Doubabougou\n",
      "score                    78\n",
      "Name: 542, dtype: object\n",
      "\n",
      "\n",
      "name_level4      Goundara\n",
      "name_geob3     Gouandiaka\n",
      "score                  78\n",
      "Name: 545, dtype: object\n",
      "\n",
      "\n",
      "name_level4     Gounka\n",
      "name_geob3     Gouanan\n",
      "score               77\n",
      "Name: 547, dtype: object\n",
      "\n",
      "\n",
      "name_level4      Gourouko\n",
      "name_geob3     Kouroukoto\n",
      "score                  78\n",
      "Name: 549, dtype: object\n",
      "\n",
      "\n",
      "name_level4       Goussela\n",
      "name_geob3     Tousseguela\n",
      "score                   74\n",
      "Name: 550, dtype: object\n",
      "\n",
      "\n",
      "name_level4     Gueneba\n",
      "name_geob3     Guegneka\n",
      "score                80\n",
      "Name: 559, dtype: object\n",
      "\n",
      "\n",
      "name_level4       Gueni\n",
      "name_geob3     Gueneibe\n",
      "score                77\n",
      "Name: 561, dtype: object\n",
      "\n",
      "\n",
      "name_level4    Guenikoro\n",
      "name_geob3      Ouonkoro\n",
      "score                 71\n",
      "Name: 562, dtype: object\n",
      "\n",
      "\n",
      "name_level4     Guessene\n",
      "name_geob3     Guedebine\n",
      "score                 71\n",
      "Name: 564, dtype: object\n",
      "\n",
      "\n",
      "name_level4      Hamake\n",
      "name_geob3     Farimake\n",
      "score                71\n",
      "Name: 577, dtype: object\n",
      "\n",
      "\n",
      "name_level4    Hamankoira\n",
      "name_geob3      Hamzakoma\n",
      "score                  74\n",
      "Name: 579, dtype: object\n",
      "\n",
      "\n",
      "name_level4    Horogoungou\n",
      "name_geob3      Korodougou\n",
      "score                   76\n",
      "Name: 591, dtype: object\n",
      "\n",
      "\n",
      "name_level4      Horokoto\n",
      "name_geob3     Kouroukoto\n",
      "score                  78\n",
      "Name: 592, dtype: object\n",
      "\n",
      "\n",
      "name_level4    Horosseno\n",
      "name_geob3       Yorosso\n",
      "score                 75\n",
      "Name: 593, dtype: object\n",
      "\n",
      "\n",
      "name_level4    Hourara\n",
      "name_geob3      Bourra\n",
      "score               77\n",
      "Name: 594, dtype: object\n",
      "\n",
      "\n",
      "name_level4     Kaara\n",
      "name_geob3     Kapala\n",
      "score              73\n",
      "Name: 626, dtype: object\n",
      "\n",
      "\n",
      "name_level4    Kabaika\n",
      "name_geob3     Kaboila\n",
      "score               71\n",
      "Name: 627, dtype: object\n",
      "\n",
      "\n",
      "name_level4    KabalÃ©a\n",
      "name_geob3       Kapala\n",
      "score                71\n",
      "Name: 630, dtype: object\n",
      "\n",
      "\n",
      "name_level4       Kabara\n",
      "name_geob3     Kabarasso\n",
      "score                 80\n",
      "Name: 631, dtype: object\n",
      "\n",
      "\n",
      "name_level4     Kadial\n",
      "name_geob3     Kadiana\n",
      "score               77\n",
      "Name: 635, dtype: object\n",
      "\n",
      "\n",
      "name_level4     Kafana\n",
      "name_geob3     Kadiana\n",
      "score               77\n",
      "Name: 638, dtype: object\n",
      "\n",
      "\n",
      "name_level4    Kakadian\n",
      "name_geob3      Kadiana\n",
      "score                80\n",
      "Name: 643, dtype: object\n",
      "\n",
      "\n",
      "name_level4      Kakagna\n",
      "name_geob3     Karangana\n",
      "score                 75\n",
      "Name: 644, dtype: object\n",
      "\n",
      "\n",
      "name_level4    Kalabancoro Koulouba\n",
      "name_geob3              Kalabancoro\n",
      "score                            71\n",
      "Name: 646, dtype: object\n",
      "\n",
      "\n",
      "name_level4    Kalabancoro Nerecoro\n",
      "name_geob3              Kalabancoro\n",
      "score                            71\n",
      "Name: 648, dtype: object\n",
      "\n",
      "\n",
      "name_level4     Kalana\n",
      "name_geob3     Kadiana\n",
      "score               77\n",
      "Name: 653, dtype: object\n",
      "\n",
      "\n",
      "name_level4    Kalinioro\n",
      "name_geob3       Kaniogo\n",
      "score                 75\n",
      "Name: 655, dtype: object\n",
      "\n",
      "\n",
      "name_level4    Kaloumba\n",
      "name_geob3      Koumbia\n",
      "score                80\n",
      "Name: 656, dtype: object\n",
      "\n",
      "\n",
      "name_level4    Kamona\n",
      "name_geob3      Konna\n",
      "score              73\n",
      "Name: 660, dtype: object\n",
      "\n",
      "\n",
      "name_level4    Kandara\n",
      "name_geob3     Kadiana\n",
      "score               71\n",
      "Name: 662, dtype: object\n",
      "\n",
      "\n",
      "name_level4      Kara\n",
      "name_geob3     Karaba\n",
      "score              80\n",
      "Name: 672, dtype: object\n",
      "\n",
      "\n",
      "name_level4    Karabassane\n",
      "name_geob3          Karaba\n",
      "score                   71\n",
      "Name: 674, dtype: object\n",
      "\n",
      "\n",
      "name_level4     Karan\n",
      "name_geob3     Karaba\n",
      "score              73\n",
      "Name: 677, dtype: object\n",
      "\n",
      "\n",
      "name_level4    Kassa-Saou\n",
      "name_geob3        Kassama\n",
      "score                  71\n",
      "Name: 682, dtype: object\n",
      "\n",
      "\n",
      "name_level4    KassÃ©kara\n",
      "name_geob3        Kassama\n",
      "score                  71\n",
      "Name: 686, dtype: object\n",
      "\n",
      "\n",
      "name_level4    KendiÃ©\n",
      "name_geob3      Kendie\n",
      "score               77\n",
      "Name: 696, dtype: object\n",
      "\n",
      "\n",
      "name_level4    KendÃ©\n",
      "name_geob3      Kende\n",
      "score              73\n",
      "Name: 697, dtype: object\n",
      "\n",
      "\n",
      "name_level4    Kerouane\n",
      "name_geob3     Koussane\n",
      "score                75\n",
      "Name: 703, dtype: object\n",
      "\n",
      "\n",
      "name_level4    Kessana\n",
      "name_geob3     Kassama\n",
      "score               71\n",
      "Name: 706, dtype: object\n",
      "\n",
      "\n",
      "name_level4     Khasso\n",
      "name_geob3     Kassaro\n",
      "score               77\n",
      "Name: 708, dtype: object\n",
      "\n",
      "\n",
      "name_level4    Kimparana\n",
      "name_geob3      Pimperna\n",
      "score                 71\n",
      "Name: 713, dtype: object\n",
      "\n",
      "\n",
      "name_level4    Kirane\n",
      "name_geob3      Kiban\n",
      "score              73\n",
      "Name: 714, dtype: object\n",
      "\n",
      "\n",
      "name_level4    Kirango\n",
      "name_geob3     Kaniogo\n",
      "score               71\n",
      "Name: 715, dtype: object\n",
      "\n",
      "\n",
      "name_level4      Kle\n",
      "name_geob3     Klela\n",
      "score             75\n",
      "Name: 717, dtype: object\n",
      "\n",
      "\n",
      "name_level4    KlÃ©la\n",
      "name_geob3      Klela\n",
      "score              73\n",
      "Name: 718, dtype: object\n",
      "\n",
      "\n",
      "name_level4      Kobokoto\n",
      "name_geob3     Kouroukoto\n",
      "score                  78\n",
      "Name: 721, dtype: object\n",
      "\n",
      "\n",
      "name_level4    Kochakarey\n",
      "name_geob3      Koniakary\n",
      "score                  74\n",
      "Name: 724, dtype: object\n",
      "\n",
      "\n",
      "name_level4    Kodougouni\n",
      "name_geob3     Korodougou\n",
      "score                  80\n",
      "Name: 726, dtype: object\n",
      "\n",
      "\n",
      "name_level4    Kofeba\n",
      "name_geob3      Kofan\n",
      "score              73\n",
      "Name: 728, dtype: object\n",
      "\n",
      "\n",
      "name_level4       Koira\n",
      "name_geob3     Koumaira\n",
      "score                77\n",
      "Name: 731, dtype: object\n",
      "\n",
      "\n",
      "name_level4    Koko\n",
      "name_geob3     Koro\n",
      "score            75\n",
      "Name: 732, dtype: object\n",
      "\n",
      "\n",
      "name_level4    Kokonto\n",
      "name_geob3     Kolongo\n",
      "score               71\n",
      "Name: 735, dtype: object\n",
      "\n",
      "\n",
      "name_level4    Kokry\n",
      "name_geob3     Koury\n",
      "score             80\n",
      "Name: 737, dtype: object\n",
      "\n",
      "\n",
      "name_level4    Kolebougou\n",
      "name_geob3     Konobougou\n",
      "score                  80\n",
      "Name: 739, dtype: object\n",
      "\n",
      "\n",
      "name_level4     Kolobo\n",
      "name_geob3     Kolongo\n",
      "score               77\n",
      "Name: 741, dtype: object\n",
      "\n",
      "\n",
      "name_level4    Kolondinkoye\n",
      "name_geob3       Kolondieba\n",
      "score                    73\n",
      "Name: 745, dtype: object\n",
      "\n",
      "\n",
      "name_level4    Koloni_Y\n",
      "name_geob3     Kolokani\n",
      "score                75\n",
      "Name: 749, dtype: object\n",
      "\n",
      "\n",
      "name_level4    Komeoulou\n",
      "name_geob3        Koulou\n",
      "score                 80\n",
      "Name: 751, dtype: object\n",
      "\n",
      "\n",
      "name_level4    Kondo\n",
      "name_geob3     Bondo\n",
      "score             80\n",
      "Name: 755, dtype: object\n",
      "\n",
      "\n",
      "name_level4    Konio\n",
      "name_geob3     Kondi\n",
      "score             80\n",
      "Name: 759, dtype: object\n",
      "\n",
      "\n",
      "name_level4    Konkorom\n",
      "name_geob3     Ouonkoro\n",
      "score                75\n",
      "Name: 762, dtype: object\n",
      "\n",
      "\n",
      "name_level4     Konou\n",
      "name_geob3     Koulou\n",
      "score              73\n",
      "Name: 767, dtype: object\n",
      "\n",
      "\n",
      "name_level4    KonsÃ©guÃ©la\n",
      "name_geob3       Konseguela\n",
      "score                    73\n",
      "Name: 768, dtype: object\n",
      "\n",
      "\n",
      "name_level4     Kontza\n",
      "name_geob3     Kontela\n",
      "score               77\n",
      "Name: 769, dtype: object\n",
      "\n",
      "\n",
      "name_level4          Koporo Na\n",
      "name_geob3     Koporokendie Na\n",
      "score                       75\n",
      "Name: 770, dtype: object\n",
      "\n",
      "\n",
      "name_level4    Kora\n",
      "name_geob3     Kola\n",
      "score            75\n",
      "Name: 772, dtype: object\n",
      "\n",
      "\n",
      "name_level4    Korampo\n",
      "name_geob3      Koromo\n",
      "score               77\n",
      "Name: 773, dtype: object\n",
      "\n",
      "\n",
      "name_level4    Koro Central\n",
      "name_geob3     Kokry Centre\n",
      "score                    75\n",
      "Name: 781, dtype: object\n",
      "\n",
      "\n",
      "name_level4      Korokoro\n",
      "name_geob3     Kouroukoto\n",
      "score                  78\n",
      "Name: 782, dtype: object\n",
      "\n",
      "\n",
      "name_level4    Kouakourou\n",
      "name_geob3         Kouoro\n",
      "score                  75\n",
      "Name: 786, dtype: object\n",
      "\n",
      "\n",
      "name_level4     Kouale\n",
      "name_geob3     Koubaye\n",
      "score               77\n",
      "Name: 787, dtype: object\n",
      "\n",
      "\n",
      "name_level4     Kougnan\n",
      "name_geob3     Koundian\n",
      "score                80\n",
      "Name: 790, dtype: object\n",
      "\n",
      "\n",
      "name_level4     Kouima\n",
      "name_geob3     Koumbia\n",
      "score               77\n",
      "Name: 791, dtype: object\n",
      "\n",
      "\n",
      "name_level4    Koulikoroba\n",
      "name_geob3       Toukoroba\n",
      "score                   80\n",
      "Name: 794, dtype: object\n",
      "\n",
      "\n",
      "name_level4     Koungo\n",
      "name_geob3     Kolongo\n",
      "score               77\n",
      "Name: 806, dtype: object\n",
      "\n",
      "\n",
      "name_level4    Koungoba\n",
      "name_geob3     Kourouba\n",
      "score                75\n",
      "Name: 807, dtype: object\n",
      "\n",
      "\n",
      "name_level4      Kouo\n",
      "name_geob3     Koulou\n",
      "score              80\n",
      "Name: 809, dtype: object\n",
      "\n",
      "\n",
      "name_level4    Koura\n",
      "name_geob3     Boura\n",
      "score             80\n",
      "Name: 811, dtype: object\n",
      "\n",
      "\n",
      "name_level4    Kourale\n",
      "name_geob3     Koubaye\n",
      "score               71\n",
      "Name: 812, dtype: object\n",
      "\n",
      "\n",
      "name_level4    Kouroubambara\n",
      "name_geob3          Kourouba\n",
      "score                     76\n",
      "Name: 815, dtype: object\n",
      "\n",
      "\n",
      "name_level4    KÃ©bila\n",
      "name_geob3      Kebila\n",
      "score               77\n",
      "Name: 825, dtype: object\n",
      "\n",
      "\n",
      "name_level4     Lafiabougou\n",
      "name_geob3     Kalifabougou\n",
      "score                    78\n",
      "Name: 835, dtype: object\n",
      "\n",
      "\n",
      "name_level4         Lessagou\n",
      "name_geob3     Lessagou Habe\n",
      "score                     76\n",
      "Name: 846, dtype: object\n",
      "\n",
      "\n",
      "name_level4    Liraka\n",
      "name_geob3      Diaka\n",
      "score              73\n",
      "Name: 848, dtype: object\n",
      "\n",
      "\n",
      "name_level4    Lontola\n",
      "name_geob3     Kontela\n",
      "score               71\n",
      "Name: 854, dtype: object\n",
      "\n",
      "\n",
      "name_level4       Loulo\n",
      "name_geob3     Loulouni\n",
      "score                77\n",
      "Name: 856, dtype: object\n",
      "\n",
      "\n",
      "name_level4     Loutana\n",
      "name_geob3     Logouana\n",
      "score                80\n",
      "Name: 858, dtype: object\n",
      "\n",
      "\n",
      "name_level4    M'Babou\n",
      "name_geob3     M'bouna\n",
      "score               71\n",
      "Name: 861, dtype: object\n",
      "\n",
      "\n",
      "name_level4    M'Pebougou\n",
      "name_geob3       Sebougou\n",
      "score                  78\n",
      "Name: 863, dtype: object\n",
      "\n",
      "\n",
      "name_level4    M'PÃ©ssoba\n",
      "name_geob3      M'pessoba\n",
      "score                  74\n",
      "Name: 865, dtype: object\n",
      "\n",
      "\n",
      "name_level4    Maban\n",
      "name_geob3     Daban\n",
      "score             80\n",
      "Name: 866, dtype: object\n",
      "\n",
      "\n",
      "name_level4    Madiakoye\n",
      "name_geob3     Mandiakuy\n",
      "score                 78\n",
      "Name: 869, dtype: object\n",
      "\n",
      "\n",
      "name_level4    Madihawaya\n",
      "name_geob3        Madiama\n",
      "score                  71\n",
      "Name: 872, dtype: object\n",
      "\n",
      "\n",
      "name_level4    Madina Kagoro\n",
      "name_geob3      Madina Sacko\n",
      "score                     72\n",
      "Name: 875, dtype: object\n",
      "\n",
      "\n",
      "name_level4    Madinakoun\n",
      "name_geob3         Madina\n",
      "score                  75\n",
      "Name: 876, dtype: object\n",
      "\n",
      "\n",
      "name_level4    Madinakouta\n",
      "name_geob3          Madina\n",
      "score                   71\n",
      "Name: 877, dtype: object\n",
      "\n",
      "\n",
      "name_level4    MafounÃ©\n",
      "name_geob3      Mafoune\n",
      "score                80\n",
      "Name: 880, dtype: object\n",
      "\n",
      "\n",
      "name_level4    Mahinamine\n",
      "name_geob3         Mahina\n",
      "score                  75\n",
      "Name: 884, dtype: object\n",
      "\n",
      "\n",
      "name_level4    Mahou II\n",
      "name_geob3        Mahou\n",
      "score                77\n",
      "Name: 886, dtype: object\n",
      "\n",
      "\n",
      "name_level4    Makandiambougou\n",
      "name_geob3       Maramandougou\n",
      "score                       71\n",
      "Name: 887, dtype: object\n",
      "\n",
      "\n",
      "name_level4    Makarila\n",
      "name_geob3      Markala\n",
      "score                80\n",
      "Name: 888, dtype: object\n",
      "\n",
      "\n",
      "name_level4    Malimana\n",
      "name_geob3       Macina\n",
      "score                71\n",
      "Name: 891, dtype: object\n",
      "\n",
      "\n",
      "name_level4    Mamissa\n",
      "name_geob3     Massala\n",
      "score               71\n",
      "Name: 894, dtype: object\n",
      "\n",
      "\n",
      "name_level4      Mana\n",
      "name_geob3     Macina\n",
      "score              80\n",
      "Name: 895, dtype: object\n",
      "\n",
      "\n",
      "name_level4      Manankoro\n",
      "name_geob3     Sanankoroba\n",
      "score                   80\n",
      "Name: 896, dtype: object\n",
      "\n",
      "\n",
      "name_level4     Manta\n",
      "name_geob3     Macina\n",
      "score              73\n",
      "Name: 904, dtype: object\n",
      "\n",
      "\n",
      "name_level4     Marela\n",
      "name_geob3     Markala\n",
      "score               77\n",
      "Name: 906, dtype: object\n",
      "\n",
      "\n",
      "name_level4    Markacoungo\n",
      "name_geob3          Makano\n",
      "score                   71\n",
      "Name: 912, dtype: object\n",
      "\n",
      "\n",
      "name_level4    Markanibougou\n",
      "name_geob3     Maramandougou\n",
      "score                     77\n",
      "Name: 913, dtype: object\n",
      "\n",
      "\n",
      "name_level4     Marsi\n",
      "name_geob3     Mariko\n",
      "score              73\n",
      "Name: 914, dtype: object\n",
      "\n",
      "\n",
      "name_level4    Mdiassa\n",
      "name_geob3     Madiama\n",
      "score               71\n",
      "Name: 924, dtype: object\n",
      "\n",
      "\n",
      "name_level4    Medine\n",
      "name_geob3      Tedie\n",
      "score              73\n",
      "Name: 926, dtype: object\n",
      "\n",
      "\n",
      "name_level4    MissÃ©ni\n",
      "name_geob3      Misseni\n",
      "score                80\n",
      "Name: 935, dtype: object\n",
      "\n",
      "\n",
      "name_level4    MiÃ©na\n",
      "name_geob3      Miena\n",
      "score              73\n",
      "Name: 936, dtype: object\n",
      "\n",
      "\n",
      "name_level4      Mogola\n",
      "name_geob3     Bougoula\n",
      "score                71\n",
      "Name: 939, dtype: object\n",
      "\n",
      "\n",
      "name_level4     Molodo\n",
      "name_geob3     Ouolodo\n",
      "score               77\n",
      "Name: 941, dtype: object\n",
      "\n",
      "\n",
      "name_level4    Mory\n",
      "name_geob3     Gory\n",
      "score            75\n",
      "Name: 951, dtype: object\n",
      "\n",
      "\n",
      "name_level4     Mougna\n",
      "name_geob3     M'bouna\n",
      "score               77\n",
      "Name: 954, dtype: object\n",
      "\n",
      "\n",
      "name_level4    Mourrah\n",
      "name_geob3      Bourra\n",
      "score               77\n",
      "Name: 957, dtype: object\n",
      "\n",
      "\n",
      "name_level4    MÃ©namba I\n",
      "name_geob3      Menamba 1\n",
      "score                  74\n",
      "Name: 958, dtype: object\n",
      "\n",
      "\n",
      "name_level4    N'Goa\n",
      "name_geob3     N'goa\n",
      "score             80\n",
      "Name: 965, dtype: object\n",
      "\n",
      "\n",
      "name_level4       N'Golona\n",
      "name_geob3     N'golodiana\n",
      "score                   74\n",
      "Name: 968, dtype: object\n",
      "\n",
      "\n",
      "name_level4    N'Gouma\n",
      "name_geob3     Goumera\n",
      "score               71\n",
      "Name: 971, dtype: object\n",
      "\n",
      "\n",
      "name_level4       N'Togonasso\n",
      "name_geob3     N'golonianasso\n",
      "score                      72\n",
      "Name: 977, dtype: object\n",
      "\n",
      "\n",
      "name_level4      N'Tosso\n",
      "name_geob3     N'torosso\n",
      "score                 75\n",
      "Name: 980, dtype: object\n",
      "\n",
      "\n",
      "name_level4       Namala\n",
      "name_geob3     Nampalari\n",
      "score                 80\n",
      "Name: 989, dtype: object\n",
      "\n",
      "\n",
      "name_level4    Nampasso\n",
      "name_geob3       Niasso\n",
      "score                71\n",
      "Name: 992, dtype: object\n",
      "\n",
      "\n",
      "name_level4    Nana Kenieba\n",
      "name_geob3          Kenieba\n",
      "score                    74\n",
      "Name: 993, dtype: object\n",
      "\n",
      "\n",
      "name_level4    Naoulena\n",
      "name_geob3       Narena\n",
      "score                71\n",
      "Name: 998, dtype: object\n",
      "\n",
      "\n",
      "name_level4       Neguela\n",
      "name_geob3     Konseguela\n",
      "score                  71\n",
      "Name: 1003, dtype: object\n",
      "\n",
      "\n",
      "name_level4     NiaganÃ©\n",
      "name_geob3     Niagadina\n",
      "score                 71\n",
      "Name: 1010, dtype: object\n",
      "\n",
      "\n",
      "name_level4    Niakongo\n",
      "name_geob3        Niono\n",
      "score                77\n",
      "Name: 1012, dtype: object\n",
      "\n",
      "\n",
      "name_level4    Niakourazana\n",
      "name_geob3       Nioumakana\n",
      "score                    73\n",
      "Name: 1013, dtype: object\n",
      "\n",
      "\n",
      "name_level4    Niangassaiou\n",
      "name_geob3       Nangalasso\n",
      "score                    73\n",
      "Name: 1021, dtype: object\n",
      "\n",
      "\n",
      "name_level4    Nianzana\n",
      "name_geob3      Cinzana\n",
      "score                80\n",
      "Name: 1024, dtype: object\n",
      "\n",
      "\n",
      "name_level4       Ningari\n",
      "name_geob3     Niansanari\n",
      "score                  71\n",
      "Name: 1030, dtype: object\n",
      "\n",
      "\n",
      "name_level4    Niono C3\n",
      "name_geob3        Niono\n",
      "score                77\n",
      "Name: 1033, dtype: object\n",
      "\n",
      "\n",
      "name_level4     Nkourala\n",
      "name_geob3     N'gouraba\n",
      "score                 71\n",
      "Name: 1038, dtype: object\n",
      "\n",
      "\n",
      "name_level4    Nokara\n",
      "name_geob3       Nara\n",
      "score              80\n",
      "Name: 1039, dtype: object\n",
      "\n",
      "\n",
      "name_level4    Nonongo\n",
      "name_geob3      Nonkon\n",
      "score               77\n",
      "Name: 1043, dtype: object\n",
      "\n",
      "\n",
      "name_level4    Nounou\n",
      "name_geob3      Niono\n",
      "score              73\n",
      "Name: 1046, dtype: object\n",
      "\n",
      "\n",
      "name_level4    Ntiele\n",
      "name_geob3      Tiele\n",
      "score              73\n",
      "Name: 1048, dtype: object\n",
      "\n",
      "\n",
      "name_level4      Ntjilla\n",
      "name_geob3     Niantjila\n",
      "score                 75\n",
      "Name: 1051, dtype: object\n",
      "\n",
      "\n",
      "name_level4     Oualo\n",
      "name_geob3     Oualia\n",
      "score              73\n",
      "Name: 1056, dtype: object\n",
      "\n",
      "\n",
      "name_level4     Ouaro\n",
      "name_geob3     Ouroun\n",
      "score              73\n",
      "Name: 1058, dtype: object\n",
      "\n",
      "\n",
      "name_level4    Ouassala\n",
      "name_geob3      Massala\n",
      "score                80\n",
      "Name: 1059, dtype: object\n",
      "\n",
      "\n",
      "name_level4    Ouatialy\n",
      "name_geob3       Oualia\n",
      "score                71\n",
      "Name: 1061, dtype: object\n",
      "\n",
      "\n",
      "name_level4      Oula\n",
      "name_geob3     Oualia\n",
      "score              80\n",
      "Name: 1065, dtype: object\n",
      "\n",
      "\n",
      "name_level4    Ouro Guiya\n",
      "name_geob3     Ouro Guire\n",
      "score                  80\n",
      "Name: 1074, dtype: object\n",
      "\n",
      "\n",
      "name_level4      Ouroly\n",
      "name_geob3     Ouro Ali\n",
      "score                71\n",
      "Name: 1076, dtype: object\n",
      "\n",
      "\n",
      "name_level4    Ouroumpana\n",
      "name_geob3         Ouroun\n",
      "score                  75\n",
      "Name: 1077, dtype: object\n",
      "\n",
      "\n",
      "name_level4    Oussadia\n",
      "name_geob3       Oualia\n",
      "score                71\n",
      "Name: 1079, dtype: object\n",
      "\n",
      "\n",
      "name_level4    OuÃ©lessÃ©bougou\n",
      "name_geob3       Ouelessebougou\n",
      "score                        80\n",
      "Name: 1081, dtype: object\n",
      "\n",
      "\n",
      "name_level4    Pelegana Nord\n",
      "name_geob3         Pelengana\n",
      "score                     73\n",
      "Name: 1083, dtype: object\n",
      "\n",
      "\n",
      "name_level4    Pelegana Sud\n",
      "name_geob3        Pelengana\n",
      "score                    76\n",
      "Name: 1084, dtype: object\n",
      "\n",
      "\n",
      "name_level4    SafÃ©-Bougoula\n",
      "name_geob3           Bougoula\n",
      "score                      73\n",
      "Name: 1099, dtype: object\n",
      "\n",
      "\n",
      "name_level4    Sagabari\n",
      "name_geob3     Sagabala\n",
      "score                75\n",
      "Name: 1101, dtype: object\n",
      "\n",
      "\n",
      "name_level4      Sah\n",
      "name_geob3     Sahel\n",
      "score             75\n",
      "Name: 1104, dtype: object\n",
      "\n",
      "\n",
      "name_level4    Salakoira\n",
      "name_geob3       Sakoiba\n",
      "score                 75\n",
      "Name: 1108, dtype: object\n",
      "\n",
      "\n",
      "name_level4    Salamale\n",
      "name_geob3        Salam\n",
      "score                77\n",
      "Name: 1109, dtype: object\n",
      "\n",
      "\n",
      "name_level4    Sama\n",
      "name_geob3     Fama\n",
      "score            75\n",
      "Name: 1110, dtype: object\n",
      "\n",
      "\n",
      "name_level4    Samakele\n",
      "name_geob3     Bamafele\n",
      "score                75\n",
      "Name: 1113, dtype: object\n",
      "\n",
      "\n",
      "name_level4     Sambala\n",
      "name_geob3     Sagabala\n",
      "score                80\n",
      "Name: 1118, dtype: object\n",
      "\n",
      "\n",
      "name_level4     Samit\n",
      "name_geob3     Samine\n",
      "score              73\n",
      "Name: 1121, dtype: object\n",
      "\n",
      "\n",
      "name_level4    Sampaga\n",
      "name_geob3     Tambaga\n",
      "score               71\n",
      "Name: 1122, dtype: object\n",
      "\n",
      "\n",
      "name_level4    Sananfara\n",
      "name_geob3       Sanzana\n",
      "score                 75\n",
      "Name: 1127, dtype: object\n",
      "\n",
      "\n",
      "name_level4     Sandama\n",
      "name_geob3     Gandamia\n",
      "score                80\n",
      "Name: 1131, dtype: object\n",
      "\n",
      "\n",
      "name_level4    Sandiambougou\n",
      "name_geob3     Sangarebougou\n",
      "score                     77\n",
      "Name: 1133, dtype: object\n",
      "\n",
      "\n",
      "name_level4    Sanfagadala\n",
      "name_geob3        Sagabala\n",
      "score                   74\n",
      "Name: 1134, dtype: object\n",
      "\n",
      "\n",
      "name_level4    Sanfinia\n",
      "name_geob3       Zanina\n",
      "score                71\n",
      "Name: 1135, dtype: object\n",
      "\n",
      "\n",
      "name_level4    SanÃ©kuy\n",
      "name_geob3      Sanekuy\n",
      "score                80\n",
      "Name: 1148, dtype: object\n",
      "\n",
      "\n",
      "name_level4    Sarafere\n",
      "name_geob3       Serere\n",
      "score                71\n",
      "Name: 1149, dtype: object\n",
      "\n",
      "\n",
      "name_level4    Saye\n",
      "name_geob3     Baye\n",
      "score            75\n",
      "Name: 1155, dtype: object\n",
      "\n",
      "\n",
      "name_level4         Sefeto\n",
      "name_geob3     Sefeto Nord\n",
      "score                   71\n",
      "Name: 1160, dtype: object\n",
      "\n",
      "\n",
      "name_level4    Sekelo\n",
      "name_geob3      Senko\n",
      "score              73\n",
      "Name: 1165, dtype: object\n",
      "\n",
      "\n",
      "name_level4    Sendegue\n",
      "name_geob3        Segue\n",
      "score                77\n",
      "Name: 1170, dtype: object\n",
      "\n",
      "\n",
      "name_level4    Senou\n",
      "name_geob3     Senko\n",
      "score             80\n",
      "Name: 1173, dtype: object\n",
      "\n",
      "\n",
      "name_level4    Serenaty\n",
      "name_geob3       Kerena\n",
      "score                71\n",
      "Name: 1174, dtype: object\n",
      "\n",
      "\n",
      "name_level4    Seriwala\n",
      "name_geob3     Siribala\n",
      "score                75\n",
      "Name: 1176, dtype: object\n",
      "\n",
      "\n",
      "name_level4     Seyla\n",
      "name_geob3     Segala\n",
      "score              73\n",
      "Name: 1179, dtype: object\n",
      "\n",
      "\n",
      "name_level4    Sibikily\n",
      "name_geob3     Sibirila\n",
      "score                75\n",
      "Name: 1181, dtype: object\n",
      "\n",
      "\n",
      "name_level4    Sibiriifina\n",
      "name_geob3        Sibirila\n",
      "score                   74\n",
      "Name: 1184, dtype: object\n",
      "\n",
      "\n",
      "name_level4    Sinzani\n",
      "name_geob3     Cinzana\n",
      "score               71\n",
      "Name: 1192, dtype: object\n",
      "\n",
      "\n",
      "name_level4    Sirakorobougou\n",
      "name_geob3           Sirakoro\n",
      "score                      73\n",
      "Name: 1196, dtype: object\n",
      "\n",
      "\n",
      "name_level4    Sitakoto\n",
      "name_geob3     Sirakoro\n",
      "score                75\n",
      "Name: 1203, dtype: object\n",
      "\n",
      "\n",
      "name_level4    Sitakourou\n",
      "name_geob3       Sirakoro\n",
      "score                  78\n",
      "Name: 1204, dtype: object\n",
      "\n",
      "\n",
      "name_level4    Sofara\n",
      "name_geob3      Sobra\n",
      "score              73\n",
      "Name: 1208, dtype: object\n",
      "\n",
      "\n",
      "name_level4      Sogomougou\n",
      "name_geob3     Nossombougou\n",
      "score                    73\n",
      "Name: 1209, dtype: object\n",
      "\n",
      "\n",
      "name_level4    Soke\n",
      "name_geob3     Soye\n",
      "score            75\n",
      "Name: 1211, dtype: object\n",
      "\n",
      "\n",
      "name_level4    Solenkoro\n",
      "name_geob3      Ouonkoro\n",
      "score                 71\n",
      "Name: 1215, dtype: object\n",
      "\n",
      "\n",
      "name_level4    Sondage\n",
      "name_geob3     Sandare\n",
      "score               71\n",
      "Name: 1222, dtype: object\n",
      "\n",
      "\n",
      "name_level4     Songho\n",
      "name_geob3     Songoua\n",
      "score               77\n",
      "Name: 1223, dtype: object\n",
      "\n",
      "\n",
      "name_level4    Sossokoira\n",
      "name_geob3        Sokoura\n",
      "score                  71\n",
      "Name: 1228, dtype: object\n",
      "\n",
      "\n",
      "name_level4    Soufroulaye\n",
      "name_geob3          Soroly\n",
      "score                   71\n",
      "Name: 1232, dtype: object\n",
      "\n",
      "\n",
      "name_level4    Sougoumba\n",
      "name_geob3     Sougoulbe\n",
      "score                 78\n",
      "Name: 1233, dtype: object\n",
      "\n",
      "\n",
      "name_level4    Soumouni\n",
      "name_geob3      Soumpou\n",
      "score                80\n",
      "Name: 1235, dtype: object\n",
      "\n",
      "\n",
      "name_level4    Souranzan\n",
      "name_geob3       Gouanan\n",
      "score                 75\n",
      "Name: 1239, dtype: object\n",
      "\n",
      "\n",
      "name_level4    Tadriante\n",
      "name_geob3       Tarkint\n",
      "score                 75\n",
      "Name: 1256, dtype: object\n",
      "\n",
      "\n",
      "name_level4       Taga\n",
      "name_geob3     Tambaga\n",
      "score               73\n",
      "Name: 1258, dtype: object\n",
      "\n",
      "\n",
      "name_level4     Tagan\n",
      "name_geob3     Tamani\n",
      "score              73\n",
      "Name: 1260, dtype: object\n",
      "\n",
      "\n",
      "name_level4    Tallo\n",
      "name_geob3       Tao\n",
      "score             75\n",
      "Name: 1267, dtype: object\n",
      "\n",
      "\n",
      "name_level4    Tambacara\n",
      "name_geob3       Tambaga\n",
      "score                 75\n",
      "Name: 1271, dtype: object\n",
      "\n",
      "\n",
      "name_level4      Tanima\n",
      "name_geob3     Tindirma\n",
      "score                71\n",
      "Name: 1276, dtype: object\n",
      "\n",
      "\n",
      "name_level4    Tarinkate\n",
      "name_geob3       Tarkint\n",
      "score                 75\n",
      "Name: 1279, dtype: object\n",
      "\n",
      "\n",
      "name_level4     Tegueret\n",
      "name_geob3     Segue Ire\n",
      "score                 71\n",
      "Name: 1287, dtype: object\n",
      "\n",
      "\n",
      "name_level4    TemÃ©ra\n",
      "name_geob3      Temera\n",
      "score               77\n",
      "Name: 1292, dtype: object\n",
      "\n",
      "\n",
      "name_level4     Tendio\n",
      "name_geob3     Blendio\n",
      "score               77\n",
      "Name: 1293, dtype: object\n",
      "\n",
      "\n",
      "name_level4    Tenenkou\n",
      "name_geob3     Tienkour\n",
      "score                75\n",
      "Name: 1295, dtype: object\n",
      "\n",
      "\n",
      "name_level4    Tiby\n",
      "name_geob3     Siby\n",
      "score            75\n",
      "Name: 1304, dtype: object\n",
      "\n",
      "\n",
      "name_level4     Tiebala\n",
      "name_geob3     Tienfala\n",
      "score                80\n",
      "Name: 1309, dtype: object\n",
      "\n",
      "\n",
      "name_level4    Tiefimbougou\n",
      "name_geob3      Tioribougou\n",
      "score                    78\n",
      "Name: 1311, dtype: object\n",
      "\n",
      "\n",
      "name_level4    Tienabougou\n",
      "name_geob3        Sebougou\n",
      "score                   74\n",
      "Name: 1313, dtype: object\n",
      "\n",
      "\n",
      "name_level4    Tiere\n",
      "name_geob3     Tiele\n",
      "score             80\n",
      "Name: 1316, dtype: object\n",
      "\n",
      "\n",
      "name_level4      Tigana\n",
      "name_geob3     Tiankadi\n",
      "score                71\n",
      "Name: 1317, dtype: object\n",
      "\n",
      "\n",
      "name_level4    Tiguila\n",
      "name_geob3     Tiongui\n",
      "score               71\n",
      "Name: 1319, dtype: object\n",
      "\n",
      "\n",
      "name_level4    Tinadhidj\n",
      "name_geob3      Tiankadi\n",
      "score                 71\n",
      "Name: 1330, dtype: object\n",
      "\n",
      "\n",
      "name_level4     Tinfada\n",
      "name_geob3     Tienfala\n",
      "score                80\n",
      "Name: 1334, dtype: object\n",
      "\n",
      "\n",
      "name_level4    Tinfadimata\n",
      "name_geob3        Tindirma\n",
      "score                   74\n",
      "Name: 1335, dtype: object\n",
      "\n",
      "\n",
      "name_level4    Tinhamma\n",
      "name_geob3     Tin Hama\n",
      "score                75\n",
      "Name: 1338, dtype: object\n",
      "\n",
      "\n",
      "name_level4    Toba\n",
      "name_geob3     Toya\n",
      "score            75\n",
      "Name: 1353, dtype: object\n",
      "\n",
      "\n",
      "name_level4    Tombola\n",
      "name_geob3      Tomora\n",
      "score               77\n",
      "Name: 1360, dtype: object\n",
      "\n",
      "\n",
      "name_level4    Tongo\n",
      "name_geob3     Dongo\n",
      "score             80\n",
      "Name: 1367, dtype: object\n",
      "\n",
      "\n",
      "name_level4    Torakoro\n",
      "name_geob3     Karakoro\n",
      "score                75\n",
      "Name: 1373, dtype: object\n",
      "\n",
      "\n",
      "name_level4     Torokoro\n",
      "name_geob3     Toukoroba\n",
      "score                 71\n",
      "Name: 1376, dtype: object\n",
      "\n",
      "\n",
      "name_level4    Toroli\n",
      "name_geob3       Tori\n",
      "score              80\n",
      "Name: 1377, dtype: object\n",
      "\n",
      "\n",
      "name_level4    Tota\n",
      "name_geob3     Toya\n",
      "score            75\n",
      "Name: 1379, dtype: object\n",
      "\n",
      "\n",
      "name_level4    Touba\n",
      "name_geob3     Souba\n",
      "score             80\n",
      "Name: 1380, dtype: object\n",
      "\n",
      "\n",
      "name_level4    Touloupe\n",
      "name_geob3       Koulou\n",
      "score                71\n",
      "Name: 1388, dtype: object\n",
      "\n",
      "\n",
      "name_level4    Toussana\n",
      "name_geob3      Koussan\n",
      "score                80\n",
      "Name: 1394, dtype: object\n",
      "\n",
      "\n",
      "name_level4    ToussÃ©guÃ©la\n",
      "name_geob3       Tousseguela\n",
      "score                     75\n",
      "Name: 1395, dtype: object\n",
      "\n",
      "\n",
      "name_level4    Touwal\n",
      "name_geob3      Touna\n",
      "score              73\n",
      "Name: 1397, dtype: object\n",
      "\n",
      "\n",
      "name_level4    Troun\n",
      "name_geob3     Touna\n",
      "score             80\n",
      "Name: 1400, dtype: object\n",
      "\n",
      "\n",
      "name_level4    TÃ©riyabougou\n",
      "name_geob3       Tioribougou\n",
      "score                     75\n",
      "Name: 1404, dtype: object\n",
      "\n",
      "\n",
      "name_level4    Waikanou\n",
      "name_geob3       Makano\n",
      "score                71\n",
      "Name: 1408, dtype: object\n",
      "\n",
      "\n",
      "name_level4    Wako\n",
      "name_geob3     Waki\n",
      "score            75\n",
      "Name: 1410, dtype: object\n",
      "\n",
      "\n",
      "name_level4    Waky\n",
      "name_geob3     Waki\n",
      "score            75\n",
      "Name: 1412, dtype: object\n",
      "\n",
      "\n",
      "name_level4    Walo\n",
      "name_geob3     Falo\n",
      "score            75\n",
      "Name: 1413, dtype: object\n",
      "\n",
      "\n",
      "name_level4    Wana\n",
      "name_geob3     Sana\n",
      "score            75\n",
      "Name: 1414, dtype: object\n",
      "\n",
      "\n",
      "name_level4    Waourou\n",
      "name_geob3      Dourou\n",
      "score               77\n",
      "Name: 1415, dtype: object\n",
      "\n",
      "\n",
      "name_level4     Waramata\n",
      "name_geob3     Diaramana\n",
      "score                 71\n",
      "Name: 1416, dtype: object\n",
      "\n",
      "\n",
      "name_level4    Woroni\n",
      "name_geob3      Boron\n",
      "score              73\n",
      "Name: 1421, dtype: object\n",
      "\n",
      "\n",
      "name_level4    Yiringasso\n",
      "name_geob3       Yangasso\n",
      "score                  78\n",
      "Name: 1436, dtype: object\n",
      "\n",
      "\n",
      "name_level4    Zamiasso\n",
      "name_geob3     Zangasso\n",
      "score                75\n",
      "Name: 1448, dtype: object\n",
      "\n",
      "\n",
      "name_level4      Zana\n",
      "name_geob3     Zanina\n",
      "score              80\n",
      "Name: 1449, dtype: object\n",
      "\n",
      "\n",
      "name_level4    Zignasso\n",
      "name_geob3     Zangasso\n",
      "score                75\n",
      "Name: 1463, dtype: object\n",
      "\n",
      "\n",
      "name_level4     Zinda\n",
      "name_geob3     Zanina\n",
      "score              73\n",
      "Name: 1464, dtype: object\n",
      "\n",
      "\n",
      "name_level4    ZÃ©bala\n",
      "name_geob3      Zebala\n",
      "score               77\n",
      "Name: 1468, dtype: object\n",
      "\n",
      "\n",
      "name_level4    ZÃ©goua\n",
      "name_geob3      Zegoua\n",
      "score               77\n",
      "Name: 1469, dtype: object\n",
      "\n",
      "\n",
      "name_level4    kassakare\n",
      "name_geob3      Essakane\n",
      "score                 71\n",
      "Name: 1471, dtype: object\n",
      "\n",
      "\n"
     ]
    }
   ],
   "source": [
    "for idx, row in table_adm3_matches.loc[table_adm3_matches.score<=80].iterrows():\n",
    "    print(row)\n",
    "    print('\\n')\n",
    "    #drop_input = input(\"Drop? If no, leave blank: \")\n",
    "#     if len(drop_input)>0:\n",
    "#         table_adm3_matches.drop(idx, axis=0, inplace=True)"
   ]
  },
  {
   "cell_type": "code",
   "execution_count": 722,
   "metadata": {},
   "outputs": [
    {
     "data": {
      "text/plain": [
       "'59.13%'"
      ]
     },
     "execution_count": 722,
     "metadata": {},
     "output_type": "execute_result"
    }
   ],
   "source": [
    "matches_pct = (len(table_adm3_matches) / len(level4_list))\n",
    "'{:.2f}%'.format(matches_pct*100)"
   ]
  },
  {
   "cell_type": "markdown",
   "metadata": {},
   "source": [
    "### Match orgunitlevel3 to geo Adm 2"
   ]
  },
  {
   "cell_type": "code",
   "execution_count": 723,
   "metadata": {},
   "outputs": [],
   "source": [
    "master_table.loc[:, \"orgunitlevel3_edit\"] = master_table.orgunitlevel3"
   ]
  },
  {
   "cell_type": "code",
   "execution_count": 724,
   "metadata": {},
   "outputs": [],
   "source": [
    "# remove_words(geob2, \"admin2Name\", [\" City Council\", \" District Council\", \" Municipal Council\"])\n",
    "remove_words(master_table, \"orgunitlevel3_edit\", [\"District \"])\n",
    "remove_words(geob2, \"shapeName\", ['City Council', 'District Council', 'Municipal Council'])\n",
    "#remove_words(geob2, \"ADMIN2\", [\" City Council\", \" District Council\", \" Municipal Council\"])"
   ]
  },
  {
   "cell_type": "code",
   "execution_count": 725,
   "metadata": {
    "code_folding": []
   },
   "outputs": [],
   "source": [
    "level3_list = list(master_table.orgunitlevel3_edit.unique())\n",
    "level3_list.sort()\n",
    "geob2_list = list(geob2.shapeName)\n",
    "geob2_list.sort()\n",
    "# fews2_list = list(fews2.ADMIN2)\n",
    "# fews2_list.sort()"
   ]
  },
  {
   "cell_type": "markdown",
   "metadata": {},
   "source": [
    "Print names one at a time for both datasets one letter at a time, and manually inspect"
   ]
  },
  {
   "cell_type": "code",
   "execution_count": 726,
   "metadata": {
    "scrolled": true
   },
   "outputs": [
    {
     "name": "stdout",
     "output_type": "stream",
     "text": [
      "begins with letter A\n",
      "Master list level 3\n",
      "\t['Abeibara', 'Achouratt', 'Al-Ourche', 'Almoustarat', 'Anderamboukane', 'Ansongo', 'Arawane']\n",
      "Geoboundaries adm2\n",
      "\t['Abeibara', 'Ansongo']\n",
      "begins with letter B\n",
      "Master list level 3\n",
      "\t['Bafoulabe', 'Banamba', 'Bandiagara', 'Bankass', 'Baroueli', 'Bla', 'Bougouni', 'Boujbeha', 'Bourem']\n",
      "Geoboundaries adm2\n",
      "\t['Bafoulabe', 'Bamako', 'Banamba', 'Bandiagara', 'Bankass', 'Baroueli', 'Bla', 'Bougouni', 'Bourem']\n",
      "begins with letter C\n",
      "Master list level 3\n",
      "\t['CRLD', 'Commune I', 'Commune II', 'Commune III', 'Commune IV', 'Commune V', 'Commune VI']\n",
      "begins with letter D\n",
      "Master list level 3\n",
      "\t['Diema', 'Dioila', 'DirÃ©', 'DjennÃ©', 'Douentza']\n",
      "Geoboundaries adm2\n",
      "\t['Diema', 'Dioila', 'Dire', 'Djenne', 'Douentza']\n",
      "begins with letter E\n",
      "begins with letter F\n",
      "Master list level 3\n",
      "\t['Fana', 'Foum-Alba']\n",
      "begins with letter G\n",
      "Master list level 3\n",
      "\t['Gao', 'Goundam', 'Gourma-Rharous']\n",
      "Geoboundaries adm2\n",
      "\t['Gao', 'Goundam', 'Gourma-Rharous']\n",
      "begins with letter H\n",
      "begins with letter I\n",
      "Master list level 3\n",
      "\t['Inekar']\n",
      "begins with letter J\n",
      "begins with letter K\n",
      "Master list level 3\n",
      "\t['Kadiolo', 'Kalabancoro', 'Kangaba', 'Kati', 'Kayes', 'Kenieba', 'Kidal', 'Kignan', 'Kita', 'Kolokani', 'Kolondieba', 'Koro', 'Koulikoro', 'Koutiala']\n",
      "Geoboundaries adm2\n",
      "\t['Kadiolo', 'Kangaba', 'Kati', 'Kayes', 'Kenieba', 'Kidal', 'Kita', 'Kolokani', 'Kolondieba', 'Koro', 'Koulikoro', 'Koutiala']\n",
      "begins with letter L\n",
      "begins with letter M\n",
      "Master list level 3\n",
      "\t['Macina', 'Markala', 'Menaka', 'Mopti']\n",
      "Geoboundaries adm2\n",
      "\t['Macina', 'Menaka', 'Mopti']\n",
      "begins with letter N\n",
      "Master list level 3\n",
      "\t['Nara', 'NiafunkÃ©', 'Niena', 'Niono', 'Nioro']\n",
      "Geoboundaries adm2\n",
      "\t['Nara', 'Niafunke', 'Niono', 'Nioro']\n",
      "begins with letter O\n",
      "Master list level 3\n",
      "\t['Ouelessebougou', 'Oussoubidiagna']\n",
      "begins with letter P\n",
      "begins with letter Q\n",
      "begins with letter R\n",
      "begins with letter S\n",
      "Master list level 3\n",
      "\t['Sagabari', 'San', 'Sefeto', 'Segou', 'Selingue', 'Sikasso']\n",
      "Geoboundaries adm2\n",
      "\t['San', 'Segou', 'Sikasso']\n",
      "begins with letter T\n",
      "Master list level 3\n",
      "\t['Taoudenit', 'Tenenkou', 'Tessalit', 'Tidermene', 'TinEssako', 'Tombouctou', 'Tominian']\n",
      "Geoboundaries adm2\n",
      "\t['Tenenkou', 'Tessalit', 'Tin-Essako', 'Tombouctou', 'Tominian']\n",
      "begins with letter U\n",
      "begins with letter V\n",
      "begins with letter W\n",
      "begins with letter X\n",
      "begins with letter Y\n",
      "Master list level 3\n",
      "\t['Yanfolila', 'Yelimane', 'Yorosso', 'Youwarou']\n",
      "Geoboundaries adm2\n",
      "\t['Yanfolila', 'Yelimane', 'Yorosso', 'Youwarou']\n",
      "begins with letter Z\n"
     ]
    }
   ],
   "source": [
    "for letter in ascii_uppercase:\n",
    "    print(f'begins with letter {letter}')\n",
    "    level3_sublist = [name for name in level3_list if name[0]==letter]\n",
    "    geob2_sublist = [name for name in geob2_list if name[0]==letter]\n",
    "    #fews2_sublist = [name for name in fews2_list if name[0]==letter]\n",
    "    if len(level3_sublist)>0:\n",
    "        print(\"Master list level 3\")\n",
    "        print(\"\\t\"+str(level3_sublist))\n",
    "    if len(geob2_sublist) >0:\n",
    "        print(\"Geoboundaries adm2\")\n",
    "        print(\"\\t\"+str(geob2_sublist))\n",
    "#     if len(fews2_sublist) > 0:\n",
    "#         print(\"FEWS adm2\")\n",
    "#         print(\"\\t\"+str(fews2_sublist))\n",
    "#     print(\"\\n\")"
   ]
  },
  {
   "cell_type": "code",
   "execution_count": 727,
   "metadata": {},
   "outputs": [],
   "source": [
    "# List for dicts for easy dataframe creation\n",
    "dict_list = []\n",
    "# iterating over our players without salaries found above\n",
    "for name in level3_list:\n",
    "    \n",
    "    # Use our method to find best match, we can set a threshold here\n",
    "    match = match_name(name, geob2_list, 30)\n",
    "\n",
    "    # New dict for storing data\n",
    "    dict_ = {}\n",
    "    dict_.update({\"name_level3\" : name})\n",
    "    dict_.update({\"name_geob2\" : match[0]})\n",
    "    dict_.update({\"score\" : match[1]})\n",
    "    dict_list.append(dict_)\n",
    "\n",
    "table_adm2 = pd.DataFrame(dict_list)\n",
    "table_adm2_matches = table_adm2[table_adm2.score > 75]"
   ]
  },
  {
   "cell_type": "code",
   "execution_count": 728,
   "metadata": {},
   "outputs": [
    {
     "data": {
      "text/plain": [
       "'63.16%'"
      ]
     },
     "execution_count": 728,
     "metadata": {},
     "output_type": "execute_result"
    }
   ],
   "source": [
    "matches_pct = (len(table_adm2_matches) / len(level3_list))\n",
    "'{:.2f}%'.format(matches_pct*100)"
   ]
  },
  {
   "cell_type": "markdown",
   "metadata": {},
   "source": [
    "Loop through each row in master table, and add new attribute names (adm3 and adm2), if the names produced matches in the lookup tables"
   ]
  },
  {
   "cell_type": "code",
   "execution_count": 729,
   "metadata": {},
   "outputs": [],
   "source": [
    "master_table_copy = master_table.copy()"
   ]
  },
  {
   "cell_type": "code",
   "execution_count": 730,
   "metadata": {},
   "outputs": [],
   "source": [
    "for idx, row in master_table_copy.iterrows():\n",
    "    \n",
    "    if row.orgunitlevel4_edit in list(table_adm3_matches.name_level4):\n",
    "        \n",
    "        match = table_adm3_matches.loc[table_adm3_matches.name_level4==row.orgunitlevel4_edit, \"name_geob3\"].iloc[0]\n",
    "        master_table_copy.loc[idx, 'adm3'] = match\n",
    "        \n",
    "    if row.orgunitlevel3_edit in list(table_adm2_matches.name_level3):\n",
    "        \n",
    "        match = table_adm2_matches.loc[table_adm2_matches.name_level3==row.orgunitlevel3_edit, \"name_geob2\"].iloc[0]\n",
    "        master_table_copy.loc[idx, 'adm2'] = match"
   ]
  },
  {
   "cell_type": "code",
   "execution_count": 731,
   "metadata": {},
   "outputs": [
    {
     "data": {
      "text/plain": [
       "515"
      ]
     },
     "execution_count": 731,
     "metadata": {},
     "output_type": "execute_result"
    }
   ],
   "source": [
    "master_table_copy.adm2.isna().sum()"
   ]
  },
  {
   "cell_type": "code",
   "execution_count": 732,
   "metadata": {},
   "outputs": [
    {
     "data": {
      "text/plain": [
       "873"
      ]
     },
     "execution_count": 732,
     "metadata": {},
     "output_type": "execute_result"
    }
   ],
   "source": [
    "master_table_copy.adm3.isna().sum()"
   ]
  },
  {
   "cell_type": "code",
   "execution_count": 733,
   "metadata": {},
   "outputs": [
    {
     "data": {
      "text/html": [
       "<div>\n",
       "<style scoped>\n",
       "    .dataframe tbody tr th:only-of-type {\n",
       "        vertical-align: middle;\n",
       "    }\n",
       "\n",
       "    .dataframe tbody tr th {\n",
       "        vertical-align: top;\n",
       "    }\n",
       "\n",
       "    .dataframe thead th {\n",
       "        text-align: right;\n",
       "    }\n",
       "</style>\n",
       "<table border=\"1\" class=\"dataframe\">\n",
       "  <thead>\n",
       "    <tr style=\"text-align: right;\">\n",
       "      <th></th>\n",
       "      <th>orgunitlevel1</th>\n",
       "      <th>orgunitlevel2</th>\n",
       "      <th>orgunitlevel3</th>\n",
       "      <th>orgunitlevel4</th>\n",
       "      <th>orgunitlevel5</th>\n",
       "      <th>orgunitlevel4_edit</th>\n",
       "      <th>orgunitlevel3_edit</th>\n",
       "      <th>adm3</th>\n",
       "      <th>adm2</th>\n",
       "    </tr>\n",
       "  </thead>\n",
       "  <tbody>\n",
       "    <tr>\n",
       "      <th>0</th>\n",
       "      <td>Mali</td>\n",
       "      <td>Bamako</td>\n",
       "      <td>CRLD</td>\n",
       "      <td>zzz a supprimer</td>\n",
       "      <td>ZCorbeille</td>\n",
       "      <td>zzz a supprimer</td>\n",
       "      <td>CRLD</td>\n",
       "      <td>NaN</td>\n",
       "      <td>NaN</td>\n",
       "    </tr>\n",
       "    <tr>\n",
       "      <th>1</th>\n",
       "      <td>Mali</td>\n",
       "      <td>Bamako</td>\n",
       "      <td>District Commune I</td>\n",
       "      <td>Asacko Nord</td>\n",
       "      <td>ASACKO NORD</td>\n",
       "      <td>Asacko Nord</td>\n",
       "      <td>Commune I</td>\n",
       "      <td>NaN</td>\n",
       "      <td>NaN</td>\n",
       "    </tr>\n",
       "  </tbody>\n",
       "</table>\n",
       "</div>"
      ],
      "text/plain": [
       "  orgunitlevel1 orgunitlevel2       orgunitlevel3    orgunitlevel4  \\\n",
       "0          Mali        Bamako                CRLD  zzz a supprimer   \n",
       "1          Mali        Bamako  District Commune I      Asacko Nord   \n",
       "\n",
       "  orgunitlevel5 orgunitlevel4_edit orgunitlevel3_edit adm3 adm2  \n",
       "0    ZCorbeille    zzz a supprimer               CRLD  NaN  NaN  \n",
       "1   ASACKO NORD        Asacko Nord          Commune I  NaN  NaN  "
      ]
     },
     "execution_count": 733,
     "metadata": {},
     "output_type": "execute_result"
    }
   ],
   "source": [
    "master_table_copy.head(2)"
   ]
  },
  {
   "cell_type": "markdown",
   "metadata": {},
   "source": [
    "# Match to locations from alternative sources based on facility name\n",
    "\n",
    "\n",
    "## Health Sites IO\n",
    "Import Health Sites from HealthSites.io  \n",
    "Health sites come in both a node and a way shapefile. You need to import both to get all the sites.  \n",
    "In QGIS, I created centroids from the ways then merged it with the points."
   ]
  },
  {
   "cell_type": "code",
   "execution_count": 734,
   "metadata": {},
   "outputs": [],
   "source": [
    "nodes_io = gpd.read_file(os.path.join(input_dir, \"healthsitesio\", \"MLI\", \"merged_MLI_healthsites.shp\"))"
   ]
  },
  {
   "cell_type": "code",
   "execution_count": 735,
   "metadata": {},
   "outputs": [],
   "source": [
    "nodes_io = nodes_io.loc[~nodes_io.name.isna()].copy()"
   ]
  },
  {
   "cell_type": "code",
   "execution_count": 736,
   "metadata": {},
   "outputs": [],
   "source": [
    "nodes_io['name'] = nodes_io['name'].str.lower()"
   ]
  },
  {
   "cell_type": "code",
   "execution_count": 737,
   "metadata": {},
   "outputs": [],
   "source": [
    "words_to_remove = ['community', 'clinic', 'centre', 'center', 'hospital', 'health', 'government']"
   ]
  },
  {
   "cell_type": "code",
   "execution_count": 738,
   "metadata": {},
   "outputs": [],
   "source": [
    "records = master_table_copy.copy()\n",
    "records['NAME'] = records['orgunitlevel5'].str.lower()"
   ]
  },
  {
   "cell_type": "code",
   "execution_count": 739,
   "metadata": {},
   "outputs": [],
   "source": [
    "remove_words(nodes_io, 'name', words_to_remove)\n",
    "remove_words(records, 'NAME', words_to_remove)"
   ]
  },
  {
   "cell_type": "code",
   "execution_count": 740,
   "metadata": {},
   "outputs": [],
   "source": [
    "records['geocoding_method'] = \"None\""
   ]
  },
  {
   "cell_type": "code",
   "execution_count": 741,
   "metadata": {},
   "outputs": [
    {
     "data": {
      "text/html": [
       "<div>\n",
       "<style scoped>\n",
       "    .dataframe tbody tr th:only-of-type {\n",
       "        vertical-align: middle;\n",
       "    }\n",
       "\n",
       "    .dataframe tbody tr th {\n",
       "        vertical-align: top;\n",
       "    }\n",
       "\n",
       "    .dataframe thead th {\n",
       "        text-align: right;\n",
       "    }\n",
       "</style>\n",
       "<table border=\"1\" class=\"dataframe\">\n",
       "  <thead>\n",
       "    <tr style=\"text-align: right;\">\n",
       "      <th></th>\n",
       "      <th>orgunitlevel1</th>\n",
       "      <th>orgunitlevel2</th>\n",
       "      <th>orgunitlevel3</th>\n",
       "      <th>orgunitlevel4</th>\n",
       "      <th>orgunitlevel5</th>\n",
       "      <th>orgunitlevel4_edit</th>\n",
       "      <th>orgunitlevel3_edit</th>\n",
       "      <th>adm3</th>\n",
       "      <th>adm2</th>\n",
       "      <th>NAME</th>\n",
       "      <th>geocoding_method</th>\n",
       "    </tr>\n",
       "  </thead>\n",
       "  <tbody>\n",
       "    <tr>\n",
       "      <th>0</th>\n",
       "      <td>Mali</td>\n",
       "      <td>Bamako</td>\n",
       "      <td>CRLD</td>\n",
       "      <td>zzz a supprimer</td>\n",
       "      <td>ZCorbeille</td>\n",
       "      <td>zzz a supprimer</td>\n",
       "      <td>CRLD</td>\n",
       "      <td>NaN</td>\n",
       "      <td>NaN</td>\n",
       "      <td>zcorbeille</td>\n",
       "      <td>None</td>\n",
       "    </tr>\n",
       "    <tr>\n",
       "      <th>1</th>\n",
       "      <td>Mali</td>\n",
       "      <td>Bamako</td>\n",
       "      <td>District Commune I</td>\n",
       "      <td>Asacko Nord</td>\n",
       "      <td>ASACKO NORD</td>\n",
       "      <td>Asacko Nord</td>\n",
       "      <td>Commune I</td>\n",
       "      <td>NaN</td>\n",
       "      <td>NaN</td>\n",
       "      <td>asacko nord</td>\n",
       "      <td>None</td>\n",
       "    </tr>\n",
       "    <tr>\n",
       "      <th>2</th>\n",
       "      <td>Mali</td>\n",
       "      <td>Bamako</td>\n",
       "      <td>District Commune I</td>\n",
       "      <td>Asacko Nord</td>\n",
       "      <td>Clinique Daccouchement PrivÃ©e Danaya</td>\n",
       "      <td>Asacko Nord</td>\n",
       "      <td>Commune I</td>\n",
       "      <td>NaN</td>\n",
       "      <td>NaN</td>\n",
       "      <td>clinique daccouchement privã©e danaya</td>\n",
       "      <td>None</td>\n",
       "    </tr>\n",
       "    <tr>\n",
       "      <th>3</th>\n",
       "      <td>Mali</td>\n",
       "      <td>Bamako</td>\n",
       "      <td>District Commune I</td>\n",
       "      <td>Asacoba</td>\n",
       "      <td>ASACOBA</td>\n",
       "      <td>Asacoba</td>\n",
       "      <td>Commune I</td>\n",
       "      <td>NaN</td>\n",
       "      <td>NaN</td>\n",
       "      <td>asacoba</td>\n",
       "      <td>None</td>\n",
       "    </tr>\n",
       "    <tr>\n",
       "      <th>4</th>\n",
       "      <td>Mali</td>\n",
       "      <td>Bamako</td>\n",
       "      <td>District Commune I</td>\n",
       "      <td>Asacoba</td>\n",
       "      <td>Cabinet Medical FONDATION SADIA</td>\n",
       "      <td>Asacoba</td>\n",
       "      <td>Commune I</td>\n",
       "      <td>NaN</td>\n",
       "      <td>NaN</td>\n",
       "      <td>cabinet medical fondation sadia</td>\n",
       "      <td>None</td>\n",
       "    </tr>\n",
       "    <tr>\n",
       "      <th>...</th>\n",
       "      <td>...</td>\n",
       "      <td>...</td>\n",
       "      <td>...</td>\n",
       "      <td>...</td>\n",
       "      <td>...</td>\n",
       "      <td>...</td>\n",
       "      <td>...</td>\n",
       "      <td>...</td>\n",
       "      <td>...</td>\n",
       "      <td>...</td>\n",
       "      <td>...</td>\n",
       "    </tr>\n",
       "    <tr>\n",
       "      <th>1886</th>\n",
       "      <td>Mali</td>\n",
       "      <td>Tombouctou</td>\n",
       "      <td>District Tombouctou</td>\n",
       "      <td>TeherdjÃ©</td>\n",
       "      <td>Teherdje</td>\n",
       "      <td>TeherdjÃ©</td>\n",
       "      <td>Tombouctou</td>\n",
       "      <td>NaN</td>\n",
       "      <td>Tombouctou</td>\n",
       "      <td>teherdje</td>\n",
       "      <td>None</td>\n",
       "    </tr>\n",
       "    <tr>\n",
       "      <th>1887</th>\n",
       "      <td>Mali</td>\n",
       "      <td>Tombouctou</td>\n",
       "      <td>District Tombouctou</td>\n",
       "      <td>Tin Telout</td>\n",
       "      <td>Tin Telout</td>\n",
       "      <td>Tin Telout</td>\n",
       "      <td>Tombouctou</td>\n",
       "      <td>NaN</td>\n",
       "      <td>Tombouctou</td>\n",
       "      <td>tin telout</td>\n",
       "      <td>None</td>\n",
       "    </tr>\n",
       "    <tr>\n",
       "      <th>1888</th>\n",
       "      <td>Mali</td>\n",
       "      <td>Tombouctou</td>\n",
       "      <td>District Tombouctou</td>\n",
       "      <td>Tindjambane</td>\n",
       "      <td>Tindjambane</td>\n",
       "      <td>Tindjambane</td>\n",
       "      <td>Tombouctou</td>\n",
       "      <td>NaN</td>\n",
       "      <td>Tombouctou</td>\n",
       "      <td>tindjambane</td>\n",
       "      <td>None</td>\n",
       "    </tr>\n",
       "    <tr>\n",
       "      <th>1889</th>\n",
       "      <td>Mali</td>\n",
       "      <td>Tombouctou</td>\n",
       "      <td>District Tombouctou</td>\n",
       "      <td>Toya</td>\n",
       "      <td>Toya</td>\n",
       "      <td>Toya</td>\n",
       "      <td>Tombouctou</td>\n",
       "      <td>Toya</td>\n",
       "      <td>Tombouctou</td>\n",
       "      <td>toya</td>\n",
       "      <td>None</td>\n",
       "    </tr>\n",
       "    <tr>\n",
       "      <th>1890</th>\n",
       "      <td>Mali</td>\n",
       "      <td>Tombouctou</td>\n",
       "      <td>District Tombouctou</td>\n",
       "      <td>Zarho</td>\n",
       "      <td>Zarho</td>\n",
       "      <td>Zarho</td>\n",
       "      <td>Tombouctou</td>\n",
       "      <td>NaN</td>\n",
       "      <td>Tombouctou</td>\n",
       "      <td>zarho</td>\n",
       "      <td>None</td>\n",
       "    </tr>\n",
       "  </tbody>\n",
       "</table>\n",
       "<p>1891 rows × 11 columns</p>\n",
       "</div>"
      ],
      "text/plain": [
       "     orgunitlevel1 orgunitlevel2        orgunitlevel3    orgunitlevel4  \\\n",
       "0             Mali        Bamako                 CRLD  zzz a supprimer   \n",
       "1             Mali        Bamako   District Commune I      Asacko Nord   \n",
       "2             Mali        Bamako   District Commune I      Asacko Nord   \n",
       "3             Mali        Bamako   District Commune I          Asacoba   \n",
       "4             Mali        Bamako   District Commune I          Asacoba   \n",
       "...            ...           ...                  ...              ...   \n",
       "1886          Mali    Tombouctou  District Tombouctou        TeherdjÃ©   \n",
       "1887          Mali    Tombouctou  District Tombouctou       Tin Telout   \n",
       "1888          Mali    Tombouctou  District Tombouctou      Tindjambane   \n",
       "1889          Mali    Tombouctou  District Tombouctou             Toya   \n",
       "1890          Mali    Tombouctou  District Tombouctou            Zarho   \n",
       "\n",
       "                              orgunitlevel5 orgunitlevel4_edit  \\\n",
       "0                                ZCorbeille    zzz a supprimer   \n",
       "1                               ASACKO NORD        Asacko Nord   \n",
       "2     Clinique Daccouchement PrivÃ©e Danaya        Asacko Nord   \n",
       "3                                   ASACOBA            Asacoba   \n",
       "4           Cabinet Medical FONDATION SADIA            Asacoba   \n",
       "...                                     ...                ...   \n",
       "1886                               Teherdje          TeherdjÃ©   \n",
       "1887                             Tin Telout         Tin Telout   \n",
       "1888                            Tindjambane        Tindjambane   \n",
       "1889                                   Toya               Toya   \n",
       "1890                                  Zarho              Zarho   \n",
       "\n",
       "     orgunitlevel3_edit  adm3        adm2  \\\n",
       "0                  CRLD   NaN         NaN   \n",
       "1             Commune I   NaN         NaN   \n",
       "2             Commune I   NaN         NaN   \n",
       "3             Commune I   NaN         NaN   \n",
       "4             Commune I   NaN         NaN   \n",
       "...                 ...   ...         ...   \n",
       "1886         Tombouctou   NaN  Tombouctou   \n",
       "1887         Tombouctou   NaN  Tombouctou   \n",
       "1888         Tombouctou   NaN  Tombouctou   \n",
       "1889         Tombouctou  Toya  Tombouctou   \n",
       "1890         Tombouctou   NaN  Tombouctou   \n",
       "\n",
       "                                       NAME geocoding_method  \n",
       "0                                zcorbeille             None  \n",
       "1                               asacko nord             None  \n",
       "2     clinique daccouchement privã©e danaya             None  \n",
       "3                                   asacoba             None  \n",
       "4           cabinet medical fondation sadia             None  \n",
       "...                                     ...              ...  \n",
       "1886                               teherdje             None  \n",
       "1887                             tin telout             None  \n",
       "1888                            tindjambane             None  \n",
       "1889                                   toya             None  \n",
       "1890                                  zarho             None  \n",
       "\n",
       "[1891 rows x 11 columns]"
      ]
     },
     "execution_count": 741,
     "metadata": {},
     "output_type": "execute_result"
    }
   ],
   "source": [
    "records"
   ]
  },
  {
   "cell_type": "markdown",
   "metadata": {},
   "source": [
    "### note: since only partial matches with admin 3 and admin 2, matching will occur if point is within the district or not. However, since there is no point in district validation, increase the matching benchmark."
   ]
  },
  {
   "cell_type": "code",
   "execution_count": 742,
   "metadata": {
    "scrolled": true
   },
   "outputs": [
    {
     "name": "stderr",
     "output_type": "stream",
     "text": [
      "12it [00:00, 56.87it/s]"
     ]
    },
    {
     "name": "stdout",
     "output_type": "stream",
     "text": [
      "asacoba asacobafa\n",
      "cabinet medical fondation sadia cabinet medical yonki saha\n",
      "cabinet medical teriya cabinet medical anta\n",
      "asacoboul1 asacoboul\n",
      "asacoboul2 asacoboul\n",
      "asacodjan asacodje\n",
      "de sante cherifoula de sante cherifla\n"
     ]
    },
    {
     "name": "stderr",
     "output_type": "stream",
     "text": [
      "23it [00:00, 52.97it/s]"
     ]
    },
    {
     "name": "stdout",
     "output_type": "stream",
     "text": [
      "asacodje asacodje\n",
      "asacodou asacoboul\n",
      "asacofadi asacofa\n",
      "asacokosa asacoka\n",
      "asacomsi asacomi\n",
      "cabinet kaya cabinet bakadia\n",
      "asacobag asacobafa\n",
      "asacohi asacomi\n"
     ]
    },
    {
     "name": "stderr",
     "output_type": "stream",
     "text": [
      "38it [00:00, 56.87it/s]"
     ]
    },
    {
     "name": "stdout",
     "output_type": "stream",
     "text": [
      "cabinet medical le salut cabinet medical le soutien\n",
      "clinique medical life clinique medical lumiã¨re\n",
      "clinique medicale kaidara clinique medicale eureka\n",
      "clinique pitie clinique pitiã©\n",
      "clinique salia daou clinique salia daou\n",
      "clinique wassa clinique aya\n",
      "asacome asacomi\n",
      "asacomi asacomi\n"
     ]
    },
    {
     "name": "stderr",
     "output_type": "stream",
     "text": [
      "61it [00:00, 67.19it/s]"
     ]
    },
    {
     "name": "stdout",
     "output_type": "stream",
     "text": [
      "clinique ata clinique atlas\n",
      "benkady benky\n",
      "asacobakon asacoko\n",
      "clinique farako clinique farako\n",
      "asacodes asacodje\n",
      "clinique cdi keneya clinique keneya\n"
     ]
    },
    {
     "name": "stderr",
     "output_type": "stream",
     "text": [
      "81it [00:01, 76.17it/s]"
     ]
    },
    {
     "name": "stdout",
     "output_type": "stream",
     "text": [
      "cabinet de consultation amppf cabinet de consultatation rapha\n",
      "asacoob asacoko\n",
      "cabinet medical rosette cabinet mã©dical rosette\n",
      "cabinet de consultation cdt cabinet de consultations\n",
      "ascom asacomi\n",
      "mutec sante mutec santã©\n",
      "clinique diawara clinique hawa\n",
      "cabinet espoir ii cabinet de soin titi\n"
     ]
    },
    {
     "name": "stderr",
     "output_type": "stream",
     "text": [
      "98it [00:01, 70.80it/s]"
     ]
    },
    {
     "name": "stdout",
     "output_type": "stream",
     "text": [
      "cabinet sagefemme niana cabinet sage-femme nacoura\n",
      "clinique mã©dicale astra clinique mã©dicale salam\n",
      "asacodjip asacodjip\n",
      "clinique medico chirugicale source de vie clinique mã©dicale source de vie\n",
      "clinique femina clinique lafia\n",
      "polyclinique kabala clinique kabala\n",
      "polyclinique pasteur clinique pasteur\n"
     ]
    },
    {
     "name": "stderr",
     "output_type": "stream",
     "text": [
      "128it [00:01, 74.94it/s]"
     ]
    },
    {
     "name": "stdout",
     "output_type": "stream",
     "text": [
      "asacoka asacoka\n",
      "cabinet  mã©dical keneyaso cabinet mã©dical keneya blow\n",
      "clinique lahidou clinique ambodou\n",
      "cabinet djigiya sante cabinet djiguiya\n",
      "clinique mãdical sept clinique medicale sept\n",
      "cabinet medical guerison cabinet mã©dical bonne guerison\n",
      "cabinet medical moussa keita cabinet medical mossoula\n",
      "cabinet de soins niana cabinet de soins teriya\n",
      "clinique nana clinique banan\n"
     ]
    },
    {
     "name": "stderr",
     "output_type": "stream",
     "text": [
      "156it [00:02, 84.58it/s]"
     ]
    },
    {
     "name": "stdout",
     "output_type": "stream",
     "text": [
      "hopital mali gavardo hã´pital mali gavardo\n",
      "cabinet mouna cabinet nouna\n",
      "cabinet mã©dical darchifa cabinet mã©dical amza\n",
      "asacoda asacoka\n",
      "asacoga asacoka\n",
      "cabinet medical sianwa cabinet medical anta\n",
      "cabinet bama cabinet bakadia\n"
     ]
    },
    {
     "name": "stderr",
     "output_type": "stream",
     "text": [
      "174it [00:02, 71.97it/s]"
     ]
    },
    {
     "name": "stdout",
     "output_type": "stream",
     "text": [
      "cabinet bayaba cabinet bakadia\n",
      "asacokal asacoka\n",
      "cabinet medical doniya cabinet medical anta\n",
      "cabinet medical wassa cabinet mã©dical wassa\n",
      "cabinet mã©dical - siloe cabinet mã©dical jasmine\n",
      "clinique safi clinique lafia\n",
      "asacokalko asacoka\n"
     ]
    },
    {
     "name": "stderr",
     "output_type": "stream",
     "text": [
      "195it [00:02, 81.61it/s]"
     ]
    },
    {
     "name": "stdout",
     "output_type": "stream",
     "text": [
      "cabinet mã©dical cocotier cabinet mã©dical doucoure\n",
      "clinique pape clinique pasteur\n",
      "polyclinique mohamed 5 polyclinique mohamed v\n",
      "clinique sadim clinique mariam\n",
      "cabinet medical ophtalmologie lafia cabinet mã©dical d'opthalmologie\n",
      "clinique medicale youma clinique medicale eureka\n",
      "cabinet sage femme ouidah cabinet sage-femme nacoura\n"
     ]
    },
    {
     "name": "stderr",
     "output_type": "stream",
     "text": [
      "214it [00:02, 73.42it/s]"
     ]
    },
    {
     "name": "stdout",
     "output_type": "stream",
     "text": [
      "asacobafa asacobafa\n",
      "clinique medical banan clinique medical brico\n",
      "cabinet dily cabinet medical\n",
      "medical teriya medical teriya\n",
      "clinique nour clinique nour\n",
      "asacocy asacocy\n",
      "medical bayo assa cabinet medical bayo assa\n",
      "asacofa asacofa\n",
      "cabinet medical  bara cabinet medical anta\n",
      "cabinet medical djidia cabinet medical anta\n",
      "cabinet medical keneya cabinet medical anta\n"
     ]
    },
    {
     "name": "stderr",
     "output_type": "stream",
     "text": [
      "241it [00:03, 70.65it/s]"
     ]
    },
    {
     "name": "stdout",
     "output_type": "stream",
     "text": [
      "cabinet medical  nadja cabinet medical anta\n",
      "asacoma asacoka\n",
      "clinique reference clinique experience\n",
      "asacomiss asacomi\n",
      "clinique espoir clinique espoir\n",
      "asaconia asaconia\n",
      "cabinet koura cabinet nouna\n",
      "cabinet medical keneyassoâ cabinet medical keneyasso de garalo\n"
     ]
    },
    {
     "name": "stderr",
     "output_type": "stream",
     "text": [
      "287it [00:03, 93.68it/s]"
     ]
    },
    {
     "name": "stdout",
     "output_type": "stream",
     "text": [
      "infirmerie garnison base aerienne 101 senou infirmerie garnison base aã©rienne 101 senou\n",
      "asacoso asacoko\n",
      "clinique  medical atlas clinique mã©dicale salam\n",
      "clinique mã©dical mahadi clinique mã©dicale defi\n",
      "dangha dangha\n"
     ]
    },
    {
     "name": "stderr",
     "output_type": "stream",
     "text": [
      "411it [00:04, 117.78it/s]"
     ]
    },
    {
     "name": "stdout",
     "output_type": "stream",
     "text": [
      "cabinet medical mohamed v cabinet medical mozart\n",
      "cabinet mã©dical yonkissaha cabinet medical yonki saha\n",
      "cabinet mã©dical djiguiya cabinet mã©dical daou\n",
      "cabinet de soins koumpoula cabinet de soins soungoba\n"
     ]
    },
    {
     "name": "stderr",
     "output_type": "stream",
     "text": [
      "439it [00:04, 87.89it/s] "
     ]
    },
    {
     "name": "stdout",
     "output_type": "stream",
     "text": [
      "cabinet de soins diamtan cabinet de soin titi\n",
      "cabinet mã©dical - amina cabinet mã©dical amza\n",
      "cabinet mã©dical oumar - sy cabinet mã©dical koumarã© yaya\n",
      "de santã© de sobocou de santã© de foulabougou\n",
      "cabinet mã©dical espoir cabinet mã©dical santoro\n"
     ]
    },
    {
     "name": "stderr",
     "output_type": "stream",
     "text": [
      "464it [00:05, 82.15it/s]"
     ]
    },
    {
     "name": "stdout",
     "output_type": "stream",
     "text": [
      "cabinet mã©dical lafiabougou - sud cabinet medical lafia-sud\n",
      "cabinet mã©dical mali sadio cabinet mã©dical wassa\n",
      "cabinet mã©dical tã©riya cabinet mã©dical mandã©\n",
      "cabinet mã©dical du fleuve cabinet mã©dical doucoure\n"
     ]
    },
    {
     "name": "stderr",
     "output_type": "stream",
     "text": [
      "512it [00:05, 97.18it/s]"
     ]
    },
    {
     "name": "stdout",
     "output_type": "stream",
     "text": [
      "cabinet mã©dical bien etre cabinet mã©dical kita gare\n",
      "cabinet mã©dical keneyasso cabinet mã©dical keneya blow\n",
      "cabinet lafia cabinet maliba\n",
      "cabinet mã©dical keneyasso koffi cabinet mã©dical keneya blow\n"
     ]
    },
    {
     "name": "stderr",
     "output_type": "stream",
     "text": [
      "\r",
      "525it [00:05, 67.17it/s]"
     ]
    },
    {
     "name": "stdout",
     "output_type": "stream",
     "text": [
      "cabinet mã©dical danaya cabinet mã©dical badenya\n",
      "cabinet mã©dical destin cabinet mã©dical jasmine\n",
      "cabinet mã©dical keneyaboulo cabinet mã©dical keneya blow\n"
     ]
    },
    {
     "name": "stderr",
     "output_type": "stream",
     "text": [
      "582it [00:06, 98.56it/s]"
     ]
    },
    {
     "name": "stdout",
     "output_type": "stream",
     "text": [
      "cabinet mã©dical demba gadiaba cabinet mã©dicale adam\n",
      "cabinet mã©dical silangroi cabinet mã©dical santoro\n"
     ]
    },
    {
     "name": "stderr",
     "output_type": "stream",
     "text": [
      "649it [00:06, 117.48it/s]"
     ]
    },
    {
     "name": "stdout",
     "output_type": "stream",
     "text": [
      "cabinet mã©dical diafounou cabinet mã©dical daou\n",
      "cabinet mã©dical zantonon cabinet mã©dical santoro\n",
      "cabinet mã©dical kaniaga cabinet mã©dical kita gare\n"
     ]
    },
    {
     "name": "stderr",
     "output_type": "stream",
     "text": [
      "\r",
      "665it [00:07, 87.57it/s] "
     ]
    },
    {
     "name": "stdout",
     "output_type": "stream",
     "text": [
      "cabinet medical yonki saha cabinet medical yonki saha\n",
      "cabinet mã©dical kremissoise cabinet mã©dical rosette\n",
      "cabinet mã©dical balanzan cabinet mã©dical amza\n"
     ]
    },
    {
     "name": "stderr",
     "output_type": "stream",
     "text": [
      "\r",
      "678it [00:07, 69.59it/s]"
     ]
    },
    {
     "name": "stdout",
     "output_type": "stream",
     "text": [
      "cabinet mã©dical sambakanou cabinet mã‰dical samba\n",
      "cabinet mã©dical yonki saha cabinet medical yonki saha\n",
      "cabinet mã©dical wassoulou cabinet mã©dical wassa\n"
     ]
    },
    {
     "name": "stderr",
     "output_type": "stream",
     "text": [
      "741it [00:07, 100.44it/s]"
     ]
    },
    {
     "name": "stdout",
     "output_type": "stream",
     "text": [
      "cabinet medical nando cabinet medical anta\n",
      "cabinet mã©dical baniko cabinet mã©dical fakola\n",
      "cabinet de consultation liberte cabinet de consultations\n"
     ]
    },
    {
     "name": "stderr",
     "output_type": "stream",
     "text": [
      "770it [00:08, 88.89it/s] "
     ]
    },
    {
     "name": "stdout",
     "output_type": "stream",
     "text": [
      "cabinet mã©dical kolombada cabinet mã©dical fakola\n",
      "koni kondi\n",
      "clinique mã©dicale dinandougou clinique mã©dicale wagadou\n"
     ]
    },
    {
     "name": "stderr",
     "output_type": "stream",
     "text": [
      "829it [00:08, 131.23it/s]"
     ]
    },
    {
     "name": "stdout",
     "output_type": "stream",
     "text": [
      "danga dangha\n"
     ]
    },
    {
     "name": "stderr",
     "output_type": "stream",
     "text": [
      "871it [00:08, 126.47it/s]"
     ]
    },
    {
     "name": "stdout",
     "output_type": "stream",
     "text": [
      "cabinet mã©dical beledougou cabinet mã©dical doucoure\n",
      "nossombougou kossambougou\n",
      "chola chouala\n"
     ]
    },
    {
     "name": "stderr",
     "output_type": "stream",
     "text": [
      "902it [00:08, 103.86it/s]"
     ]
    },
    {
     "name": "stdout",
     "output_type": "stream",
     "text": [
      "cabinet mã©dical oumar diallo cabinet mã©dical koumarã© yaya\n",
      "tougouni bougouni\n"
     ]
    },
    {
     "name": "stderr",
     "output_type": "stream",
     "text": [
      "964it [00:09, 146.96it/s]"
     ]
    },
    {
     "name": "stdout",
     "output_type": "stream",
     "text": [
      "cabinet mã©dical espoir cabinet mã©dical santoro\n"
     ]
    },
    {
     "name": "stderr",
     "output_type": "stream",
     "text": [
      "\r",
      "987it [00:09, 149.39it/s]"
     ]
    },
    {
     "name": "stdout",
     "output_type": "stream",
     "text": [
      "mka central pmi central\n",
      "cabinet medical le hogon cabinet medical le soutien\n"
     ]
    },
    {
     "name": "stderr",
     "output_type": "stream",
     "text": [
      "1026it [00:09, 132.82it/s]"
     ]
    },
    {
     "name": "stdout",
     "output_type": "stream",
     "text": [
      "cabinet medical yate cabinet medical anta\n",
      "sangha dangha\n"
     ]
    },
    {
     "name": "stderr",
     "output_type": "stream",
     "text": [
      "1055it [00:09, 129.92it/s]"
     ]
    },
    {
     "name": "stdout",
     "output_type": "stream",
     "text": [
      "cabinet mã©dical seno cabinet mã©dical santoro\n",
      "niaouro nioro\n"
     ]
    },
    {
     "name": "stderr",
     "output_type": "stream",
     "text": [
      "1126it [00:10, 176.03it/s]"
     ]
    },
    {
     "name": "stdout",
     "output_type": "stream",
     "text": [
      "cabinet mã©dical toguna cabinet mã©dical fona\n",
      "cabinet mã©dical duflo cabinet mã©dical fona\n",
      "cabinet mã©dical mawa cabinet mã©dical amza\n"
     ]
    },
    {
     "name": "stderr",
     "output_type": "stream",
     "text": [
      "1162it [00:10, 125.02it/s]"
     ]
    },
    {
     "name": "stdout",
     "output_type": "stream",
     "text": [
      "cabinet nando cabinet mande\n",
      "cabinet groupe mã©dical cabinet mã©dical\n",
      "cabinet medical les etoiles cabinet medical le secours\n"
     ]
    },
    {
     "name": "stderr",
     "output_type": "stream",
     "text": [
      "1221it [00:11, 142.17it/s]"
     ]
    },
    {
     "name": "stdout",
     "output_type": "stream",
     "text": [
      "cabinet mã©dical fraternitã© cabinet mã©dical mandã©\n",
      "cabinet mã©dical de manankoro cabinet mã©dical santoro\n"
     ]
    },
    {
     "name": "stderr",
     "output_type": "stream",
     "text": [
      "1263it [00:11, 145.70it/s]"
     ]
    },
    {
     "name": "stdout",
     "output_type": "stream",
     "text": [
      "cabinet medical folona cabinet mã©dical fona\n",
      "kai kati\n",
      "cabinet  medical toguna cabinet medical anta\n"
     ]
    },
    {
     "name": "stderr",
     "output_type": "stream",
     "text": [
      "1298it [00:11, 117.51it/s]"
     ]
    },
    {
     "name": "stdout",
     "output_type": "stream",
     "text": [
      "cabinet de soins pitiagoma cabinet de soin titi\n",
      "cabinet  medical keneya cabinet medical anta\n",
      "cabinet mã©dical nord sud cabinet mã©dical daou\n"
     ]
    },
    {
     "name": "stderr",
     "output_type": "stream",
     "text": [
      "\r",
      "1313it [00:12, 86.52it/s] "
     ]
    },
    {
     "name": "stdout",
     "output_type": "stream",
     "text": [
      "cabinet medical solidarite cabinet medical mozart\n",
      "cabinet medical alliance cabinet medical anta\n",
      "cabinet de soins ngolodiana cabinet de soins soungoba\n"
     ]
    },
    {
     "name": "stderr",
     "output_type": "stream",
     "text": [
      "1352it [00:12, 106.10it/s]"
     ]
    },
    {
     "name": "stdout",
     "output_type": "stream",
     "text": [
      "maison mã©dicale maison medicale\n",
      "koloni kolokani\n",
      "clinique lafia clinique lafia\n"
     ]
    },
    {
     "name": "stderr",
     "output_type": "stream",
     "text": [
      "1428it [00:12, 145.69it/s]"
     ]
    },
    {
     "name": "stdout",
     "output_type": "stream",
     "text": [
      "cabinet medical la reference cabinet mã©dical la rã©fã©rance\n",
      "kouloukan kolokani\n"
     ]
    },
    {
     "name": "stderr",
     "output_type": "stream",
     "text": [
      "1465it [00:13, 149.25it/s]"
     ]
    },
    {
     "name": "stdout",
     "output_type": "stream",
     "text": [
      "cabinet de soins ifm cabinet de soins chã©rif\n",
      "cabinet de soins keneya so cabinet de soins teriya\n",
      "cabinet de soins djiguiya cabinet de soins teriya\n"
     ]
    },
    {
     "name": "stderr",
     "output_type": "stream",
     "text": [
      "1526it [00:13, 149.67it/s]"
     ]
    },
    {
     "name": "stdout",
     "output_type": "stream",
     "text": [
      "cabinet berthela cabinet bere\n",
      "bogoni bougouni\n"
     ]
    },
    {
     "name": "stderr",
     "output_type": "stream",
     "text": [
      "1586it [00:13, 125.98it/s]"
     ]
    },
    {
     "name": "stdout",
     "output_type": "stream",
     "text": [
      "cabinet mã©dical ba mariama cabinet mã©dical amza\n",
      "cabinet de soins lafia cabinet de soins teriya\n",
      "cabinet de soins keneya cabinet de soins teriya\n"
     ]
    },
    {
     "name": "stderr",
     "output_type": "stream",
     "text": [
      "1629it [00:14, 126.45it/s]"
     ]
    },
    {
     "name": "stdout",
     "output_type": "stream",
     "text": [
      "cabinet de soins nantenin cabinet de soins teriya\n",
      "cabinet medical a. ongoiba cabinet medical anta\n",
      "clinique keneya clinique keneya\n"
     ]
    },
    {
     "name": "stderr",
     "output_type": "stream",
     "text": [
      "\r",
      "1645it [00:14, 112.44it/s]"
     ]
    },
    {
     "name": "stdout",
     "output_type": "stream",
     "text": [
      "cabinet mã©dical yadama keneyaso cabinet mã©dical badenya\n",
      "clinique mã©dicale lafia clinique mã©dicale defi\n"
     ]
    },
    {
     "name": "stderr",
     "output_type": "stream",
     "text": [
      "1678it [00:14, 99.65it/s] "
     ]
    },
    {
     "name": "stdout",
     "output_type": "stream",
     "text": [
      "clinique mã©dicale alassane clinique mã©dicale salam\n",
      "clinique mã©dicale balimaya clinique mã©dicale salam\n",
      "clinique mã©dicale santoro clinique mã©dicale salam\n",
      "cabinet de soins yaya cabinet de soins teriya\n"
     ]
    },
    {
     "name": "stderr",
     "output_type": "stream",
     "text": [
      "1719it [00:15, 116.03it/s]"
     ]
    },
    {
     "name": "stdout",
     "output_type": "stream",
     "text": [
      "maternitã© rurale de manzara maternite rurale de nansala\n",
      "sidosoninkoura cscom sidosoninkoura\n"
     ]
    },
    {
     "name": "stderr",
     "output_type": "stream",
     "text": [
      "1784it [00:15, 137.59it/s]"
     ]
    },
    {
     "name": "stdout",
     "output_type": "stream",
     "text": [
      "cabinet mãdical espoir cabinet mã©dical santoro\n",
      "arham arham\n",
      "bourem sidi amar bourem sidi amar\n"
     ]
    },
    {
     "name": "stderr",
     "output_type": "stream",
     "text": [
      "\r",
      "1800it [00:15, 103.64it/s]"
     ]
    },
    {
     "name": "stdout",
     "output_type": "stream",
     "text": [
      "dangha dangha\n",
      "garbacoira garbacoira\n",
      "kondi kondi\n"
     ]
    },
    {
     "name": "stderr",
     "output_type": "stream",
     "text": [
      "1891it [00:16, 117.91it/s]\n"
     ]
    }
   ],
   "source": [
    "for idx, row in tqdm(records.iterrows()):\n",
    "    \n",
    "    # Check if there is another entry with location\n",
    "    match, score = match_name(row.NAME, list(nodes_io['name']), 80)\n",
    "    \n",
    "    if score > 0:\n",
    "        print(row.NAME, match)\n",
    "        matching_row = nodes_io.loc[nodes_io['name']==match].copy()\n",
    "        res = matching_row.iloc[0]\n",
    "        \n",
    "        geocoded=False\n",
    "        if not pd.isna(row.adm3):\n",
    "            adm3 = geob3.loc[geob3['shapeName'] == row['adm3']].copy()\n",
    "            if adm3.contains(res.geometry).values[0] == True:\n",
    "                records.loc[idx, \"longitude\"] = res.geometry.x\n",
    "                records.loc[idx, \"latitude\"] = res.geometry.y\n",
    "                records.loc[idx, \"geocoding_method\"] = \"Location from Health Sites IO and within admin 3\"\n",
    "                geocoded=True\n",
    "        \n",
    "        if (geocoded==False) and (not pd.isna(row.adm2)):\n",
    "            adm2 = geob2.loc[geob2['shapeName'] == row['adm2']].copy()\n",
    "            if adm2.contains(res.geometry).values[0] == True:            \n",
    "                records.loc[idx, \"longitude\"] = res.geometry.x\n",
    "                records.loc[idx, \"latitude\"] = res.geometry.y\n",
    "                records.loc[idx, \"geocoding_method\"] = \"Location from Health Sites IO and within admin 2\"\n",
    "                geocoded=True\n",
    "                \n",
    "        if geocoded==False:\n",
    "            records.loc[idx, \"longitude\"] = res.geometry.x\n",
    "            records.loc[idx, \"latitude\"] = res.geometry.y\n",
    "            records.loc[idx, \"geocoding_method\"] = \"Location from Health Sites IO and without admin verification\"\n"
   ]
  },
  {
   "cell_type": "code",
   "execution_count": 743,
   "metadata": {},
   "outputs": [
    {
     "data": {
      "text/html": [
       "<style type=\"text/css\">\n",
       "</style>\n",
       "<table id=\"T_40fee_\">\n",
       "  <thead>\n",
       "    <tr>\n",
       "      <th class=\"blank level0\" >&nbsp;</th>\n",
       "      <th class=\"col_heading level0 col0\" >count</th>\n",
       "      <th class=\"col_heading level0 col1\" >pct</th>\n",
       "    </tr>\n",
       "    <tr>\n",
       "      <th class=\"index_name level0\" >geocoding_method</th>\n",
       "      <th class=\"blank col0\" >&nbsp;</th>\n",
       "      <th class=\"blank col1\" >&nbsp;</th>\n",
       "    </tr>\n",
       "  </thead>\n",
       "  <tbody>\n",
       "    <tr>\n",
       "      <th id=\"T_40fee_level0_row0\" class=\"row_heading level0 row0\" >Location from Health Sites IO and within admin 2</th>\n",
       "      <td id=\"T_40fee_row0_col0\" class=\"data row0 col0\" >5</td>\n",
       "      <td id=\"T_40fee_row0_col1\" class=\"data row0 col1\" >0.3%</td>\n",
       "    </tr>\n",
       "    <tr>\n",
       "      <th id=\"T_40fee_level0_row1\" class=\"row_heading level0 row1\" >Location from Health Sites IO and within admin 3</th>\n",
       "      <td id=\"T_40fee_row1_col0\" class=\"data row1 col0\" >10</td>\n",
       "      <td id=\"T_40fee_row1_col1\" class=\"data row1 col1\" >0.5%</td>\n",
       "    </tr>\n",
       "    <tr>\n",
       "      <th id=\"T_40fee_level0_row2\" class=\"row_heading level0 row2\" >Location from Health Sites IO and without admin verification</th>\n",
       "      <td id=\"T_40fee_row2_col0\" class=\"data row2 col0\" >180</td>\n",
       "      <td id=\"T_40fee_row2_col1\" class=\"data row2 col1\" >9.5%</td>\n",
       "    </tr>\n",
       "    <tr>\n",
       "      <th id=\"T_40fee_level0_row3\" class=\"row_heading level0 row3\" >None</th>\n",
       "      <td id=\"T_40fee_row3_col0\" class=\"data row3 col0\" >1696</td>\n",
       "      <td id=\"T_40fee_row3_col1\" class=\"data row3 col1\" >89.7%</td>\n",
       "    </tr>\n",
       "  </tbody>\n",
       "</table>\n"
      ],
      "text/plain": [
       "<pandas.io.formats.style.Styler at 0x7f0bc58cf198>"
      ]
     },
     "execution_count": 743,
     "metadata": {},
     "output_type": "execute_result"
    }
   ],
   "source": [
    "report_geocoding(records)"
   ]
  },
  {
   "cell_type": "markdown",
   "metadata": {},
   "source": [
    "## RHINoVision Master Facility List Decision Support System"
   ]
  },
  {
   "cell_type": "code",
   "execution_count": 744,
   "metadata": {},
   "outputs": [],
   "source": [
    "#rhino = pd.read_excel(os.path.join(input_dir, \"rhino\", \"00 SSA MFL (130219).xlsx\"), 0)\n",
    "rhino = pd.read_csv(os.path.join(input_dir, \"rhino\", \"00 SSA MFL (130219).csv\"))"
   ]
  },
  {
   "cell_type": "code",
   "execution_count": 745,
   "metadata": {},
   "outputs": [],
   "source": [
    "rhino = rhino.loc[rhino.Country==\"Mali\"].copy()"
   ]
  },
  {
   "cell_type": "code",
   "execution_count": 746,
   "metadata": {},
   "outputs": [],
   "source": [
    "rhino['name'] = rhino['Facility name'].str.lower()"
   ]
  },
  {
   "cell_type": "code",
   "execution_count": 747,
   "metadata": {},
   "outputs": [],
   "source": [
    "remove_words(rhino, 'name')"
   ]
  },
  {
   "cell_type": "code",
   "execution_count": 748,
   "metadata": {},
   "outputs": [],
   "source": [
    "rhino.loc[:, \"geometry\"] = rhino.apply(lambda x: Point(x.Long, x.Lat), axis=1)\n",
    "rhino = gpd.GeoDataFrame(rhino, geometry='geometry', crs='EPSG:4326')"
   ]
  },
  {
   "cell_type": "markdown",
   "metadata": {},
   "source": [
    "### note: since only partial matches with admin 3 and admin 2, matching will occur if point is witin the district or not. However, since there is no point in district validation, increase the matching benchmark."
   ]
  },
  {
   "cell_type": "code",
   "execution_count": 749,
   "metadata": {
    "scrolled": true
   },
   "outputs": [
    {
     "name": "stderr",
     "output_type": "stream",
     "text": [
      "22it [00:00, 190.19it/s]"
     ]
    },
    {
     "name": "stdout",
     "output_type": "stream",
     "text": [
      "asacko nord asaconord\n",
      "asacos asacose\n",
      "asacosisou asacosisou\n",
      "abosac abosac\n",
      "boniaba boniaba\n"
     ]
    },
    {
     "name": "stderr",
     "output_type": "stream",
     "text": [
      "84it [00:00, 177.14it/s]"
     ]
    },
    {
     "name": "stdout",
     "output_type": "stream",
     "text": [
      "asacodrab asacodrab\n",
      "asacokoul-point asacokoul point\n",
      "asacotom asacotom\n",
      "ascodar asacodar\n",
      "asacodjeneka asacodjeneka\n",
      "asacoham asacoham\n"
     ]
    },
    {
     "name": "stderr",
     "output_type": "stream",
     "text": [
      "136it [00:00, 157.42it/s]"
     ]
    },
    {
     "name": "stdout",
     "output_type": "stream",
     "text": [
      "asacola1 asacola i\n",
      "asacola2 asacola i\n",
      "asacolab5 asacola b5\n",
      "asacolabasad asacolabasad\n",
      "asacosek asacosek\n",
      "asacosekasi asacosekasi\n",
      "adasco adasco\n"
     ]
    },
    {
     "name": "stderr",
     "output_type": "stream",
     "text": [
      "195it [00:01, 142.32it/s]"
     ]
    },
    {
     "name": "stdout",
     "output_type": "stream",
     "text": [
      "asacokala aci asacokal aci\n",
      "asacosab1 asacosab i\n",
      "asacosab2 asacosab i\n",
      "asacosab3 asacosab i\n",
      "asacotoqua asacotoqua\n",
      "ascoda asacoda\n",
      "ascom-bacodji ascombacodji\n"
     ]
    },
    {
     "name": "stderr",
     "output_type": "stream",
     "text": [
      "249it [00:01, 184.87it/s]"
     ]
    },
    {
     "name": "stdout",
     "output_type": "stream",
     "text": [
      "aniasco aniasco\n",
      "asaco-sodia asacosodia\n",
      "asacose asacose\n",
      "asacoyici asacoyir\n",
      "asacoyir asacoyir\n"
     ]
    },
    {
     "name": "stderr",
     "output_type": "stream",
     "text": [
      "\r",
      "271it [00:01, 136.35it/s]"
     ]
    },
    {
     "name": "stdout",
     "output_type": "stream",
     "text": [
      "ersane ersane\n",
      "tabankort tabankort\n",
      "tarkint tarkint\n",
      "ansongo central niono central\n",
      "bara bara\n",
      "bazigourma bazi gourma\n",
      "bazihaoussa bazi haoussa\n",
      "bentia bentia\n",
      "fafa fafa\n",
      "hourara hourara\n",
      "indelimane indelimane\n",
      "labbã©zanga labbezanga\n",
      "lellehoye lellehoye\n",
      "ouatagouna ouattagouna\n"
     ]
    },
    {
     "name": "stderr",
     "output_type": "stream",
     "text": [
      "\r",
      "289it [00:02, 62.73it/s] "
     ]
    },
    {
     "name": "stdout",
     "output_type": "stream",
     "text": [
      "talataye talataye\n",
      "tassiga tassiga\n",
      "tessit tessit\n",
      "tinhamma tin-hamma\n",
      "abakoria abakoira\n",
      "bahondo bahondo\n",
      "baria baria\n",
      "bourem central bourem central\n"
     ]
    },
    {
     "name": "stderr",
     "output_type": "stream",
     "text": [
      "\r",
      "302it [00:02, 40.43it/s]"
     ]
    },
    {
     "name": "stdout",
     "output_type": "stream",
     "text": [
      "chabaria chabaria\n",
      "ha ha\n",
      "imilach imilache\n",
      "karabassane karabassane\n"
     ]
    },
    {
     "name": "stderr",
     "output_type": "stream",
     "text": [
      "\r",
      "312it [00:03, 40.34it/s]"
     ]
    },
    {
     "name": "stdout",
     "output_type": "stream",
     "text": [
      "kermachoe kermachoe\n",
      "moudakane moudakane\n",
      "taboye taboye\n",
      "tinsako tinsakou\n"
     ]
    },
    {
     "name": "stderr",
     "output_type": "stream",
     "text": [
      "\r",
      "321it [00:03, 39.28it/s]"
     ]
    },
    {
     "name": "stdout",
     "output_type": "stream",
     "text": [
      "aljanabandja aljanabandja\n",
      "bagnandji bagnadji\n",
      "berrah berrah\n",
      "boulgoundje boulgoundie\n",
      "boya boya\n"
     ]
    },
    {
     "name": "stderr",
     "output_type": "stream",
     "text": [
      "\r",
      "328it [00:03, 33.56it/s]"
     ]
    },
    {
     "name": "stdout",
     "output_type": "stream",
     "text": [
      "diebock djebock\n",
      "dorey doreye\n",
      "doro dioro\n",
      "forgo forgho\n"
     ]
    },
    {
     "name": "stderr",
     "output_type": "stream",
     "text": [
      "\r",
      "334it [00:03, 30.89it/s]"
     ]
    },
    {
     "name": "stdout",
     "output_type": "stream",
     "text": [
      "gadeye gadeye\n",
      "gargouna gargouna\n",
      "hamakouladji hamakouladji\n",
      "haoussa foulane haoussa foulane\n"
     ]
    },
    {
     "name": "stderr",
     "output_type": "stream",
     "text": [
      "345it [00:04, 35.19it/s]"
     ]
    },
    {
     "name": "stdout",
     "output_type": "stream",
     "text": [
      "iminaguel imnaguel\n",
      "lobou lobou\n",
      "ntahaka ntahaka\n",
      "sossokoira sossokoira\n"
     ]
    },
    {
     "name": "stderr",
     "output_type": "stream",
     "text": [
      "357it [00:04, 36.02it/s]"
     ]
    },
    {
     "name": "stdout",
     "output_type": "stream",
     "text": [
      "tacharane tacharane\n",
      "tamakoutat tamkoutat\n",
      "tin aouker tin aouker\n",
      "wabaria wabaria\n",
      "zinda zinda\n"
     ]
    },
    {
     "name": "stderr",
     "output_type": "stream",
     "text": [
      "\r",
      "362it [00:04, 33.02it/s]"
     ]
    },
    {
     "name": "stdout",
     "output_type": "stream",
     "text": [
      "bamafele bamafele\n",
      "diakaba diakaba\n",
      "diakitela diakitela\n",
      "dialakon diakon\n"
     ]
    },
    {
     "name": "stderr",
     "output_type": "stream",
     "text": [
      "\r",
      "366it [00:04, 25.31it/s]"
     ]
    },
    {
     "name": "stdout",
     "output_type": "stream",
     "text": [
      "diokeli diokeli\n",
      "gounfan gounfan\n",
      "koundian koundian\n"
     ]
    },
    {
     "name": "stderr",
     "output_type": "stream",
     "text": [
      "377it [00:05, 30.12it/s]"
     ]
    },
    {
     "name": "stdout",
     "output_type": "stream",
     "text": [
      "mahina mahina\n",
      "marena marena\n",
      "neguetabali neguetabali\n",
      "oualia oualia\n"
     ]
    },
    {
     "name": "stderr",
     "output_type": "stream",
     "text": [
      "384it [00:05, 25.24it/s]"
     ]
    },
    {
     "name": "stdout",
     "output_type": "stream",
     "text": [
      "ouassala ouassala\n",
      "selinkegny selinkegni\n",
      "sitakoto sitaninkoto\n",
      "bema bema\n"
     ]
    },
    {
     "name": "stderr",
     "output_type": "stream",
     "text": [
      "\r",
      "387it [00:05, 22.69it/s]"
     ]
    },
    {
     "name": "stdout",
     "output_type": "stream",
     "text": [
      "dianguirde dianguirde\n",
      "dianguounte camara diangounte camara\n",
      "dioumara dioumara\n",
      "diema central diema central\n"
     ]
    },
    {
     "name": "stderr",
     "output_type": "stream",
     "text": [
      "395it [00:05, 26.92it/s]"
     ]
    },
    {
     "name": "stdout",
     "output_type": "stream",
     "text": [
      "dieoura dieoura\n",
      "debomassassi debomassassi\n",
      "farabougou farabougou\n",
      "fassoudebe fassoudebe\n",
      "fatao fatao\n"
     ]
    },
    {
     "name": "stderr",
     "output_type": "stream",
     "text": [
      "402it [00:06, 24.93it/s]"
     ]
    },
    {
     "name": "stdout",
     "output_type": "stream",
     "text": [
      "gomitradougou guomitradougou\n",
      "groumera groumera\n",
      "guedebine guedebine\n",
      "koungo koungo\n",
      "lakamane lakamane\n"
     ]
    },
    {
     "name": "stderr",
     "output_type": "stream",
     "text": [
      "412it [00:06, 27.83it/s]"
     ]
    },
    {
     "name": "stdout",
     "output_type": "stream",
     "text": [
      "lambidou lambidou\n",
      "lattakaf latakaff\n",
      "madiga sacko madiga sacko\n",
      "sansankide sansankide\n",
      "tinkare tinkare\n"
     ]
    },
    {
     "name": "stderr",
     "output_type": "stream",
     "text": [
      "\r",
      "416it [00:06, 25.10it/s]"
     ]
    },
    {
     "name": "stdout",
     "output_type": "stream",
     "text": [
      "torodo torodo\n",
      "ambidedi-poste ambidedi poste\n",
      "ambidedikore ambidedi-kore\n",
      "aourou aourou\n",
      "babala babala\n"
     ]
    },
    {
     "name": "stderr",
     "output_type": "stream",
     "text": [
      "423it [00:07, 22.70it/s]"
     ]
    },
    {
     "name": "stdout",
     "output_type": "stream",
     "text": [
      "bafarara bafarara\n",
      "batama batama\n",
      "boutinguisse bountinguisse\n",
      "dagassenou dagassenou\n"
     ]
    },
    {
     "name": "stderr",
     "output_type": "stream",
     "text": [
      "430it [00:07, 25.16it/s]"
     ]
    },
    {
     "name": "stdout",
     "output_type": "stream",
     "text": [
      "dialakasso diala khasso\n",
      "dialane diallane\n",
      "diamou diamou\n",
      "diboli diboli\n"
     ]
    },
    {
     "name": "stderr",
     "output_type": "stream",
     "text": [
      "\r",
      "433it [00:07, 21.02it/s]"
     ]
    },
    {
     "name": "stdout",
     "output_type": "stream",
     "text": [
      "djinguilou djinguilou\n",
      "dramane dramane\n",
      "fegui fegui\n",
      "gabou gabou\n"
     ]
    },
    {
     "name": "stderr",
     "output_type": "stream",
     "text": [
      "439it [00:07, 18.00it/s]"
     ]
    },
    {
     "name": "stdout",
     "output_type": "stream",
     "text": [
      "gory-gopela gori - gopela\n",
      "goumera goumera\n",
      "gounka goundaka\n",
      "kakadian kakadian\n"
     ]
    },
    {
     "name": "stderr",
     "output_type": "stream",
     "text": [
      "449it [00:08, 23.75it/s]"
     ]
    },
    {
     "name": "stdout",
     "output_type": "stream",
     "text": [
      "kayes ndi kayes ndi\n",
      "koniakary koniakary\n",
      "kouloun koulou\n",
      "koussane koussane\n"
     ]
    },
    {
     "name": "stderr",
     "output_type": "stream",
     "text": [
      "459it [00:08, 29.25it/s]"
     ]
    },
    {
     "name": "stdout",
     "output_type": "stream",
     "text": [
      "cmie kayes lafiabougou kayes lafiabougou\n",
      "lany-tounka lany tounka\n",
      "logo-saboussire logosaboucire\n",
      "lontou lontou\n"
     ]
    },
    {
     "name": "stderr",
     "output_type": "stream",
     "text": [
      "\r",
      "463it [00:08, 24.82it/s]"
     ]
    },
    {
     "name": "stdout",
     "output_type": "stream",
     "text": [
      "leya leya\n",
      "marena-diombougou marena diombougou\n",
      "marena-gadiaga marena gadiaga\n",
      "niamiga niamiga\n"
     ]
    },
    {
     "name": "stderr",
     "output_type": "stream",
     "text": [
      "473it [00:08, 31.36it/s]"
     ]
    },
    {
     "name": "stdout",
     "output_type": "stream",
     "text": [
      "plateau plateau\n",
      "sadiola sadiola\n",
      "segala segala\n",
      "selifely selifely\n",
      "serenaty serenaty\n"
     ]
    },
    {
     "name": "stderr",
     "output_type": "stream",
     "text": [
      "\r",
      "477it [00:09, 24.79it/s]"
     ]
    },
    {
     "name": "stdout",
     "output_type": "stream",
     "text": [
      "sero sero\n",
      "somankidi somankidi\n",
      "tafassirga tafacirga\n",
      "troun troun\n"
     ]
    },
    {
     "name": "stderr",
     "output_type": "stream",
     "text": [
      "484it [00:09, 23.38it/s]"
     ]
    },
    {
     "name": "stdout",
     "output_type": "stream",
     "text": [
      "balandougou balandougou\n",
      "baye-kenieba baye kenieba\n",
      "dabia dabia\n",
      "diabarou diabarou\n"
     ]
    },
    {
     "name": "stderr",
     "output_type": "stream",
     "text": [
      "490it [00:09, 24.97it/s]"
     ]
    },
    {
     "name": "stdout",
     "output_type": "stream",
     "text": [
      "dittin dittin\n",
      "dombia dombia\n",
      "fadougou madougou\n",
      "falea falea\n"
     ]
    },
    {
     "name": "stderr",
     "output_type": "stream",
     "text": [
      "501it [00:10, 29.80it/s]"
     ]
    },
    {
     "name": "stdout",
     "output_type": "stream",
     "text": [
      "faraba faraba\n",
      "guene-gore guenegore\n",
      "guenoubatan guenoubantan\n",
      "kassama kassama\n",
      "kouroukoto kouroukoto\n",
      "kenieba central kenieba central\n"
     ]
    },
    {
     "name": "stderr",
     "output_type": "stream",
     "text": [
      "514it [00:10, 38.09it/s]"
     ]
    },
    {
     "name": "stdout",
     "output_type": "stream",
     "text": [
      "keniegoulou keniegoulou\n",
      "sagalo sagalo\n",
      "sanfagadala sanfagadala\n",
      "sitakily sitakily\n"
     ]
    },
    {
     "name": "stderr",
     "output_type": "stream",
     "text": [
      "525it [00:10, 42.66it/s]"
     ]
    },
    {
     "name": "stdout",
     "output_type": "stream",
     "text": [
      "tabakoto tabakoto\n",
      "tambafigna tambaga\n",
      "badinko badinko\n",
      "balandougou balandougou\n"
     ]
    },
    {
     "name": "stderr",
     "output_type": "stream",
     "text": [
      "\r",
      "530it [00:10, 38.90it/s]"
     ]
    },
    {
     "name": "stdout",
     "output_type": "stream",
     "text": [
      "bendougouba bendougouba\n",
      "boudofo boudofo\n",
      "bougaribaya bougaribaya\n"
     ]
    },
    {
     "name": "stderr",
     "output_type": "stream",
     "text": [
      "\r",
      "535it [00:10, 30.58it/s]"
     ]
    },
    {
     "name": "stdout",
     "output_type": "stream",
     "text": [
      "dafela dafela\n",
      "darsalam kita darsalam-kita\n",
      "djidian djidian\n",
      "fladougou marena fladougou marena\n",
      "founia moribougou founia-moribougou\n"
     ]
    },
    {
     "name": "stderr",
     "output_type": "stream",
     "text": [
      "542it [00:11, 23.66it/s]"
     ]
    },
    {
     "name": "stdout",
     "output_type": "stream",
     "text": [
      "goro goro\n",
      "guenikoro guenikoro\n",
      "kassaro kassaro\n",
      "kofeba kofeba\n"
     ]
    },
    {
     "name": "stderr",
     "output_type": "stream",
     "text": [
      "\r",
      "545it [00:11, 19.65it/s]"
     ]
    },
    {
     "name": "stdout",
     "output_type": "stream",
     "text": [
      "kokofata kokofata\n",
      "kotouba kotouba\n",
      "kourounikoto kourouninkoto\n"
     ]
    },
    {
     "name": "stderr",
     "output_type": "stream",
     "text": [
      "\r",
      "548it [00:11, 17.57it/s]"
     ]
    },
    {
     "name": "stdout",
     "output_type": "stream",
     "text": [
      "madina mahina\n",
      "makandiambougou makandiambougou\n",
      "namala nampala\n"
     ]
    },
    {
     "name": "stderr",
     "output_type": "stream",
     "text": [
      "561it [00:12, 24.77it/s]"
     ]
    },
    {
     "name": "stdout",
     "output_type": "stream",
     "text": [
      "sandiambougou sandiambougou\n",
      "sebekoro sebekoro\n",
      "senko senko\n",
      "sirakoro sirakoro\n",
      "sitanikoto sitaninkoto\n",
      "tambaga tambaga\n"
     ]
    },
    {
     "name": "stderr",
     "output_type": "stream",
     "text": [
      "\r",
      "564it [00:12, 24.42it/s]"
     ]
    },
    {
     "name": "stdout",
     "output_type": "stream",
     "text": [
      "toukoto toukoto\n",
      "awoiny awoiny\n",
      "banierekore baniere kore\n",
      "diabaguela diabaguela\n"
     ]
    },
    {
     "name": "stderr",
     "output_type": "stream",
     "text": [
      "570it [00:12, 22.48it/s]"
     ]
    },
    {
     "name": "stdout",
     "output_type": "stream",
     "text": [
      "diabidiala diabidiala\n",
      "diabigue diabigue\n",
      "dianwely kounda dianwely counda\n",
      "diarah diarrah\n",
      "diaye coura diaye koura\n"
     ]
    },
    {
     "name": "stderr",
     "output_type": "stream",
     "text": [
      "576it [00:12, 19.28it/s]"
     ]
    },
    {
     "name": "stdout",
     "output_type": "stream",
     "text": [
      "fosse karta fosse kaarta\n",
      "frandalla frandalah\n",
      "gadiaba kadiel gadiaba-kadiel\n",
      "gavinane gavinane\n"
     ]
    },
    {
     "name": "stderr",
     "output_type": "stream",
     "text": [
      "\r",
      "579it [00:13, 17.90it/s]"
     ]
    },
    {
     "name": "stdout",
     "output_type": "stream",
     "text": [
      "gogui gogui\n",
      "guetema guetema\n",
      "hamake hamake\n",
      "korera kore korera kore\n"
     ]
    },
    {
     "name": "stderr",
     "output_type": "stream",
     "text": [
      "587it [00:13, 21.35it/s]"
     ]
    },
    {
     "name": "stdout",
     "output_type": "stream",
     "text": [
      "kouroukere kouroukere\n",
      "monzombougou monzombougou\n",
      "sambagorã© sambagore\n",
      "sandare sandare\n",
      "simbi simbi\n"
     ]
    },
    {
     "name": "stderr",
     "output_type": "stream",
     "text": [
      "593it [00:13, 21.24it/s]"
     ]
    },
    {
     "name": "stdout",
     "output_type": "stream",
     "text": [
      "tichitt tichitt\n",
      "tintiba tintiba\n",
      "tourourou tourourou\n",
      "troungoumbe troungoumbe\n",
      "yerere yerere\n"
     ]
    },
    {
     "name": "stderr",
     "output_type": "stream",
     "text": [
      "599it [00:13, 21.01it/s]"
     ]
    },
    {
     "name": "stdout",
     "output_type": "stream",
     "text": [
      "youri youri\n",
      "bendougou bendougou\n",
      "diakon diakon\n",
      "diallan diallan\n",
      "djoufoya tintokan djoufoya tintoka\n",
      "douale douale\n"
     ]
    },
    {
     "name": "stderr",
     "output_type": "stream",
     "text": [
      "606it [00:14, 25.72it/s]"
     ]
    },
    {
     "name": "stdout",
     "output_type": "stream",
     "text": [
      "demeke demeke\n",
      "goundara goundara\n",
      "kembe kembe\n",
      "kolondinkoye kolondinkoye\n",
      "madalaya madalaya\n",
      "madihawaya madihawaya\n"
     ]
    },
    {
     "name": "stderr",
     "output_type": "stream",
     "text": [
      "612it [00:14, 27.14it/s]"
     ]
    },
    {
     "name": "stdout",
     "output_type": "stream",
     "text": [
      "modinkanou modincanou\n",
      "oussibidiagna oussoubidiagna\n",
      "sawane sawane\n",
      "sibindi sibindy\n",
      "sitakourou sitakourou\n",
      "tigana tigana\n",
      "toumbinassou toumbinassou\n"
     ]
    },
    {
     "name": "stderr",
     "output_type": "stream",
     "text": [
      "621it [00:14, 32.70it/s]"
     ]
    },
    {
     "name": "stdout",
     "output_type": "stream",
     "text": [
      "trentimou trentimou\n",
      "balea balea\n",
      "galle galle\n",
      "kabalea kabelea\n",
      "sagabari sagabari\n",
      "diougounte dioungounte\n"
     ]
    },
    {
     "name": "stderr",
     "output_type": "stream",
     "text": [
      "631it [00:14, 32.65it/s]"
     ]
    },
    {
     "name": "stdout",
     "output_type": "stream",
     "text": [
      "djougoun djougoun\n",
      "guemoukouraba guemoukouraba\n",
      "kagoro mountan kagoro-mountan\n",
      "kenienife kenienife\n",
      "niagane niagane\n",
      "sefeto sefeto\n"
     ]
    },
    {
     "name": "stderr",
     "output_type": "stream",
     "text": [
      "639it [00:15, 32.82it/s]"
     ]
    },
    {
     "name": "stdout",
     "output_type": "stream",
     "text": [
      "badiougoula bandiougoula\n",
      "biladjimi biladjimi\n",
      "dialaka dialaka\n",
      "dioncoulane dioncoulane\n",
      "diongaga diongaga\n"
     ]
    },
    {
     "name": "stderr",
     "output_type": "stream",
     "text": [
      "647it [00:15, 25.39it/s]"
     ]
    },
    {
     "name": "stdout",
     "output_type": "stream",
     "text": [
      "dogofri dogofri\n",
      "fanga fanga\n",
      "gory gory\n",
      "hamdallaye yelimane hamdallaye yelimane\n",
      "kanguessanou kanguessanou\n"
     ]
    },
    {
     "name": "stderr",
     "output_type": "stream",
     "text": [
      "657it [00:15, 26.94it/s]"
     ]
    },
    {
     "name": "stdout",
     "output_type": "stream",
     "text": [
      "kersignane kaniaga kersignane kaniaga\n",
      "kirane kirane\n",
      "kodje kodje\n",
      "kremis kremis\n",
      "lakanguemou lakanguemou\n"
     ]
    },
    {
     "name": "stderr",
     "output_type": "stream",
     "text": [
      "\r",
      "662it [00:15, 30.91it/s]"
     ]
    },
    {
     "name": "stdout",
     "output_type": "stream",
     "text": [
      "lambatra lambatra\n",
      "marena tringa marena tringa\n",
      "niogomera nogomera\n",
      "ouologuela ouologuela\n"
     ]
    },
    {
     "name": "stderr",
     "output_type": "stream",
     "text": [
      "669it [00:16, 23.65it/s]"
     ]
    },
    {
     "name": "stdout",
     "output_type": "stream",
     "text": [
      "sambaga sambaga\n",
      "takaba takaba\n",
      "tambacara tambacara\n",
      "waikanou waikanou\n",
      "yaguine yaguine\n"
     ]
    },
    {
     "name": "stderr",
     "output_type": "stream",
     "text": [
      "681it [00:16, 27.14it/s]"
     ]
    },
    {
     "name": "stdout",
     "output_type": "stream",
     "text": [
      "yelimane central yelimane central\n",
      "abeibara central abeibara central\n",
      "aghabo aghabo\n",
      "aliou aliou\n",
      "anefif anefif\n"
     ]
    },
    {
     "name": "stderr",
     "output_type": "stream",
     "text": [
      "687it [00:17, 24.33it/s]"
     ]
    },
    {
     "name": "stdout",
     "output_type": "stream",
     "text": [
      "essouk essouk\n",
      "etambar etambar\n",
      "intadeinit intadeyni\n",
      "kidal central kidal central\n",
      "taghrist taghrist\n"
     ]
    },
    {
     "name": "stderr",
     "output_type": "stream",
     "text": [
      "699it [00:17, 32.48it/s]"
     ]
    },
    {
     "name": "stdout",
     "output_type": "stream",
     "text": [
      "telabit telabit\n",
      "imboulal boulal\n",
      "banamba  central banamba central\n",
      "boron boron\n"
     ]
    },
    {
     "name": "stderr",
     "output_type": "stream",
     "text": [
      "\r",
      "703it [00:17, 33.48it/s]"
     ]
    },
    {
     "name": "stdout",
     "output_type": "stream",
     "text": [
      "bougouba bougoula\n",
      "guessene guessene\n",
      "kerouane kerouane\n",
      "kiban kiban\n"
     ]
    },
    {
     "name": "stderr",
     "output_type": "stream",
     "text": [
      "\r",
      "707it [00:17, 27.82it/s]"
     ]
    },
    {
     "name": "stdout",
     "output_type": "stream",
     "text": [
      "kolobo kolobo\n",
      "madina  sacko madina sacko\n",
      "ntiele ntiele\n",
      "ouaro ouaro\n"
     ]
    },
    {
     "name": "stderr",
     "output_type": "stream",
     "text": [
      "714it [00:18, 20.24it/s]"
     ]
    },
    {
     "name": "stdout",
     "output_type": "stream",
     "text": [
      "ouleni ouleny\n",
      "samakele samakele\n",
      "sebete sebete\n",
      "tota tota\n"
     ]
    },
    {
     "name": "stderr",
     "output_type": "stream",
     "text": [
      "720it [00:18, 20.18it/s]"
     ]
    },
    {
     "name": "stdout",
     "output_type": "stream",
     "text": [
      "touba touba\n",
      "toubacoro toubacoro\n",
      "toukoroba toukoroba\n",
      "bamanantoun bamanantoum\n",
      "banco banco\n",
      "bole bole\n"
     ]
    },
    {
     "name": "stderr",
     "output_type": "stream",
     "text": [
      "730it [00:18, 25.86it/s]"
     ]
    },
    {
     "name": "stdout",
     "output_type": "stream",
     "text": [
      "degnekoro degnekoro\n",
      "dioila central dioila central\n",
      "falakono falakono\n",
      "fissaba fissaba\n",
      "kola kola\n"
     ]
    },
    {
     "name": "stderr",
     "output_type": "stream",
     "text": [
      "736it [00:18, 24.06it/s]"
     ]
    },
    {
     "name": "stdout",
     "output_type": "stream",
     "text": [
      "kounabougou gounambougou\n",
      "maban maban\n",
      "massigui massigui\n",
      "n'gara ngara\n"
     ]
    },
    {
     "name": "stderr",
     "output_type": "stream",
     "text": [
      "\r",
      "739it [00:19, 20.69it/s]"
     ]
    },
    {
     "name": "stdout",
     "output_type": "stream",
     "text": [
      "n'golobougou ngolobougou\n",
      "n'tobougou ntobougou\n",
      "niantjila niantjila\n",
      "sanankoro sanankoro\n"
     ]
    },
    {
     "name": "stderr",
     "output_type": "stream",
     "text": [
      "\r",
      "742it [00:19, 18.85it/s]"
     ]
    },
    {
     "name": "stdout",
     "output_type": "stream",
     "text": [
      "senou senou\n",
      "seribila seribila\n",
      "togo togo\n"
     ]
    },
    {
     "name": "stderr",
     "output_type": "stream",
     "text": [
      "749it [00:19, 20.34it/s]"
     ]
    },
    {
     "name": "stdout",
     "output_type": "stream",
     "text": [
      "toukoro toukoroba\n",
      "wacoro wacoro\n",
      "bougoukourala bougoucourala\n",
      "dandougou dandougou\n",
      "diebe diebe\n"
     ]
    },
    {
     "name": "stderr",
     "output_type": "stream",
     "text": [
      "756it [00:19, 23.52it/s]"
     ]
    },
    {
     "name": "stdout",
     "output_type": "stream",
     "text": [
      "djoumazana djoumazana\n",
      "falako falako\n",
      "fana fanga\n",
      "fougadougou dougabougou\n",
      "kerela kerela\n"
     ]
    },
    {
     "name": "stderr",
     "output_type": "stream",
     "text": [
      "765it [00:20, 27.37it/s]"
     ]
    },
    {
     "name": "stdout",
     "output_type": "stream",
     "text": [
      "konkon konkon\n",
      "korokoro torokoro\n",
      "kotoula kotoula\n",
      "markacoungo marcacoungo\n",
      "mena mena\n",
      "nangola nangola\n"
     ]
    },
    {
     "name": "stderr",
     "output_type": "stream",
     "text": [
      "775it [00:20, 26.92it/s]"
     ]
    },
    {
     "name": "stdout",
     "output_type": "stream",
     "text": [
      "seyla seyla\n",
      "tingole tingole\n",
      "toukoro toukoroba\n",
      "baguineda baguineda\n",
      "dialakorobougou dialakorobougou\n",
      "falani falani\n"
     ]
    },
    {
     "name": "stderr",
     "output_type": "stream",
     "text": [
      "782it [00:20, 29.78it/s]"
     ]
    },
    {
     "name": "stdout",
     "output_type": "stream",
     "text": [
      "kabala babala\n",
      "kalabancoro kalabancoro\n",
      "kalabancoro nerecoro kalabancoro nerekoro\n",
      "kalabancro heremakono kalabancoro heremakono\n",
      "mountougoula mountougoula\n",
      "n'gouraba ngouraba\n"
     ]
    },
    {
     "name": "stderr",
     "output_type": "stream",
     "text": [
      "794it [00:21, 33.25it/s]"
     ]
    },
    {
     "name": "stdout",
     "output_type": "stream",
     "text": [
      "niamana niamana\n",
      "sanancoroba sanankoroba\n",
      "tanima tanima\n",
      "balan-bakama balan-bakama\n",
      "banancoro banankoro\n"
     ]
    },
    {
     "name": "stderr",
     "output_type": "stream",
     "text": [
      "802it [00:21, 28.99it/s]"
     ]
    },
    {
     "name": "stdout",
     "output_type": "stream",
     "text": [
      "faraba faraba\n",
      "figuira tomo figuiratomo\n",
      "kangaba central kangaba central\n",
      "karan karan\n",
      "kouremale kouremale\n"
     ]
    },
    {
     "name": "stderr",
     "output_type": "stream",
     "text": [
      "\r",
      "806it [00:21, 25.48it/s]"
     ]
    },
    {
     "name": "stdout",
     "output_type": "stream",
     "text": [
      "kenegoue keniegoue\n",
      "manicoura manincoura\n",
      "narena narena\n",
      "salamale salamale\n"
     ]
    },
    {
     "name": "stderr",
     "output_type": "stream",
     "text": [
      "812it [00:21, 24.40it/s]"
     ]
    },
    {
     "name": "stdout",
     "output_type": "stream",
     "text": [
      "selefougou selefougou\n",
      "tombola tombola\n",
      "bancoumana bancoumana\n",
      "bassabougou sabougou\n"
     ]
    },
    {
     "name": "stderr",
     "output_type": "stream",
     "text": [
      "\r",
      "815it [00:22, 21.82it/s]"
     ]
    },
    {
     "name": "stdout",
     "output_type": "stream",
     "text": [
      "daban daban\n",
      "diago diago\n",
      "dialacorodji dialakorodji\n",
      "dio gare dio gare\n"
     ]
    },
    {
     "name": "stderr",
     "output_type": "stream",
     "text": [
      "821it [00:22, 21.96it/s]"
     ]
    },
    {
     "name": "stdout",
     "output_type": "stream",
     "text": [
      "djoliba djoliba\n",
      "dogodouma dogodouma\n",
      "dombila dombila\n",
      "doubabougou doubabougou\n"
     ]
    },
    {
     "name": "stderr",
     "output_type": "stream",
     "text": [
      "\r",
      "824it [00:22, 19.39it/s]"
     ]
    },
    {
     "name": "stdout",
     "output_type": "stream",
     "text": [
      "faladie faladie\n",
      "farabana farabana\n",
      "farada farada\n"
     ]
    },
    {
     "name": "stderr",
     "output_type": "stream",
     "text": [
      "829it [00:22, 16.93it/s]"
     ]
    },
    {
     "name": "stdout",
     "output_type": "stream",
     "text": [
      "kabalabougou kabalabougou\n",
      "kalifabougou kalifabougou\n",
      "kanadjiguila kanadjiguila\n",
      "koursalã© koursale\n"
     ]
    },
    {
     "name": "stderr",
     "output_type": "stream",
     "text": [
      "\r",
      "833it [00:22, 19.50it/s]"
     ]
    },
    {
     "name": "stdout",
     "output_type": "stream",
     "text": [
      "malibougou malibougou\n",
      "moribabougou moribabougou\n",
      "nana kenieba nana kenieba\n"
     ]
    },
    {
     "name": "stderr",
     "output_type": "stream",
     "text": [
      "841it [00:23, 20.54it/s]"
     ]
    },
    {
     "name": "stdout",
     "output_type": "stream",
     "text": [
      "neguela neguela\n",
      "nioumamakana niouma makana\n",
      "safo safo\n",
      "sananfara sananfara\n"
     ]
    },
    {
     "name": "stderr",
     "output_type": "stream",
     "text": [
      "\r",
      "844it [00:23, 18.58it/s]"
     ]
    },
    {
     "name": "stdout",
     "output_type": "stream",
     "text": [
      "sandama sandama\n",
      "sangarebougou sangarebougou\n",
      "siby siby\n",
      "soninkegny sonikegny\n"
     ]
    },
    {
     "name": "stderr",
     "output_type": "stream",
     "text": [
      "850it [00:23, 19.11it/s]"
     ]
    },
    {
     "name": "stdout",
     "output_type": "stream",
     "text": [
      "torodo torodo\n",
      "yelekebougou yelekebougou\n",
      "didieni didieni\n",
      "doubabougou doubabougou\n",
      "doubala soubala\n"
     ]
    },
    {
     "name": "stderr",
     "output_type": "stream",
     "text": [
      "\r",
      "853it [00:24, 19.28it/s]"
     ]
    },
    {
     "name": "stdout",
     "output_type": "stream",
     "text": [
      "guihoyo guihoyo\n",
      "kolokani central kolokani central\n",
      "koumi koumi\n",
      "manta manta\n"
     ]
    },
    {
     "name": "stderr",
     "output_type": "stream",
     "text": [
      "859it [00:24, 19.77it/s]"
     ]
    },
    {
     "name": "stdout",
     "output_type": "stream",
     "text": [
      "massantola massantola\n",
      "mercoya mercoya\n",
      "niogona niokona\n",
      "nonkon nonkon\n",
      "ouolodo ouolodo\n"
     ]
    },
    {
     "name": "stderr",
     "output_type": "stream",
     "text": [
      "865it [00:24, 19.55it/s]"
     ]
    },
    {
     "name": "stdout",
     "output_type": "stream",
     "text": [
      "sabougou sabougou\n",
      "sagabala sagabala\n",
      "samantara samantara\n",
      "sebekoro i sebekoro\n",
      "segue segue\n"
     ]
    },
    {
     "name": "stderr",
     "output_type": "stream",
     "text": [
      "870it [00:24, 18.07it/s]"
     ]
    },
    {
     "name": "stdout",
     "output_type": "stream",
     "text": [
      "seriwala seriwala\n",
      "sirakoroba sirakoroba\n",
      "sonkenie sonkenie\n",
      "tioribougou tioribougou\n"
     ]
    },
    {
     "name": "stderr",
     "output_type": "stream",
     "text": [
      "875it [00:25, 18.44it/s]"
     ]
    },
    {
     "name": "stdout",
     "output_type": "stream",
     "text": [
      "toussana toussana\n",
      "dialakoro dialakoroba\n",
      "doumba doumba\n",
      "kamani kamani\n"
     ]
    },
    {
     "name": "stderr",
     "output_type": "stream",
     "text": [
      "883it [00:25, 22.34it/s]"
     ]
    },
    {
     "name": "stdout",
     "output_type": "stream",
     "text": [
      "kenenkoun kenenkou\n",
      "kolebougou kolebougou\n",
      "koulikoroba koulikoro-ba\n",
      "massala massala\n"
     ]
    },
    {
     "name": "stderr",
     "output_type": "stream",
     "text": [
      "\r",
      "886it [00:25, 20.63it/s]"
     ]
    },
    {
     "name": "stdout",
     "output_type": "stream",
     "text": [
      "monzombala monzombala\n",
      "n'gouni gouni\n",
      "nyamina nyamina\n",
      "sinzani sinzani\n"
     ]
    },
    {
     "name": "stderr",
     "output_type": "stream",
     "text": [
      "892it [00:25, 19.70it/s]"
     ]
    },
    {
     "name": "stdout",
     "output_type": "stream",
     "text": [
      "sirakorobougou sirakorobougou\n",
      "sirakorola sirakorola\n",
      "souban souban\n",
      "seguela seguela\n"
     ]
    },
    {
     "name": "stderr",
     "output_type": "stream",
     "text": [
      "\r",
      "895it [00:26, 21.74it/s]"
     ]
    },
    {
     "name": "stdout",
     "output_type": "stream",
     "text": [
      "tienfala tienfala\n",
      "tombougou tombougou\n",
      "allahina allahina\n"
     ]
    },
    {
     "name": "stderr",
     "output_type": "stream",
     "text": [
      "907it [00:26, 26.51it/s]"
     ]
    },
    {
     "name": "stdout",
     "output_type": "stream",
     "text": [
      "balle balle\n",
      "bediatt bediatt\n",
      "bineou-niakate bineou niakate\n",
      "boudjiguire boudjigire\n",
      "boulal boulal\n"
     ]
    },
    {
     "name": "stderr",
     "output_type": "stream",
     "text": [
      "\r",
      "910it [00:26, 24.23it/s]"
     ]
    },
    {
     "name": "stdout",
     "output_type": "stream",
     "text": [
      "dalibougou malibougou\n",
      "digan digan\n",
      "dilly dilly\n"
     ]
    },
    {
     "name": "stderr",
     "output_type": "stream",
     "text": [
      "916it [00:26, 19.91it/s]"
     ]
    },
    {
     "name": "stdout",
     "output_type": "stream",
     "text": [
      "djigue djigue\n",
      "fallou fallou\n",
      "goumbou goumbou\n",
      "guire guire\n"
     ]
    },
    {
     "name": "stderr",
     "output_type": "stream",
     "text": [
      "\r",
      "919it [00:27, 20.93it/s]"
     ]
    },
    {
     "name": "stdout",
     "output_type": "stream",
     "text": [
      "kaloumba kaloumba\n",
      "karfabougou karfabougou\n",
      "koira kora\n"
     ]
    },
    {
     "name": "stderr",
     "output_type": "stream",
     "text": [
      "925it [00:27, 18.60it/s]"
     ]
    },
    {
     "name": "stdout",
     "output_type": "stream",
     "text": [
      "koronga koronga\n",
      "madina kagoro madina kagoro\n",
      "mourdiah mourdiah\n",
      "naoulena naoulena\n"
     ]
    },
    {
     "name": "stderr",
     "output_type": "stream",
     "text": [
      "933it [00:27, 22.30it/s]"
     ]
    },
    {
     "name": "stdout",
     "output_type": "stream",
     "text": [
      "nara central nara central\n",
      "sampaga sampaga\n",
      "sekolo sekoro\n",
      "sountiana kouniana\n"
     ]
    },
    {
     "name": "stderr",
     "output_type": "stream",
     "text": [
      "941it [00:27, 25.44it/s]"
     ]
    },
    {
     "name": "stdout",
     "output_type": "stream",
     "text": [
      "waourou waourou\n",
      "baala baala\n",
      "beneko beneko\n",
      "dangassa dangassa\n",
      "dialakoroba dialakoroba\n"
     ]
    },
    {
     "name": "stderr",
     "output_type": "stream",
     "text": [
      "\r",
      "944it [00:28, 23.33it/s]"
     ]
    },
    {
     "name": "stdout",
     "output_type": "stream",
     "text": [
      "digan digan\n",
      "faraba faraba\n",
      "kafara kaara\n",
      "kourouba kourouba\n",
      "mana manta\n"
     ]
    },
    {
     "name": "stderr",
     "output_type": "stream",
     "text": [
      "955it [00:28, 28.58it/s]"
     ]
    },
    {
     "name": "stdout",
     "output_type": "stream",
     "text": [
      "marako farako\n",
      "niagadina niagadina\n",
      "safe-bougoula safe bougoula\n",
      "sanankorodjitoumou sanankoro-djitoumou\n",
      "tinkele tinkele\n",
      "tiele tiele\n"
     ]
    },
    {
     "name": "stderr",
     "output_type": "stream",
     "text": [
      "963it [00:28, 30.49it/s]"
     ]
    },
    {
     "name": "stdout",
     "output_type": "stream",
     "text": [
      "aladi faladie\n",
      "anderamboukane anderamboukane\n",
      "inchinanane inchinanane\n",
      "tagalalt tagalalt\n",
      "tamalett tamalet\n",
      "tinagaroft tinagaroff\n",
      "inekar inekar\n"
     ]
    },
    {
     "name": "stderr",
     "output_type": "stream",
     "text": [
      "977it [00:28, 40.38it/s]"
     ]
    },
    {
     "name": "stdout",
     "output_type": "stream",
     "text": [
      "anonzegren anouzegrene\n",
      "essakane essakane\n",
      "intadeynã© intadeyni\n",
      "madina mahina\n"
     ]
    },
    {
     "name": "stderr",
     "output_type": "stream",
     "text": [
      "1012it [00:29, 62.46it/s]"
     ]
    },
    {
     "name": "stdout",
     "output_type": "stream",
     "text": [
      "tabankort-mã©naka tabankort menaka\n",
      "tidemene tidermene\n",
      "bandiagara central bandiagara central\n",
      "borko borko\n",
      "bourgouma bougoula\n",
      "diankassagou diangassagou\n",
      "dogani bere dogani - bere\n",
      "dourou dourou\n"
     ]
    },
    {
     "name": "stderr",
     "output_type": "stream",
     "text": [
      "\r",
      "1020it [00:29, 44.16it/s]"
     ]
    },
    {
     "name": "stdout",
     "output_type": "stream",
     "text": [
      "goundaka goundaka\n",
      "iby siby\n",
      "ireli ireli\n",
      "kamba kamba\n",
      "kargue kargue\n"
     ]
    },
    {
     "name": "stderr",
     "output_type": "stream",
     "text": [
      "\r",
      "1027it [00:29, 34.85it/s]"
     ]
    },
    {
     "name": "stdout",
     "output_type": "stream",
     "text": [
      "kendie kendie\n",
      "kori maoude kori-maounde\n",
      "mory mory\n",
      "nando nando\n",
      "ningari ningari\n"
     ]
    },
    {
     "name": "stderr",
     "output_type": "stream",
     "text": [
      "1038it [00:30, 31.02it/s]"
     ]
    },
    {
     "name": "stdout",
     "output_type": "stream",
     "text": [
      "ondougou ondougou\n",
      "ouo ouo\n",
      "songho songho\n",
      "yendouma yendouma\n",
      "bankass central bankass central\n"
     ]
    },
    {
     "name": "stderr",
     "output_type": "stream",
     "text": [
      "\r",
      "1043it [00:30, 30.28it/s]"
     ]
    },
    {
     "name": "stdout",
     "output_type": "stream",
     "text": [
      "baye baye\n",
      "diallassagou diangassagou\n",
      "diallaye diallaye\n",
      "dimbal dimbal\n"
     ]
    },
    {
     "name": "stderr",
     "output_type": "stream",
     "text": [
      "1051it [00:31, 21.73it/s]"
     ]
    },
    {
     "name": "stdout",
     "output_type": "stream",
     "text": [
      "dounde dounde\n",
      "ende ende\n",
      "ganidah ganidah\n",
      "gomossagou gomossagou\n",
      "kani bonzon kani - bonzon\n",
      "koulogo koulogon\n"
     ]
    },
    {
     "name": "stderr",
     "output_type": "stream",
     "text": [
      "\r",
      "1054it [00:31, 19.43it/s]"
     ]
    },
    {
     "name": "stdout",
     "output_type": "stream",
     "text": [
      "koulou koulou\n",
      "niamnia niamia\n",
      "ouenkoro ouenkoro\n"
     ]
    },
    {
     "name": "stderr",
     "output_type": "stream",
     "text": [
      "1063it [00:31, 22.68it/s]"
     ]
    },
    {
     "name": "stdout",
     "output_type": "stream",
     "text": [
      "pissa pissa\n",
      "sama sama\n",
      "soubala soubala\n",
      "segue segue\n",
      "yira yira\n"
     ]
    },
    {
     "name": "stderr",
     "output_type": "stream",
     "text": [
      "\r",
      "1066it [00:31, 20.85it/s]"
     ]
    },
    {
     "name": "stdout",
     "output_type": "stream",
     "text": [
      "bounguel bonguel\n",
      "djenne central djenne central\n",
      "gagna gagna\n",
      "gomitogo gomitogo\n"
     ]
    },
    {
     "name": "stderr",
     "output_type": "stream",
     "text": [
      "\r",
      "1069it [00:31, 18.92it/s]"
     ]
    },
    {
     "name": "stdout",
     "output_type": "stream",
     "text": [
      "kandara kaara\n",
      "koa koa\n",
      "konio konio\n"
     ]
    },
    {
     "name": "stderr",
     "output_type": "stream",
     "text": [
      "1076it [00:32, 16.58it/s]"
     ]
    },
    {
     "name": "stdout",
     "output_type": "stream",
     "text": [
      "kouakourou kouakourou\n",
      "kouima kouima\n",
      "keke keke\n",
      "madiama madiama\n",
      "mougna mougna\n",
      "mourrah mourrah\n"
     ]
    },
    {
     "name": "stderr",
     "output_type": "stream",
     "text": [
      "\r",
      "1080it [00:32, 18.66it/s]"
     ]
    },
    {
     "name": "stdout",
     "output_type": "stream",
     "text": [
      "soala souala\n",
      "sofara sofara\n",
      "senossa senossa\n",
      "taga taga\n"
     ]
    },
    {
     "name": "stderr",
     "output_type": "stream",
     "text": [
      "1088it [00:32, 20.89it/s]"
     ]
    },
    {
     "name": "stdout",
     "output_type": "stream",
     "text": [
      "torokoro torokoro\n",
      "boni boni\n",
      "bore bore\n",
      "dallah dallah\n"
     ]
    },
    {
     "name": "stderr",
     "output_type": "stream",
     "text": [
      "1098it [00:33, 24.15it/s]"
     ]
    },
    {
     "name": "stdout",
     "output_type": "stream",
     "text": [
      "dianweli maounde diamwely-maounde\n",
      "douna douna\n",
      "debere debare\n",
      "gandamia gandamia\n",
      "hombori hombori\n"
     ]
    },
    {
     "name": "stderr",
     "output_type": "stream",
     "text": [
      "1104it [00:33, 23.51it/s]"
     ]
    },
    {
     "name": "stdout",
     "output_type": "stream",
     "text": [
      "korarou korarou\n",
      "kerena kerena\n",
      "mondoro mondoro\n",
      "ngouma ngouma\n"
     ]
    },
    {
     "name": "stderr",
     "output_type": "stream",
     "text": [
      "\r",
      "1107it [00:33, 19.52it/s]"
     ]
    },
    {
     "name": "stdout",
     "output_type": "stream",
     "text": [
      "niangassaiou niagassadiou\n",
      "nokara nokara\n",
      "tarabe tarabe\n",
      "tiguila tiguila\n"
     ]
    },
    {
     "name": "stderr",
     "output_type": "stream",
     "text": [
      "1114it [00:33, 21.39it/s]"
     ]
    },
    {
     "name": "stdout",
     "output_type": "stream",
     "text": [
      "tongo-tongo tongo-tongo\n",
      "amba amba\n",
      "bamba koro bamba koro\n",
      "barapireli barapireli\n",
      "bargou bargou\n"
     ]
    },
    {
     "name": "stderr",
     "output_type": "stream",
     "text": [
      "1120it [00:34, 21.46it/s]"
     ]
    },
    {
     "name": "stdout",
     "output_type": "stream",
     "text": [
      "bondo bondo\n",
      "dangatene dangatene\n",
      "diankabou diankabou\n",
      "dinangourou dinagourou\n",
      "dioungani dioungani\n"
     ]
    },
    {
     "name": "stderr",
     "output_type": "stream",
     "text": [
      "1126it [00:34, 22.90it/s]"
     ]
    },
    {
     "name": "stdout",
     "output_type": "stream",
     "text": [
      "gangafani gangafani\n",
      "guinaolo guinawalo\n",
      "karakinde karakinde\n",
      "koporo na koporona\n",
      "koporo pen koporo pen\n",
      "koro central koro central\n"
     ]
    },
    {
     "name": "stderr",
     "output_type": "stream",
     "text": [
      "1135it [00:34, 25.64it/s]"
     ]
    },
    {
     "name": "stdout",
     "output_type": "stream",
     "text": [
      "madougou madougou\n",
      "pomorododiou pomorododiou\n",
      "tinsagou tinsagou\n",
      "toroli toroli\n",
      "yoro yoro\n"
     ]
    },
    {
     "name": "stderr",
     "output_type": "stream",
     "text": [
      "1142it [00:35, 24.33it/s]"
     ]
    },
    {
     "name": "stdout",
     "output_type": "stream",
     "text": [
      "youdiou youdiou\n",
      "zon zon\n",
      "ascotam ascotamb\n",
      "diambacourou diambacourou\n",
      "fatoma fatoma\n"
     ]
    },
    {
     "name": "stderr",
     "output_type": "stream",
     "text": [
      "1157it [00:35, 32.16it/s]"
     ]
    },
    {
     "name": "stdout",
     "output_type": "stream",
     "text": [
      "kakagna kakagna\n",
      "komoguel 1 komoguel 1\n",
      "konna konna\n",
      "korientze korientze\n",
      "niakongo niakongo\n"
     ]
    },
    {
     "name": "stderr",
     "output_type": "stream",
     "text": [
      "\r",
      "1161it [00:35, 28.05it/s]"
     ]
    },
    {
     "name": "stdout",
     "output_type": "stream",
     "text": [
      "ouro modi ouro modi\n",
      "sampara sampara\n",
      "sendegue sendegue\n",
      "sevare 2 sevare ii\n"
     ]
    },
    {
     "name": "stderr",
     "output_type": "stream",
     "text": [
      "1170it [00:35, 29.07it/s]"
     ]
    },
    {
     "name": "stdout",
     "output_type": "stream",
     "text": [
      "sokoura socoura\n",
      "somadougou somadougou\n",
      "soufroulaye soufouroulaye\n",
      "soye soye\n"
     ]
    },
    {
     "name": "stderr",
     "output_type": "stream",
     "text": [
      "1177it [00:36, 25.83it/s]"
     ]
    },
    {
     "name": "stdout",
     "output_type": "stream",
     "text": [
      "sevare 3 sevare ii\n",
      "toguel toguel\n",
      "tongorongon tongorongo\n",
      "yougonsire yougonsire\n"
     ]
    },
    {
     "name": "stderr",
     "output_type": "stream",
     "text": [
      "\r",
      "1180it [00:36, 22.61it/s]"
     ]
    },
    {
     "name": "stdout",
     "output_type": "stream",
     "text": [
      "dia dia\n",
      "diafarabe diafarabe\n",
      "diguicire diguicire\n",
      "diondiori diondiori\n"
     ]
    },
    {
     "name": "stderr",
     "output_type": "stream",
     "text": [
      "\r",
      "1183it [00:36, 20.83it/s]"
     ]
    },
    {
     "name": "stdout",
     "output_type": "stream",
     "text": [
      "dioura dioura\n",
      "guile guile\n",
      "kadial kadial\n",
      "kondo kondo\n"
     ]
    },
    {
     "name": "stderr",
     "output_type": "stream",
     "text": [
      "1189it [00:37, 17.12it/s]"
     ]
    },
    {
     "name": "stdout",
     "output_type": "stream",
     "text": [
      "kora kora\n",
      "koubi koubi\n",
      "malimana malimana\n",
      "mopti keba mopti-keba\n",
      "niasso niasso\n"
     ]
    },
    {
     "name": "stderr",
     "output_type": "stream",
     "text": [
      "1195it [00:37, 16.72it/s]"
     ]
    },
    {
     "name": "stdout",
     "output_type": "stream",
     "text": [
      "ouro guiya ouronguia\n",
      "senebamana sene bamana\n",
      "sossobe sossobe\n",
      "tenenkou kenenkou\n",
      "thial thial\n"
     ]
    },
    {
     "name": "stderr",
     "output_type": "stream",
     "text": [
      "\r",
      "1198it [00:37, 16.92it/s]"
     ]
    },
    {
     "name": "stdout",
     "output_type": "stream",
     "text": [
      "toguere coumbe toguere coumbe\n",
      "walo wallo\n",
      "ambiri ambiri\n",
      "dogo dogo\n"
     ]
    },
    {
     "name": "stderr",
     "output_type": "stream",
     "text": [
      "1206it [00:37, 19.12it/s]"
     ]
    },
    {
     "name": "stdout",
     "output_type": "stream",
     "text": [
      "faou faou\n",
      "gathi gathi\n",
      "sah sah\n",
      "youwarou central youwarou central\n",
      "bamba bamba\n"
     ]
    },
    {
     "name": "stderr",
     "output_type": "stream",
     "text": [
      "\r",
      "1209it [00:38, 19.27it/s]"
     ]
    },
    {
     "name": "stdout",
     "output_type": "stream",
     "text": [
      "banzana banzana\n",
      "bladie-tiemala bladie-tiemala\n",
      "bougoula bougoula\n",
      "bougouni est bougouni est\n"
     ]
    },
    {
     "name": "stderr",
     "output_type": "stream",
     "text": [
      "1215it [00:38, 19.52it/s]"
     ]
    },
    {
     "name": "stdout",
     "output_type": "stream",
     "text": [
      "bougouni ouest bougouni ouest\n",
      "bougouni sud bougouni sud\n",
      "defina defina\n",
      "diban diban\n"
     ]
    },
    {
     "name": "stderr",
     "output_type": "stream",
     "text": [
      "1221it [00:38, 19.67it/s]"
     ]
    },
    {
     "name": "stdout",
     "output_type": "stream",
     "text": [
      "djine djine\n",
      "dogo dogo\n",
      "domba domba\n",
      "debelin debelin\n",
      "farangouaran faragouaran\n"
     ]
    },
    {
     "name": "stderr",
     "output_type": "stream",
     "text": [
      "1227it [00:38, 19.90it/s]"
     ]
    },
    {
     "name": "stdout",
     "output_type": "stream",
     "text": [
      "fogoba fogoba\n",
      "foulalaba foulalaba\n",
      "garalo 1 garalo\n",
      "garalo 2 garalo\n",
      "kalako falako\n"
     ]
    },
    {
     "name": "stderr",
     "output_type": "stream",
     "text": [
      "1232it [00:39, 16.77it/s]"
     ]
    },
    {
     "name": "stdout",
     "output_type": "stream",
     "text": [
      "klessokoro kle-sokoro\n",
      "kola kola\n",
      "kologo kologo\n",
      "kouale koursale\n"
     ]
    },
    {
     "name": "stderr",
     "output_type": "stream",
     "text": [
      "\r",
      "1235it [00:39, 17.65it/s]"
     ]
    },
    {
     "name": "stdout",
     "output_type": "stream",
     "text": [
      "koumantou koumantou\n",
      "keleya keleya\n",
      "mafeleni mafele\n",
      "mafele mafele\n",
      "mamissa mamissa\n"
     ]
    },
    {
     "name": "stderr",
     "output_type": "stream",
     "text": [
      "1243it [00:39, 19.35it/s]"
     ]
    },
    {
     "name": "stdout",
     "output_type": "stream",
     "text": [
      "manankoro manankoro\n",
      "meridiela meridiela\n",
      "niamala niamala\n",
      "ouroumpana ouroumpana\n",
      "ouroun ouroun\n"
     ]
    },
    {
     "name": "stderr",
     "output_type": "stream",
     "text": [
      "\r",
      "1245it [00:39, 17.32it/s]"
     ]
    },
    {
     "name": "stdout",
     "output_type": "stream",
     "text": [
      "sakoro sakoro\n",
      "sanso sanso\n",
      "sido sido\n"
     ]
    },
    {
     "name": "stderr",
     "output_type": "stream",
     "text": [
      "1252it [00:40, 16.96it/s]"
     ]
    },
    {
     "name": "stdout",
     "output_type": "stream",
     "text": [
      "tiefala tiefala\n",
      "toba toba\n",
      "todougou kolondie todougou - kolondie\n",
      "torakoro torakoro\n",
      "wola wola\n"
     ]
    },
    {
     "name": "stderr",
     "output_type": "stream",
     "text": [
      "\r",
      "1255it [00:40, 17.12it/s]"
     ]
    },
    {
     "name": "stdout",
     "output_type": "stream",
     "text": [
      "zantiebougou zantiebougou\n",
      "bananso bananso\n",
      "borogoba borogoba\n",
      "diou diou\n",
      "dioumatene dioumatene\n"
     ]
    },
    {
     "name": "stderr",
     "output_type": "stream",
     "text": [
      "1264it [00:40, 20.44it/s]"
     ]
    },
    {
     "name": "stdout",
     "output_type": "stream",
     "text": [
      "fanidiama fanidiama\n",
      "fourou fourou\n",
      "gouene gouene\n",
      "kadiolo central kadiolo central\n",
      "katiele katiele\n"
     ]
    },
    {
     "name": "stderr",
     "output_type": "stream",
     "text": [
      "1271it [00:41, 23.73it/s]"
     ]
    },
    {
     "name": "stdout",
     "output_type": "stream",
     "text": [
      "katele katele\n",
      "kebeni kebeni\n",
      "lanfiala lanfiala\n",
      "lofigue lofigue\n",
      "loulouni loulouni\n"
     ]
    },
    {
     "name": "stderr",
     "output_type": "stream",
     "text": [
      "\r",
      "1276it [00:41, 25.14it/s]"
     ]
    },
    {
     "name": "stdout",
     "output_type": "stream",
     "text": [
      "misseni misseni\n",
      "n'golona ngolona\n",
      "nimbougou nimbougou\n",
      "ouatialy ouatialy\n"
     ]
    },
    {
     "name": "stderr",
     "output_type": "stream",
     "text": [
      "1282it [00:41, 20.81it/s]"
     ]
    },
    {
     "name": "stdout",
     "output_type": "stream",
     "text": [
      "torokoro torokoro\n",
      "woroni woroni\n",
      "zegoua zegoua\n",
      "dogoni dogoni\n",
      "doumanaba doumanaba\n"
     ]
    },
    {
     "name": "stderr",
     "output_type": "stream",
     "text": [
      "1293it [00:42, 27.10it/s]"
     ]
    },
    {
     "name": "stdout",
     "output_type": "stream",
     "text": [
      "kabarasso kabarasso\n",
      "kignan kignan\n",
      "koumankou koumankou\n",
      "kourouma kourouma\n",
      "sanzana sanzana\n",
      "tella"
     ]
    },
    {
     "name": "stderr",
     "output_type": "stream",
     "text": [
      "\r",
      "1296it [00:42, 27.33it/s]"
     ]
    },
    {
     "name": "stdout",
     "output_type": "stream",
     "text": [
      " tella\n",
      "yiringasso yiriganso\n",
      "bougoula bougoula\n",
      "diaka diaka\n",
      "dialakoroba dialakoroba\n"
     ]
    },
    {
     "name": "stderr",
     "output_type": "stream",
     "text": [
      "1304it [00:42, 24.75it/s]"
     ]
    },
    {
     "name": "stdout",
     "output_type": "stream",
     "text": [
      "fakola fakola\n",
      "farako farako\n",
      "gourouko gouroko\n",
      "kaara kaara\n"
     ]
    },
    {
     "name": "stderr",
     "output_type": "stream",
     "text": [
      "1313it [00:42, 23.27it/s]"
     ]
    },
    {
     "name": "stdout",
     "output_type": "stream",
     "text": [
      "kadiana kadiana\n",
      "kolondieba central kolondieba central\n",
      "kolosso kolosso\n",
      "kebila kebila\n",
      "massala massala\n"
     ]
    },
    {
     "name": "stderr",
     "output_type": "stream",
     "text": [
      "1319it [00:43, 20.50it/s]"
     ]
    },
    {
     "name": "stdout",
     "output_type": "stream",
     "text": [
      "nangalasso nangalasso\n",
      "niakourazana niakourazana\n",
      "tiongui tiongui\n",
      "tousseguela tousseguela\n",
      "toutiala toutiala\n"
     ]
    },
    {
     "name": "stderr",
     "output_type": "stream",
     "text": [
      "\r",
      "1322it [00:43, 21.31it/s]"
     ]
    },
    {
     "name": "stdout",
     "output_type": "stream",
     "text": [
      "wakoro wakoro\n",
      "zeguere zeguere\n",
      "b- zangasso zangasso\n",
      "baramba baramba\n"
     ]
    },
    {
     "name": "stderr",
     "output_type": "stream",
     "text": [
      "1328it [00:43, 17.97it/s]"
     ]
    },
    {
     "name": "stdout",
     "output_type": "stream",
     "text": [
      "bongosso bongosso\n",
      "djitamana djitamana\n",
      "famoussasso famoussasso\n",
      "ferme ferme\n"
     ]
    },
    {
     "name": "stderr",
     "output_type": "stream",
     "text": [
      "1333it [00:44, 17.83it/s]"
     ]
    },
    {
     "name": "stdout",
     "output_type": "stream",
     "text": [
      "fonfana fonfona\n",
      "garasso garasso\n",
      "hamdallaye hamdalaye\n",
      "karagouana karagouana\n"
     ]
    },
    {
     "name": "stderr",
     "output_type": "stream",
     "text": [
      "\r",
      "1336it [00:44, 18.36it/s]"
     ]
    },
    {
     "name": "stdout",
     "output_type": "stream",
     "text": [
      "karangasso karangasso\n",
      "koko koko\n",
      "konina konna\n"
     ]
    },
    {
     "name": "stderr",
     "output_type": "stream",
     "text": [
      "1344it [00:44, 19.79it/s]"
     ]
    },
    {
     "name": "stdout",
     "output_type": "stream",
     "text": [
      "konseguela konseguela\n",
      "kouniana kouniana\n",
      "kouo kouo\n",
      "m'pessoba mpessoba\n",
      "medina coura medina coura\n"
     ]
    },
    {
     "name": "stderr",
     "output_type": "stream",
     "text": [
      "1350it [00:44, 20.12it/s]"
     ]
    },
    {
     "name": "stdout",
     "output_type": "stream",
     "text": [
      "miena mena\n",
      "molobala molobala\n",
      "n'golonianasso ngolonianasso\n",
      "n'gountjina ngountjina\n",
      "n'togonasso ntogonasso\n"
     ]
    },
    {
     "name": "stderr",
     "output_type": "stream",
     "text": [
      "1355it [00:45, 17.61it/s]"
     ]
    },
    {
     "name": "stdout",
     "output_type": "stream",
     "text": [
      "n'tosso ntosso\n",
      "n'tossoni ntossoni\n",
      "oula oula\n",
      "peguena peguena\n"
     ]
    },
    {
     "name": "stderr",
     "output_type": "stream",
     "text": [
      "1359it [00:45, 18.62it/s]"
     ]
    },
    {
     "name": "stdout",
     "output_type": "stream",
     "text": [
      "sanguela sanguela\n",
      "sincina sincina\n",
      "sinkolo sinkolo\n",
      "sirakele sira kele\n"
     ]
    },
    {
     "name": "stderr",
     "output_type": "stream",
     "text": [
      "1365it [00:45, 20.43it/s]"
     ]
    },
    {
     "name": "stdout",
     "output_type": "stream",
     "text": [
      "sogomougou sogomougou\n",
      "sorobasso sorobasso\n",
      "sougoumba sougoumba\n",
      "tiere tiere\n"
     ]
    },
    {
     "name": "stderr",
     "output_type": "stream",
     "text": [
      "\r",
      "1368it [00:45, 18.72it/s]"
     ]
    },
    {
     "name": "stdout",
     "output_type": "stream",
     "text": [
      "yafola yafola\n",
      "zangasso zangasso\n",
      "zanina zaniena\n",
      "zanzoni zansoni\n"
     ]
    },
    {
     "name": "stderr",
     "output_type": "stream",
     "text": [
      "1373it [00:46, 18.75it/s]"
     ]
    },
    {
     "name": "stdout",
     "output_type": "stream",
     "text": [
      "ziena ziena\n",
      "zebala zebala\n",
      "banzana banzana\n",
      "blendio blendio\n",
      "dembella dembella\n"
     ]
    },
    {
     "name": "stderr",
     "output_type": "stream",
     "text": [
      "1378it [00:46, 19.35it/s]"
     ]
    },
    {
     "name": "stdout",
     "output_type": "stream",
     "text": [
      "dougoukolobougou dougoukolobougou\n",
      "doumanani doumanani\n",
      "finkolo ganadougou finkolo ganadougou\n",
      "gladie gladie\n",
      "karangasso karangasso\n",
      "kougnan kougnan\n"
     ]
    },
    {
     "name": "stderr",
     "output_type": "stream",
     "text": [
      "1388it [00:46, 23.43it/s]"
     ]
    },
    {
     "name": "stdout",
     "output_type": "stream",
     "text": [
      "koungoba kounkoba\n",
      "miniko miniko\n",
      "niena central kenieba central\n",
      "ntjikouna ntjikouna\n",
      "ntjilla ntjilla\n",
      "sibirifina sibirifina\n"
     ]
    },
    {
     "name": "stderr",
     "output_type": "stream",
     "text": [
      "1394it [00:46, 23.18it/s]"
     ]
    },
    {
     "name": "stdout",
     "output_type": "stream",
     "text": [
      "tiebala tiefala\n",
      "zamiasso ziasso\n",
      "zaniena zaniena\n",
      "binko binko\n",
      "carriere carriere\n",
      "diarani diarani\n",
      "faraba faraba\n"
     ]
    },
    {
     "name": "stderr",
     "output_type": "stream",
     "text": [
      "1406it [00:47, 29.63it/s]"
     ]
    },
    {
     "name": "stdout",
     "output_type": "stream",
     "text": [
      "kangare kangare\n",
      "sanankoroba sanankoroba\n",
      "siekorole sierorole\n",
      "solenkoro ouenkoro\n",
      "tagan tagan\n",
      "bandieresso bandieresso\n"
     ]
    },
    {
     "name": "stderr",
     "output_type": "stream",
     "text": [
      "\r",
      "1410it [00:47, 28.42it/s]"
     ]
    },
    {
     "name": "stdout",
     "output_type": "stream",
     "text": [
      "bougoula hameau bougoula hameau\n",
      "dalle dalle\n",
      "danderesso danderesso\n",
      "diomatene diomatene\n",
      "fama fama\n"
     ]
    },
    {
     "name": "stderr",
     "output_type": "stream",
     "text": [
      "\r",
      "1414it [00:47, 23.33it/s]"
     ]
    },
    {
     "name": "stdout",
     "output_type": "stream",
     "text": [
      "fantarasso fantarasso\n",
      "farakala farakala\n",
      "finkolo ac finkolo ac\n"
     ]
    },
    {
     "name": "stderr",
     "output_type": "stream",
     "text": [
      "\r",
      "1417it [00:47, 20.19it/s]"
     ]
    },
    {
     "name": "stdout",
     "output_type": "stream",
     "text": [
      "foh foh\n",
      "gongasso gongasso\n",
      "gueneba gueneba\n",
      "hamdallaye sikasso hamdallaye sikasso\n"
     ]
    },
    {
     "name": "stderr",
     "output_type": "stream",
     "text": [
      "1423it [00:48, 18.80it/s]"
     ]
    },
    {
     "name": "stdout",
     "output_type": "stream",
     "text": [
      "kaboila kaboila\n",
      "kafana kafana\n",
      "kafouziela kafouziela\n",
      "kapala kapala\n"
     ]
    },
    {
     "name": "stderr",
     "output_type": "stream",
     "text": [
      "1429it [00:48, 19.97it/s]"
     ]
    },
    {
     "name": "stdout",
     "output_type": "stream",
     "text": [
      "klela klela\n",
      "kolokoba kolokoba\n",
      "korobarrage koro-barrage\n",
      "lobougoula lobougoula\n"
     ]
    },
    {
     "name": "stderr",
     "output_type": "stream",
     "text": [
      "1436it [00:48, 21.82it/s]"
     ]
    },
    {
     "name": "stdout",
     "output_type": "stream",
     "text": [
      "mancourani mancouranie\n",
      "mandela mandela\n",
      "medine sikasso medine sikasso\n",
      "nkourala nkourala\n"
     ]
    },
    {
     "name": "stderr",
     "output_type": "stream",
     "text": [
      "\r",
      "1439it [00:48, 22.12it/s]"
     ]
    },
    {
     "name": "stdout",
     "output_type": "stream",
     "text": [
      "nongon nonkon\n",
      "ouahibera ouahibera\n",
      "pimperna pimperna\n",
      "sanoubougou1 sanoubougou i\n"
     ]
    },
    {
     "name": "stderr",
     "output_type": "stream",
     "text": [
      "1447it [00:49, 25.11it/s]"
     ]
    },
    {
     "name": "stdout",
     "output_type": "stream",
     "text": [
      "sanoubougou 2 sanoubougou i\n",
      "wayerma 1 wayerma 1\n",
      "wayerma 2 wayerma 1\n",
      "zanferebougou zanferebougou\n",
      "zangaradougou zangaradougou\n"
     ]
    },
    {
     "name": "stderr",
     "output_type": "stream",
     "text": [
      "1454it [00:49, 21.42it/s]"
     ]
    },
    {
     "name": "stdout",
     "output_type": "stream",
     "text": [
      "zantiguila tiguila\n",
      "ziasso ziasso\n",
      "zignasso ziasso\n",
      "badogo badogo\n"
     ]
    },
    {
     "name": "stderr",
     "output_type": "stream",
     "text": [
      "\r",
      "1457it [00:49, 22.06it/s]"
     ]
    },
    {
     "name": "stdout",
     "output_type": "stream",
     "text": [
      "balanfina balanfina\n",
      "doussoudiana doussoudiana\n",
      "filamana filamana\n",
      "fougatie fougatie\n"
     ]
    },
    {
     "name": "stderr",
     "output_type": "stream",
     "text": [
      "1463it [00:49, 19.43it/s]"
     ]
    },
    {
     "name": "stdout",
     "output_type": "stream",
     "text": [
      "foulabougoula flabougoula\n",
      "gualala goualala\n",
      "guelelenkoro guelelenkoro\n",
      "kabaya kabara\n",
      "kalana kalana\n"
     ]
    },
    {
     "name": "stderr",
     "output_type": "stream",
     "text": [
      "1469it [00:50, 18.78it/s]"
     ]
    },
    {
     "name": "stdout",
     "output_type": "stream",
     "text": [
      "kokoun kokoun\n",
      "koloni_y koloni\n",
      "lontola lontola\n",
      "niessoumala niessoumala\n"
     ]
    },
    {
     "name": "stderr",
     "output_type": "stream",
     "text": [
      "\r",
      "1473it [00:50, 22.02it/s]"
     ]
    },
    {
     "name": "stdout",
     "output_type": "stream",
     "text": [
      "tieoulena tieoulena\n",
      "yanfolila central yanfolila central\n",
      "yorobougoula yorobougoula\n",
      "banesso banesso\n"
     ]
    },
    {
     "name": "stderr",
     "output_type": "stream",
     "text": [
      "1479it [00:50, 18.90it/s]"
     ]
    },
    {
     "name": "stdout",
     "output_type": "stream",
     "text": [
      "boura boura\n",
      "douna douna\n",
      "gouele gouele\n",
      "karangana karangana\n",
      "kiffosso i kiffosso\n"
     ]
    },
    {
     "name": "stderr",
     "output_type": "stream",
     "text": [
      "1487it [00:51, 23.30it/s]"
     ]
    },
    {
     "name": "stdout",
     "output_type": "stream",
     "text": [
      "koumbia koumbia\n",
      "koury koury\n",
      "mahou mahou\n",
      "marena marena\n",
      "menamba i menamba\n"
     ]
    },
    {
     "name": "stderr",
     "output_type": "stream",
     "text": [
      "1493it [00:51, 24.38it/s]"
     ]
    },
    {
     "name": "stdout",
     "output_type": "stream",
     "text": [
      "ourikela ourikela\n",
      "sanwa sanwa\n",
      "zangousso zangasso\n",
      "banido banindo\n"
     ]
    },
    {
     "name": "stderr",
     "output_type": "stream",
     "text": [
      "1500it [00:51, 26.79it/s]"
     ]
    },
    {
     "name": "stdout",
     "output_type": "stream",
     "text": [
      "baroueli central baroueli central\n",
      "boidie boidie\n",
      "dioforongo dioforogo\n",
      "djela djebala\n",
      "dotembougou dotembougou\n"
     ]
    },
    {
     "name": "stderr",
     "output_type": "stream",
     "text": [
      "1506it [00:51, 22.17it/s]"
     ]
    },
    {
     "name": "stdout",
     "output_type": "stream",
     "text": [
      "dougoufe dougoufe\n",
      "garna garna\n",
      "gouendo gouendo\n",
      "kalake kalake\n"
     ]
    },
    {
     "name": "stderr",
     "output_type": "stream",
     "text": [
      "1512it [00:52, 23.14it/s]"
     ]
    },
    {
     "name": "stdout",
     "output_type": "stream",
     "text": [
      "kodougouni kodougouni\n",
      "konobougou konobougou\n",
      "kourale koursale\n",
      "m'pebougou mpebougou\n",
      "moabougou moabougou\n"
     ]
    },
    {
     "name": "stderr",
     "output_type": "stream",
     "text": [
      "1518it [00:52, 18.00it/s]"
     ]
    },
    {
     "name": "stdout",
     "output_type": "stream",
     "text": [
      "n'djilla ndjilla\n",
      "n'gassola ngassola\n",
      "nianzana nianzana\n",
      "sanando sanando\n",
      "seguela seguela\n"
     ]
    },
    {
     "name": "stderr",
     "output_type": "stream",
     "text": [
      "1522it [00:52, 17.17it/s]"
     ]
    },
    {
     "name": "stdout",
     "output_type": "stream",
     "text": [
      "somo baroueli somo-baroueli\n",
      "tamani tamani\n",
      "tesserela tesserela\n",
      "tigui tigui\n"
     ]
    },
    {
     "name": "stderr",
     "output_type": "stream",
     "text": [
      "1528it [00:53, 16.29it/s]"
     ]
    },
    {
     "name": "stdout",
     "output_type": "stream",
     "text": [
      "wondobougou wondobougou\n",
      "yerebougou yerebougou\n",
      "benguene benguene\n",
      "bla central bla central\n",
      "bougoura bougoura\n"
     ]
    },
    {
     "name": "stderr",
     "output_type": "stream",
     "text": [
      "\r",
      "1533it [00:53, 19.11it/s]"
     ]
    },
    {
     "name": "stdout",
     "output_type": "stream",
     "text": [
      "diaramana diaramana\n",
      "diedala diedala\n",
      "diena diena\n",
      "dougouolo dougouolo\n"
     ]
    },
    {
     "name": "stderr",
     "output_type": "stream",
     "text": [
      "1539it [00:53, 18.06it/s]"
     ]
    },
    {
     "name": "stdout",
     "output_type": "stream",
     "text": [
      "falo falo\n",
      "fani fani\n",
      "farakala farakala\n",
      "kazangasso kazangasso\n",
      "kemeni kemeni\n"
     ]
    },
    {
     "name": "stderr",
     "output_type": "stream",
     "text": [
      "1545it [00:53, 19.16it/s]"
     ]
    },
    {
     "name": "stdout",
     "output_type": "stream",
     "text": [
      "koulandougou koulandougou\n",
      "koutienso koutienso\n",
      "marela marela\n",
      "nampasso nampasso\n"
     ]
    },
    {
     "name": "stderr",
     "output_type": "stream",
     "text": [
      "\r",
      "1548it [00:54, 17.80it/s]"
     ]
    },
    {
     "name": "stdout",
     "output_type": "stream",
     "text": [
      "niala niala\n",
      "niamana - bla niamana - bla\n",
      "penesso penesso\n",
      "samabogo samabogo\n",
      "sambala sambala\n"
     ]
    },
    {
     "name": "stderr",
     "output_type": "stream",
     "text": [
      "1558it [00:54, 22.27it/s]"
     ]
    },
    {
     "name": "stdout",
     "output_type": "stream",
     "text": [
      "somasso somasso\n",
      "tienabougou tienabougou\n",
      "tonto tonto\n",
      "touna touna\n",
      "yangasso yangasso\n"
     ]
    },
    {
     "name": "stderr",
     "output_type": "stream",
     "text": [
      "1564it [00:54, 21.54it/s]"
     ]
    },
    {
     "name": "stdout",
     "output_type": "stream",
     "text": [
      "bertha bertha\n",
      "folomana folomana\n",
      "kara kara\n",
      "kermetogo kermetogo\n",
      "koe koe\n"
     ]
    },
    {
     "name": "stderr",
     "output_type": "stream",
     "text": [
      "\r",
      "1567it [00:54, 20.16it/s]"
     ]
    },
    {
     "name": "stdout",
     "output_type": "stream",
     "text": [
      "kokry kokry\n",
      "kolongo kolongo\n",
      "macina central macina central\n",
      "matomo matomo\n"
     ]
    },
    {
     "name": "stderr",
     "output_type": "stream",
     "text": [
      "1575it [00:55, 25.61it/s]"
     ]
    },
    {
     "name": "stdout",
     "output_type": "stream",
     "text": [
      "n'golokouna ngolokouna\n",
      "oulan ouan\n",
      "sarro sarro\n",
      "saye saye\n",
      "souleye souley\n"
     ]
    },
    {
     "name": "stderr",
     "output_type": "stream",
     "text": [
      "1581it [00:55, 19.26it/s]"
     ]
    },
    {
     "name": "stdout",
     "output_type": "stream",
     "text": [
      "soumouni soumouni\n",
      "tongue tongue\n",
      "touhara touara\n",
      "babougou babougou\n",
      "diamarabougou diamarabougou\n"
     ]
    },
    {
     "name": "stderr",
     "output_type": "stream",
     "text": [
      "1587it [00:55, 22.34it/s]"
     ]
    },
    {
     "name": "stdout",
     "output_type": "stream",
     "text": [
      "dioro dioro\n",
      "djibougou djibougou\n",
      "dougabougou dougabougou\n",
      "doura doura\n",
      "kirango kirango\n"
     ]
    },
    {
     "name": "stderr",
     "output_type": "stream",
     "text": [
      "1594it [00:56, 23.34it/s]"
     ]
    },
    {
     "name": "stdout",
     "output_type": "stream",
     "text": [
      "koila kola\n",
      "komola-zanfina komola - zafina\n",
      "markanibougou markanibougou\n",
      "sagala sagala\n",
      "sansanding sansanding\n",
      "sibila sibila\n"
     ]
    },
    {
     "name": "stderr",
     "output_type": "stream",
     "text": [
      "1600it [00:56, 22.62it/s]"
     ]
    },
    {
     "name": "stdout",
     "output_type": "stream",
     "text": [
      "soke soke\n",
      "temou temou\n",
      "tiby tiby\n",
      "togou togou\n",
      "zanabougou zanabougou\n",
      "boh boh\n"
     ]
    },
    {
     "name": "stderr",
     "output_type": "stream",
     "text": [
      "1606it [00:56, 21.27it/s]"
     ]
    },
    {
     "name": "stdout",
     "output_type": "stream",
     "text": [
      "bolibana b6 bolibana b6\n",
      "cocody cocody\n",
      "diabaly diabaly\n",
      "diakiwere diakiwere\n",
      "dogofry dogofry\n"
     ]
    },
    {
     "name": "stderr",
     "output_type": "stream",
     "text": [
      "1612it [00:56, 20.36it/s]"
     ]
    },
    {
     "name": "stdout",
     "output_type": "stream",
     "text": [
      "dougouba dougouba\n",
      "fassoun (ibatou) fassoum ibatou\n",
      "kourouma kourouma\n",
      "makarila makarila\n"
     ]
    },
    {
     "name": "stderr",
     "output_type": "stream",
     "text": [
      "1620it [00:57, 24.76it/s]"
     ]
    },
    {
     "name": "stdout",
     "output_type": "stream",
     "text": [
      "m'bewani m'bewani\n",
      "molodo molodo\n",
      "werekela n8 werekela\n",
      "nampala nampala\n",
      "n'debougou ndebougou\n"
     ]
    },
    {
     "name": "stderr",
     "output_type": "stream",
     "text": [
      "1639it [00:57, 35.10it/s]"
     ]
    },
    {
     "name": "stdout",
     "output_type": "stream",
     "text": [
      "niono c3 niono c3\n",
      "niono central niono central\n",
      "niono extension niono extention\n",
      "pogo pogo\n",
      "siribala siribala\n"
     ]
    },
    {
     "name": "stderr",
     "output_type": "stream",
     "text": [
      "\r",
      "1645it [00:57, 37.48it/s]"
     ]
    },
    {
     "name": "stdout",
     "output_type": "stream",
     "text": [
      "sokolo sokolo\n",
      "baramandougou baramandougou\n",
      "bounoumba bounoumba\n",
      "dah dah\n"
     ]
    },
    {
     "name": "stderr",
     "output_type": "stream",
     "text": [
      "\r",
      "1650it [00:57, 30.80it/s]"
     ]
    },
    {
     "name": "stdout",
     "output_type": "stream",
     "text": [
      "diakourouna diakourouna\n",
      "dieli dieli\n",
      "djebala djebala\n",
      "djeguena djeguena\n"
     ]
    },
    {
     "name": "stderr",
     "output_type": "stream",
     "text": [
      "\r",
      "1654it [00:58, 25.11it/s]"
     ]
    },
    {
     "name": "stdout",
     "output_type": "stream",
     "text": [
      "fion fion\n",
      "kaniegue kaniegue\n",
      "karaba karaba\n",
      "kassorola kassorola\n",
      "kimparana kimparana\n"
     ]
    },
    {
     "name": "stderr",
     "output_type": "stream",
     "text": [
      "1665it [00:58, 23.03it/s]"
     ]
    },
    {
     "name": "stdout",
     "output_type": "stream",
     "text": [
      "konosso konosso\n",
      "koro - san koro-san\n",
      "lafiabougou lafiabougou\n",
      "m'pesso hameau mpesso hameau\n",
      "madina mahina\n"
     ]
    },
    {
     "name": "stderr",
     "output_type": "stream",
     "text": [
      "\r",
      "1668it [00:58, 20.96it/s]"
     ]
    },
    {
     "name": "stdout",
     "output_type": "stream",
     "text": [
      "moribila moribila\n",
      "n'goa ngoa\n",
      "n'torosso ntorosso\n",
      "niamana - san niamana - bla\n",
      "niasso niasso\n"
     ]
    },
    {
     "name": "stderr",
     "output_type": "stream",
     "text": [
      "1680it [00:59, 26.06it/s]"
     ]
    },
    {
     "name": "stdout",
     "output_type": "stream",
     "text": [
      "ouolon ouolon\n",
      "san central san central\n",
      "somo san somo-san\n",
      "sourountouna sourountouna\n",
      "sy sy\n"
     ]
    },
    {
     "name": "stderr",
     "output_type": "stream",
     "text": [
      "1688it [00:59, 28.79it/s]"
     ]
    },
    {
     "name": "stdout",
     "output_type": "stream",
     "text": [
      "tene tene\n",
      "tourakolomba tourakolomba\n",
      "bagadadji sud bagadadji sud\n",
      "bananissaba somon bananissabakoro\n",
      "banankoro banankoro\n"
     ]
    },
    {
     "name": "stderr",
     "output_type": "stream",
     "text": [
      "\r",
      "1693it [00:59, 29.57it/s]"
     ]
    },
    {
     "name": "stdout",
     "output_type": "stream",
     "text": [
      "boussin boussin\n",
      "diouna diouna\n",
      "falema falema\n"
     ]
    },
    {
     "name": "stderr",
     "output_type": "stream",
     "text": [
      "1707it [01:00, 32.74it/s]"
     ]
    },
    {
     "name": "stdout",
     "output_type": "stream",
     "text": [
      "famorila famorila\n",
      "farako farako\n",
      "fatine fatine\n",
      "katiena katiena\n",
      "konodimini konodimini\n"
     ]
    },
    {
     "name": "stderr",
     "output_type": "stream",
     "text": [
      "\r",
      "1712it [01:00, 32.46it/s]"
     ]
    },
    {
     "name": "stdout",
     "output_type": "stream",
     "text": [
      "massala massala\n",
      "medine medine\n",
      "mogola mogola\n"
     ]
    },
    {
     "name": "stderr",
     "output_type": "stream",
     "text": [
      "1720it [01:00, 27.05it/s]"
     ]
    },
    {
     "name": "stdout",
     "output_type": "stream",
     "text": [
      "digani digan\n",
      "ngara ngara\n",
      "nonongo nonongo\n",
      "pelegana sud pelengana sud\n"
     ]
    },
    {
     "name": "stderr",
     "output_type": "stream",
     "text": [
      "\r",
      "1723it [01:00, 25.89it/s]"
     ]
    },
    {
     "name": "stdout",
     "output_type": "stream",
     "text": [
      "sakoiba sakoiba\n",
      "sama foulala sama foulala\n",
      "samine samine\n",
      "sebougou sebougou\n"
     ]
    },
    {
     "name": "stderr",
     "output_type": "stream",
     "text": [
      "1729it [01:01, 21.41it/s]"
     ]
    },
    {
     "name": "stdout",
     "output_type": "stream",
     "text": [
      "sekoro sekoro\n",
      "sirimanzo sirimanzo\n",
      "souba souba\n",
      "tongo tongo\n"
     ]
    },
    {
     "name": "stderr",
     "output_type": "stream",
     "text": [
      "1743it [01:01, 28.33it/s]"
     ]
    },
    {
     "name": "stdout",
     "output_type": "stream",
     "text": [
      "yollo yollo\n",
      "benena benena\n",
      "diamakan diamakan\n",
      "diora diora\n",
      "fangasso fangasso\n"
     ]
    },
    {
     "name": "stderr",
     "output_type": "stream",
     "text": [
      "\r",
      "1747it [01:01, 27.55it/s]"
     ]
    },
    {
     "name": "stdout",
     "output_type": "stream",
     "text": [
      "lanfiala lanfiala\n",
      "mafoune mafoune\n",
      "mandiakuy mandiakuy\n",
      "mankoina mankoina\n",
      "monisso monisso\n"
     ]
    },
    {
     "name": "stderr",
     "output_type": "stream",
     "text": [
      "1753it [01:01, 23.12it/s]"
     ]
    },
    {
     "name": "stdout",
     "output_type": "stream",
     "text": [
      "ouan ouan\n",
      "sanekuy sanekuy\n",
      "timissa timissa\n",
      "tominian central tominian central\n",
      "turula turula\n"
     ]
    },
    {
     "name": "stderr",
     "output_type": "stream",
     "text": [
      "1775it [01:02, 38.70it/s]"
     ]
    },
    {
     "name": "stdout",
     "output_type": "stream",
     "text": [
      "tetou tetou\n",
      "yasso yasso\n",
      "oudeika oudaika\n",
      "arawane central nara central\n",
      "agouni agouni\n"
     ]
    },
    {
     "name": "stderr",
     "output_type": "stream",
     "text": [
      "1792it [01:02, 47.93it/s]"
     ]
    },
    {
     "name": "stdout",
     "output_type": "stream",
     "text": [
      "tichift tichitt\n",
      "zoueya zouera\n",
      "chirfiga chirfiga\n",
      "darsalam darsalam\n",
      "gari gari\n",
      "haibongo haibongo\n",
      "issafaye issafaye\n"
     ]
    },
    {
     "name": "stderr",
     "output_type": "stream",
     "text": [
      "\r",
      "1799it [01:02, 48.36it/s]"
     ]
    },
    {
     "name": "stdout",
     "output_type": "stream",
     "text": [
      "kirchamba kirchamba\n",
      "koura koura\n",
      "salakoira salakoïra\n",
      "sareyamou sareyamou\n",
      "tienkour tienkour\n"
     ]
    },
    {
     "name": "stderr",
     "output_type": "stream",
     "text": [
      "\r",
      "1805it [01:03, 31.08it/s]"
     ]
    },
    {
     "name": "stdout",
     "output_type": "stream",
     "text": [
      "tindirma tindirma\n",
      "adarmalane adermalane\n",
      "aljounoub aljounoub\n",
      "bintagoungou bintagoungou\n"
     ]
    },
    {
     "name": "stderr",
     "output_type": "stream",
     "text": [
      "\r",
      "1810it [01:03, 24.70it/s]"
     ]
    },
    {
     "name": "stdout",
     "output_type": "stream",
     "text": [
      "douekire douekire\n",
      "echell echell\n",
      "essakane essakane\n",
      "gargando gargando\n",
      "goundam central goundam central\n"
     ]
    },
    {
     "name": "stderr",
     "output_type": "stream",
     "text": [
      "\r",
      "1814it [01:03, 22.93it/s]"
     ]
    },
    {
     "name": "stdout",
     "output_type": "stream",
     "text": [
      "hangabera hangabera\n",
      "issa-bery issaberry\n",
      "kaneye kanaye\n",
      "kessoubiby kessoubibi\n",
      "mbouna mbouna\n"
     ]
    },
    {
     "name": "stderr",
     "output_type": "stream",
     "text": [
      "\r",
      "1818it [01:03, 20.33it/s]"
     ]
    },
    {
     "name": "stdout",
     "output_type": "stream",
     "text": [
      "mekore mekore\n",
      "niambourgou niambourgou\n",
      "razelma razelma\n",
      "tilemsi tilemsi\n"
     ]
    },
    {
     "name": "stderr",
     "output_type": "stream",
     "text": [
      "\r",
      "1821it [01:03, 19.25it/s]"
     ]
    },
    {
     "name": "stdout",
     "output_type": "stream",
     "text": [
      "tin-aicha tin aicha\n",
      "tintara tintara\n",
      "tonka tonka\n",
      "wana wana\n"
     ]
    },
    {
     "name": "stderr",
     "output_type": "stream",
     "text": [
      "1827it [01:04, 17.07it/s]"
     ]
    },
    {
     "name": "stdout",
     "output_type": "stream",
     "text": [
      "yourmi youri\n",
      "adiora adiora\n",
      "bambara maoudã bambara maoude\n",
      "banikane banikane\n",
      "benguel benguel\n"
     ]
    },
    {
     "name": "stderr",
     "output_type": "stream",
     "text": [
      "1834it [01:04, 19.11it/s]"
     ]
    },
    {
     "name": "stdout",
     "output_type": "stream",
     "text": [
      "dimamou diamamou\n",
      "ebanguemalãne ebangue malene\n",
      "egachar egachar\n",
      "gossi gossi\n",
      "hamzakoma hamzakoma\n"
     ]
    },
    {
     "name": "stderr",
     "output_type": "stream",
     "text": [
      "1840it [01:04, 20.25it/s]"
     ]
    },
    {
     "name": "stdout",
     "output_type": "stream",
     "text": [
      "haribomo haribomo\n",
      "inadiatafane inadiatafane\n",
      "koro bella koro bellah\n",
      "madiakoye madiakoye\n",
      "n'daki ndaki\n"
     ]
    },
    {
     "name": "stderr",
     "output_type": "stream",
     "text": [
      "1846it [01:05, 21.34it/s]"
     ]
    },
    {
     "name": "stdout",
     "output_type": "stream",
     "text": [
      "tintadenit tintadeni\n",
      "andiam andiam\n",
      "arabebe arabebe\n",
      "attara attara\n",
      "banikane banikane\n"
     ]
    },
    {
     "name": "stderr",
     "output_type": "stream",
     "text": [
      "1852it [01:05, 23.09it/s]"
     ]
    },
    {
     "name": "stdout",
     "output_type": "stream",
     "text": [
      "boyo boyo\n",
      "dianke dianke\n",
      "dofana dofana\n",
      "garnati garnaty\n",
      "gaye maoude gaye maoude\n"
     ]
    },
    {
     "name": "stderr",
     "output_type": "stream",
     "text": [
      "\r",
      "1855it [01:05, 19.32it/s]"
     ]
    },
    {
     "name": "stdout",
     "output_type": "stream",
     "text": [
      "gounambougou gounambougou\n",
      "guindigata nari guindigata nari\n",
      "konkobougou konkobougou\n"
     ]
    },
    {
     "name": "stderr",
     "output_type": "stream",
     "text": [
      "1864it [01:06, 23.54it/s]"
     ]
    },
    {
     "name": "stdout",
     "output_type": "stream",
     "text": [
      "koumaira koumaira\n",
      "lere lere\n",
      "ngorkou ngorkou\n",
      "dioulabougou doubabougou\n",
      "nounou nounou\n"
     ]
    },
    {
     "name": "stderr",
     "output_type": "stream",
     "text": [
      "1871it [01:06, 25.40it/s]"
     ]
    },
    {
     "name": "stdout",
     "output_type": "stream",
     "text": [
      "sarafere sarafere\n",
      "soumpi soumpi\n",
      "waki waki\n",
      "aglal aglal\n"
     ]
    },
    {
     "name": "stderr",
     "output_type": "stream",
     "text": [
      "1878it [01:06, 27.48it/s]"
     ]
    },
    {
     "name": "stdout",
     "output_type": "stream",
     "text": [
      "bellafarandi bellafarandi\n",
      "ber ber\n",
      "bori bori\n",
      "bourem inaly boureminaly\n"
     ]
    },
    {
     "name": "stderr",
     "output_type": "stream",
     "text": [
      "\r",
      "1881it [01:06, 22.29it/s]"
     ]
    },
    {
     "name": "stdout",
     "output_type": "stream",
     "text": [
      "eryntedjeft erintedjeft\n",
      "gourou aourou\n",
      "hondoubomo koina hondoubomo koina\n",
      "issafaye issafaye\n"
     ]
    },
    {
     "name": "stderr",
     "output_type": "stream",
     "text": [
      "1887it [01:07, 22.54it/s]"
     ]
    },
    {
     "name": "stdout",
     "output_type": "stream",
     "text": [
      "kabara kabara\n",
      "sankore sankore\n",
      "teherdje teherdje\n",
      "tin telout tin - telout\n"
     ]
    },
    {
     "name": "stderr",
     "output_type": "stream",
     "text": [
      "1891it [01:07, 28.15it/s]"
     ]
    },
    {
     "name": "stdout",
     "output_type": "stream",
     "text": [
      "toya toya\n",
      "zarho zarho\n"
     ]
    },
    {
     "name": "stderr",
     "output_type": "stream",
     "text": [
      "\n"
     ]
    }
   ],
   "source": [
    "for idx, row in tqdm(records.iterrows()):\n",
    "    \n",
    "    if row.geocoding_method==\"None\":\n",
    "        \n",
    "        # Check if there is another entry with location\n",
    "        match, score = match_name(row.NAME, list(rhino['name']), 80)\n",
    "        \n",
    "        if score > 0:\n",
    "            print(row.NAME, match)\n",
    "            matching_row = rhino.loc[rhino['name']==match].copy()\n",
    "            res = matching_row.iloc[0]\n",
    "\n",
    "            geocoded=False\n",
    "            if not pd.isna(row.adm3):\n",
    "                adm3 = geob3.loc[geob3['shapeName'] == row['adm3']].copy()\n",
    "                if adm3.contains(res.geometry).values[0] == True:\n",
    "                    records.loc[idx, \"longitude\"] = res.geometry.x\n",
    "                    records.loc[idx, \"latitude\"] = res.geometry.y\n",
    "                    records.loc[idx, \"geocoding_method\"] = \"Location from Health Sites IO and within admin 3\"\n",
    "                    geocoded=True\n",
    "\n",
    "            if (geocoded==False) and (not pd.isna(row.adm2)):\n",
    "                adm2 = geob2.loc[geob2['shapeName'] == row['adm2']].copy()\n",
    "                if adm2.contains(res.geometry).values[0] == True:            \n",
    "                    records.loc[idx, \"longitude\"] = res.geometry.x\n",
    "                    records.loc[idx, \"latitude\"] = res.geometry.y\n",
    "                    records.loc[idx, \"geocoding_method\"] = \"Location from Health Sites and within admin 2\"\n",
    "                    geocoded=True\n",
    "\n",
    "            if geocoded==False:\n",
    "                records.loc[idx, \"longitude\"] = res.geometry.x\n",
    "                records.loc[idx, \"latitude\"] = res.geometry.y\n",
    "                records.loc[idx, \"geocoding_method\"] = \"Location from Health Sites without admin verification\""
   ]
  },
  {
   "cell_type": "code",
   "execution_count": 750,
   "metadata": {},
   "outputs": [
    {
     "data": {
      "text/html": [
       "<style type=\"text/css\">\n",
       "</style>\n",
       "<table id=\"T_796f6_\">\n",
       "  <thead>\n",
       "    <tr>\n",
       "      <th class=\"blank level0\" >&nbsp;</th>\n",
       "      <th class=\"col_heading level0 col0\" >count</th>\n",
       "      <th class=\"col_heading level0 col1\" >pct</th>\n",
       "    </tr>\n",
       "    <tr>\n",
       "      <th class=\"index_name level0\" >geocoding_method</th>\n",
       "      <th class=\"blank col0\" >&nbsp;</th>\n",
       "      <th class=\"blank col1\" >&nbsp;</th>\n",
       "    </tr>\n",
       "  </thead>\n",
       "  <tbody>\n",
       "    <tr>\n",
       "      <th id=\"T_796f6_level0_row0\" class=\"row_heading level0 row0\" >Location from Health Sites IO and within admin 2</th>\n",
       "      <td id=\"T_796f6_row0_col0\" class=\"data row0 col0\" >5</td>\n",
       "      <td id=\"T_796f6_row0_col1\" class=\"data row0 col1\" >0.3%</td>\n",
       "    </tr>\n",
       "    <tr>\n",
       "      <th id=\"T_796f6_level0_row1\" class=\"row_heading level0 row1\" >Location from Health Sites IO and within admin 3</th>\n",
       "      <td id=\"T_796f6_row1_col0\" class=\"data row1 col0\" >285</td>\n",
       "      <td id=\"T_796f6_row1_col1\" class=\"data row1 col1\" >15.1%</td>\n",
       "    </tr>\n",
       "    <tr>\n",
       "      <th id=\"T_796f6_level0_row2\" class=\"row_heading level0 row2\" >Location from Health Sites IO and without admin verification</th>\n",
       "      <td id=\"T_796f6_row2_col0\" class=\"data row2 col0\" >180</td>\n",
       "      <td id=\"T_796f6_row2_col1\" class=\"data row2 col1\" >9.5%</td>\n",
       "    </tr>\n",
       "    <tr>\n",
       "      <th id=\"T_796f6_level0_row3\" class=\"row_heading level0 row3\" >Location from Health Sites and within admin 2</th>\n",
       "      <td id=\"T_796f6_row3_col0\" class=\"data row3 col0\" >632</td>\n",
       "      <td id=\"T_796f6_row3_col1\" class=\"data row3 col1\" >33.4%</td>\n",
       "    </tr>\n",
       "    <tr>\n",
       "      <th id=\"T_796f6_level0_row4\" class=\"row_heading level0 row4\" >Location from Health Sites without admin verification</th>\n",
       "      <td id=\"T_796f6_row4_col0\" class=\"data row4 col0\" >230</td>\n",
       "      <td id=\"T_796f6_row4_col1\" class=\"data row4 col1\" >12.2%</td>\n",
       "    </tr>\n",
       "    <tr>\n",
       "      <th id=\"T_796f6_level0_row5\" class=\"row_heading level0 row5\" >None</th>\n",
       "      <td id=\"T_796f6_row5_col0\" class=\"data row5 col0\" >559</td>\n",
       "      <td id=\"T_796f6_row5_col1\" class=\"data row5 col1\" >29.6%</td>\n",
       "    </tr>\n",
       "  </tbody>\n",
       "</table>\n"
      ],
      "text/plain": [
       "<pandas.io.formats.style.Styler at 0x7f0bc32e9748>"
      ]
     },
     "execution_count": 750,
     "metadata": {},
     "output_type": "execute_result"
    }
   ],
   "source": [
    "report_geocoding(records)"
   ]
  },
  {
   "cell_type": "markdown",
   "metadata": {},
   "source": [
    "# Geocoding with APIs"
   ]
  },
  {
   "cell_type": "code",
   "execution_count": 751,
   "metadata": {},
   "outputs": [
    {
     "data": {
      "text/plain": [
       "True"
      ]
     },
     "execution_count": 751,
     "metadata": {},
     "output_type": "execute_result"
    }
   ],
   "source": [
    "from pathlib import Path \n",
    "env_path = Path(input_dir) / '.env'\n",
    "load_dotenv(dotenv_path=env_path)"
   ]
  },
  {
   "cell_type": "code",
   "execution_count": 752,
   "metadata": {},
   "outputs": [],
   "source": [
    "bing_key = os.environ.get(\"bing_key\")\n",
    "google_key = os.environ.get(\"google_key\")"
   ]
  },
  {
   "cell_type": "code",
   "execution_count": 753,
   "metadata": {},
   "outputs": [],
   "source": [
    "geolocator_osm = Nominatim(user_agent=\"health-equity\")\n",
    "geolocator_bing = Bing(api_key=bing_key)\n",
    "geolocator_google = GoogleV3(api_key=google_key)"
   ]
  },
  {
   "cell_type": "markdown",
   "metadata": {},
   "source": [
    "## Facility name and admin 3 names"
   ]
  },
  {
   "cell_type": "markdown",
   "metadata": {},
   "source": [
    "Geocode based on facility name (orgunitlevel5) + admin 3 name.  \n",
    "Check to make sure result falls within admin 3 polygon."
   ]
  },
  {
   "cell_type": "code",
   "execution_count": 754,
   "metadata": {},
   "outputs": [],
   "source": [
    "records_subset = records.loc[records.geocoding_method==\"None\"].copy()\n",
    "# only include trying to geocode rows that have an admin name that is matched to the Geoboundaries file\n",
    "records_subset = records_subset.loc[~records_subset.adm3.isna()].copy()"
   ]
  },
  {
   "cell_type": "code",
   "execution_count": 755,
   "metadata": {},
   "outputs": [
    {
     "data": {
      "text/plain": [
       "202"
      ]
     },
     "execution_count": 755,
     "metadata": {},
     "output_type": "execute_result"
    }
   ],
   "source": [
    "len(records_subset)"
   ]
  },
  {
   "cell_type": "code",
   "execution_count": 756,
   "metadata": {},
   "outputs": [
    {
     "data": {
      "text/html": [
       "<div>\n",
       "<style scoped>\n",
       "    .dataframe tbody tr th:only-of-type {\n",
       "        vertical-align: middle;\n",
       "    }\n",
       "\n",
       "    .dataframe tbody tr th {\n",
       "        vertical-align: top;\n",
       "    }\n",
       "\n",
       "    .dataframe thead th {\n",
       "        text-align: right;\n",
       "    }\n",
       "</style>\n",
       "<table border=\"1\" class=\"dataframe\">\n",
       "  <thead>\n",
       "    <tr style=\"text-align: right;\">\n",
       "      <th></th>\n",
       "      <th>orgunitlevel1</th>\n",
       "      <th>orgunitlevel2</th>\n",
       "      <th>orgunitlevel3</th>\n",
       "      <th>orgunitlevel4</th>\n",
       "      <th>orgunitlevel5</th>\n",
       "      <th>orgunitlevel4_edit</th>\n",
       "      <th>orgunitlevel3_edit</th>\n",
       "      <th>adm3</th>\n",
       "      <th>adm2</th>\n",
       "      <th>NAME</th>\n",
       "      <th>geocoding_method</th>\n",
       "      <th>longitude</th>\n",
       "      <th>latitude</th>\n",
       "    </tr>\n",
       "  </thead>\n",
       "  <tbody>\n",
       "    <tr>\n",
       "      <th>46</th>\n",
       "      <td>Mali</td>\n",
       "      <td>Bamako</td>\n",
       "      <td>District Commune II</td>\n",
       "      <td>Benkady</td>\n",
       "      <td>CMIE Zone commune 2</td>\n",
       "      <td>Benkady</td>\n",
       "      <td>Commune II</td>\n",
       "      <td>Benkadi</td>\n",
       "      <td>NaN</td>\n",
       "      <td>cmie zone commune 2</td>\n",
       "      <td>None</td>\n",
       "      <td>NaN</td>\n",
       "      <td>NaN</td>\n",
       "    </tr>\n",
       "    <tr>\n",
       "      <th>48</th>\n",
       "      <td>Mali</td>\n",
       "      <td>Bamako</td>\n",
       "      <td>District Commune II</td>\n",
       "      <td>Benkady</td>\n",
       "      <td>Centre de santÃ© Mutualiste TSF \"Valentin de P...</td>\n",
       "      <td>Benkady</td>\n",
       "      <td>Commune II</td>\n",
       "      <td>Benkadi</td>\n",
       "      <td>NaN</td>\n",
       "      <td>de santã© mutualiste tsf \"valentin de pablo\"</td>\n",
       "      <td>None</td>\n",
       "      <td>NaN</td>\n",
       "      <td>NaN</td>\n",
       "    </tr>\n",
       "  </tbody>\n",
       "</table>\n",
       "</div>"
      ],
      "text/plain": [
       "   orgunitlevel1 orgunitlevel2        orgunitlevel3 orgunitlevel4  \\\n",
       "46          Mali        Bamako  District Commune II       Benkady   \n",
       "48          Mali        Bamako  District Commune II       Benkady   \n",
       "\n",
       "                                        orgunitlevel5 orgunitlevel4_edit  \\\n",
       "46                                CMIE Zone commune 2            Benkady   \n",
       "48  Centre de santÃ© Mutualiste TSF \"Valentin de P...            Benkady   \n",
       "\n",
       "   orgunitlevel3_edit     adm3 adm2  \\\n",
       "46         Commune II  Benkadi  NaN   \n",
       "48         Commune II  Benkadi  NaN   \n",
       "\n",
       "                                            NAME geocoding_method  longitude  \\\n",
       "46                           cmie zone commune 2             None        NaN   \n",
       "48  de santã© mutualiste tsf \"valentin de pablo\"             None        NaN   \n",
       "\n",
       "    latitude  \n",
       "46       NaN  \n",
       "48       NaN  "
      ]
     },
     "execution_count": 756,
     "metadata": {},
     "output_type": "execute_result"
    }
   ],
   "source": [
    "records_subset.head(2)"
   ]
  },
  {
   "cell_type": "code",
   "execution_count": 757,
   "metadata": {
    "code_folding": [],
    "scrolled": true
   },
   "outputs": [
    {
     "name": "stderr",
     "output_type": "stream",
     "text": [
      "202it [01:41,  1.99it/s]\n"
     ]
    }
   ],
   "source": [
    "for idx, row in tqdm(records_subset.iterrows()):\n",
    "    \n",
    "    adm3 = geob3.loc[geob3['shapeName'] == row['adm3']].copy()\n",
    "    run_geocoding(idx, row, records, adm3, ['NAME', 'adm3'], 'ml')"
   ]
  },
  {
   "cell_type": "code",
   "execution_count": 758,
   "metadata": {},
   "outputs": [
    {
     "data": {
      "text/html": [
       "<style type=\"text/css\">\n",
       "</style>\n",
       "<table id=\"T_061ab_\">\n",
       "  <thead>\n",
       "    <tr>\n",
       "      <th class=\"blank level0\" >&nbsp;</th>\n",
       "      <th class=\"col_heading level0 col0\" >count</th>\n",
       "      <th class=\"col_heading level0 col1\" >pct</th>\n",
       "    </tr>\n",
       "    <tr>\n",
       "      <th class=\"index_name level0\" >geocoding_method</th>\n",
       "      <th class=\"blank col0\" >&nbsp;</th>\n",
       "      <th class=\"blank col1\" >&nbsp;</th>\n",
       "    </tr>\n",
       "  </thead>\n",
       "  <tbody>\n",
       "    <tr>\n",
       "      <th id=\"T_061ab_level0_row0\" class=\"row_heading level0 row0\" >Location from Health Sites IO and within admin 2</th>\n",
       "      <td id=\"T_061ab_row0_col0\" class=\"data row0 col0\" >5</td>\n",
       "      <td id=\"T_061ab_row0_col1\" class=\"data row0 col1\" >0.3%</td>\n",
       "    </tr>\n",
       "    <tr>\n",
       "      <th id=\"T_061ab_level0_row1\" class=\"row_heading level0 row1\" >Location from Health Sites IO and within admin 3</th>\n",
       "      <td id=\"T_061ab_row1_col0\" class=\"data row1 col0\" >285</td>\n",
       "      <td id=\"T_061ab_row1_col1\" class=\"data row1 col1\" >15.1%</td>\n",
       "    </tr>\n",
       "    <tr>\n",
       "      <th id=\"T_061ab_level0_row2\" class=\"row_heading level0 row2\" >Location from Health Sites IO and without admin verification</th>\n",
       "      <td id=\"T_061ab_row2_col0\" class=\"data row2 col0\" >180</td>\n",
       "      <td id=\"T_061ab_row2_col1\" class=\"data row2 col1\" >9.5%</td>\n",
       "    </tr>\n",
       "    <tr>\n",
       "      <th id=\"T_061ab_level0_row3\" class=\"row_heading level0 row3\" >Location from Health Sites and within admin 2</th>\n",
       "      <td id=\"T_061ab_row3_col0\" class=\"data row3 col0\" >632</td>\n",
       "      <td id=\"T_061ab_row3_col1\" class=\"data row3 col1\" >33.4%</td>\n",
       "    </tr>\n",
       "    <tr>\n",
       "      <th id=\"T_061ab_level0_row4\" class=\"row_heading level0 row4\" >Location from Health Sites without admin verification</th>\n",
       "      <td id=\"T_061ab_row4_col0\" class=\"data row4 col0\" >230</td>\n",
       "      <td id=\"T_061ab_row4_col1\" class=\"data row4 col1\" >12.2%</td>\n",
       "    </tr>\n",
       "    <tr>\n",
       "      <th id=\"T_061ab_level0_row5\" class=\"row_heading level0 row5\" >NAME and adm3 query Bing</th>\n",
       "      <td id=\"T_061ab_row5_col0\" class=\"data row5 col0\" >84</td>\n",
       "      <td id=\"T_061ab_row5_col1\" class=\"data row5 col1\" >4.4%</td>\n",
       "    </tr>\n",
       "    <tr>\n",
       "      <th id=\"T_061ab_level0_row6\" class=\"row_heading level0 row6\" >NAME and adm3 query Google</th>\n",
       "      <td id=\"T_061ab_row6_col0\" class=\"data row6 col0\" >66</td>\n",
       "      <td id=\"T_061ab_row6_col1\" class=\"data row6 col1\" >3.5%</td>\n",
       "    </tr>\n",
       "    <tr>\n",
       "      <th id=\"T_061ab_level0_row7\" class=\"row_heading level0 row7\" >NAME and adm3 query OSM</th>\n",
       "      <td id=\"T_061ab_row7_col0\" class=\"data row7 col0\" >27</td>\n",
       "      <td id=\"T_061ab_row7_col1\" class=\"data row7 col1\" >1.4%</td>\n",
       "    </tr>\n",
       "    <tr>\n",
       "      <th id=\"T_061ab_level0_row8\" class=\"row_heading level0 row8\" >None</th>\n",
       "      <td id=\"T_061ab_row8_col0\" class=\"data row8 col0\" >382</td>\n",
       "      <td id=\"T_061ab_row8_col1\" class=\"data row8 col1\" >20.2%</td>\n",
       "    </tr>\n",
       "  </tbody>\n",
       "</table>\n"
      ],
      "text/plain": [
       "<pandas.io.formats.style.Styler at 0x7f0bc5b66e10>"
      ]
     },
     "execution_count": 758,
     "metadata": {},
     "output_type": "execute_result"
    }
   ],
   "source": [
    "report_geocoding(records)"
   ]
  },
  {
   "cell_type": "code",
   "execution_count": 759,
   "metadata": {},
   "outputs": [],
   "source": [
    "records_subset = records.loc[records.geocoding_method==\"None\"].copy()\n",
    "records_subset = records_subset.loc[~records_subset.adm3.isna()].copy()\n",
    "records_subset = records_subset.loc[~records_subset.adm2.isna()].copy()"
   ]
  },
  {
   "cell_type": "code",
   "execution_count": 760,
   "metadata": {},
   "outputs": [
    {
     "data": {
      "text/plain": [
       "21"
      ]
     },
     "execution_count": 760,
     "metadata": {},
     "output_type": "execute_result"
    }
   ],
   "source": [
    "len(records_subset)"
   ]
  },
  {
   "cell_type": "markdown",
   "metadata": {},
   "source": [
    "## Facility name and admin 2 names"
   ]
  },
  {
   "cell_type": "markdown",
   "metadata": {},
   "source": [
    "Geocode based on facility name (orgunitlevel5) + admin 2 name.  \n",
    "Check to make sure result falls within admin 3 polygon."
   ]
  },
  {
   "cell_type": "code",
   "execution_count": 761,
   "metadata": {},
   "outputs": [
    {
     "name": "stderr",
     "output_type": "stream",
     "text": [
      "21it [00:10,  2.00it/s]\n"
     ]
    }
   ],
   "source": [
    "for idx, row in tqdm(records_subset.iterrows()):\n",
    "    \n",
    "    adm3 = geob3.loc[geob3['shapeName'] == row['adm3']].copy()\n",
    "    run_geocoding(idx, row, records, adm3, ['NAME', 'adm2'], 'ml')"
   ]
  },
  {
   "cell_type": "code",
   "execution_count": 762,
   "metadata": {},
   "outputs": [
    {
     "data": {
      "text/html": [
       "<style type=\"text/css\">\n",
       "</style>\n",
       "<table id=\"T_ae270_\">\n",
       "  <thead>\n",
       "    <tr>\n",
       "      <th class=\"blank level0\" >&nbsp;</th>\n",
       "      <th class=\"col_heading level0 col0\" >count</th>\n",
       "      <th class=\"col_heading level0 col1\" >pct</th>\n",
       "    </tr>\n",
       "    <tr>\n",
       "      <th class=\"index_name level0\" >geocoding_method</th>\n",
       "      <th class=\"blank col0\" >&nbsp;</th>\n",
       "      <th class=\"blank col1\" >&nbsp;</th>\n",
       "    </tr>\n",
       "  </thead>\n",
       "  <tbody>\n",
       "    <tr>\n",
       "      <th id=\"T_ae270_level0_row0\" class=\"row_heading level0 row0\" >Location from Health Sites IO and within admin 2</th>\n",
       "      <td id=\"T_ae270_row0_col0\" class=\"data row0 col0\" >5</td>\n",
       "      <td id=\"T_ae270_row0_col1\" class=\"data row0 col1\" >0.3%</td>\n",
       "    </tr>\n",
       "    <tr>\n",
       "      <th id=\"T_ae270_level0_row1\" class=\"row_heading level0 row1\" >Location from Health Sites IO and within admin 3</th>\n",
       "      <td id=\"T_ae270_row1_col0\" class=\"data row1 col0\" >285</td>\n",
       "      <td id=\"T_ae270_row1_col1\" class=\"data row1 col1\" >15.1%</td>\n",
       "    </tr>\n",
       "    <tr>\n",
       "      <th id=\"T_ae270_level0_row2\" class=\"row_heading level0 row2\" >Location from Health Sites IO and without admin verification</th>\n",
       "      <td id=\"T_ae270_row2_col0\" class=\"data row2 col0\" >180</td>\n",
       "      <td id=\"T_ae270_row2_col1\" class=\"data row2 col1\" >9.5%</td>\n",
       "    </tr>\n",
       "    <tr>\n",
       "      <th id=\"T_ae270_level0_row3\" class=\"row_heading level0 row3\" >Location from Health Sites and within admin 2</th>\n",
       "      <td id=\"T_ae270_row3_col0\" class=\"data row3 col0\" >632</td>\n",
       "      <td id=\"T_ae270_row3_col1\" class=\"data row3 col1\" >33.4%</td>\n",
       "    </tr>\n",
       "    <tr>\n",
       "      <th id=\"T_ae270_level0_row4\" class=\"row_heading level0 row4\" >Location from Health Sites without admin verification</th>\n",
       "      <td id=\"T_ae270_row4_col0\" class=\"data row4 col0\" >230</td>\n",
       "      <td id=\"T_ae270_row4_col1\" class=\"data row4 col1\" >12.2%</td>\n",
       "    </tr>\n",
       "    <tr>\n",
       "      <th id=\"T_ae270_level0_row5\" class=\"row_heading level0 row5\" >NAME and adm3 query Bing</th>\n",
       "      <td id=\"T_ae270_row5_col0\" class=\"data row5 col0\" >84</td>\n",
       "      <td id=\"T_ae270_row5_col1\" class=\"data row5 col1\" >4.4%</td>\n",
       "    </tr>\n",
       "    <tr>\n",
       "      <th id=\"T_ae270_level0_row6\" class=\"row_heading level0 row6\" >NAME and adm3 query Google</th>\n",
       "      <td id=\"T_ae270_row6_col0\" class=\"data row6 col0\" >66</td>\n",
       "      <td id=\"T_ae270_row6_col1\" class=\"data row6 col1\" >3.5%</td>\n",
       "    </tr>\n",
       "    <tr>\n",
       "      <th id=\"T_ae270_level0_row7\" class=\"row_heading level0 row7\" >NAME and adm3 query OSM</th>\n",
       "      <td id=\"T_ae270_row7_col0\" class=\"data row7 col0\" >27</td>\n",
       "      <td id=\"T_ae270_row7_col1\" class=\"data row7 col1\" >1.4%</td>\n",
       "    </tr>\n",
       "    <tr>\n",
       "      <th id=\"T_ae270_level0_row8\" class=\"row_heading level0 row8\" >None</th>\n",
       "      <td id=\"T_ae270_row8_col0\" class=\"data row8 col0\" >382</td>\n",
       "      <td id=\"T_ae270_row8_col1\" class=\"data row8 col1\" >20.2%</td>\n",
       "    </tr>\n",
       "  </tbody>\n",
       "</table>\n"
      ],
      "text/plain": [
       "<pandas.io.formats.style.Styler at 0x7f0bc313f7f0>"
      ]
     },
     "execution_count": 762,
     "metadata": {},
     "output_type": "execute_result"
    }
   ],
   "source": [
    "report_geocoding(records)"
   ]
  },
  {
   "cell_type": "code",
   "execution_count": 763,
   "metadata": {},
   "outputs": [],
   "source": [
    "records_subset = records.loc[records.geocoding_method==\"None\"].copy()\n",
    "records_subset = records_subset.loc[~records_subset.adm3.isna()].copy()"
   ]
  },
  {
   "cell_type": "code",
   "execution_count": 764,
   "metadata": {},
   "outputs": [
    {
     "data": {
      "text/plain": [
       "25"
      ]
     },
     "execution_count": 764,
     "metadata": {},
     "output_type": "execute_result"
    }
   ],
   "source": [
    "len(records_subset)"
   ]
  },
  {
   "cell_type": "markdown",
   "metadata": {},
   "source": [
    "## Admin 3 names"
   ]
  },
  {
   "cell_type": "markdown",
   "metadata": {},
   "source": [
    "Geocode based on admin 3 name.  \n",
    "Check to make sure result falls within admin 3 polygon.  \n",
    "If no result use admin 3 centroid."
   ]
  },
  {
   "cell_type": "code",
   "execution_count": 765,
   "metadata": {},
   "outputs": [],
   "source": [
    "orglev4_df = records_subset[['orgunitlevel4', 'orgunitlevel4_edit', 'adm3', 'orgunitlevel1']].drop_duplicates().copy()"
   ]
  },
  {
   "cell_type": "code",
   "execution_count": 766,
   "metadata": {},
   "outputs": [
    {
     "data": {
      "text/html": [
       "<div>\n",
       "<style scoped>\n",
       "    .dataframe tbody tr th:only-of-type {\n",
       "        vertical-align: middle;\n",
       "    }\n",
       "\n",
       "    .dataframe tbody tr th {\n",
       "        vertical-align: top;\n",
       "    }\n",
       "\n",
       "    .dataframe thead th {\n",
       "        text-align: right;\n",
       "    }\n",
       "</style>\n",
       "<table border=\"1\" class=\"dataframe\">\n",
       "  <thead>\n",
       "    <tr style=\"text-align: right;\">\n",
       "      <th></th>\n",
       "      <th>orgunitlevel4</th>\n",
       "      <th>orgunitlevel4_edit</th>\n",
       "      <th>adm3</th>\n",
       "      <th>orgunitlevel1</th>\n",
       "    </tr>\n",
       "  </thead>\n",
       "  <tbody>\n",
       "    <tr>\n",
       "      <th>46</th>\n",
       "      <td>Benkady</td>\n",
       "      <td>Benkady</td>\n",
       "      <td>Benkadi</td>\n",
       "      <td>Mali</td>\n",
       "    </tr>\n",
       "    <tr>\n",
       "      <th>346</th>\n",
       "      <td>Marsi</td>\n",
       "      <td>Marsi</td>\n",
       "      <td>Mariko</td>\n",
       "      <td>Mali</td>\n",
       "    </tr>\n",
       "  </tbody>\n",
       "</table>\n",
       "</div>"
      ],
      "text/plain": [
       "    orgunitlevel4 orgunitlevel4_edit     adm3 orgunitlevel1\n",
       "46        Benkady            Benkady  Benkadi          Mali\n",
       "346         Marsi              Marsi   Mariko          Mali"
      ]
     },
     "execution_count": 766,
     "metadata": {},
     "output_type": "execute_result"
    }
   ],
   "source": [
    "orglev4_df.head(2)"
   ]
  },
  {
   "cell_type": "code",
   "execution_count": 767,
   "metadata": {},
   "outputs": [
    {
     "data": {
      "text/plain": [
       "24"
      ]
     },
     "execution_count": 767,
     "metadata": {},
     "output_type": "execute_result"
    }
   ],
   "source": [
    "len(orglev4_df)"
   ]
  },
  {
   "cell_type": "code",
   "execution_count": 768,
   "metadata": {},
   "outputs": [
    {
     "name": "stderr",
     "output_type": "stream",
     "text": [
      "24it [00:11,  2.01it/s]\n"
     ]
    }
   ],
   "source": [
    "for idx, row in tqdm(orglev4_df.iterrows()):\n",
    "    adm3 = geob3.loc[geob3['shapeName'] == row['adm3']].copy()\n",
    "    run_geocoding(idx, row, orglev4_df, adm3, ['orgunitlevel4', 'orgunitlevel1'], 'ml')"
   ]
  },
  {
   "cell_type": "code",
   "execution_count": 769,
   "metadata": {},
   "outputs": [
    {
     "name": "stderr",
     "output_type": "stream",
     "text": [
      "24it [00:00, 38.81it/s]\n"
     ]
    }
   ],
   "source": [
    "for idx, row in tqdm(orglev4_df.iterrows()):\n",
    "    \n",
    "    #grab admin geometry\n",
    "    adm3 = geob3.loc[geob3['shapeName'] == row['adm3']].copy()\n",
    "    if row.geocoding_method==\"None\":\n",
    "        cent = adm3.geometry.representative_point().iloc[0]\n",
    "        orglev4_df.loc[idx, \"longitude\"] = cent.x\n",
    "        orglev4_df.loc[idx, \"latitude\"] = cent.y\n",
    "        orglev4_df.loc[idx, \"geocoding_method\"] = \"District centroid\""
   ]
  },
  {
   "cell_type": "code",
   "execution_count": 770,
   "metadata": {},
   "outputs": [
    {
     "data": {
      "text/plain": [
       "District centroid                               20\n",
       "orgunitlevel4 and orgunitlevel1 query OSM        2\n",
       "orgunitlevel4 and orgunitlevel1 query Bing       1\n",
       "orgunitlevel4 and orgunitlevel1 query Google     1\n",
       "Name: geocoding_method, dtype: int64"
      ]
     },
     "execution_count": 770,
     "metadata": {},
     "output_type": "execute_result"
    }
   ],
   "source": [
    "orglev4_df.geocoding_method.value_counts()"
   ]
  },
  {
   "cell_type": "code",
   "execution_count": 771,
   "metadata": {},
   "outputs": [
    {
     "name": "stderr",
     "output_type": "stream",
     "text": [
      "25it [00:00, 789.04it/s]\n"
     ]
    }
   ],
   "source": [
    "# update main records table\n",
    "for idx, row in tqdm(records_subset.iterrows()):\n",
    "    orglev4_geocoded = orglev4_df.loc[orglev4_df['orgunitlevel4']==row['orgunitlevel4']].iloc[0]    \n",
    "    records.loc[idx, \"longitude\"] = orglev4_geocoded.longitude\n",
    "    records.loc[idx, \"latitude\"] = orglev4_geocoded.latitude\n",
    "    records.loc[idx, \"geocoding_method\"] = orglev4_geocoded.geocoding_method"
   ]
  },
  {
   "cell_type": "code",
   "execution_count": 772,
   "metadata": {},
   "outputs": [
    {
     "data": {
      "text/html": [
       "<style type=\"text/css\">\n",
       "</style>\n",
       "<table id=\"T_6460c_\">\n",
       "  <thead>\n",
       "    <tr>\n",
       "      <th class=\"blank level0\" >&nbsp;</th>\n",
       "      <th class=\"col_heading level0 col0\" >count</th>\n",
       "      <th class=\"col_heading level0 col1\" >pct</th>\n",
       "    </tr>\n",
       "    <tr>\n",
       "      <th class=\"index_name level0\" >geocoding_method</th>\n",
       "      <th class=\"blank col0\" >&nbsp;</th>\n",
       "      <th class=\"blank col1\" >&nbsp;</th>\n",
       "    </tr>\n",
       "  </thead>\n",
       "  <tbody>\n",
       "    <tr>\n",
       "      <th id=\"T_6460c_level0_row0\" class=\"row_heading level0 row0\" >District centroid</th>\n",
       "      <td id=\"T_6460c_row0_col0\" class=\"data row0 col0\" >21</td>\n",
       "      <td id=\"T_6460c_row0_col1\" class=\"data row0 col1\" >1.1%</td>\n",
       "    </tr>\n",
       "    <tr>\n",
       "      <th id=\"T_6460c_level0_row1\" class=\"row_heading level0 row1\" >Location from Health Sites IO and within admin 2</th>\n",
       "      <td id=\"T_6460c_row1_col0\" class=\"data row1 col0\" >5</td>\n",
       "      <td id=\"T_6460c_row1_col1\" class=\"data row1 col1\" >0.3%</td>\n",
       "    </tr>\n",
       "    <tr>\n",
       "      <th id=\"T_6460c_level0_row2\" class=\"row_heading level0 row2\" >Location from Health Sites IO and within admin 3</th>\n",
       "      <td id=\"T_6460c_row2_col0\" class=\"data row2 col0\" >285</td>\n",
       "      <td id=\"T_6460c_row2_col1\" class=\"data row2 col1\" >15.1%</td>\n",
       "    </tr>\n",
       "    <tr>\n",
       "      <th id=\"T_6460c_level0_row3\" class=\"row_heading level0 row3\" >Location from Health Sites IO and without admin verification</th>\n",
       "      <td id=\"T_6460c_row3_col0\" class=\"data row3 col0\" >180</td>\n",
       "      <td id=\"T_6460c_row3_col1\" class=\"data row3 col1\" >9.5%</td>\n",
       "    </tr>\n",
       "    <tr>\n",
       "      <th id=\"T_6460c_level0_row4\" class=\"row_heading level0 row4\" >Location from Health Sites and within admin 2</th>\n",
       "      <td id=\"T_6460c_row4_col0\" class=\"data row4 col0\" >632</td>\n",
       "      <td id=\"T_6460c_row4_col1\" class=\"data row4 col1\" >33.4%</td>\n",
       "    </tr>\n",
       "    <tr>\n",
       "      <th id=\"T_6460c_level0_row5\" class=\"row_heading level0 row5\" >Location from Health Sites without admin verification</th>\n",
       "      <td id=\"T_6460c_row5_col0\" class=\"data row5 col0\" >230</td>\n",
       "      <td id=\"T_6460c_row5_col1\" class=\"data row5 col1\" >12.2%</td>\n",
       "    </tr>\n",
       "    <tr>\n",
       "      <th id=\"T_6460c_level0_row6\" class=\"row_heading level0 row6\" >NAME and adm3 query Bing</th>\n",
       "      <td id=\"T_6460c_row6_col0\" class=\"data row6 col0\" >84</td>\n",
       "      <td id=\"T_6460c_row6_col1\" class=\"data row6 col1\" >4.4%</td>\n",
       "    </tr>\n",
       "    <tr>\n",
       "      <th id=\"T_6460c_level0_row7\" class=\"row_heading level0 row7\" >NAME and adm3 query Google</th>\n",
       "      <td id=\"T_6460c_row7_col0\" class=\"data row7 col0\" >66</td>\n",
       "      <td id=\"T_6460c_row7_col1\" class=\"data row7 col1\" >3.5%</td>\n",
       "    </tr>\n",
       "    <tr>\n",
       "      <th id=\"T_6460c_level0_row8\" class=\"row_heading level0 row8\" >NAME and adm3 query OSM</th>\n",
       "      <td id=\"T_6460c_row8_col0\" class=\"data row8 col0\" >27</td>\n",
       "      <td id=\"T_6460c_row8_col1\" class=\"data row8 col1\" >1.4%</td>\n",
       "    </tr>\n",
       "    <tr>\n",
       "      <th id=\"T_6460c_level0_row9\" class=\"row_heading level0 row9\" >None</th>\n",
       "      <td id=\"T_6460c_row9_col0\" class=\"data row9 col0\" >357</td>\n",
       "      <td id=\"T_6460c_row9_col1\" class=\"data row9 col1\" >18.9%</td>\n",
       "    </tr>\n",
       "    <tr>\n",
       "      <th id=\"T_6460c_level0_row10\" class=\"row_heading level0 row10\" >orgunitlevel4 and orgunitlevel1 query Bing</th>\n",
       "      <td id=\"T_6460c_row10_col0\" class=\"data row10 col0\" >1</td>\n",
       "      <td id=\"T_6460c_row10_col1\" class=\"data row10 col1\" >0.1%</td>\n",
       "    </tr>\n",
       "    <tr>\n",
       "      <th id=\"T_6460c_level0_row11\" class=\"row_heading level0 row11\" >orgunitlevel4 and orgunitlevel1 query Google</th>\n",
       "      <td id=\"T_6460c_row11_col0\" class=\"data row11 col0\" >1</td>\n",
       "      <td id=\"T_6460c_row11_col1\" class=\"data row11 col1\" >0.1%</td>\n",
       "    </tr>\n",
       "    <tr>\n",
       "      <th id=\"T_6460c_level0_row12\" class=\"row_heading level0 row12\" >orgunitlevel4 and orgunitlevel1 query OSM</th>\n",
       "      <td id=\"T_6460c_row12_col0\" class=\"data row12 col0\" >2</td>\n",
       "      <td id=\"T_6460c_row12_col1\" class=\"data row12 col1\" >0.1%</td>\n",
       "    </tr>\n",
       "  </tbody>\n",
       "</table>\n"
      ],
      "text/plain": [
       "<pandas.io.formats.style.Styler at 0x7f0bc59bc518>"
      ]
     },
     "execution_count": 772,
     "metadata": {},
     "output_type": "execute_result"
    }
   ],
   "source": [
    "report_geocoding(records)"
   ]
  },
  {
   "cell_type": "code",
   "execution_count": 773,
   "metadata": {},
   "outputs": [],
   "source": [
    "records_subset = records.loc[records.geocoding_method==\"None\"].copy()\n",
    "records_subset = records_subset.loc[~records.adm3.isna()].copy()\n",
    "records_subset = records_subset.loc[~records.adm2.isna()].copy()"
   ]
  },
  {
   "cell_type": "code",
   "execution_count": 774,
   "metadata": {},
   "outputs": [
    {
     "data": {
      "text/plain": [
       "0"
      ]
     },
     "execution_count": 774,
     "metadata": {},
     "output_type": "execute_result"
    }
   ],
   "source": [
    "len(records_subset)"
   ]
  },
  {
   "cell_type": "markdown",
   "metadata": {},
   "source": [
    "## Admin 3  and admin 2 names"
   ]
  },
  {
   "cell_type": "markdown",
   "metadata": {},
   "source": [
    "Geocode based on admin 3 name and admin 2 name.    \n",
    "Check to make sure result falls within admin 2 polygon.  "
   ]
  },
  {
   "cell_type": "code",
   "execution_count": 775,
   "metadata": {},
   "outputs": [],
   "source": [
    "orglev4_df = records_subset[['orgunitlevel4', 'orgunitlevel4_edit', 'adm2', 'orgunitlevel1']].drop_duplicates().copy()"
   ]
  },
  {
   "cell_type": "code",
   "execution_count": 776,
   "metadata": {},
   "outputs": [
    {
     "data": {
      "text/plain": [
       "0"
      ]
     },
     "execution_count": 776,
     "metadata": {},
     "output_type": "execute_result"
    }
   ],
   "source": [
    "len(orglev4_df)"
   ]
  },
  {
   "cell_type": "code",
   "execution_count": 777,
   "metadata": {},
   "outputs": [],
   "source": [
    "if len(orglev4_df) > 0:\n",
    "    for idx, row in tqdm(orglev4_df.iterrows()):\n",
    "        adm2 = geob2.loc[geob2['shapeName'] == row['adm2']].copy() if row.adm2 in geob2_list else geob2.loc[geob2['ADMIN2'] == row['adm2']].copy()\n",
    "        run_geocoding(idx, row, orglev4_df, adm2, ['orgunitlevel4', 'adm2'], 'ml')"
   ]
  },
  {
   "cell_type": "code",
   "execution_count": 778,
   "metadata": {},
   "outputs": [],
   "source": [
    "if len(orglev4_df) > 0:\n",
    "    orglev4_df.geocoding_method.value_counts()"
   ]
  },
  {
   "cell_type": "code",
   "execution_count": 779,
   "metadata": {},
   "outputs": [],
   "source": [
    "if len(orglev4_df) > 0:\n",
    "    for idx, row in tqdm(records_subset.iterrows()):\n",
    "        orglev4_geocoded = orglev4_df.loc[orglev4_df['orgunitlevel4']==row['orgunitlevel4']].iloc[0]    \n",
    "        records.loc[idx, \"longitude\"] = orglev4_geocoded.longitude\n",
    "        records.loc[idx, \"latitude\"] = orglev4_geocoded.latitude\n",
    "        records.loc[idx, \"geocoding_method\"] = orglev4_geocoded.geocoding_method"
   ]
  },
  {
   "cell_type": "code",
   "execution_count": 780,
   "metadata": {},
   "outputs": [
    {
     "data": {
      "text/html": [
       "<style type=\"text/css\">\n",
       "</style>\n",
       "<table id=\"T_b66b8_\">\n",
       "  <thead>\n",
       "    <tr>\n",
       "      <th class=\"blank level0\" >&nbsp;</th>\n",
       "      <th class=\"col_heading level0 col0\" >count</th>\n",
       "      <th class=\"col_heading level0 col1\" >pct</th>\n",
       "    </tr>\n",
       "    <tr>\n",
       "      <th class=\"index_name level0\" >geocoding_method</th>\n",
       "      <th class=\"blank col0\" >&nbsp;</th>\n",
       "      <th class=\"blank col1\" >&nbsp;</th>\n",
       "    </tr>\n",
       "  </thead>\n",
       "  <tbody>\n",
       "    <tr>\n",
       "      <th id=\"T_b66b8_level0_row0\" class=\"row_heading level0 row0\" >District centroid</th>\n",
       "      <td id=\"T_b66b8_row0_col0\" class=\"data row0 col0\" >21</td>\n",
       "      <td id=\"T_b66b8_row0_col1\" class=\"data row0 col1\" >1.1%</td>\n",
       "    </tr>\n",
       "    <tr>\n",
       "      <th id=\"T_b66b8_level0_row1\" class=\"row_heading level0 row1\" >Location from Health Sites IO and within admin 2</th>\n",
       "      <td id=\"T_b66b8_row1_col0\" class=\"data row1 col0\" >5</td>\n",
       "      <td id=\"T_b66b8_row1_col1\" class=\"data row1 col1\" >0.3%</td>\n",
       "    </tr>\n",
       "    <tr>\n",
       "      <th id=\"T_b66b8_level0_row2\" class=\"row_heading level0 row2\" >Location from Health Sites IO and within admin 3</th>\n",
       "      <td id=\"T_b66b8_row2_col0\" class=\"data row2 col0\" >285</td>\n",
       "      <td id=\"T_b66b8_row2_col1\" class=\"data row2 col1\" >15.1%</td>\n",
       "    </tr>\n",
       "    <tr>\n",
       "      <th id=\"T_b66b8_level0_row3\" class=\"row_heading level0 row3\" >Location from Health Sites IO and without admin verification</th>\n",
       "      <td id=\"T_b66b8_row3_col0\" class=\"data row3 col0\" >180</td>\n",
       "      <td id=\"T_b66b8_row3_col1\" class=\"data row3 col1\" >9.5%</td>\n",
       "    </tr>\n",
       "    <tr>\n",
       "      <th id=\"T_b66b8_level0_row4\" class=\"row_heading level0 row4\" >Location from Health Sites and within admin 2</th>\n",
       "      <td id=\"T_b66b8_row4_col0\" class=\"data row4 col0\" >632</td>\n",
       "      <td id=\"T_b66b8_row4_col1\" class=\"data row4 col1\" >33.4%</td>\n",
       "    </tr>\n",
       "    <tr>\n",
       "      <th id=\"T_b66b8_level0_row5\" class=\"row_heading level0 row5\" >Location from Health Sites without admin verification</th>\n",
       "      <td id=\"T_b66b8_row5_col0\" class=\"data row5 col0\" >230</td>\n",
       "      <td id=\"T_b66b8_row5_col1\" class=\"data row5 col1\" >12.2%</td>\n",
       "    </tr>\n",
       "    <tr>\n",
       "      <th id=\"T_b66b8_level0_row6\" class=\"row_heading level0 row6\" >NAME and adm3 query Bing</th>\n",
       "      <td id=\"T_b66b8_row6_col0\" class=\"data row6 col0\" >84</td>\n",
       "      <td id=\"T_b66b8_row6_col1\" class=\"data row6 col1\" >4.4%</td>\n",
       "    </tr>\n",
       "    <tr>\n",
       "      <th id=\"T_b66b8_level0_row7\" class=\"row_heading level0 row7\" >NAME and adm3 query Google</th>\n",
       "      <td id=\"T_b66b8_row7_col0\" class=\"data row7 col0\" >66</td>\n",
       "      <td id=\"T_b66b8_row7_col1\" class=\"data row7 col1\" >3.5%</td>\n",
       "    </tr>\n",
       "    <tr>\n",
       "      <th id=\"T_b66b8_level0_row8\" class=\"row_heading level0 row8\" >NAME and adm3 query OSM</th>\n",
       "      <td id=\"T_b66b8_row8_col0\" class=\"data row8 col0\" >27</td>\n",
       "      <td id=\"T_b66b8_row8_col1\" class=\"data row8 col1\" >1.4%</td>\n",
       "    </tr>\n",
       "    <tr>\n",
       "      <th id=\"T_b66b8_level0_row9\" class=\"row_heading level0 row9\" >None</th>\n",
       "      <td id=\"T_b66b8_row9_col0\" class=\"data row9 col0\" >357</td>\n",
       "      <td id=\"T_b66b8_row9_col1\" class=\"data row9 col1\" >18.9%</td>\n",
       "    </tr>\n",
       "    <tr>\n",
       "      <th id=\"T_b66b8_level0_row10\" class=\"row_heading level0 row10\" >orgunitlevel4 and orgunitlevel1 query Bing</th>\n",
       "      <td id=\"T_b66b8_row10_col0\" class=\"data row10 col0\" >1</td>\n",
       "      <td id=\"T_b66b8_row10_col1\" class=\"data row10 col1\" >0.1%</td>\n",
       "    </tr>\n",
       "    <tr>\n",
       "      <th id=\"T_b66b8_level0_row11\" class=\"row_heading level0 row11\" >orgunitlevel4 and orgunitlevel1 query Google</th>\n",
       "      <td id=\"T_b66b8_row11_col0\" class=\"data row11 col0\" >1</td>\n",
       "      <td id=\"T_b66b8_row11_col1\" class=\"data row11 col1\" >0.1%</td>\n",
       "    </tr>\n",
       "    <tr>\n",
       "      <th id=\"T_b66b8_level0_row12\" class=\"row_heading level0 row12\" >orgunitlevel4 and orgunitlevel1 query OSM</th>\n",
       "      <td id=\"T_b66b8_row12_col0\" class=\"data row12 col0\" >2</td>\n",
       "      <td id=\"T_b66b8_row12_col1\" class=\"data row12 col1\" >0.1%</td>\n",
       "    </tr>\n",
       "  </tbody>\n",
       "</table>\n"
      ],
      "text/plain": [
       "<pandas.io.formats.style.Styler at 0x7f0bc59b64e0>"
      ]
     },
     "execution_count": 780,
     "metadata": {},
     "output_type": "execute_result"
    }
   ],
   "source": [
    "report_geocoding(records)"
   ]
  },
  {
   "cell_type": "code",
   "execution_count": 781,
   "metadata": {},
   "outputs": [],
   "source": [
    "records_subset = records.loc[records.geocoding_method==\"None\"].copy()"
   ]
  },
  {
   "cell_type": "code",
   "execution_count": 782,
   "metadata": {},
   "outputs": [
    {
     "data": {
      "text/plain": [
       "357"
      ]
     },
     "execution_count": 782,
     "metadata": {},
     "output_type": "execute_result"
    }
   ],
   "source": [
    "len(records_subset)"
   ]
  },
  {
   "cell_type": "code",
   "execution_count": 783,
   "metadata": {},
   "outputs": [
    {
     "data": {
      "text/html": [
       "<style type=\"text/css\">\n",
       "</style>\n",
       "<table id=\"T_c28dd_\">\n",
       "  <thead>\n",
       "    <tr>\n",
       "      <th class=\"blank level0\" >&nbsp;</th>\n",
       "      <th class=\"col_heading level0 col0\" >count</th>\n",
       "      <th class=\"col_heading level0 col1\" >pct</th>\n",
       "    </tr>\n",
       "    <tr>\n",
       "      <th class=\"index_name level0\" >geocoding_method</th>\n",
       "      <th class=\"blank col0\" >&nbsp;</th>\n",
       "      <th class=\"blank col1\" >&nbsp;</th>\n",
       "    </tr>\n",
       "  </thead>\n",
       "  <tbody>\n",
       "    <tr>\n",
       "      <th id=\"T_c28dd_level0_row0\" class=\"row_heading level0 row0\" >District centroid</th>\n",
       "      <td id=\"T_c28dd_row0_col0\" class=\"data row0 col0\" >21</td>\n",
       "      <td id=\"T_c28dd_row0_col1\" class=\"data row0 col1\" >1.1%</td>\n",
       "    </tr>\n",
       "    <tr>\n",
       "      <th id=\"T_c28dd_level0_row1\" class=\"row_heading level0 row1\" >Location from Health Sites IO and within admin 2</th>\n",
       "      <td id=\"T_c28dd_row1_col0\" class=\"data row1 col0\" >5</td>\n",
       "      <td id=\"T_c28dd_row1_col1\" class=\"data row1 col1\" >0.3%</td>\n",
       "    </tr>\n",
       "    <tr>\n",
       "      <th id=\"T_c28dd_level0_row2\" class=\"row_heading level0 row2\" >Location from Health Sites IO and within admin 3</th>\n",
       "      <td id=\"T_c28dd_row2_col0\" class=\"data row2 col0\" >285</td>\n",
       "      <td id=\"T_c28dd_row2_col1\" class=\"data row2 col1\" >15.1%</td>\n",
       "    </tr>\n",
       "    <tr>\n",
       "      <th id=\"T_c28dd_level0_row3\" class=\"row_heading level0 row3\" >Location from Health Sites IO and without admin verification</th>\n",
       "      <td id=\"T_c28dd_row3_col0\" class=\"data row3 col0\" >180</td>\n",
       "      <td id=\"T_c28dd_row3_col1\" class=\"data row3 col1\" >9.5%</td>\n",
       "    </tr>\n",
       "    <tr>\n",
       "      <th id=\"T_c28dd_level0_row4\" class=\"row_heading level0 row4\" >Location from Health Sites and within admin 2</th>\n",
       "      <td id=\"T_c28dd_row4_col0\" class=\"data row4 col0\" >632</td>\n",
       "      <td id=\"T_c28dd_row4_col1\" class=\"data row4 col1\" >33.4%</td>\n",
       "    </tr>\n",
       "    <tr>\n",
       "      <th id=\"T_c28dd_level0_row5\" class=\"row_heading level0 row5\" >Location from Health Sites without admin verification</th>\n",
       "      <td id=\"T_c28dd_row5_col0\" class=\"data row5 col0\" >230</td>\n",
       "      <td id=\"T_c28dd_row5_col1\" class=\"data row5 col1\" >12.2%</td>\n",
       "    </tr>\n",
       "    <tr>\n",
       "      <th id=\"T_c28dd_level0_row6\" class=\"row_heading level0 row6\" >NAME and adm3 query Bing</th>\n",
       "      <td id=\"T_c28dd_row6_col0\" class=\"data row6 col0\" >84</td>\n",
       "      <td id=\"T_c28dd_row6_col1\" class=\"data row6 col1\" >4.4%</td>\n",
       "    </tr>\n",
       "    <tr>\n",
       "      <th id=\"T_c28dd_level0_row7\" class=\"row_heading level0 row7\" >NAME and adm3 query Google</th>\n",
       "      <td id=\"T_c28dd_row7_col0\" class=\"data row7 col0\" >66</td>\n",
       "      <td id=\"T_c28dd_row7_col1\" class=\"data row7 col1\" >3.5%</td>\n",
       "    </tr>\n",
       "    <tr>\n",
       "      <th id=\"T_c28dd_level0_row8\" class=\"row_heading level0 row8\" >NAME and adm3 query OSM</th>\n",
       "      <td id=\"T_c28dd_row8_col0\" class=\"data row8 col0\" >27</td>\n",
       "      <td id=\"T_c28dd_row8_col1\" class=\"data row8 col1\" >1.4%</td>\n",
       "    </tr>\n",
       "    <tr>\n",
       "      <th id=\"T_c28dd_level0_row9\" class=\"row_heading level0 row9\" >None</th>\n",
       "      <td id=\"T_c28dd_row9_col0\" class=\"data row9 col0\" >357</td>\n",
       "      <td id=\"T_c28dd_row9_col1\" class=\"data row9 col1\" >18.9%</td>\n",
       "    </tr>\n",
       "    <tr>\n",
       "      <th id=\"T_c28dd_level0_row10\" class=\"row_heading level0 row10\" >orgunitlevel4 and orgunitlevel1 query Bing</th>\n",
       "      <td id=\"T_c28dd_row10_col0\" class=\"data row10 col0\" >1</td>\n",
       "      <td id=\"T_c28dd_row10_col1\" class=\"data row10 col1\" >0.1%</td>\n",
       "    </tr>\n",
       "    <tr>\n",
       "      <th id=\"T_c28dd_level0_row11\" class=\"row_heading level0 row11\" >orgunitlevel4 and orgunitlevel1 query Google</th>\n",
       "      <td id=\"T_c28dd_row11_col0\" class=\"data row11 col0\" >1</td>\n",
       "      <td id=\"T_c28dd_row11_col1\" class=\"data row11 col1\" >0.1%</td>\n",
       "    </tr>\n",
       "    <tr>\n",
       "      <th id=\"T_c28dd_level0_row12\" class=\"row_heading level0 row12\" >orgunitlevel4 and orgunitlevel1 query OSM</th>\n",
       "      <td id=\"T_c28dd_row12_col0\" class=\"data row12 col0\" >2</td>\n",
       "      <td id=\"T_c28dd_row12_col1\" class=\"data row12 col1\" >0.1%</td>\n",
       "    </tr>\n",
       "  </tbody>\n",
       "</table>\n"
      ],
      "text/plain": [
       "<pandas.io.formats.style.Styler at 0x7f0bc59beb70>"
      ]
     },
     "execution_count": 783,
     "metadata": {},
     "output_type": "execute_result"
    }
   ],
   "source": [
    "report_geocoding(records)"
   ]
  },
  {
   "cell_type": "markdown",
   "metadata": {},
   "source": [
    "# Map and save results"
   ]
  },
  {
   "cell_type": "code",
   "execution_count": 784,
   "metadata": {},
   "outputs": [],
   "source": [
    "results = records.copy()"
   ]
  },
  {
   "cell_type": "code",
   "execution_count": 785,
   "metadata": {
    "scrolled": true
   },
   "outputs": [
    {
     "data": {
      "text/plain": [
       "array(['None', 'Location from Health Sites without admin verification',\n",
       "       'Location from Health Sites IO and without admin verification',\n",
       "       'District centroid', 'NAME and adm3 query Google',\n",
       "       'NAME and adm3 query Bing',\n",
       "       'Location from Health Sites IO and within admin 3',\n",
       "       'Location from Health Sites and within admin 2',\n",
       "       'NAME and adm3 query OSM',\n",
       "       'Location from Health Sites IO and within admin 2',\n",
       "       'orgunitlevel4 and orgunitlevel1 query Bing',\n",
       "       'orgunitlevel4 and orgunitlevel1 query OSM',\n",
       "       'orgunitlevel4 and orgunitlevel1 query Google'], dtype=object)"
      ]
     },
     "execution_count": 785,
     "metadata": {},
     "output_type": "execute_result"
    }
   ],
   "source": [
    "results.geocoding_method.unique()"
   ]
  },
  {
   "cell_type": "code",
   "execution_count": 786,
   "metadata": {},
   "outputs": [],
   "source": [
    "# facility name and adm 3\n",
    "results.loc[results.geocoding_method==\"NAME and adm3 query Bing\", \"geocoding_method\"] = \"orgunitlevel4 and admn3 query\"\n",
    "results.loc[results.geocoding_method==\"NAME and adm3 query OSM\", \"geocoding_method\"] = \"orgunitlevel4 and admn3 query\"\n",
    "results.loc[results.geocoding_method==\"NAME and adm3 query Google\", \"geocoding_method\"] = \"orgunitlevel4 and admn3 query\"\n",
    "\n",
    "# facility name and adm 2\n",
    "results.loc[results.geocoding_method==\"NAME and adm2 query Bing\", \"geocoding_method\"] = \"orgunitlevel4 and adm2 query\"\n",
    "results.loc[results.geocoding_method==\"NAME and adm2 query OSM\", \"geocoding_method\"] = \"orgunitlevel4 and adm2 query\"\n",
    "results.loc[results.geocoding_method==\"NAME and adm2 query Google\", \"geocoding_method\"] = \"orgunitlevel4 and adm2 query\"\n",
    "\n",
    "# adm 3 name\n",
    "results.loc[results.geocoding_method==\"orgunitlevel4 and orgunitlevel1 query Bing\", \"geocoding_method\"] = \"orgunitlevel4 query\"\n",
    "results.loc[results.geocoding_method==\"orgunitlevel4 and orgunitlevel1 query OSM\", \"geocoding_method\"] = \"orgunitlevel4 query\"\n",
    "results.loc[results.geocoding_method==\"orgunitlevel4 and orgunitlevel1 query Google\", \"geocoding_method\"] = \"orgunitlevel4 query\"\n",
    "\n",
    "# adm 3 name and adm2\n",
    "results.loc[results.geocoding_method==\"orgunitlevel4 and adm2 query Bing\", \"geocoding_method\"] = \"orgunitlevel4 and adm2 query\"\n",
    "results.loc[results.geocoding_method==\"orgunitlevel4 and adm2 query OSM\", \"geocoding_method\"] = \"orgunitlevel4 and adm2 query\"\n",
    "results.loc[results.geocoding_method==\"orgunitlevel4 and adm2 query Google\", \"geocoding_method\"] = \"orgunitlevel4 and adm2 query\"\n",
    "\n",
    "# Centroid\n",
    "results.loc[results.geocoding_method==\"District centroid\", \"geocoding_method\"] = \"Adm3 centroid\""
   ]
  },
  {
   "cell_type": "code",
   "execution_count": 787,
   "metadata": {},
   "outputs": [
    {
     "data": {
      "text/html": [
       "<style type=\"text/css\">\n",
       "</style>\n",
       "<table id=\"T_3f5a7_\">\n",
       "  <thead>\n",
       "    <tr>\n",
       "      <th class=\"blank level0\" >&nbsp;</th>\n",
       "      <th class=\"col_heading level0 col0\" >count</th>\n",
       "      <th class=\"col_heading level0 col1\" >pct</th>\n",
       "    </tr>\n",
       "    <tr>\n",
       "      <th class=\"index_name level0\" >geocoding_method</th>\n",
       "      <th class=\"blank col0\" >&nbsp;</th>\n",
       "      <th class=\"blank col1\" >&nbsp;</th>\n",
       "    </tr>\n",
       "  </thead>\n",
       "  <tbody>\n",
       "    <tr>\n",
       "      <th id=\"T_3f5a7_level0_row0\" class=\"row_heading level0 row0\" >Adm3 centroid</th>\n",
       "      <td id=\"T_3f5a7_row0_col0\" class=\"data row0 col0\" >21</td>\n",
       "      <td id=\"T_3f5a7_row0_col1\" class=\"data row0 col1\" >1.1%</td>\n",
       "    </tr>\n",
       "    <tr>\n",
       "      <th id=\"T_3f5a7_level0_row1\" class=\"row_heading level0 row1\" >Location from Health Sites IO and within admin 2</th>\n",
       "      <td id=\"T_3f5a7_row1_col0\" class=\"data row1 col0\" >5</td>\n",
       "      <td id=\"T_3f5a7_row1_col1\" class=\"data row1 col1\" >0.3%</td>\n",
       "    </tr>\n",
       "    <tr>\n",
       "      <th id=\"T_3f5a7_level0_row2\" class=\"row_heading level0 row2\" >Location from Health Sites IO and within admin 3</th>\n",
       "      <td id=\"T_3f5a7_row2_col0\" class=\"data row2 col0\" >285</td>\n",
       "      <td id=\"T_3f5a7_row2_col1\" class=\"data row2 col1\" >15.1%</td>\n",
       "    </tr>\n",
       "    <tr>\n",
       "      <th id=\"T_3f5a7_level0_row3\" class=\"row_heading level0 row3\" >Location from Health Sites IO and without admin verification</th>\n",
       "      <td id=\"T_3f5a7_row3_col0\" class=\"data row3 col0\" >180</td>\n",
       "      <td id=\"T_3f5a7_row3_col1\" class=\"data row3 col1\" >9.5%</td>\n",
       "    </tr>\n",
       "    <tr>\n",
       "      <th id=\"T_3f5a7_level0_row4\" class=\"row_heading level0 row4\" >Location from Health Sites and within admin 2</th>\n",
       "      <td id=\"T_3f5a7_row4_col0\" class=\"data row4 col0\" >632</td>\n",
       "      <td id=\"T_3f5a7_row4_col1\" class=\"data row4 col1\" >33.4%</td>\n",
       "    </tr>\n",
       "    <tr>\n",
       "      <th id=\"T_3f5a7_level0_row5\" class=\"row_heading level0 row5\" >Location from Health Sites without admin verification</th>\n",
       "      <td id=\"T_3f5a7_row5_col0\" class=\"data row5 col0\" >230</td>\n",
       "      <td id=\"T_3f5a7_row5_col1\" class=\"data row5 col1\" >12.2%</td>\n",
       "    </tr>\n",
       "    <tr>\n",
       "      <th id=\"T_3f5a7_level0_row6\" class=\"row_heading level0 row6\" >None</th>\n",
       "      <td id=\"T_3f5a7_row6_col0\" class=\"data row6 col0\" >357</td>\n",
       "      <td id=\"T_3f5a7_row6_col1\" class=\"data row6 col1\" >18.9%</td>\n",
       "    </tr>\n",
       "    <tr>\n",
       "      <th id=\"T_3f5a7_level0_row7\" class=\"row_heading level0 row7\" >orgunitlevel4 and admn3 query</th>\n",
       "      <td id=\"T_3f5a7_row7_col0\" class=\"data row7 col0\" >177</td>\n",
       "      <td id=\"T_3f5a7_row7_col1\" class=\"data row7 col1\" >9.4%</td>\n",
       "    </tr>\n",
       "    <tr>\n",
       "      <th id=\"T_3f5a7_level0_row8\" class=\"row_heading level0 row8\" >orgunitlevel4 query</th>\n",
       "      <td id=\"T_3f5a7_row8_col0\" class=\"data row8 col0\" >4</td>\n",
       "      <td id=\"T_3f5a7_row8_col1\" class=\"data row8 col1\" >0.2%</td>\n",
       "    </tr>\n",
       "  </tbody>\n",
       "</table>\n"
      ],
      "text/plain": [
       "<pandas.io.formats.style.Styler at 0x7f0bc61585c0>"
      ]
     },
     "execution_count": 787,
     "metadata": {},
     "output_type": "execute_result"
    }
   ],
   "source": [
    "report_geocoding(results)"
   ]
  },
  {
   "cell_type": "code",
   "execution_count": 788,
   "metadata": {},
   "outputs": [],
   "source": [
    "results.loc[:, \"geometry\"] = results.apply(lambda x: Point(x.longitude, x.latitude), axis=1)\n",
    "results = gpd.GeoDataFrame(results, geometry='geometry', crs='EPSG:4326')"
   ]
  },
  {
   "cell_type": "code",
   "execution_count": 789,
   "metadata": {},
   "outputs": [
    {
     "data": {
      "image/png": "[encoded data removed]",
      "text/plain": [
       "<Figure size 720x720 with 1 Axes>"
      ]
     },
     "metadata": {
      "needs_background": "light"
     },
     "output_type": "display_data"
    }
   ],
   "source": [
    "fig, ax = plt.subplots(1, 1, figsize=(10,10))\n",
    "geob3.boundary.plot(ax=ax, color='black', linewidth=1).set_axis_off()\n",
    "results.loc[results.geocoding_method!=\"None\"].plot(ax=ax, column='geocoding_method', edgecolor='white', markersize=50, alpha=0.75, legend=True)\n",
    "ctx.add_basemap(ax, source=ctx.providers.Stamen.Terrain, crs='EPSG:4326', zorder=-10)"
   ]
  },
  {
   "cell_type": "markdown",
   "metadata": {},
   "source": [
    "## Join attributes from administrative polygons"
   ]
  },
  {
   "cell_type": "markdown",
   "metadata": {},
   "source": [
    "Join admin data back to results.  \n",
    "For adm3 features, use spatial join to geob3.  "
   ]
  },
  {
   "cell_type": "code",
   "execution_count": 790,
   "metadata": {},
   "outputs": [],
   "source": [
    "results2 = results.loc[~(results.longitude.isna())].copy()"
   ]
  },
  {
   "cell_type": "code",
   "execution_count": 791,
   "metadata": {},
   "outputs": [],
   "source": [
    "# gpd.sjoin?\n",
    "# depending on geopandas ver, might need to use predicate instead of op"
   ]
  },
  {
   "cell_type": "code",
   "execution_count": 792,
   "metadata": {},
   "outputs": [],
   "source": [
    "results2 = gpd.sjoin(results2, geob3[[\"shapeName\", \"shapeID\", \"geometry\"]], how='left', op='intersects')\n",
    "results2.drop('index_right', axis=1, inplace=True)"
   ]
  },
  {
   "cell_type": "code",
   "execution_count": 793,
   "metadata": {},
   "outputs": [],
   "source": [
    "results2.rename(\n",
    "    columns={\n",
    "        'shapeName':'geob_adm3',\n",
    "        'shapeID':'geob_adm3_id',\n",
    "    }, inplace=True)"
   ]
  },
  {
   "cell_type": "code",
   "execution_count": 794,
   "metadata": {},
   "outputs": [],
   "source": [
    "results2 = gpd.sjoin(results2, geob2[[\"shapeName\", \"shapeID\", \"geometry\"]], how='left', op='intersects')\n",
    "results2.drop('index_right', axis=1, inplace=True)"
   ]
  },
  {
   "cell_type": "code",
   "execution_count": 795,
   "metadata": {},
   "outputs": [
    {
     "data": {
      "text/plain": [
       "(1, 1)"
      ]
     },
     "execution_count": 795,
     "metadata": {},
     "output_type": "execute_result"
    }
   ],
   "source": [
    "results2.geob_adm3.isna().sum(), results2.shapeName.isna().sum()"
   ]
  },
  {
   "cell_type": "code",
   "execution_count": 796,
   "metadata": {},
   "outputs": [],
   "source": [
    "results2.rename(\n",
    "    columns={\n",
    "        'shapeName':'geob_adm2',\n",
    "        'shapeID':'geob_adm2_id',\n",
    "        'adm2':'fuzzy_match_adm2',\n",
    "        'adm3':'fuzzy_match_adm3'\n",
    "    }, inplace=True)"
   ]
  },
  {
   "cell_type": "code",
   "execution_count": 797,
   "metadata": {},
   "outputs": [],
   "source": [
    "#results2.to_file(join(output_dir, \"MLI_geocoding_1.27.23.json\"), driver='GeoJSON', index=True)"
   ]
  },
  {
   "cell_type": "code",
   "execution_count": 798,
   "metadata": {},
   "outputs": [],
   "source": [
    "# geob3.to_file(join(output_dir, \"MLI_geob3.json\"), driver='GeoJSON')"
   ]
  },
  {
   "cell_type": "code",
   "execution_count": 799,
   "metadata": {},
   "outputs": [
    {
     "data": {
      "text/html": [
       "<div>\n",
       "<style scoped>\n",
       "    .dataframe tbody tr th:only-of-type {\n",
       "        vertical-align: middle;\n",
       "    }\n",
       "\n",
       "    .dataframe tbody tr th {\n",
       "        vertical-align: top;\n",
       "    }\n",
       "\n",
       "    .dataframe thead th {\n",
       "        text-align: right;\n",
       "    }\n",
       "</style>\n",
       "<table border=\"1\" class=\"dataframe\">\n",
       "  <thead>\n",
       "    <tr style=\"text-align: right;\">\n",
       "      <th></th>\n",
       "      <th>orgunitlevel1</th>\n",
       "      <th>orgunitlevel2</th>\n",
       "      <th>orgunitlevel3</th>\n",
       "      <th>orgunitlevel4</th>\n",
       "      <th>orgunitlevel5</th>\n",
       "      <th>orgunitlevel4_edit</th>\n",
       "      <th>orgunitlevel3_edit</th>\n",
       "      <th>fuzzy_match_adm3</th>\n",
       "      <th>fuzzy_match_adm2</th>\n",
       "      <th>NAME</th>\n",
       "      <th>geocoding_method</th>\n",
       "      <th>longitude</th>\n",
       "      <th>latitude</th>\n",
       "      <th>geometry</th>\n",
       "      <th>geob_adm3</th>\n",
       "      <th>geob_adm3_id</th>\n",
       "      <th>geob_adm2</th>\n",
       "      <th>geob_adm2_id</th>\n",
       "    </tr>\n",
       "  </thead>\n",
       "  <tbody>\n",
       "    <tr>\n",
       "      <th>1</th>\n",
       "      <td>Mali</td>\n",
       "      <td>Bamako</td>\n",
       "      <td>District Commune I</td>\n",
       "      <td>Asacko Nord</td>\n",
       "      <td>ASACKO NORD</td>\n",
       "      <td>Asacko Nord</td>\n",
       "      <td>Commune I</td>\n",
       "      <td>NaN</td>\n",
       "      <td>NaN</td>\n",
       "      <td>asacko nord</td>\n",
       "      <td>Location from Health Sites without admin verif...</td>\n",
       "      <td>-7.948000</td>\n",
       "      <td>12.663000</td>\n",
       "      <td>POINT (-7.94800 12.66300)</td>\n",
       "      <td>Commune I</td>\n",
       "      <td>61693064B6299920369614</td>\n",
       "      <td>Bamako</td>\n",
       "      <td>8926073B64014376877490</td>\n",
       "    </tr>\n",
       "    <tr>\n",
       "      <th>3</th>\n",
       "      <td>Mali</td>\n",
       "      <td>Bamako</td>\n",
       "      <td>District Commune I</td>\n",
       "      <td>Asacoba</td>\n",
       "      <td>ASACOBA</td>\n",
       "      <td>Asacoba</td>\n",
       "      <td>Commune I</td>\n",
       "      <td>NaN</td>\n",
       "      <td>NaN</td>\n",
       "      <td>asacoba</td>\n",
       "      <td>Location from Health Sites IO and without admi...</td>\n",
       "      <td>-7.947622</td>\n",
       "      <td>12.591528</td>\n",
       "      <td>POINT (-7.94762 12.59153)</td>\n",
       "      <td>Commune VI</td>\n",
       "      <td>61693064B60870670383400</td>\n",
       "      <td>Bamako</td>\n",
       "      <td>8926073B64014376877490</td>\n",
       "    </tr>\n",
       "    <tr>\n",
       "      <th>4</th>\n",
       "      <td>Mali</td>\n",
       "      <td>Bamako</td>\n",
       "      <td>District Commune I</td>\n",
       "      <td>Asacoba</td>\n",
       "      <td>Cabinet Medical FONDATION SADIA</td>\n",
       "      <td>Asacoba</td>\n",
       "      <td>Commune I</td>\n",
       "      <td>NaN</td>\n",
       "      <td>NaN</td>\n",
       "      <td>cabinet medical fondation sadia</td>\n",
       "      <td>Location from Health Sites IO and without admi...</td>\n",
       "      <td>-10.725503</td>\n",
       "      <td>15.120675</td>\n",
       "      <td>POINT (-10.72550 15.12068)</td>\n",
       "      <td>Toya</td>\n",
       "      <td>61693064B82475235793488</td>\n",
       "      <td>Yelimane</td>\n",
       "      <td>8926073B29693845004508</td>\n",
       "    </tr>\n",
       "    <tr>\n",
       "      <th>5</th>\n",
       "      <td>Mali</td>\n",
       "      <td>Bamako</td>\n",
       "      <td>District Commune I</td>\n",
       "      <td>Asacoba</td>\n",
       "      <td>Cabinet Medical TERIYA</td>\n",
       "      <td>Asacoba</td>\n",
       "      <td>Commune I</td>\n",
       "      <td>NaN</td>\n",
       "      <td>NaN</td>\n",
       "      <td>cabinet medical teriya</td>\n",
       "      <td>Location from Health Sites IO and without admi...</td>\n",
       "      <td>-7.962226</td>\n",
       "      <td>12.594632</td>\n",
       "      <td>POINT (-7.96223 12.59463)</td>\n",
       "      <td>Commune VI</td>\n",
       "      <td>61693064B60870670383400</td>\n",
       "      <td>Bamako</td>\n",
       "      <td>8926073B64014376877490</td>\n",
       "    </tr>\n",
       "    <tr>\n",
       "      <th>6</th>\n",
       "      <td>Mali</td>\n",
       "      <td>Bamako</td>\n",
       "      <td>District Commune I</td>\n",
       "      <td>Asacoboul1</td>\n",
       "      <td>ASACOBOUL1</td>\n",
       "      <td>Asacoboul1</td>\n",
       "      <td>Commune I</td>\n",
       "      <td>NaN</td>\n",
       "      <td>NaN</td>\n",
       "      <td>asacoboul1</td>\n",
       "      <td>Location from Health Sites IO and without admi...</td>\n",
       "      <td>-7.921837</td>\n",
       "      <td>12.675588</td>\n",
       "      <td>POINT (-7.92184 12.67559)</td>\n",
       "      <td>Commune I</td>\n",
       "      <td>61693064B6299920369614</td>\n",
       "      <td>Bamako</td>\n",
       "      <td>8926073B64014376877490</td>\n",
       "    </tr>\n",
       "    <tr>\n",
       "      <th>...</th>\n",
       "      <td>...</td>\n",
       "      <td>...</td>\n",
       "      <td>...</td>\n",
       "      <td>...</td>\n",
       "      <td>...</td>\n",
       "      <td>...</td>\n",
       "      <td>...</td>\n",
       "      <td>...</td>\n",
       "      <td>...</td>\n",
       "      <td>...</td>\n",
       "      <td>...</td>\n",
       "      <td>...</td>\n",
       "      <td>...</td>\n",
       "      <td>...</td>\n",
       "      <td>...</td>\n",
       "      <td>...</td>\n",
       "      <td>...</td>\n",
       "      <td>...</td>\n",
       "    </tr>\n",
       "    <tr>\n",
       "      <th>1885</th>\n",
       "      <td>Mali</td>\n",
       "      <td>Tombouctou</td>\n",
       "      <td>District Tombouctou</td>\n",
       "      <td>SankorÃ©</td>\n",
       "      <td>Sankore</td>\n",
       "      <td>SankorÃ©</td>\n",
       "      <td>Tombouctou</td>\n",
       "      <td>NaN</td>\n",
       "      <td>Tombouctou</td>\n",
       "      <td>sankore</td>\n",
       "      <td>Location from Health Sites and within admin 2</td>\n",
       "      <td>-2.767200</td>\n",
       "      <td>17.394600</td>\n",
       "      <td>POINT (-2.76720 17.39460)</td>\n",
       "      <td>Salam</td>\n",
       "      <td>61693064B6093748878548</td>\n",
       "      <td>Tombouctou</td>\n",
       "      <td>8926073B71174488748519</td>\n",
       "    </tr>\n",
       "    <tr>\n",
       "      <th>1886</th>\n",
       "      <td>Mali</td>\n",
       "      <td>Tombouctou</td>\n",
       "      <td>District Tombouctou</td>\n",
       "      <td>TeherdjÃ©</td>\n",
       "      <td>Teherdje</td>\n",
       "      <td>TeherdjÃ©</td>\n",
       "      <td>Tombouctou</td>\n",
       "      <td>NaN</td>\n",
       "      <td>Tombouctou</td>\n",
       "      <td>teherdje</td>\n",
       "      <td>Location from Health Sites and within admin 2</td>\n",
       "      <td>-1.674200</td>\n",
       "      <td>17.701900</td>\n",
       "      <td>POINT (-1.67420 17.70190)</td>\n",
       "      <td>Ber</td>\n",
       "      <td>61693064B26944913284417</td>\n",
       "      <td>Tombouctou</td>\n",
       "      <td>8926073B71174488748519</td>\n",
       "    </tr>\n",
       "    <tr>\n",
       "      <th>1887</th>\n",
       "      <td>Mali</td>\n",
       "      <td>Tombouctou</td>\n",
       "      <td>District Tombouctou</td>\n",
       "      <td>Tin Telout</td>\n",
       "      <td>Tin Telout</td>\n",
       "      <td>Tin Telout</td>\n",
       "      <td>Tombouctou</td>\n",
       "      <td>NaN</td>\n",
       "      <td>Tombouctou</td>\n",
       "      <td>tin telout</td>\n",
       "      <td>Location from Health Sites and within admin 2</td>\n",
       "      <td>-3.864000</td>\n",
       "      <td>19.205900</td>\n",
       "      <td>POINT (-3.86400 19.20590)</td>\n",
       "      <td>Salam</td>\n",
       "      <td>61693064B6093748878548</td>\n",
       "      <td>Tombouctou</td>\n",
       "      <td>8926073B71174488748519</td>\n",
       "    </tr>\n",
       "    <tr>\n",
       "      <th>1889</th>\n",
       "      <td>Mali</td>\n",
       "      <td>Tombouctou</td>\n",
       "      <td>District Tombouctou</td>\n",
       "      <td>Toya</td>\n",
       "      <td>Toya</td>\n",
       "      <td>Toya</td>\n",
       "      <td>Tombouctou</td>\n",
       "      <td>Toya</td>\n",
       "      <td>Tombouctou</td>\n",
       "      <td>toya</td>\n",
       "      <td>Location from Health Sites and within admin 2</td>\n",
       "      <td>-2.777400</td>\n",
       "      <td>16.906900</td>\n",
       "      <td>POINT (-2.77740 16.90690)</td>\n",
       "      <td>Bourem Inaly</td>\n",
       "      <td>61693064B60760364335640</td>\n",
       "      <td>Tombouctou</td>\n",
       "      <td>8926073B71174488748519</td>\n",
       "    </tr>\n",
       "    <tr>\n",
       "      <th>1890</th>\n",
       "      <td>Mali</td>\n",
       "      <td>Tombouctou</td>\n",
       "      <td>District Tombouctou</td>\n",
       "      <td>Zarho</td>\n",
       "      <td>Zarho</td>\n",
       "      <td>Zarho</td>\n",
       "      <td>Tombouctou</td>\n",
       "      <td>NaN</td>\n",
       "      <td>Tombouctou</td>\n",
       "      <td>zarho</td>\n",
       "      <td>Location from Health Sites and within admin 2</td>\n",
       "      <td>-1.678100</td>\n",
       "      <td>16.995600</td>\n",
       "      <td>POINT (-1.67810 16.99560)</td>\n",
       "      <td>Ber</td>\n",
       "      <td>61693064B26944913284417</td>\n",
       "      <td>Tombouctou</td>\n",
       "      <td>8926073B71174488748519</td>\n",
       "    </tr>\n",
       "  </tbody>\n",
       "</table>\n",
       "<p>1524 rows × 18 columns</p>\n",
       "</div>"
      ],
      "text/plain": [
       "     orgunitlevel1 orgunitlevel2        orgunitlevel3 orgunitlevel4  \\\n",
       "1             Mali        Bamako   District Commune I   Asacko Nord   \n",
       "3             Mali        Bamako   District Commune I       Asacoba   \n",
       "4             Mali        Bamako   District Commune I       Asacoba   \n",
       "5             Mali        Bamako   District Commune I       Asacoba   \n",
       "6             Mali        Bamako   District Commune I    Asacoboul1   \n",
       "...            ...           ...                  ...           ...   \n",
       "1885          Mali    Tombouctou  District Tombouctou      SankorÃ©   \n",
       "1886          Mali    Tombouctou  District Tombouctou     TeherdjÃ©   \n",
       "1887          Mali    Tombouctou  District Tombouctou    Tin Telout   \n",
       "1889          Mali    Tombouctou  District Tombouctou          Toya   \n",
       "1890          Mali    Tombouctou  District Tombouctou         Zarho   \n",
       "\n",
       "                        orgunitlevel5 orgunitlevel4_edit orgunitlevel3_edit  \\\n",
       "1                         ASACKO NORD        Asacko Nord          Commune I   \n",
       "3                             ASACOBA            Asacoba          Commune I   \n",
       "4     Cabinet Medical FONDATION SADIA            Asacoba          Commune I   \n",
       "5              Cabinet Medical TERIYA            Asacoba          Commune I   \n",
       "6                          ASACOBOUL1         Asacoboul1          Commune I   \n",
       "...                               ...                ...                ...   \n",
       "1885                          Sankore           SankorÃ©         Tombouctou   \n",
       "1886                         Teherdje          TeherdjÃ©         Tombouctou   \n",
       "1887                       Tin Telout         Tin Telout         Tombouctou   \n",
       "1889                             Toya               Toya         Tombouctou   \n",
       "1890                            Zarho              Zarho         Tombouctou   \n",
       "\n",
       "     fuzzy_match_adm3 fuzzy_match_adm2                             NAME  \\\n",
       "1                 NaN              NaN                      asacko nord   \n",
       "3                 NaN              NaN                          asacoba   \n",
       "4                 NaN              NaN  cabinet medical fondation sadia   \n",
       "5                 NaN              NaN           cabinet medical teriya   \n",
       "6                 NaN              NaN                       asacoboul1   \n",
       "...               ...              ...                              ...   \n",
       "1885              NaN       Tombouctou                          sankore   \n",
       "1886              NaN       Tombouctou                         teherdje   \n",
       "1887              NaN       Tombouctou                       tin telout   \n",
       "1889             Toya       Tombouctou                             toya   \n",
       "1890              NaN       Tombouctou                            zarho   \n",
       "\n",
       "                                       geocoding_method  longitude   latitude  \\\n",
       "1     Location from Health Sites without admin verif...  -7.948000  12.663000   \n",
       "3     Location from Health Sites IO and without admi...  -7.947622  12.591528   \n",
       "4     Location from Health Sites IO and without admi... -10.725503  15.120675   \n",
       "5     Location from Health Sites IO and without admi...  -7.962226  12.594632   \n",
       "6     Location from Health Sites IO and without admi...  -7.921837  12.675588   \n",
       "...                                                 ...        ...        ...   \n",
       "1885      Location from Health Sites and within admin 2  -2.767200  17.394600   \n",
       "1886      Location from Health Sites and within admin 2  -1.674200  17.701900   \n",
       "1887      Location from Health Sites and within admin 2  -3.864000  19.205900   \n",
       "1889      Location from Health Sites and within admin 2  -2.777400  16.906900   \n",
       "1890      Location from Health Sites and within admin 2  -1.678100  16.995600   \n",
       "\n",
       "                        geometry     geob_adm3             geob_adm3_id  \\\n",
       "1      POINT (-7.94800 12.66300)     Commune I   61693064B6299920369614   \n",
       "3      POINT (-7.94762 12.59153)    Commune VI  61693064B60870670383400   \n",
       "4     POINT (-10.72550 15.12068)          Toya  61693064B82475235793488   \n",
       "5      POINT (-7.96223 12.59463)    Commune VI  61693064B60870670383400   \n",
       "6      POINT (-7.92184 12.67559)     Commune I   61693064B6299920369614   \n",
       "...                          ...           ...                      ...   \n",
       "1885   POINT (-2.76720 17.39460)         Salam   61693064B6093748878548   \n",
       "1886   POINT (-1.67420 17.70190)           Ber  61693064B26944913284417   \n",
       "1887   POINT (-3.86400 19.20590)         Salam   61693064B6093748878548   \n",
       "1889   POINT (-2.77740 16.90690)  Bourem Inaly  61693064B60760364335640   \n",
       "1890   POINT (-1.67810 16.99560)           Ber  61693064B26944913284417   \n",
       "\n",
       "       geob_adm2            geob_adm2_id  \n",
       "1         Bamako  8926073B64014376877490  \n",
       "3         Bamako  8926073B64014376877490  \n",
       "4       Yelimane  8926073B29693845004508  \n",
       "5         Bamako  8926073B64014376877490  \n",
       "6         Bamako  8926073B64014376877490  \n",
       "...          ...                     ...  \n",
       "1885  Tombouctou  8926073B71174488748519  \n",
       "1886  Tombouctou  8926073B71174488748519  \n",
       "1887  Tombouctou  8926073B71174488748519  \n",
       "1889  Tombouctou  8926073B71174488748519  \n",
       "1890  Tombouctou  8926073B71174488748519  \n",
       "\n",
       "[1524 rows x 18 columns]"
      ]
     },
     "execution_count": 799,
     "metadata": {},
     "output_type": "execute_result"
    }
   ],
   "source": [
    "results2"
   ]
  },
  {
   "cell_type": "code",
   "execution_count": 802,
   "metadata": {},
   "outputs": [
    {
     "name": "stdout",
     "output_type": "stream",
     "text": [
      "1891\n",
      "1524\n"
     ]
    }
   ],
   "source": [
    "# FYI saving the results2, the results that were able to be geocoded\n",
    "print(len(results))\n",
    "print(len(results2))"
   ]
  },
  {
   "cell_type": "code",
   "execution_count": 801,
   "metadata": {
    "scrolled": true
   },
   "outputs": [],
   "source": [
    "results2.to_csv(join(output_dir, \"MLI_geocoding_1.27.23.csv\"))"
   ]
  },
  {
   "cell_type": "code",
   "execution_count": null,
   "metadata": {},
   "outputs": [],
   "source": []
  }
 ],
 "metadata": {
  "kernelspec": {
   "display_name": "Python 3",
   "language": "python",
   "name": "python3"
  },
  "language_info": {
   "codemirror_mode": {
    "name": "ipython",
    "version": 3
   },
   "file_extension": ".py",
   "mimetype": "text/x-python",
   "name": "python",
   "nbconvert_exporter": "python",
   "pygments_lexer": "ipython3",
   "version": "3.7.1"
  },
  "toc": {
   "base_numbering": 1,
   "nav_menu": {
    "height": "146px",
    "width": "280px"
   },
   "number_sections": true,
   "sideBar": true,
   "skip_h1_title": false,
   "title_cell": "Geocoding Notebook - Sierra Leone",
   "title_sidebar": "Contents",
   "toc_cell": true,
   "toc_position": {
    "height": "calc(100% - 180px)",
    "left": "10px",
    "top": "150px",
    "width": "392px"
   },
   "toc_section_display": true,
   "toc_window_display": true
  }
 },
 "nbformat": 4,
 "nbformat_minor": 2
}
