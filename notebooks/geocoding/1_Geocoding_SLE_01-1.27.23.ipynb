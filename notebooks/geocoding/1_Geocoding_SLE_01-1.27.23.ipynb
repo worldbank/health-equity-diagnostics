{
 "cells": [
  {
   "cell_type": "markdown",
   "metadata": {
    "toc": true
   },
   "source": [
    "<h1>Geocoding Notebook - Sierra Leone<span class=\"tocSkip\"></span></h1>\n",
    "<div class=\"toc\"><ul class=\"toc-item\"><li><span><a href=\"#Packages-and-functions\" data-toc-modified-id=\"Packages-and-functions-1\"><span class=\"toc-item-num\">1&nbsp;&nbsp;</span>Packages and functions</a></span></li><li><span><a href=\"#Prepare-and-match-admin-boundary-data\" data-toc-modified-id=\"Prepare-and-match-admin-boundary-data-2\"><span class=\"toc-item-num\">2&nbsp;&nbsp;</span>Prepare and match admin boundary data</a></span><ul class=\"toc-item\"><li><span><a href=\"#Match-health-list-admin-names-to-shapefile-admin-names\" data-toc-modified-id=\"Match-health-list-admin-names-to-shapefile-admin-names-2.1\"><span class=\"toc-item-num\">2.1&nbsp;&nbsp;</span>Match health list admin names to shapefile admin names</a></span><ul class=\"toc-item\"><li><span><a href=\"#Match-orgunitlevel4-to-geoboundaries-Adm-3\" data-toc-modified-id=\"Match-orgunitlevel4-to-geoboundaries-Adm-3-2.1.1\"><span class=\"toc-item-num\">2.1.1&nbsp;&nbsp;</span>Match orgunitlevel4 to geoboundaries Adm 3</a></span></li><li><span><a href=\"#Match-orgunitlevel3-to-FEWS-Adm-2\" data-toc-modified-id=\"Match-orgunitlevel3-to-FEWS-Adm-2-2.1.2\"><span class=\"toc-item-num\">2.1.2&nbsp;&nbsp;</span>Match orgunitlevel3 to FEWS Adm 2</a></span></li></ul></li></ul></li><li><span><a href=\"#Match-to-locations-from-alternative-sources-based-on-facility-name\" data-toc-modified-id=\"Match-to-locations-from-alternative-sources-based-on-facility-name-3\"><span class=\"toc-item-num\">3&nbsp;&nbsp;</span>Match to locations from alternative sources based on facility name</a></span><ul class=\"toc-item\"><li><span><a href=\"#Health-Sites-IO\" data-toc-modified-id=\"Health-Sites-IO-3.1\"><span class=\"toc-item-num\">3.1&nbsp;&nbsp;</span>Health Sites IO</a></span></li><li><span><a href=\"#RHINoVision-Master-Facility-List-Decision-Support-System\" data-toc-modified-id=\"RHINoVision-Master-Facility-List-Decision-Support-System-3.2\"><span class=\"toc-item-num\">3.2&nbsp;&nbsp;</span>RHINoVision Master Facility List Decision Support System</a></span></li></ul></li><li><span><a href=\"#Geocoding-with-APIs\" data-toc-modified-id=\"Geocoding-with-APIs-4\"><span class=\"toc-item-num\">4&nbsp;&nbsp;</span>Geocoding with APIs</a></span><ul class=\"toc-item\"><li><span><a href=\"#Facility-name-and-admin-3-names\" data-toc-modified-id=\"Facility-name-and-admin-3-names-4.1\"><span class=\"toc-item-num\">4.1&nbsp;&nbsp;</span>Facility name and admin 3 names</a></span></li><li><span><a href=\"#Facility-name-and-admin-2-names\" data-toc-modified-id=\"Facility-name-and-admin-2-names-4.2\"><span class=\"toc-item-num\">4.2&nbsp;&nbsp;</span>Facility name and admin 2 names</a></span></li><li><span><a href=\"#Admin-3-names\" data-toc-modified-id=\"Admin-3-names-4.3\"><span class=\"toc-item-num\">4.3&nbsp;&nbsp;</span>Admin 3 names</a></span></li><li><span><a href=\"#Admin-3--and-admin-2-names\" data-toc-modified-id=\"Admin-3--and-admin-2-names-4.4\"><span class=\"toc-item-num\">4.4&nbsp;&nbsp;</span>Admin 3  and admin 2 names</a></span></li></ul></li><li><span><a href=\"#Map-and-save-results\" data-toc-modified-id=\"Map-and-save-results-5\"><span class=\"toc-item-num\">5&nbsp;&nbsp;</span>Map and save results</a></span><ul class=\"toc-item\"><li><span><a href=\"#Join-attributes-from-adminsitrative-polygons\" data-toc-modified-id=\"Join-attributes-from-adminsitrative-polygons-5.1\"><span class=\"toc-item-num\">5.1&nbsp;&nbsp;</span>Join attributes from adminsitrative polygons</a></span></li></ul></li></ul></div>"
   ]
  },
  {
   "cell_type": "markdown",
   "metadata": {},
   "source": [
    "Version: January 23, 2023\n",
    "\n",
    "This notebook works with health facilities from the HMIS Database and attempts to geolocate them, by joining them to administrative shapefiles, other sources for health POI data, and running queries with geocoding APIs.\n",
    "\n",
    "**Data Sources**\n",
    "- Health facilities (hierarchy list)\n",
    "- Geoboundaries (Adm1 through 4)\n",
    "- FEWS Admin-2 boundaries (updated post 2017)\n",
    "- Health Sites IO\n",
    "- RHINoVision Master Facility List Decision Support System"
   ]
  },
  {
   "cell_type": "markdown",
   "metadata": {},
   "source": [
    "# Packages and functions"
   ]
  },
  {
   "cell_type": "code",
   "execution_count": 164,
   "metadata": {},
   "outputs": [],
   "source": [
    "import os, sys\n",
    "import geopandas as gpd\n",
    "import pandas as pd\n",
    "from geopy.geocoders import GeoNames, Nominatim, Bing, GoogleV3\n",
    "from shapely.geometry import Point\n",
    "from tqdm import tqdm\n",
    "from thefuzz import fuzz\n",
    "from thefuzz import process\n",
    "import matplotlib.pyplot as plt\n",
    "from string import ascii_uppercase\n",
    "import contextily as ctx\n",
    "from os.path import join\n",
    "import numpy as np\n",
    "from dotenv import load_dotenv, find_dotenv"
   ]
  },
  {
   "cell_type": "code",
   "execution_count": 165,
   "metadata": {
    "code_folding": [
     0,
     16,
     32,
     58,
     74
    ]
   },
   "outputs": [],
   "source": [
    "def remove_words(data_frame, column_name, words_to_remove = ['community', 'clinic', 'centre', 'center', 'hospital', 'health', 'government']):\n",
    "    \"\"\" Remove words from strings in a specified column\n",
    "    \n",
    "    Args:\n",
    "        data_frame: Pandas data frame\n",
    "        column_name: Column name to remove words from\n",
    "        words_to_remove: List of words\n",
    "\n",
    "    Returns:\n",
    "        Removes words in place\n",
    "\n",
    "    \"\"\"\n",
    "    for word in words_to_remove:\n",
    "        data_frame[column_name] = data_frame[column_name].str.replace(word, \"\")\n",
    "    data_frame[column_name] = data_frame[column_name].str.strip()\n",
    "        \n",
    "def report_geocoding(records):\n",
    "    \"\"\" Report value counts and % from geocoding_method column.\n",
    "    \n",
    "    Args:\n",
    "        records: Pandas data frame\n",
    "\n",
    "    Returns:\n",
    "        Table with count stats \n",
    "    \"\"\"\n",
    "    table = records[['NAME', 'geocoding_method']].groupby('geocoding_method').count().rename(columns={'NAME':'count'})\n",
    "    table.loc[:, \"pct\"] = table/(table['count'].sum())\n",
    "    table = table.style.format({\n",
    "        'pct': '{:,.1%}'.format,\n",
    "    })\n",
    "    return(table)\n",
    "\n",
    "def match_name(name, list_names, min_score=0):\n",
    "    \"\"\" Uses fuzzy matching between one string and a list of candidate names.\n",
    "    \n",
    "    Args:\n",
    "        name: string\n",
    "        list_names: list of candidate names to match\n",
    "        min_score: minimum score allowed\n",
    "\n",
    "    Returns:\n",
    "        Returns name with the highest match, and match score\n",
    "        If no match is higher than min score, returns \"\" and -1\n",
    "    \"\"\"\n",
    "    # -1 score incase we don't get any matches\n",
    "    max_score = -1\n",
    "    # Returning empty name for no match as well\n",
    "    max_name = \"\"\n",
    "    # Iterating over all names in the other\n",
    "    for name2 in list_names:\n",
    "        #Finding fuzzy match score\n",
    "        score = fuzz.ratio(name, name2)\n",
    "        # Checking if we are above our threshold and have a better score\n",
    "        if (score > min_score) & (score > max_score):\n",
    "            max_name = name2\n",
    "            max_score = score\n",
    "    return (max_name, max_score)\n",
    "\n",
    "def match_to_closest(row, gdf, column='ADMIN2'):\n",
    "    \"\"\" Spatial join using closest distance algorithm.\n",
    "    \n",
    "    Args:\n",
    "        row: row from geo data frame\n",
    "        gdf: gdf with attributes to join\n",
    "        column: attribute to join\n",
    "\n",
    "    Returns:\n",
    "        Returns specified attribute of closest feature\n",
    "    \"\"\"\n",
    "    distances = [row.geometry.distance(pol) for pol in gdf.geometry]\n",
    "    min_id = np.argmin(distances)\n",
    "    closest = gdf.iloc[min_id]\n",
    "    return closest[column]\n",
    "\n",
    "def run_geocoding(idx, row, master_table, admin_area, components, country_code):\n",
    "    \"\"\"\n",
    "    Geocoding workflow to be applied to each row in a dataset\n",
    "    \n",
    "    Args:\n",
    "        idx: index\n",
    "        row: row with index and names to geocode\n",
    "        master_table: master table to store results\n",
    "        admin_area: gdf of admin area to ensure result falls within\n",
    "        components: list of names of attributes to use in query\n",
    "        country_code: two letter iso code\n",
    "    \n",
    "    Returns:\n",
    "        Stores geocoding results in master_table object\n",
    "    \"\"\"\n",
    "    admin_bounds = admin_area.bounds\n",
    "    bb = [(admin_bounds.iloc[0].miny, admin_bounds.iloc[0].minx), (admin_bounds.iloc[0].maxy, admin_bounds.iloc[0].maxx)]\n",
    "    method = ' and '.join(components)\n",
    "    items = [row[item] for item in components]\n",
    "    query = ', '.join(items)\n",
    "    \n",
    "    geocoding_result = None\n",
    "    geocoding_method = \"None\"\n",
    "    # Try Geocoding with OSM\n",
    "    try:\n",
    "        res = geolocator_osm.geocode(query, country_codes=country_code)\n",
    "        # if within admin\n",
    "        if admin_area.contains(Point(res.longitude,res.latitude)).values[0] == True:\n",
    "            geocoding_result = res\n",
    "            geocoding_method = f\"{method} query OSM\"\n",
    "        else:\n",
    "            raise Exception(\"OSM point not valid or not within polygon\")\n",
    "    except:\n",
    "        # Try Geocoding with Bing Maps\n",
    "        try:\n",
    "            res = geolocator_bing.geocode(query)\n",
    "            # if within admin\n",
    "            if admin_area.contains(Point(res.longitude,res.latitude)).values[0] == True:\n",
    "                geocoding_result = res\n",
    "                geocoding_method = f\"{method} query Bing\"\n",
    "            else:\n",
    "                raise Exception(\"Bing point not valid or not within polygon\")\n",
    "        except:\n",
    "            # Try Geocoding with Google\n",
    "            try:\n",
    "                res = geolocator_google.geocode(query = query, region = country_code, bounds = bb)\n",
    "                if res:\n",
    "                    # if within admin\n",
    "                    if admin_area.contains(Point(res.longitude,res.latitude)).values[0] == True:\n",
    "                        geocoding_result = res\n",
    "                        geocoding_method = f\"{method} query Google\"\n",
    "            except:\n",
    "                raise Exception(\"Google point not valid or not within polygon\")\n",
    "    \n",
    "    master_table.loc[idx, \"geocoding_method\"] = geocoding_method\n",
    "    if geocoding_result:\n",
    "        master_table.loc[idx, \"longitude\"] = res.longitude\n",
    "        master_table.loc[idx, \"latitude\"] = res.latitude"
   ]
  },
  {
   "cell_type": "code",
   "execution_count": 166,
   "metadata": {},
   "outputs": [],
   "source": [
    "iso3 = \"SLE\"\n",
    "country = \"Sierra Leone\"\n",
    "input_dir = \"/home/public/Data/PROJECTS/Health\" \n",
    "output_dir = join(input_dir, \"output\")\n",
    "# if not os.path.exists(out_folder):\n",
    "#     os.mkdir(out_folder)"
   ]
  },
  {
   "cell_type": "markdown",
   "metadata": {},
   "source": [
    "# Prepare and match admin boundary data "
   ]
  },
  {
   "cell_type": "code",
   "execution_count": 167,
   "metadata": {},
   "outputs": [],
   "source": [
    "geob4 = gpd.read_file(f\"https://github.com/wmgeolab/geoBoundaries/raw/b7dd6a5/releaseData/gbOpen/{iso3}/ADM4/geoBoundaries-{iso3}-ADM4.geojson\")\n",
    "geob3 = gpd.read_file(f\"https://github.com/wmgeolab/geoBoundaries/raw/b7dd6a5/releaseData/gbOpen/{iso3}/ADM3/geoBoundaries-{iso3}-ADM3.geojson\")\n",
    "geob2 = gpd.read_file(f\"https://github.com/wmgeolab/geoBoundaries/raw/b7dd6a5/releaseData/gbOpen/{iso3}/ADM2/geoBoundaries-{iso3}-ADM2.geojson\")\n",
    "geob1 = gpd.read_file(f\"https://github.com/wmgeolab/geoBoundaries/raw/b7dd6a5/releaseData/gbOpen/{iso3}/ADM1/geoBoundaries-{iso3}-ADM1.geojson\")\n",
    "fews2 = gpd.read_file(join(input_dir, 'FEWS', 'SLE', 'SL_Admin2_2017.shp'))"
   ]
  },
  {
   "cell_type": "code",
   "execution_count": 168,
   "metadata": {},
   "outputs": [
    {
     "data": {
      "text/plain": [
       "Text(0.5, 1.0, '4 ADM1 boundaries')"
      ]
     },
     "execution_count": 168,
     "metadata": {},
     "output_type": "execute_result"
    },
    {
     "data": {
      "image/png": "[encoded data removed]",
      "text/plain": [
       "<Figure size 720x720 with 4 Axes>"
      ]
     },
     "metadata": {
      "needs_background": "light"
     },
     "output_type": "display_data"
    }
   ],
   "source": [
    "fig, ax = plt.subplots(2, 2, figsize=(10,10))\n",
    "geob4.boundary.plot(ax=ax[0, 0], color='black', linewidth=0.5).set_axis_off()\n",
    "ax[0, 0].set_title(f'{len(geob4)} ADM4 boundaries')\n",
    "geob3.boundary.plot(ax=ax[0, 1], color='black', linewidth=1).set_axis_off()\n",
    "ax[0, 1].set_title(f'{len(geob3)} ADM3 boundaries')\n",
    "geob2.boundary.plot(ax=ax[1, 0], color='black').set_axis_off()\n",
    "ax[1, 0].set_title(f'{len(geob2)} ADM2 boundaries')\n",
    "geob1.boundary.plot(ax=ax[1, 1], color='black').set_axis_off()\n",
    "ax[1, 1].set_title(f'{len(geob1)} ADM1 boundaries')\n",
    "# plt.axis('off')"
   ]
  },
  {
   "cell_type": "code",
   "execution_count": null,
   "metadata": {},
   "outputs": [],
   "source": [
    "master_table = pd.read_csv(os.path.join(input_dir, \"tom_formatted\", \"hierarchy\", \"tom_edited_sierraleone_collapsed.csv\"), encoding='utf-8')"
   ]
  },
  {
   "cell_type": "code",
   "execution_count": null,
   "metadata": {},
   "outputs": [
    {
     "data": {
      "text/html": [
       "<div>\n",
       "<style scoped>\n",
       "    .dataframe tbody tr th:only-of-type {\n",
       "        vertical-align: middle;\n",
       "    }\n",
       "\n",
       "    .dataframe tbody tr th {\n",
       "        vertical-align: top;\n",
       "    }\n",
       "\n",
       "    .dataframe thead th {\n",
       "        text-align: right;\n",
       "    }\n",
       "</style>\n",
       "<table border=\"1\" class=\"dataframe\">\n",
       "  <thead>\n",
       "    <tr style=\"text-align: right;\">\n",
       "      <th></th>\n",
       "      <th>orgunitlevel1</th>\n",
       "      <th>orgunitlevel2</th>\n",
       "      <th>orgunitlevel3</th>\n",
       "      <th>orgunitlevel4</th>\n",
       "      <th>orgunitlevel5</th>\n",
       "    </tr>\n",
       "  </thead>\n",
       "  <tbody>\n",
       "    <tr>\n",
       "      <th>0</th>\n",
       "      <td>Sierra Leone</td>\n",
       "      <td>Bo District</td>\n",
       "      <td>Bo City Council</td>\n",
       "      <td>Bo City</td>\n",
       "      <td>Aethel</td>\n",
       "    </tr>\n",
       "    <tr>\n",
       "      <th>1</th>\n",
       "      <td>Sierra Leone</td>\n",
       "      <td>Bo District</td>\n",
       "      <td>Bo City Council</td>\n",
       "      <td>Bo City</td>\n",
       "      <td>Agape Way</td>\n",
       "    </tr>\n",
       "  </tbody>\n",
       "</table>\n",
       "</div>"
      ],
      "text/plain": [
       "  orgunitlevel1 orgunitlevel2    orgunitlevel3 orgunitlevel4 orgunitlevel5\n",
       "0  Sierra Leone   Bo District  Bo City Council       Bo City       Aethel \n",
       "1  Sierra Leone   Bo District  Bo City Council       Bo City    Agape Way "
      ]
     },
     "execution_count": 170,
     "metadata": {},
     "output_type": "execute_result"
    }
   ],
   "source": [
    "master_table.head(2)"
   ]
  },
  {
   "cell_type": "code",
   "execution_count": null,
   "metadata": {
    "scrolled": true
   },
   "outputs": [
    {
     "data": {
      "text/plain": [
       "1564"
      ]
     },
     "execution_count": 171,
     "metadata": {},
     "output_type": "execute_result"
    }
   ],
   "source": [
    "len(master_table)"
   ]
  },
  {
   "cell_type": "code",
   "execution_count": null,
   "metadata": {},
   "outputs": [
    {
     "name": "stdout",
     "output_type": "stream",
     "text": [
      "Unique Level 2: 16\n",
      "Unique Level 3: 22\n",
      "Unique Level 4: 208\n",
      "Unique Level 5: 1556\n"
     ]
    }
   ],
   "source": [
    "print(f\"Unique Level 2: {len(master_table.orgunitlevel2.unique())}\")\n",
    "print(f\"Unique Level 3: {len(master_table.orgunitlevel3.unique())}\")\n",
    "print(f\"Unique Level 4: {len(master_table.orgunitlevel4.unique())}\")\n",
    "print(f\"Unique Level 5: {len(master_table.orgunitlevel5.unique())}\")"
   ]
  },
  {
   "cell_type": "code",
   "execution_count": null,
   "metadata": {},
   "outputs": [
    {
     "name": "stdout",
     "output_type": "stream",
     "text": [
      "Unique Geoboundaries Adm 1: 4\n",
      "Unique Geoboundaries Adm 2: 14\n",
      "Unique Geoboundaries Adm 3: 165\n",
      "Unique Geoboundaries Adm 4: 1322\n"
     ]
    }
   ],
   "source": [
    "print(f\"Unique Geoboundaries Adm 1: {len(geob1)}\")\n",
    "print(f\"Unique Geoboundaries Adm 2: {len(geob2)}\")\n",
    "print(f\"Unique Geoboundaries Adm 3: {len(geob3)}\")\n",
    "print(f\"Unique Geoboundaries Adm 4: {len(geob4)}\")"
   ]
  },
  {
   "cell_type": "markdown",
   "metadata": {},
   "source": [
    "# To-do: Abstract the admin and shapefile names"
   ]
  },
  {
   "cell_type": "markdown",
   "metadata": {},
   "source": [
    "## Match health list admin names to shapefile admin names\n",
    "### Match orgunitlevel4 to geoboundaries Adm 3\n",
    "Try using fuzzy matching  "
   ]
  },
  {
   "cell_type": "code",
   "execution_count": null,
   "metadata": {},
   "outputs": [],
   "source": [
    "level4_list = list(master_table.orgunitlevel4.unique())\n",
    "level4_list.sort()\n",
    "geob3_list = list(geob3.shapeName)\n",
    "geob3_list.sort()"
   ]
  },
  {
   "cell_type": "markdown",
   "metadata": {},
   "source": [
    "Print names one at a time for both datasets one letter at a time, and manually inspect"
   ]
  },
  {
   "cell_type": "code",
   "execution_count": null,
   "metadata": {
    "scrolled": true
   },
   "outputs": [
    {
     "name": "stdout",
     "output_type": "stream",
     "text": [
      "\n",
      "\n",
      "Master list level 4\n",
      "\t['Badjia', 'Bagbwe', 'Bagruwa', 'Bake-Loko', 'Baoma', 'Barawa Wollay', 'Bargbo', 'Barri', 'Bendu-Cha', 'Biriwa', 'Bo City', 'Bombali Sebora', 'Bombali Serry', 'Bongor', 'Bonthe Town', 'Bramaia', 'Bum', 'Bumpe Ngao', 'Bumpeh', 'Bureh', 'Buya']\n",
      "Geoboundaries adm3\n",
      "\t['Badjia', 'Bagbo', 'Bagbwe(Bagbe)', 'Bagruwa', 'Barri', 'Bendu-Cha', 'Biriwa', 'Bo Town', 'Boama', 'Bombali Sebora', 'Bonthe Urban', 'Bramaia', 'Bum', 'Bumpe Ngao', 'Bumpeh', 'Bureh Kasseh Ma', 'Buya Romende']\n",
      "\n",
      "\n",
      "Master list level 4\n",
      "\t['Central 1 Zone', 'Central 2 Zone']\n",
      "Geoboundaries adm3\n",
      "\t['Central I', 'Central II']\n",
      "\n",
      "\n",
      "Master list level 4\n",
      "\t['Dama', 'Dansogoia', 'Dasse', 'Dea', 'Delmandugu', 'Dema', 'Dembelia-Sinkunia', 'Diang', 'Dibia', 'Dixon', 'Dodo']\n",
      "Geoboundaries adm3\n",
      "\t['Dama', 'Dasse', 'Dea', 'Dema', 'Dembelia - Sink', 'Diang', 'Dibia', 'Dodo']\n",
      "\n",
      "\n",
      "Master list level 4\n",
      "\t['East 1 Zone', 'East 2 Zone', 'East 3 Zone']\n",
      "Geoboundaries adm3\n",
      "\t['East I', 'East II', 'East III']\n",
      "\n",
      "\n",
      "Master list level 4\n",
      "\t['Fakunya', 'Fiama', 'Folosaba Dembelia', 'Folosaba Kamba', 'Futa Peje']\n",
      "Geoboundaries adm3\n",
      "\t['Fakunya', 'Fiama', 'Folosaba Dembel']\n",
      "\n",
      "\n",
      "Master list level 4\n",
      "\t['Galliness', 'Gaura', 'Gbane', 'Gbane Kandor', 'Gbanti (Bombali)', 'Gbanti (Karene)', 'Gbendembu', 'Gbense', 'Gbinleh', 'Gbo', 'Gbokolenken Masankong', 'Gbokolenken Mayeppoh', 'Gbokolenken Polie', 'Gbokolenken Yele', 'Gbonkorbor Kayaka', 'Gorama Kono', 'Gorama Mende', 'Gormbahun']\n",
      "Geoboundaries adm3\n",
      "\t['Galliness Perri', 'Gaura', 'Gbane', 'Gbane Kandor', 'Gbanti Kamarank', 'Gbendembu Ngowa', 'Gbense', 'Gbinle Dixing', 'Gbo', 'Gbonkolenken', 'Gorama Kono', 'Gorama Mende']\n",
      "\n",
      "\n",
      "\n",
      "\n",
      "Master list level 4\n",
      "\t['Imperi']\n",
      "Geoboundaries adm3\n",
      "\t['Imperri']\n",
      "\n",
      "\n",
      "Master list level 4\n",
      "\t['Jahn', 'Jaiama', 'Jawei', 'Jong']\n",
      "Geoboundaries adm3\n",
      "\t['Jaiama Bongor', 'Jawie', 'Jong']\n",
      "\n",
      "\n",
      "Master list level 4\n",
      "\t['Kabelia', 'Kabonde', 'Kafe', 'Kaffu Bullom', 'Kaiyamba', 'Kakua', 'Kalantuba', 'Kallian', 'Kamadugu Yiraia', 'Kamajei', 'Kamara', 'Kamaranka', 'Kamasondo', 'Kamukeh', 'Kandu Leppiama', 'Kargboro', 'Kasseh', 'Kasunko Kakellay', 'Kenema City', 'Kholifa Mabang', 'Kholifa Mamuntha', 'Kholifa Rowalla', 'Kissi Kama', 'Kissi Teng', 'Kissi Tongi', 'Koidu New Sembehun City', 'Komboya', 'Kongbora', 'Konimaka', 'Kori', 'Kowa', 'Koya (Kenema)', 'Koya (Port Loko)', 'Koya Rural Zone', 'Kpaka', 'Kpanda Kemoh', 'Kpanga', 'Kpanga Krim', 'Kulor Saradu', 'Kunike Barina', 'Kunike Fulawusu', 'Kunike Sanda', 'Kwamebai Krim']\n",
      "Geoboundaries adm3\n",
      "\t['Kafe Simiria', 'Kaffu Bullom', 'Kagboro', 'Kaiyamba', 'Kakua', 'Kalansogoia', 'Kamajei', 'Kamara', 'Kandu Leppiama', 'Kasunko', 'Kenema Town', 'Kholifa Mabang', 'Kholifa Rowala', 'Kissi Kama', 'Kissi Teng', 'Kissi Tongi', 'Koidu Town', 'Komboya', 'Kongbora', 'Kori', 'Kowa', 'Koya', 'Koya Rural', 'Kpaka', 'Kpanda Kemo', 'Kpeje Bongre', 'Kpeje West', 'Kunike', 'Kunike Barina', 'Kwamebai Krim']\n",
      "\n",
      "\n",
      "Master list level 4\n",
      "\t['Langroma', 'Lei', 'Lokomasama', 'Lower Bambara', 'Lower Banta', 'Luawa', 'Lugbu']\n",
      "Geoboundaries adm3\n",
      "\t['Langrama', 'Lei', 'Libeisaygahun', 'Lokomasama', 'Lower Bambara', 'Lower Banta', 'Luawa', 'Lugbu']\n",
      "\n",
      "\n",
      "Master list level 4\n",
      "\t['Maconteh', 'Mafindor', 'Mafonda Makerembay', 'Maforki', 'Magbaimba Ndohahun', 'Magbema', 'Makama', 'Makarie', 'Makeni City', 'Makpele', 'Malal', 'Malegohun', 'Malema', 'Malen', 'Mambolo', 'Mandu', 'Mano Sakrim', 'Mara', 'Marampa', 'Masimera', 'Masumgbala', 'Mongo', 'Morifindu', 'Mountain Rural Zone', 'Munu Thalla']\n",
      "Geoboundaries adm3\n",
      "\t['Mafindor', 'Maforki', 'Magbaimba Ndorh', 'Magbema', 'Makari Gbanti', 'Makeni Town', 'Makpele', 'Malal Mara', 'Malegohun', 'Malema', 'Malen', 'Mambolo', 'Mandu', 'Marampa', 'Masimera', 'Masungbala', 'Mongo', 'Mono Sakrim', 'Mountain Rural']\n",
      "\n",
      "\n",
      "Master list level 4\n",
      "\t['Neya', 'Ngowahun', 'Niawa', 'Niawa Lenga', 'Nieni', 'Nimikoro', 'Nimiyama', 'Njaluahun', 'Nomo', 'Nongoba Bullom', 'Nongowa', 'Nyedu']\n",
      "Geoboundaries adm3\n",
      "\t['Neya', 'Niawa', 'Niawa Lenga', 'Nieni', 'Nimikoro', 'Nimiyama', 'Njaluahun', 'Nomo', 'Nongoba Bullom', 'Nongowa']\n",
      "\n",
      "\n",
      "\n",
      "\n",
      "Master list level 4\n",
      "\t['Paki Masabong', 'Peje Bongre', 'Peje West', 'Penguia', 'Perri', 'Port Loko City']\n",
      "Geoboundaries adm3\n",
      "\t['Paki Masabong', 'Panga Kabonde', 'Panga krim', 'Pejeh(Futa peje', 'Penguia']\n",
      "\n",
      "\n",
      "\n",
      "\n",
      "Master list level 4\n",
      "\t['Ribbi', 'Romende']\n",
      "Geoboundaries adm3\n",
      "\t['Ribbi']\n",
      "\n",
      "\n",
      "Master list level 4\n",
      "\t['Safroko', 'Safroko Limba', 'Sambaya Bendugu', 'Samu', 'Sanda Loko', 'Sanda Magbolonthor', 'Sanda Tendaren', 'Sandor', 'Selenga', 'Sella Limba', 'Sengbeh', 'Simbaru', 'Simiria', 'Sittia', 'Small Bo', 'Soa', 'Sogbini', 'Soro Gbeima', 'Sowa', 'Sulima']\n",
      "Geoboundaries adm3\n",
      "\t['Safroko Limba', 'Sambaya', 'Samu', 'Sanda Loko', 'Sanda Magbolont', 'Sanda Tendaran', 'Sandor', 'Selenga', 'Sella Limba', 'Sengbe', 'Simbaru', 'Sittia', 'Small Bo', 'Soa', 'Sogbeni', 'Soro Gbema', 'Sowa', 'Sulima']\n",
      "\n",
      "\n",
      "Master list level 4\n",
      "\t['Tainkatopa', 'Tambaka Simibungie', 'Tambaka Yobangie', 'Tane', 'Tankoro', 'Thamiso', 'Tikonko', 'Timdale', 'Toli', 'Tonko Limba', 'Tunkia']\n",
      "Geoboundaries adm3\n",
      "\t['TMS', 'Tambakha', 'Tane', 'Tankoro', 'Tikonko', 'Timdale', 'Toli', 'Tonko Limba', 'Tunkia']\n",
      "\n",
      "\n",
      "Master list level 4\n",
      "\t['Upper Bambara', 'Upper Banta']\n",
      "Geoboundaries adm3\n",
      "\t['Upper Bambara', 'Upper Banta']\n",
      "\n",
      "\n",
      "Master list level 4\n",
      "\t['Valunia']\n",
      "Geoboundaries adm3\n",
      "\t['Valunia']\n",
      "\n",
      "\n",
      "Master list level 4\n",
      "\t['Wandor', 'Wara Wara Bafodia', 'Wara Wara Yagala', 'Waterloo Rural Zone', 'West 1 Zone', 'West 2 Zone', 'West 3 Zone', 'Wonde']\n",
      "Geoboundaries adm3\n",
      "\t['Wandor', 'Wara Wara Bafod', 'Wara Wara Yagal', 'Waterloo Rural', 'West I', 'West II', 'West III', 'Wonde']\n",
      "\n",
      "\n",
      "\n",
      "\n",
      "Master list level 4\n",
      "\t['Yakemoh Kpukumu Krim', 'Yawbeko', 'Yawei', 'Yoni Mabanta', 'Yoni Mamala', 'York Rural Zone']\n",
      "Geoboundaries adm3\n",
      "\t['Yakemu Kpukumu', 'Yawbeko', 'Yawei', 'Yoni', 'York Rural']\n",
      "\n",
      "\n",
      "\n",
      "\n"
     ]
    }
   ],
   "source": [
    "for letter in ascii_uppercase:\n",
    "    level4_sublist = [name for name in level4_list if name[0]==letter]\n",
    "    geob3_sublist = [name for name in geob3_list if name[0]==letter]\n",
    "\n",
    "    if len(level4_sublist)>0:\n",
    "        print(\"Master list level 4\")\n",
    "        print(\"\\t\"+str(level4_sublist))\n",
    "    if len(geob3_sublist) >0:\n",
    "        print(\"Geoboundaries adm3\")\n",
    "        print(\"\\t\"+str(geob3_sublist))\n",
    "        \n",
    "    print(\"\\n\")"
   ]
  },
  {
   "cell_type": "markdown",
   "metadata": {},
   "source": [
    "Manually adjust spellings of master health list to create more matches."
   ]
  },
  {
   "cell_type": "code",
   "execution_count": null,
   "metadata": {},
   "outputs": [],
   "source": [
    "master_table.loc[:, \"orgunitlevel4_edit\"] = master_table.orgunitlevel4"
   ]
  },
  {
   "cell_type": "code",
   "execution_count": null,
   "metadata": {},
   "outputs": [],
   "source": [
    "# master_table.loc[master_table.orgunitlevel4 == \"Bo City\", \"orgunitlevel4_edit\"] = \"Bo Town\"\n",
    "master_table.loc[master_table.orgunitlevel4 == \"Central 1 Zone\", \"orgunitlevel4_edit\"] = \"Central I\"\n",
    "master_table.loc[master_table.orgunitlevel4 == \"Central 2 Zone\", \"orgunitlevel4_edit\"] = \"Central II\"\n",
    "master_table.loc[master_table.orgunitlevel4 == \"East 1 Zone\", \"orgunitlevel4_edit\"] = \"East I\"\n",
    "master_table.loc[master_table.orgunitlevel4 == \"East 2 Zone\", \"orgunitlevel4_edit\"] = \"East II\"\n",
    "master_table.loc[master_table.orgunitlevel4 == \"East 3 Zone\", \"orgunitlevel4_edit\"] = \"East III\"\n",
    "master_table.loc[master_table.orgunitlevel4 == \"West 1 Zone\", \"orgunitlevel4_edit\"] = \"West I\"\n",
    "master_table.loc[master_table.orgunitlevel4 == \"West 2 Zone\", \"orgunitlevel4_edit\"] = \"West II\"\n",
    "master_table.loc[master_table.orgunitlevel4 == \"West 3 Zone\", \"orgunitlevel4_edit\"] = \"West III\"\n",
    "master_table.loc[master_table.orgunitlevel4 == \"Bagbwe\", \"orgunitlevel4_edit\"] = \"Bagbwe(Bagbe)\""
   ]
  },
  {
   "cell_type": "markdown",
   "metadata": {},
   "source": [
    "Remove key words that confuse matching algorithm"
   ]
  },
  {
   "cell_type": "code",
   "execution_count": null,
   "metadata": {},
   "outputs": [],
   "source": [
    "remove_words(geob3, \"shapeName\", ['Town', 'City', 'Urban', 'Zone'])\n",
    "remove_words(master_table, \"orgunitlevel4_edit\", ['Town', 'City', 'Urban', 'Zone'])"
   ]
  },
  {
   "cell_type": "code",
   "execution_count": null,
   "metadata": {},
   "outputs": [],
   "source": [
    "# level4_list = list(master_table.orgunitlevel4.unique())\n",
    "level4_list = list(master_table.orgunitlevel4_edit.unique())\n",
    "level4_list.sort()\n",
    "geob3_list = list(geob3.shapeName)\n",
    "geob3_list.sort()"
   ]
  },
  {
   "cell_type": "code",
   "execution_count": null,
   "metadata": {
    "scrolled": true
   },
   "outputs": [],
   "source": [
    "# List for dicts for easy dataframe creation\n",
    "dict_list = []\n",
    "# iterating over orgunitlevel4_edit list\n",
    "for name in level4_list:\n",
    "    \n",
    "    # Use our method to find best match, we can set a threshold here\n",
    "    match = match_name(name, geob3_list, 30)\n",
    "\n",
    "    # New dict for storing data\n",
    "    dict_ = {}\n",
    "    dict_.update({\"name_level4\" : name})\n",
    "    dict_.update({\"name_geob3\" : match[0]})\n",
    "    dict_.update({\"score\" : match[1]})\n",
    "    dict_list.append(dict_)\n",
    "\n",
    "table_adm3 = pd.DataFrame(dict_list)\n",
    "table_adm3_matches = table_adm3[table_adm3.score > 70].copy()"
   ]
  },
  {
   "cell_type": "code",
   "execution_count": null,
   "metadata": {},
   "outputs": [
    {
     "data": {
      "text/plain": [
       "'78.37%'"
      ]
     },
     "execution_count": 181,
     "metadata": {},
     "output_type": "execute_result"
    }
   ],
   "source": [
    "matches_pct = (len(table_adm3_matches) / len(level4_list))\n",
    "'{:.2f}%'.format(matches_pct*100)"
   ]
  },
  {
   "cell_type": "code",
   "execution_count": null,
   "metadata": {
    "scrolled": true
   },
   "outputs": [
    {
     "data": {
      "text/html": [
       "<div>\n",
       "<style scoped>\n",
       "    .dataframe tbody tr th:only-of-type {\n",
       "        vertical-align: middle;\n",
       "    }\n",
       "\n",
       "    .dataframe tbody tr th {\n",
       "        vertical-align: top;\n",
       "    }\n",
       "\n",
       "    .dataframe thead th {\n",
       "        text-align: right;\n",
       "    }\n",
       "</style>\n",
       "<table border=\"1\" class=\"dataframe\">\n",
       "  <thead>\n",
       "    <tr style=\"text-align: right;\">\n",
       "      <th></th>\n",
       "      <th>name_level4</th>\n",
       "      <th>name_geob3</th>\n",
       "      <th>score</th>\n",
       "    </tr>\n",
       "  </thead>\n",
       "  <tbody>\n",
       "    <tr>\n",
       "      <th>4</th>\n",
       "      <td>Baoma</td>\n",
       "      <td>Boama</td>\n",
       "      <td>80</td>\n",
       "    </tr>\n",
       "    <tr>\n",
       "      <th>13</th>\n",
       "      <td>Bongor</td>\n",
       "      <td>Mongo</td>\n",
       "      <td>73</td>\n",
       "    </tr>\n",
       "    <tr>\n",
       "      <th>19</th>\n",
       "      <td>Bureh</td>\n",
       "      <td>Bumpeh</td>\n",
       "      <td>73</td>\n",
       "    </tr>\n",
       "    <tr>\n",
       "      <th>24</th>\n",
       "      <td>Dansogoia</td>\n",
       "      <td>Kalansogoia</td>\n",
       "      <td>80</td>\n",
       "    </tr>\n",
       "    <tr>\n",
       "      <th>40</th>\n",
       "      <td>Folosaba Kamba</td>\n",
       "      <td>Folosaba Dembel</td>\n",
       "      <td>76</td>\n",
       "    </tr>\n",
       "    <tr>\n",
       "      <th>42</th>\n",
       "      <td>Galliness</td>\n",
       "      <td>Galliness Perri</td>\n",
       "      <td>75</td>\n",
       "    </tr>\n",
       "    <tr>\n",
       "      <th>47</th>\n",
       "      <td>Gbanti (Karene)</td>\n",
       "      <td>Gbanti Kamarank</td>\n",
       "      <td>73</td>\n",
       "    </tr>\n",
       "    <tr>\n",
       "      <th>48</th>\n",
       "      <td>Gbendembu</td>\n",
       "      <td>Gbendembu Ngowa</td>\n",
       "      <td>75</td>\n",
       "    </tr>\n",
       "    <tr>\n",
       "      <th>54</th>\n",
       "      <td>Gbokolenken Polie</td>\n",
       "      <td>Gbonkolenken</td>\n",
       "      <td>76</td>\n",
       "    </tr>\n",
       "    <tr>\n",
       "      <th>55</th>\n",
       "      <td>Gbokolenken Yele</td>\n",
       "      <td>Gbonkolenken</td>\n",
       "      <td>79</td>\n",
       "    </tr>\n",
       "    <tr>\n",
       "      <th>62</th>\n",
       "      <td>Jaiama</td>\n",
       "      <td>Fiama</td>\n",
       "      <td>73</td>\n",
       "    </tr>\n",
       "    <tr>\n",
       "      <th>63</th>\n",
       "      <td>Jawei</td>\n",
       "      <td>Jawie</td>\n",
       "      <td>80</td>\n",
       "    </tr>\n",
       "    <tr>\n",
       "      <th>76</th>\n",
       "      <td>Kamaranka</td>\n",
       "      <td>Kamara</td>\n",
       "      <td>80</td>\n",
       "    </tr>\n",
       "    <tr>\n",
       "      <th>81</th>\n",
       "      <td>Kasseh</td>\n",
       "      <td>Dasse</td>\n",
       "      <td>73</td>\n",
       "    </tr>\n",
       "    <tr>\n",
       "      <th>85</th>\n",
       "      <td>Kholifa Mamuntha</td>\n",
       "      <td>Kholifa Mabang</td>\n",
       "      <td>73</td>\n",
       "    </tr>\n",
       "    <tr>\n",
       "      <th>101</th>\n",
       "      <td>Kpanga</td>\n",
       "      <td>Kpaka</td>\n",
       "      <td>73</td>\n",
       "    </tr>\n",
       "    <tr>\n",
       "      <th>102</th>\n",
       "      <td>Kpanga Krim</td>\n",
       "      <td>Panga krim</td>\n",
       "      <td>76</td>\n",
       "    </tr>\n",
       "    <tr>\n",
       "      <th>106</th>\n",
       "      <td>Kunike Sanda</td>\n",
       "      <td>Kunike Barina</td>\n",
       "      <td>80</td>\n",
       "    </tr>\n",
       "    <tr>\n",
       "      <th>121</th>\n",
       "      <td>Makama</td>\n",
       "      <td>Marampa</td>\n",
       "      <td>77</td>\n",
       "    </tr>\n",
       "    <tr>\n",
       "      <th>125</th>\n",
       "      <td>Malal</td>\n",
       "      <td>Malema</td>\n",
       "      <td>73</td>\n",
       "    </tr>\n",
       "    <tr>\n",
       "      <th>132</th>\n",
       "      <td>Mara</td>\n",
       "      <td>Marampa</td>\n",
       "      <td>73</td>\n",
       "    </tr>\n",
       "    <tr>\n",
       "      <th>159</th>\n",
       "      <td>Romende</td>\n",
       "      <td>Buya Romende</td>\n",
       "      <td>74</td>\n",
       "    </tr>\n",
       "    <tr>\n",
       "      <th>172</th>\n",
       "      <td>Simiria</td>\n",
       "      <td>Kafe Simiria</td>\n",
       "      <td>74</td>\n",
       "    </tr>\n",
       "    <tr>\n",
       "      <th>202</th>\n",
       "      <td>Yakemoh Kpukumu Krim</td>\n",
       "      <td>Yakemu Kpukumu</td>\n",
       "      <td>76</td>\n",
       "    </tr>\n",
       "  </tbody>\n",
       "</table>\n",
       "</div>"
      ],
      "text/plain": [
       "              name_level4       name_geob3  score\n",
       "4                   Baoma            Boama     80\n",
       "13                 Bongor            Mongo     73\n",
       "19                  Bureh           Bumpeh     73\n",
       "24              Dansogoia      Kalansogoia     80\n",
       "40         Folosaba Kamba  Folosaba Dembel     76\n",
       "42              Galliness  Galliness Perri     75\n",
       "47        Gbanti (Karene)  Gbanti Kamarank     73\n",
       "48              Gbendembu  Gbendembu Ngowa     75\n",
       "54      Gbokolenken Polie     Gbonkolenken     76\n",
       "55       Gbokolenken Yele     Gbonkolenken     79\n",
       "62                 Jaiama            Fiama     73\n",
       "63                  Jawei            Jawie     80\n",
       "76              Kamaranka           Kamara     80\n",
       "81                 Kasseh            Dasse     73\n",
       "85       Kholifa Mamuntha   Kholifa Mabang     73\n",
       "101                Kpanga            Kpaka     73\n",
       "102           Kpanga Krim       Panga krim     76\n",
       "106          Kunike Sanda    Kunike Barina     80\n",
       "121                Makama          Marampa     77\n",
       "125                 Malal           Malema     73\n",
       "132                  Mara          Marampa     73\n",
       "159               Romende     Buya Romende     74\n",
       "172               Simiria     Kafe Simiria     74\n",
       "202  Yakemoh Kpukumu Krim   Yakemu Kpukumu     76"
      ]
     },
     "execution_count": 182,
     "metadata": {},
     "output_type": "execute_result"
    }
   ],
   "source": [
    "# could save this list for someone to confirm matches manually\n",
    "# for now take input noting which ones should be dropped based on quick inspection\n",
    "table_adm3_matches.loc[table_adm3_matches.score<=80]"
   ]
  },
  {
   "cell_type": "code",
   "execution_count": null,
   "metadata": {},
   "outputs": [
    {
     "name": "stdout",
     "output_type": "stream",
     "text": [
      "name_level4    Baoma\n",
      "name_geob3     Boama\n",
      "score             80\n",
      "Name: 4, dtype: object\n",
      "\n",
      "\n"
     ]
    }
   ],
   "source": [
    "for idx, row in table_adm3_matches.loc[table_adm3_matches.score<=80].iterrows():\n",
    "    print(row)\n",
    "    print('\\n')\n",
    "    drop_input = input(\"Drop? If no, leave blank: \")\n",
    "    if len(drop_input)>0:\n",
    "        table_adm3_matches.drop(idx, axis=0, inplace=True)"
   ]
  },
  {
   "cell_type": "code",
   "execution_count": null,
   "metadata": {},
   "outputs": [],
   "source": [
    "matches_pct = (len(table_adm3_matches) / len(level4_list))\n",
    "'{:.2f}%'.format(matches_pct*100)"
   ]
  },
  {
   "cell_type": "markdown",
   "metadata": {},
   "source": [
    "### Match orgunitlevel2 to FEWS Adm 2"
   ]
  },
  {
   "cell_type": "code",
   "execution_count": null,
   "metadata": {},
   "outputs": [],
   "source": [
    "master_table.loc[:, \"orgunitlevel2_edit\"] = master_table.orgunitlevel2"
   ]
  },
  {
   "cell_type": "code",
   "execution_count": null,
   "metadata": {},
   "outputs": [],
   "source": [
    "# remove_words(geob2, \"admin2Name\", [\" City Council\", \" District Council\", \" Municipal Council\"])\n",
    "remove_words(master_table, \"orgunitlevel2_edit\", [\" District\"])\n",
    "remove_words(fews2, \"ADMIN2\", [\" City Council\", \" District Council\", \" Municipal Council\"])"
   ]
  },
  {
   "cell_type": "code",
   "execution_count": null,
   "metadata": {
    "code_folding": []
   },
   "outputs": [],
   "source": [
    "level2_list = list(master_table.orgunitlevel2_edit.unique())\n",
    "level2_list.sort()\n",
    "geob2_list = list(geob2.admin2Name)\n",
    "geob2_list.sort()\n",
    "fews2_list = list(fews2.ADMIN2)\n",
    "fews2_list.sort()"
   ]
  },
  {
   "cell_type": "markdown",
   "metadata": {},
   "source": [
    "Print names one at a time for both datasets one letter at a time, and manually inspect"
   ]
  },
  {
   "cell_type": "code",
   "execution_count": null,
   "metadata": {
    "scrolled": true
   },
   "outputs": [],
   "source": [
    "for letter in ascii_uppercase:\n",
    "    level2_sublist = [name for name in level2_list if name[0]==letter]\n",
    "    #geob2_sublist = [name for name in geob2_list if name[0]==letter]\n",
    "    fews2_sublist = [name for name in fews2_list if name[0]==letter]\n",
    "    if len(level2_sublist)>0:\n",
    "        print(\"Master list level 2\")\n",
    "        print(\"\\t\"+str(level2_sublist))\n",
    "#     if len(geob2_sublist) >0:\n",
    "#         print(\"Geoboundaries adm2\")\n",
    "#         print(\"\\t\"+str(geob2_sublist))\n",
    "    if len(fews2_sublist) > 0:\n",
    "        print(\"FEWS adm2\")\n",
    "        print(\"\\t\"+str(fews2_sublist))\n",
    "    print(\"\\n\")"
   ]
  },
  {
   "cell_type": "code",
   "execution_count": null,
   "metadata": {},
   "outputs": [],
   "source": [
    "# List for dicts for easy dataframe creation\n",
    "dict_list = []\n",
    "# iterating over our players without salaries found above\n",
    "for name in level2_list:\n",
    "    \n",
    "    # Use our method to find best match, we can set a threshold here\n",
    "    match = match_name(name, fews2_list, 30)\n",
    "\n",
    "    # New dict for storing data\n",
    "    dict_ = {}\n",
    "    dict_.update({\"name_level2\" : name})\n",
    "    dict_.update({\"name_fews2\" : match[0]})\n",
    "    dict_.update({\"score\" : match[1]})\n",
    "    dict_list.append(dict_)\n",
    "\n",
    "table_adm2 = pd.DataFrame(dict_list)\n",
    "table_adm2_matches = table_adm2[table_adm2.score > 75]"
   ]
  },
  {
   "cell_type": "code",
   "execution_count": null,
   "metadata": {},
   "outputs": [],
   "source": [
    "matches_pct = (len(table_adm2_matches) / len(level2_list))\n",
    "'{:.2f}%'.format(matches_pct*100)"
   ]
  },
  {
   "cell_type": "markdown",
   "metadata": {},
   "source": [
    "Loop through each row in master table, and add new attribute names (adm3 and adm2), if the names produced matches in the lookup tables"
   ]
  },
  {
   "cell_type": "code",
   "execution_count": null,
   "metadata": {},
   "outputs": [],
   "source": [
    "master_table_copy = master_table.copy()"
   ]
  },
  {
   "cell_type": "code",
   "execution_count": null,
   "metadata": {},
   "outputs": [],
   "source": [
    "for idx, row in master_table_copy.iterrows():\n",
    "    \n",
    "    if row.orgunitlevel4_edit in list(table_adm3_matches.name_level4):\n",
    "        \n",
    "        match = table_adm3_matches.loc[table_adm3_matches.name_level4==row.orgunitlevel4_edit, \"name_geob3\"].iloc[0]\n",
    "        master_table_copy.loc[idx, 'adm3'] = match\n",
    "        \n",
    "    if row.orgunitlevel2_edit in list(table_adm2_matches.name_level2):\n",
    "        \n",
    "        match = table_adm2_matches.loc[table_adm2_matches.name_level2==row.orgunitlevel2_edit, \"name_fews2\"].iloc[0]\n",
    "        master_table_copy.loc[idx, 'adm2'] = match"
   ]
  },
  {
   "cell_type": "code",
   "execution_count": null,
   "metadata": {},
   "outputs": [],
   "source": [
    "master_table_copy.adm2.isna().sum()"
   ]
  },
  {
   "cell_type": "code",
   "execution_count": null,
   "metadata": {},
   "outputs": [],
   "source": [
    "master_table_copy.adm3.isna().sum()"
   ]
  },
  {
   "cell_type": "code",
   "execution_count": null,
   "metadata": {},
   "outputs": [],
   "source": [
    "master_table_copy.head(2)"
   ]
  },
  {
   "cell_type": "markdown",
   "metadata": {},
   "source": [
    "# Match to locations from alternative sources based on facility name\n",
    "\n",
    "\n",
    "## Health Sites IO\n",
    "Import Health Sites from HealthSites.io  \n",
    "Health sites come in both a node and a way shapefile. You need to import both to get all the sites.  \n",
    "In QGIS, I created centroids from the ways then merged it with the points."
   ]
  },
  {
   "cell_type": "code",
   "execution_count": null,
   "metadata": {},
   "outputs": [],
   "source": [
    "nodes_io = gpd.read_file(os.path.join(input_dir, \"healthsitesio\", \"SLE\", \"merged_SLR_healthsites_pts.shp\"))"
   ]
  },
  {
   "cell_type": "code",
   "execution_count": null,
   "metadata": {},
   "outputs": [],
   "source": [
    "nodes_io = nodes_io.loc[~nodes_io.name.isna()].copy()"
   ]
  },
  {
   "cell_type": "code",
   "execution_count": null,
   "metadata": {},
   "outputs": [],
   "source": [
    "nodes_io['name'] = nodes_io['name'].str.lower()"
   ]
  },
  {
   "cell_type": "code",
   "execution_count": null,
   "metadata": {},
   "outputs": [],
   "source": [
    "words_to_remove = ['community', 'clinic', 'centre', 'center', 'hospital', 'health', 'government']"
   ]
  },
  {
   "cell_type": "code",
   "execution_count": null,
   "metadata": {},
   "outputs": [],
   "source": [
    "records = master_table_copy.copy()\n",
    "records['NAME'] = records['orgunitlevel5'].str.lower()"
   ]
  },
  {
   "cell_type": "code",
   "execution_count": null,
   "metadata": {},
   "outputs": [],
   "source": [
    "remove_words(nodes_io, 'name', words_to_remove)\n",
    "remove_words(records, 'NAME', words_to_remove)"
   ]
  },
  {
   "cell_type": "code",
   "execution_count": null,
   "metadata": {},
   "outputs": [],
   "source": [
    "records['geocoding_method'] = \"None\""
   ]
  },
  {
   "cell_type": "code",
   "execution_count": null,
   "metadata": {
    "scrolled": true
   },
   "outputs": [],
   "source": [
    "for idx, row in tqdm(records.iterrows()):\n",
    "    \n",
    "    # Check if there is another entry with location\n",
    "    match, score = match_name(row.NAME, list(nodes_io['name']), 75)\n",
    "#     match, score = match_name(row.name_concat, list(nodes_io.name_concat), 85)\n",
    "    \n",
    "    if score > 0:\n",
    "        print(row.NAME, match)\n",
    "        matching_row = nodes_io.loc[nodes_io['name']==match].copy()\n",
    "        res = matching_row.iloc[0]\n",
    "        \n",
    "        if not pd.isna(row.adm3):\n",
    "            adm3 = geob3.loc[geob3['shapeName'] == row['adm3']].copy()\n",
    "            if adm3.contains(res.geometry).values[0] == True:\n",
    "                records.loc[idx, \"longitude\"] = res.geometry.x\n",
    "                records.loc[idx, \"latitude\"] = res.geometry.y\n",
    "                records.loc[idx, \"geocoding_method\"] = \"Location from Health Sites IO\"\n",
    "        else:\n",
    "            adm2 = geob2.loc[geob2['admin2Name'] == row['adm2']].copy() if row.adm2 in geob2_list else fews2.loc[fews2['ADMIN2'] == row['adm2']].copy()\n",
    "            if adm2.contains(res.geometry).values[0] == True:            \n",
    "                records.loc[idx, \"longitude\"] = res.geometry.x\n",
    "                records.loc[idx, \"latitude\"] = res.geometry.y\n",
    "                records.loc[idx, \"geocoding_method\"] = \"Location from Health Sites IO\""
   ]
  },
  {
   "cell_type": "code",
   "execution_count": null,
   "metadata": {},
   "outputs": [],
   "source": [
    "report_geocoding(records)"
   ]
  },
  {
   "cell_type": "markdown",
   "metadata": {},
   "source": [
    "## RHINoVision Master Facility List Decision Support System"
   ]
  },
  {
   "cell_type": "code",
   "execution_count": null,
   "metadata": {},
   "outputs": [],
   "source": [
    "#rhino = pd.read_excel(os.path.join(input_dir, \"rhino\", \"00 SSA MFL (130219).xlsx\"), 0)\n",
    "rhino = pd.read_csv(os.path.join(input_dir, \"rhino\", \"00 SSA MFL (130219).csv\"))"
   ]
  },
  {
   "cell_type": "code",
   "execution_count": null,
   "metadata": {},
   "outputs": [],
   "source": [
    "rhino = rhino.loc[rhino.Country==\"Sierra Leone\"].copy()"
   ]
  },
  {
   "cell_type": "code",
   "execution_count": null,
   "metadata": {},
   "outputs": [],
   "source": [
    "rhino['name'] = rhino['Facility name'].str.lower()"
   ]
  },
  {
   "cell_type": "code",
   "execution_count": null,
   "metadata": {},
   "outputs": [],
   "source": [
    "remove_words(rhino, 'name')"
   ]
  },
  {
   "cell_type": "code",
   "execution_count": null,
   "metadata": {},
   "outputs": [],
   "source": [
    "rhino.loc[:, \"geometry\"] = rhino.apply(lambda x: Point(x.Long, x.Lat), axis=1)\n",
    "rhino = gpd.GeoDataFrame(rhino, geometry='geometry', crs='EPSG:4326')"
   ]
  },
  {
   "cell_type": "code",
   "execution_count": null,
   "metadata": {
    "scrolled": true
   },
   "outputs": [],
   "source": [
    "for idx, row in tqdm(records.iterrows()):\n",
    "    \n",
    "    if row.geocoding_method==\"None\":\n",
    "        \n",
    "        # Check if there is another entry with location\n",
    "        match, score = match_name(row.NAME, list(rhino['name']), 75)\n",
    "\n",
    "        if score > 0:\n",
    "            print(row.NAME, match)\n",
    "            matching_row = rhino.loc[rhino['name']==match].copy()\n",
    "            res = matching_row.iloc[0]\n",
    "            \n",
    "            if not pd.isna(row.adm3):\n",
    "                adm3 = geob3.loc[geob3['shapeName'] == row['adm3']].copy()\n",
    "                if adm3.contains(res.geometry).values[0] == True:\n",
    "                    records.loc[idx, \"longitude\"] = res.geometry.x\n",
    "                    records.loc[idx, \"latitude\"] = res.geometry.y\n",
    "                    records.loc[idx, \"geocoding_method\"] = \"Location from Rhino Dataset\"\n",
    "                    records.loc[idx, \"source\"] = res[\"LL source\"]\n",
    "            else:\n",
    "                adm2 = geob2.loc[geob2['admin2Name'] == row['adm2']].copy() if row.adm2 in geob2_list else fews2.loc[fews2['ADMIN2'] == row['adm2']].copy()\n",
    "                if adm2.contains(res.geometry).values[0] == True:            \n",
    "                    records.loc[idx, \"longitude\"] = res.geometry.x\n",
    "                    records.loc[idx, \"latitude\"] = res.geometry.y\n",
    "                    records.loc[idx, \"geocoding_method\"] = \"Location from Rhino Dataset\"\n",
    "                    records.loc[idx, \"source\"] = res[\"LL source\"]"
   ]
  },
  {
   "cell_type": "code",
   "execution_count": null,
   "metadata": {},
   "outputs": [],
   "source": [
    "report_geocoding(records)"
   ]
  },
  {
   "cell_type": "markdown",
   "metadata": {},
   "source": [
    "# Geocoding with APIs"
   ]
  },
  {
   "cell_type": "code",
   "execution_count": null,
   "metadata": {},
   "outputs": [],
   "source": [
    "from pathlib import Path \n",
    "env_path = Path(input_dir) / '.env'\n",
    "load_dotenv(dotenv_path=env_path)"
   ]
  },
  {
   "cell_type": "code",
   "execution_count": null,
   "metadata": {},
   "outputs": [],
   "source": [
    "bing_key = os.environ.get(\"bing_key\")\n",
    "google_key = os.environ.get(\"google_key\")"
   ]
  },
  {
   "cell_type": "code",
   "execution_count": null,
   "metadata": {},
   "outputs": [],
   "source": [
    "geolocator_osm = Nominatim(user_agent=\"health-equity\")\n",
    "geolocator_bing = Bing(api_key=bing_key)\n",
    "geolocator_google = GoogleV3(api_key=google_key)"
   ]
  },
  {
   "cell_type": "markdown",
   "metadata": {},
   "source": [
    "## Facility name and admin 3 names"
   ]
  },
  {
   "cell_type": "markdown",
   "metadata": {},
   "source": [
    "Geocode based on facility name (orgunitlevel5) + admin 3 name.  \n",
    "Check to make sure result falls within admin 3 polygon."
   ]
  },
  {
   "cell_type": "code",
   "execution_count": null,
   "metadata": {},
   "outputs": [],
   "source": [
    "records_subset = records.loc[records.geocoding_method==\"None\"].copy()\n",
    "# only include trying to geocode rows that have an admin name that is matched to the Geoboundaries file\n",
    "records_subset = records_subset.loc[~records_subset.adm3.isna()].copy()"
   ]
  },
  {
   "cell_type": "code",
   "execution_count": null,
   "metadata": {},
   "outputs": [],
   "source": [
    "len(records_subset)"
   ]
  },
  {
   "cell_type": "code",
   "execution_count": null,
   "metadata": {},
   "outputs": [],
   "source": [
    "records_subset.head(2)"
   ]
  },
  {
   "cell_type": "code",
   "execution_count": null,
   "metadata": {
    "code_folding": [],
    "scrolled": true
   },
   "outputs": [],
   "source": [
    "for idx, row in tqdm(records_subset.iterrows()):\n",
    "    \n",
    "    adm3 = geob3.loc[geob3['shapeName'] == row['adm3']].copy()\n",
    "    run_geocoding(idx, row, records, adm3, ['NAME', 'adm3'], 'sl')"
   ]
  },
  {
   "cell_type": "code",
   "execution_count": null,
   "metadata": {},
   "outputs": [],
   "source": [
    "report_geocoding(records)"
   ]
  },
  {
   "cell_type": "code",
   "execution_count": null,
   "metadata": {},
   "outputs": [],
   "source": [
    "records_subset = records.loc[records.geocoding_method==\"None\"].copy()\n",
    "records_subset = records_subset.loc[~records_subset.adm3.isna()].copy()"
   ]
  },
  {
   "cell_type": "code",
   "execution_count": null,
   "metadata": {},
   "outputs": [],
   "source": [
    "len(records_subset)"
   ]
  },
  {
   "cell_type": "markdown",
   "metadata": {},
   "source": [
    "## Facility name and admin 2 names"
   ]
  },
  {
   "cell_type": "markdown",
   "metadata": {},
   "source": [
    "Geocode based on facility name (orgunitlevel5) + admin 2 name.  \n",
    "Check to make sure result falls within admin 3 polygon."
   ]
  },
  {
   "cell_type": "code",
   "execution_count": null,
   "metadata": {},
   "outputs": [],
   "source": [
    "for idx, row in tqdm(records_subset.iterrows()):\n",
    "    \n",
    "    adm3 = geob3.loc[geob3['shapeName'] == row['adm3']].copy()\n",
    "    run_geocoding(idx, row, records, adm3, ['NAME', 'adm2'], 'sl')"
   ]
  },
  {
   "cell_type": "code",
   "execution_count": null,
   "metadata": {},
   "outputs": [],
   "source": [
    "report_geocoding(records)"
   ]
  },
  {
   "cell_type": "code",
   "execution_count": null,
   "metadata": {},
   "outputs": [],
   "source": [
    "records_subset = records.loc[records.geocoding_method==\"None\"].copy()\n",
    "records_subset = records_subset.loc[~records_subset.adm3.isna()].copy()"
   ]
  },
  {
   "cell_type": "code",
   "execution_count": null,
   "metadata": {},
   "outputs": [],
   "source": [
    "len(records_subset)"
   ]
  },
  {
   "cell_type": "markdown",
   "metadata": {},
   "source": [
    "## Admin 3 names"
   ]
  },
  {
   "cell_type": "markdown",
   "metadata": {},
   "source": [
    "Geocode based on admin 3 name.  \n",
    "Check to make sure result falls within admin 3 polygon.  \n",
    "If no result use admin 3 centroid."
   ]
  },
  {
   "cell_type": "code",
   "execution_count": null,
   "metadata": {},
   "outputs": [],
   "source": [
    "orglev4_df = records_subset[['orgunitlevel4', 'orgunitlevel4_edit', 'adm3', 'orgunitlevel1']].drop_duplicates().copy()"
   ]
  },
  {
   "cell_type": "code",
   "execution_count": null,
   "metadata": {},
   "outputs": [],
   "source": [
    "orglev4_df.head(2)"
   ]
  },
  {
   "cell_type": "code",
   "execution_count": null,
   "metadata": {},
   "outputs": [],
   "source": [
    "len(orglev4_df)"
   ]
  },
  {
   "cell_type": "code",
   "execution_count": null,
   "metadata": {},
   "outputs": [],
   "source": [
    "for idx, row in tqdm(orglev4_df.iterrows()):\n",
    "    \n",
    "    adm3 = geob3.loc[geob3['shapeName'] == row['adm3']].copy()\n",
    "    run_geocoding(idx, row, orglev4_df, adm3, ['orgunitlevel4', 'orgunitlevel1'], 'sl')"
   ]
  },
  {
   "cell_type": "code",
   "execution_count": null,
   "metadata": {},
   "outputs": [],
   "source": [
    "for idx, row in tqdm(orglev4_df.iterrows()):\n",
    "    \n",
    "    #grab admin geometry\n",
    "    adm3 = geob3.loc[geob3['shapeName'] == row['adm3']].copy()\n",
    "    if row.geocoding_method==\"None\":\n",
    "        cent = adm3.geometry.representative_point().iloc[0]\n",
    "        orglev4_df.loc[idx, \"longitude\"] = cent.x\n",
    "        orglev4_df.loc[idx, \"latitude\"] = cent.y\n",
    "        orglev4_df.loc[idx, \"geocoding_method\"] = \"District centroid\""
   ]
  },
  {
   "cell_type": "code",
   "execution_count": null,
   "metadata": {},
   "outputs": [],
   "source": [
    "orglev4_df.geocoding_method.value_counts()"
   ]
  },
  {
   "cell_type": "code",
   "execution_count": null,
   "metadata": {},
   "outputs": [],
   "source": [
    "for idx, row in tqdm(records_subset.iterrows()):\n",
    "    \n",
    "    orglev4_geocoded = orglev4_df.loc[orglev4_df['orgunitlevel4']==row['orgunitlevel4']].iloc[0]    \n",
    "    records.loc[idx, \"longitude\"] = orglev4_geocoded.longitude\n",
    "    records.loc[idx, \"latitude\"] = orglev4_geocoded.latitude\n",
    "    records.loc[idx, \"geocoding_method\"] = orglev4_geocoded.geocoding_method"
   ]
  },
  {
   "cell_type": "code",
   "execution_count": null,
   "metadata": {},
   "outputs": [],
   "source": [
    "report_geocoding(records)"
   ]
  },
  {
   "cell_type": "code",
   "execution_count": null,
   "metadata": {},
   "outputs": [],
   "source": [
    "records_subset = records.loc[records.geocoding_method==\"None\"].copy()\n",
    "# records_subset = records.loc[records.adm3.isna()].copy()"
   ]
  },
  {
   "cell_type": "code",
   "execution_count": null,
   "metadata": {},
   "outputs": [],
   "source": [
    "len(records_subset)"
   ]
  },
  {
   "cell_type": "markdown",
   "metadata": {},
   "source": [
    "## Admin 3  and admin 2 names"
   ]
  },
  {
   "cell_type": "markdown",
   "metadata": {},
   "source": [
    "Geocode based on admin 3 name and admin 2 name.    \n",
    "Check to make sure result falls within admin 2 polygon.  "
   ]
  },
  {
   "cell_type": "code",
   "execution_count": null,
   "metadata": {},
   "outputs": [],
   "source": [
    "orglev4_df = records_subset[['orgunitlevel4', 'orgunitlevel4_edit', 'adm2', 'orgunitlevel1']].drop_duplicates().copy()"
   ]
  },
  {
   "cell_type": "code",
   "execution_count": null,
   "metadata": {},
   "outputs": [],
   "source": [
    "len(orglev4_df)"
   ]
  },
  {
   "cell_type": "code",
   "execution_count": null,
   "metadata": {},
   "outputs": [],
   "source": [
    "for idx, row in tqdm(orglev4_df.iterrows()):\n",
    "    \n",
    "    adm2 = geob2.loc[geob2['admin2Name'] == row['adm2']].copy() if row.adm2 in geob2_list else fews2.loc[fews2['ADMIN2'] == row['adm2']].copy()\n",
    "    run_geocoding(idx, row, orglev4_df, adm2, ['orgunitlevel4', 'adm2'], 'sl')"
   ]
  },
  {
   "cell_type": "code",
   "execution_count": null,
   "metadata": {},
   "outputs": [],
   "source": [
    "orglev4_df.geocoding_method.value_counts()"
   ]
  },
  {
   "cell_type": "code",
   "execution_count": null,
   "metadata": {},
   "outputs": [],
   "source": [
    "for idx, row in tqdm(records_subset.iterrows()):\n",
    "    \n",
    "    orglev4_geocoded = orglev4_df.loc[orglev4_df['orgunitlevel4']==row['orgunitlevel4']].iloc[0]    \n",
    "    records.loc[idx, \"longitude\"] = orglev4_geocoded.longitude\n",
    "    records.loc[idx, \"latitude\"] = orglev4_geocoded.latitude\n",
    "    records.loc[idx, \"geocoding_method\"] = orglev4_geocoded.geocoding_method"
   ]
  },
  {
   "cell_type": "code",
   "execution_count": null,
   "metadata": {},
   "outputs": [],
   "source": [
    "report_geocoding(records)"
   ]
  },
  {
   "cell_type": "code",
   "execution_count": null,
   "metadata": {},
   "outputs": [],
   "source": [
    "records_subset = records.loc[records.geocoding_method==\"None\"].copy()"
   ]
  },
  {
   "cell_type": "code",
   "execution_count": null,
   "metadata": {},
   "outputs": [],
   "source": [
    "len(records_subset)"
   ]
  },
  {
   "cell_type": "markdown",
   "metadata": {},
   "source": [
    "# Map and save results"
   ]
  },
  {
   "cell_type": "code",
   "execution_count": null,
   "metadata": {},
   "outputs": [],
   "source": [
    "results = records.copy()"
   ]
  },
  {
   "cell_type": "code",
   "execution_count": null,
   "metadata": {},
   "outputs": [],
   "source": [
    "results.geocoding_method.unique()"
   ]
  },
  {
   "cell_type": "code",
   "execution_count": null,
   "metadata": {},
   "outputs": [],
   "source": [
    "# facility name and adm 3\n",
    "results.loc[results.geocoding_method==\"NAME and adm3 query Bing\", \"geocoding_method\"] = \"orgunitlevel5 and adm3 query\"\n",
    "results.loc[results.geocoding_method==\"NAME and adm3 query OSM\", \"geocoding_method\"] = \"orgunitlevel5 and adm3 query\"\n",
    "results.loc[results.geocoding_method==\"NAME and adm3 query Google\", \"geocoding_method\"] = \"orgunitlevel5 and adm3 query\"\n",
    "\n",
    "# facility name and adm 2\n",
    "results.loc[results.geocoding_method==\"NAME and adm2 query Bing\", \"geocoding_method\"] = \"orgunitlevel5 and adm2 query\"\n",
    "results.loc[results.geocoding_method==\"NAME and adm2 query OSM\", \"geocoding_method\"] = \"orgunitlevel5 and adm2 query\"\n",
    "results.loc[results.geocoding_method==\"NAME and adm2 query Google\", \"geocoding_method\"] = \"orgunitlevel5 and adm2 query\"\n",
    "\n",
    "# adm 3 name\n",
    "results.loc[results.geocoding_method==\"orgunitlevel4 and orgunitlevel1 query Bing\", \"geocoding_method\"] = \"orgunitlevel4 query\"\n",
    "results.loc[results.geocoding_method==\"orgunitlevel4 and orgunitlevel1 query OSM\", \"geocoding_method\"] = \"orgunitlevel4 query\"\n",
    "results.loc[results.geocoding_method==\"orgunitlevel4 and orgunitlevel1 query Google\", \"geocoding_method\"] = \"orgunitlevel4 query\"\n",
    "\n",
    "# adm 3 name and adm2\n",
    "results.loc[results.geocoding_method==\"orgunitlevel4 and adm2 query Bing\", \"geocoding_method\"] = \"orgunitlevel4 and adm2 query\"\n",
    "results.loc[results.geocoding_method==\"orgunitlevel4 and adm2 query OSM\", \"geocoding_method\"] = \"orgunitlevel4 and adm2 query\"\n",
    "results.loc[results.geocoding_method==\"orgunitlevel4 and adm2 query Google\", \"geocoding_method\"] = \"orgunitlevel4 and adm2 query\"\n",
    "\n",
    "# Centroid\n",
    "results.loc[results.geocoding_method==\"District centroid\", \"geocoding_method\"] = \"Adm3 centroid\""
   ]
  },
  {
   "cell_type": "code",
   "execution_count": null,
   "metadata": {},
   "outputs": [],
   "source": [
    "report_geocoding(results)"
   ]
  },
  {
   "cell_type": "code",
   "execution_count": null,
   "metadata": {},
   "outputs": [],
   "source": [
    "results.loc[:, \"geometry\"] = results.apply(lambda x: Point(x.longitude, x.latitude), axis=1)\n",
    "results = gpd.GeoDataFrame(results, geometry='geometry', crs='EPSG:4326')"
   ]
  },
  {
   "cell_type": "code",
   "execution_count": null,
   "metadata": {},
   "outputs": [],
   "source": [
    "fig, ax = plt.subplots(1, 1, figsize=(10,10))\n",
    "geob3.boundary.plot(ax=ax, color='black', linewidth=1).set_axis_off()\n",
    "results.loc[results.geocoding_method!=\"None\"].plot(ax=ax, column='geocoding_method', edgecolor='white', markersize=50, alpha=0.75, legend=True)\n",
    "ctx.add_basemap(ax, source=ctx.providers.Stamen.Terrain, crs='EPSG:4326', zorder=-10)"
   ]
  },
  {
   "cell_type": "markdown",
   "metadata": {},
   "source": [
    "## Join attributes from adminsitrative polygons"
   ]
  },
  {
   "cell_type": "markdown",
   "metadata": {},
   "source": [
    "Join admin data back to results.  \n",
    "For adm3 features, use spatial join to geob3.  "
   ]
  },
  {
   "cell_type": "code",
   "execution_count": null,
   "metadata": {},
   "outputs": [],
   "source": [
    "results2 = results.loc[~(results.longitude.isna())].copy()"
   ]
  },
  {
   "cell_type": "code",
   "execution_count": null,
   "metadata": {},
   "outputs": [],
   "source": [
    "results2 = gpd.sjoin(results2, geob3[[\"shapeName\", \"shapeID\", \"geometry\"]], how='left', predicate='intersects')\n",
    "results2.drop('index_right', axis=1, inplace=True)"
   ]
  },
  {
   "cell_type": "markdown",
   "metadata": {},
   "source": [
    "For adm2 features, use spatial join to geob2 first (excluding regions that were divided in 2017)  \n",
    "Then use closest algorithm using FEWS NET adm 2 file.  \n",
    "Ideally, we would just use the FEWS file, but it's resolution is not good enough to do intersects in border areas."
   ]
  },
  {
   "cell_type": "code",
   "execution_count": null,
   "metadata": {},
   "outputs": [],
   "source": [
    "geob2_copy = geob2.copy()"
   ]
  },
  {
   "cell_type": "code",
   "execution_count": null,
   "metadata": {},
   "outputs": [],
   "source": [
    "idx_drop = geob2_copy.loc[geob2_copy.admin2Name.isin(['Bombali', 'Koinadugu'])].index"
   ]
  },
  {
   "cell_type": "code",
   "execution_count": null,
   "metadata": {},
   "outputs": [],
   "source": [
    "geob2_copy.drop(idx_drop, axis=0, inplace=True)"
   ]
  },
  {
   "cell_type": "code",
   "execution_count": null,
   "metadata": {},
   "outputs": [],
   "source": [
    "results2 = gpd.sjoin(results2, geob2_copy[[\"admin2Name\", \"geometry\"]], how='left', predicate='intersects')\n",
    "results2.drop('index_right', axis=1, inplace=True)"
   ]
  },
  {
   "cell_type": "code",
   "execution_count": null,
   "metadata": {},
   "outputs": [],
   "source": [
    "results2.loc[results2.admin2Name.isna(), \"admin2Name\"] = results2.loc[results2.admin2Name.isna()].apply(lambda x: match_to_closest(x, fews2, \"ADMIN2\"), axis=1)"
   ]
  },
  {
   "cell_type": "code",
   "execution_count": null,
   "metadata": {},
   "outputs": [],
   "source": [
    "results2.shapeName.isna().sum(), results2.admin2Name.isna().sum()"
   ]
  },
  {
   "cell_type": "code",
   "execution_count": null,
   "metadata": {},
   "outputs": [],
   "source": [
    "# results2.loc[results2.adm3!=results2.shapeName]"
   ]
  },
  {
   "cell_type": "code",
   "execution_count": null,
   "metadata": {},
   "outputs": [],
   "source": [
    "results2.rename(\n",
    "    columns={\n",
    "        'shapeName':'geob_adm3',\n",
    "        'shapeID':'geob_adm3_id',\n",
    "        'admin2Name':'fews_adm2',\n",
    "        'adm2':'fuzzy_match_adm2',\n",
    "        'adm3':'fuzzy_match_adm3'\n",
    "    }, inplace=True)"
   ]
  },
  {
   "cell_type": "code",
   "execution_count": null,
   "metadata": {},
   "outputs": [],
   "source": [
    "#results2.to_file(join(output_dir, \"SLE_geocoding_1.24.23.json\"), driver='GeoJSON', index=True)"
   ]
  },
  {
   "cell_type": "code",
   "execution_count": null,
   "metadata": {},
   "outputs": [],
   "source": [
    "# geob3.to_file(join(output_dir, \"SLE_geob3.json\"), driver='GeoJSON')"
   ]
  },
  {
   "cell_type": "code",
   "execution_count": null,
   "metadata": {
    "scrolled": true
   },
   "outputs": [],
   "source": [
    "#\n",
    "results2.to_csv(join(output_dir, \"SLE_geocoding_1.24.23.csv\"))"
   ]
  }
 ],
 "metadata": {
  "kernelspec": {
   "display_name": "Python 3",
   "language": "python",
   "name": "python3"
  },
  "language_info": {
   "codemirror_mode": {
    "name": "ipython",
    "version": 3
   },
   "file_extension": ".py",
   "mimetype": "text/x-python",
   "name": "python",
   "nbconvert_exporter": "python",
   "pygments_lexer": "ipython3",
   "version": "3.7.1"
  },
  "toc": {
   "base_numbering": 1,
   "nav_menu": {
    "height": "146px",
    "width": "280px"
   },
   "number_sections": true,
   "sideBar": true,
   "skip_h1_title": false,
   "title_cell": "Geocoding Notebook - Sierra Leone",
   "title_sidebar": "Contents",
   "toc_cell": true,
   "toc_position": {
    "height": "calc(100% - 180px)",
    "left": "10px",
    "top": "150px",
    "width": "392px"
   },
   "toc_section_display": true,
   "toc_window_display": true
  }
 },
 "nbformat": 4,
 "nbformat_minor": 2
}
