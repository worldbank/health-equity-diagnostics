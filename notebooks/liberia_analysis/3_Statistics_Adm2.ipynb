{
 "cells": [
  {
   "cell_type": "markdown",
   "metadata": {},
   "source": [
    "Indicators of interest:\n",
    "-\tPercentage of health facility having direct access to an all season road.\n",
    "-\tPercentage of health facility within 2km of an all season road.\n",
    "-\tPercentage of population within 2h of driving to the nearest primary care facility (population level, and by SES quintile).\n",
    "-\tPercentage of population within 2h of driving to the nearest district hospital (population, and by SES quintile).\n"
   ]
  },
  {
   "cell_type": "code",
   "execution_count": 1,
   "metadata": {},
   "outputs": [],
   "source": [
    "import os, sys\n",
    "import geopandas as gpd\n",
    "import pandas as pd\n",
    "import rasterio as rio\n",
    "import numpy as np\n",
    "from shapely.geometry import Point\n",
    "import skimage.graph as graph"
   ]
  },
  {
   "cell_type": "code",
   "execution_count": 2,
   "metadata": {},
   "outputs": [],
   "source": [
    "sys.path.append('/home/wb514197/Repos/gostrocks/src') # gostrocks is used for some basic raster operations (clip and standardize)\n",
    "sys.path.append('/home/wb514197/Repos/GOSTNets_Raster/src') # gostnets_raster has functions to work with friction surface\n",
    "sys.path.append('/home/wb514197/Repos/GOSTnets') # it also depends on gostnets for some reason\n",
    "sys.path.append('/home/wb514197/Repos/INFRA_SAP') # only used to save some raster results\n",
    "# sys.path.append('/home/wb514197/Repos/HospitalAccessibility/src') # only used to save some raster results"
   ]
  },
  {
   "cell_type": "code",
   "execution_count": 3,
   "metadata": {},
   "outputs": [
    {
     "name": "stdout",
     "output_type": "stream",
     "text": [
      "no xarray\n"
     ]
    }
   ],
   "source": [
    "import GOSTRocks.rasterMisc as rMisc\n",
    "import GOSTNetsRaster.market_access as ma\n",
    "from infrasap import aggregator\n",
    "from rasterstats import zonal_stats"
   ]
  },
  {
   "cell_type": "code",
   "execution_count": 4,
   "metadata": {},
   "outputs": [],
   "source": [
    "iso3 = 'LBR'"
   ]
  },
  {
   "cell_type": "code",
   "execution_count": 5,
   "metadata": {},
   "outputs": [],
   "source": [
    "input_dir = \"/home/public/Data/PROJECTS/Health\" #\n",
    "out_folder = os.path.join(input_dir, \"output\", iso3)\n",
    "if not os.path.exists(out_folder):\n",
    "    os.mkdir(out_folder)"
   ]
  },
  {
   "cell_type": "code",
   "execution_count": 6,
   "metadata": {},
   "outputs": [],
   "source": [
    "global_admin2 = '/home/public/Data/GLOBAL/ADMIN/Admin2_Polys.shp'\n",
    "adm2 = gpd.read_file(global_admin2)\n",
    "adm2 = adm2.loc[adm2.ISO3==iso3].copy()\n",
    "adm2 = adm2.to_crs(\"EPSG:4326\")"
   ]
  },
  {
   "cell_type": "code",
   "execution_count": 7,
   "metadata": {},
   "outputs": [],
   "source": [
    "adm2.reset_index(inplace=True)"
   ]
  },
  {
   "cell_type": "code",
   "execution_count": 8,
   "metadata": {},
   "outputs": [],
   "source": [
    "tt_health_rio = rio.open(os.path.join(out_folder, \"tt_health.tif\"))\n",
    "tt_health = tt_health_rio.read(1, masked=True)"
   ]
  },
  {
   "cell_type": "code",
   "execution_count": 9,
   "metadata": {},
   "outputs": [],
   "source": [
    "tt_hospital_rio = rio.open(os.path.join(out_folder, \"tt_hospital.tif\"))\n",
    "tt_hospital = tt_hospital_rio.read(1, masked=True)"
   ]
  },
  {
   "cell_type": "code",
   "execution_count": 10,
   "metadata": {},
   "outputs": [],
   "source": [
    "out_pop_surface_std = os.path.join(out_folder, \"WP_2020_1km_STD.tif\")\n",
    "pop_surf = rio.open(out_pop_surface_std)\n",
    "pop = pop_surf.read(1, masked=True)"
   ]
  },
  {
   "cell_type": "code",
   "execution_count": 11,
   "metadata": {},
   "outputs": [],
   "source": [
    "pop_120_heatlh = pop*(tt_health<=120)\n",
    "pop_120_hospital = pop*(tt_hospital<=120)"
   ]
  },
  {
   "cell_type": "code",
   "execution_count": 12,
   "metadata": {},
   "outputs": [],
   "source": [
    "zs_pop = pd.DataFrame(zonal_stats(adm2, pop.filled(), affine=pop_surf.transform, stats='sum', nodata=pop_surf.nodata)).rename(columns={'sum':'pop'})\n",
    "zs_lt_120_health = pd.DataFrame(zonal_stats(adm2, pop_120_heatlh.filled(), affine=pop_surf.transform, stats='sum', nodata=pop_surf.nodata)).rename(columns={'sum':'pop_120_health'})\n",
    "zs_lt_120_hospital = pd.DataFrame(zonal_stats(adm2, pop_120_hospital.filled(), affine=pop_surf.transform, stats='sum', nodata=pop_surf.nodata)).rename(columns={'sum':'pop_120_hospital'})"
   ]
  },
  {
   "cell_type": "code",
   "execution_count": 13,
   "metadata": {},
   "outputs": [],
   "source": [
    "zs = zs_pop.join(zs_lt_120_health).join(zs_lt_120_hospital)"
   ]
  },
  {
   "cell_type": "code",
   "execution_count": 14,
   "metadata": {},
   "outputs": [],
   "source": [
    "zs.loc[:, \"health_pct\"] = zs.loc[:, \"pop_120_health\"]/zs.loc[:, \"pop\"]\n",
    "zs.loc[:, \"hospital_pct\"] = zs.loc[:, \"pop_120_hospital\"]/zs.loc[:, \"pop\"]"
   ]
  },
  {
   "cell_type": "code",
   "execution_count": 15,
   "metadata": {},
   "outputs": [],
   "source": [
    "res = adm2.join(zs)"
   ]
  },
  {
   "cell_type": "markdown",
   "metadata": {},
   "source": [
    "Roads"
   ]
  },
  {
   "cell_type": "code",
   "execution_count": 17,
   "metadata": {},
   "outputs": [],
   "source": [
    "from infrasap import osm_extractor as osm\n",
    "import json\n",
    "from utm_zone import epsg as epsg_get"
   ]
  },
  {
   "cell_type": "code",
   "execution_count": 298,
   "metadata": {},
   "outputs": [],
   "source": [
    "roads = gpd.read_file(os.path.join(input_dir, 'osm', 'highways.shp'))"
   ]
  },
  {
   "cell_type": "code",
   "execution_count": 299,
   "metadata": {},
   "outputs": [],
   "source": [
    "adm2_json = json.loads(adm2.to_json())\n",
    "epsg = epsg_get(adm2_json)"
   ]
  },
  {
   "cell_type": "code",
   "execution_count": 300,
   "metadata": {},
   "outputs": [],
   "source": [
    "roads = roads.to_crs(epsg)"
   ]
  },
  {
   "cell_type": "code",
   "execution_count": 301,
   "metadata": {},
   "outputs": [],
   "source": [
    "roads['geometry'] = roads['geometry'].apply(lambda x: x.buffer(100)) # 2000"
   ]
  },
  {
   "cell_type": "code",
   "execution_count": 302,
   "metadata": {},
   "outputs": [
    {
     "data": {
      "text/plain": [
       "{'motorway': 'OSMLR level 1',\n",
       " 'motorway_link': 'OSMLR level 1',\n",
       " 'trunk': 'OSMLR level 1',\n",
       " 'trunk_link': 'OSMLR level 1',\n",
       " 'primary': 'OSMLR level 1',\n",
       " 'primary_link': 'OSMLR level 1',\n",
       " 'secondary': 'OSMLR level 2',\n",
       " 'secondary_link': 'OSMLR level 2',\n",
       " 'tertiary': 'OSMLR level 2',\n",
       " 'tertiary_link': 'OSMLR level 2',\n",
       " 'unclassified': 'OSMLR level 3',\n",
       " 'unclassified_link': 'OSMLR level 3',\n",
       " 'residential': 'OSMLR level 3',\n",
       " 'residential_link': 'OSMLR level 3',\n",
       " 'track': 'OSMLR level 4',\n",
       " 'service': 'OSMLR level 4'}"
      ]
     },
     "execution_count": 302,
     "metadata": {},
     "output_type": "execute_result"
    }
   ],
   "source": [
    "osm.OSMLR_Classes"
   ]
  },
  {
   "cell_type": "code",
   "execution_count": 303,
   "metadata": {},
   "outputs": [],
   "source": [
    "roads['OSMLR'] = roads['type'].map(osm.OSMLR_Classes)"
   ]
  },
  {
   "cell_type": "code",
   "execution_count": 304,
   "metadata": {},
   "outputs": [],
   "source": [
    "def get_num(x):\n",
    "    try:\n",
    "        return(int(x))\n",
    "    except:\n",
    "        return(5)\n",
    "roads['OSMLR_num'] = roads['OSMLR'].apply(lambda x: get_num(str(x)[-1]))"
   ]
  },
  {
   "cell_type": "code",
   "execution_count": 305,
   "metadata": {},
   "outputs": [],
   "source": [
    "lbr_master = pd.read_excel(os.path.join(input_dir, \"from_tashrik\", \"master lists\", \"Liberia.xlsx\"))\n",
    "lbr_master['status'] = lbr_master['Status'].apply(lambda x: x.lower())\n",
    "lbr_master['hf_type'] = lbr_master['HF Type'].apply(lambda x: x.lower())\n",
    "lbr = lbr_master.loc[lbr_master.Status!=\"non-functional\"].copy()\n",
    "lbr = lbr.loc[~lbr.Lat.isna()].copy()\n",
    "geoms = [Point(xy) for xy in zip(lbr.Long, lbr.Lat)]\n",
    "lbr_geo = gpd.GeoDataFrame(lbr, crs='EPSG:4326', geometry=geoms)"
   ]
  },
  {
   "cell_type": "code",
   "execution_count": 306,
   "metadata": {},
   "outputs": [],
   "source": [
    "global_admin = '/home/public/Data/GLOBAL/ADMIN/g2015_0_simplified.shp'\n",
    "adm0 = gpd.read_file(global_admin)\n",
    "aoi = adm0.loc[adm0.ISO3166_1_==iso3]"
   ]
  },
  {
   "cell_type": "code",
   "execution_count": 307,
   "metadata": {},
   "outputs": [],
   "source": [
    "lbr_geo_filt = lbr_geo.loc[lbr_geo.intersects(aoi.unary_union)]"
   ]
  },
  {
   "cell_type": "code",
   "execution_count": 308,
   "metadata": {},
   "outputs": [],
   "source": [
    "lbr_geo_filt.reset_index(inplace=True, drop=True)"
   ]
  },
  {
   "cell_type": "code",
   "execution_count": 309,
   "metadata": {},
   "outputs": [],
   "source": [
    "hospitals = lbr_geo_filt.loc[lbr_geo_filt.hf_type==\"hospital\"].copy()"
   ]
  },
  {
   "cell_type": "code",
   "execution_count": 310,
   "metadata": {},
   "outputs": [],
   "source": [
    "hospitals.reset_index(inplace=True, drop=True)"
   ]
  },
  {
   "cell_type": "code",
   "execution_count": 330,
   "metadata": {},
   "outputs": [
    {
     "data": {
      "text/plain": [
       "hf_type      \n",
       "clinic           527\n",
       "health center     53\n",
       "hospital          35\n",
       "dtype: int64"
      ]
     },
     "execution_count": 330,
     "metadata": {},
     "output_type": "execute_result"
    }
   ],
   "source": [
    "lbr_geo_filt[['hf_type']].value_counts()"
   ]
  },
  {
   "cell_type": "code",
   "execution_count": 311,
   "metadata": {},
   "outputs": [
    {
     "data": {
      "text/plain": [
       "(615, 35)"
      ]
     },
     "execution_count": 311,
     "metadata": {},
     "output_type": "execute_result"
    }
   ],
   "source": [
    "len(lbr_geo_filt), len(hospitals)"
   ]
  },
  {
   "cell_type": "code",
   "execution_count": 329,
   "metadata": {},
   "outputs": [],
   "source": [
    "lbr_geo_filt.to_file(os.path.join(out_folder, \"LBR_health.geojson\"), driver='GeoJSON')"
   ]
  },
  {
   "cell_type": "code",
   "execution_count": 312,
   "metadata": {},
   "outputs": [],
   "source": [
    "lbr_geo_filt = lbr_geo_filt.to_crs(epsg)\n",
    "hospitals = hospitals.to_crs(epsg)"
   ]
  },
  {
   "cell_type": "code",
   "execution_count": 313,
   "metadata": {},
   "outputs": [],
   "source": [
    "roads_1 = roads.loc[roads.OSMLR_num<=1].unary_union\n",
    "roads_2 = roads.loc[roads.OSMLR_num<=2].unary_union\n",
    "roads_3 = roads.loc[roads.OSMLR_num<=3].unary_union\n",
    "roads_4 = roads.loc[roads.OSMLR_num<=4].unary_union"
   ]
  },
  {
   "cell_type": "code",
   "execution_count": 314,
   "metadata": {},
   "outputs": [],
   "source": [
    "lbr_geo_filt.loc[:, \"bool_1\"] = lbr_geo_filt.intersects(roads_1)\n",
    "lbr_geo_filt.loc[:, \"bool_2\"] = lbr_geo_filt.intersects(roads_2)\n",
    "lbr_geo_filt.loc[:, \"bool_3\"] = lbr_geo_filt.intersects(roads_3)\n",
    "lbr_geo_filt.loc[:, \"bool_4\"] = lbr_geo_filt.intersects(roads_4)"
   ]
  },
  {
   "cell_type": "code",
   "execution_count": 315,
   "metadata": {},
   "outputs": [],
   "source": [
    "lbr_geo_filt = lbr_geo_filt.to_crs(adm2.crs)"
   ]
  },
  {
   "cell_type": "code",
   "execution_count": 316,
   "metadata": {},
   "outputs": [],
   "source": [
    "facilities = gpd.sjoin(lbr_geo_filt, adm2[['OBJECTID', 'WB_ADM2_CO', 'geometry']], how='left')"
   ]
  },
  {
   "cell_type": "code",
   "execution_count": 317,
   "metadata": {},
   "outputs": [],
   "source": [
    "res_osmlr = facilities[['bool_1','bool_2','bool_3','bool_4','WB_ADM2_CO']].groupby('WB_ADM2_CO').sum()"
   ]
  },
  {
   "cell_type": "code",
   "execution_count": 318,
   "metadata": {},
   "outputs": [],
   "source": [
    "res_count = facilities[['WB_ADM2_CO','bool_1']].groupby('WB_ADM2_CO').count().rename(columns={'bool_1':'count'})"
   ]
  },
  {
   "cell_type": "code",
   "execution_count": 319,
   "metadata": {},
   "outputs": [],
   "source": [
    "res_osmlr_pct = res_osmlr.apply(lambda x: x/res_count['count'])"
   ]
  },
  {
   "cell_type": "code",
   "execution_count": 320,
   "metadata": {},
   "outputs": [],
   "source": [
    "res_osmlr = res_osmlr.join(res_count)"
   ]
  },
  {
   "cell_type": "code",
   "execution_count": 321,
   "metadata": {},
   "outputs": [],
   "source": [
    "res_osmlr = res_osmlr.join(res_osmlr_pct, rsuffix=\"_pct\")"
   ]
  },
  {
   "cell_type": "code",
   "execution_count": 322,
   "metadata": {},
   "outputs": [],
   "source": [
    "# res_osmlr.loc[:, 'osmlr1_pct'] = res_osmlr.loc[:, 'bool_1']/res_osmlr.loc[:, 'count']\n",
    "# res_osmlr.loc[:, 'osmlr2_pct'] = res_osmlr.loc[:, 'bool_2']/res_osmlr.loc[:, 'count']\n",
    "# res_osmlr.loc[:, 'osmlr3_pct'] = res_osmlr.loc[:, 'bool_3']/res_osmlr.loc[:, 'count']\n",
    "# res_osmlr.loc[:, 'osmlr4_pct'] = res_osmlr.loc[:, 'bool_4']/res_osmlr.loc[:, 'count']"
   ]
  },
  {
   "cell_type": "code",
   "execution_count": 323,
   "metadata": {},
   "outputs": [],
   "source": [
    "res_merge = res.merge(res_osmlr, left_on=\"WB_ADM2_CO\", right_index=True)"
   ]
  },
  {
   "cell_type": "code",
   "execution_count": 324,
   "metadata": {},
   "outputs": [
    {
     "data": {
      "text/html": [
       "<div>\n",
       "<style scoped>\n",
       "    .dataframe tbody tr th:only-of-type {\n",
       "        vertical-align: middle;\n",
       "    }\n",
       "\n",
       "    .dataframe tbody tr th {\n",
       "        vertical-align: top;\n",
       "    }\n",
       "\n",
       "    .dataframe thead th {\n",
       "        text-align: right;\n",
       "    }\n",
       "</style>\n",
       "<table border=\"1\" class=\"dataframe\">\n",
       "  <thead>\n",
       "    <tr style=\"text-align: right;\">\n",
       "      <th></th>\n",
       "      <th>index</th>\n",
       "      <th>OBJECTID</th>\n",
       "      <th>ISO_A2</th>\n",
       "      <th>WB_ADM1_CO</th>\n",
       "      <th>WB_ADM0_CO</th>\n",
       "      <th>WB_ADM0_NA</th>\n",
       "      <th>WB_ADM1_NA</th>\n",
       "      <th>WB_ADM2_CO</th>\n",
       "      <th>WB_ADM2_NA</th>\n",
       "      <th>Shape_Leng</th>\n",
       "      <th>...</th>\n",
       "      <th>hospital_pct</th>\n",
       "      <th>bool_1</th>\n",
       "      <th>bool_2</th>\n",
       "      <th>bool_3</th>\n",
       "      <th>bool_4</th>\n",
       "      <th>count</th>\n",
       "      <th>bool_1_pct</th>\n",
       "      <th>bool_2_pct</th>\n",
       "      <th>bool_3_pct</th>\n",
       "      <th>bool_4_pct</th>\n",
       "    </tr>\n",
       "  </thead>\n",
       "  <tbody>\n",
       "    <tr>\n",
       "      <th>0</th>\n",
       "      <td>22303</td>\n",
       "      <td>22304</td>\n",
       "      <td>LR</td>\n",
       "      <td>1814</td>\n",
       "      <td>144</td>\n",
       "      <td>Liberia</td>\n",
       "      <td>Bomi</td>\n",
       "      <td>39172</td>\n",
       "      <td>Klay</td>\n",
       "      <td>230304.410707</td>\n",
       "      <td>...</td>\n",
       "      <td>0.999539</td>\n",
       "      <td>2</td>\n",
       "      <td>10</td>\n",
       "      <td>28</td>\n",
       "      <td>31</td>\n",
       "      <td>32</td>\n",
       "      <td>0.062500</td>\n",
       "      <td>0.3125</td>\n",
       "      <td>0.875000</td>\n",
       "      <td>0.968750</td>\n",
       "    </tr>\n",
       "    <tr>\n",
       "      <th>1</th>\n",
       "      <td>22304</td>\n",
       "      <td>22305</td>\n",
       "      <td>LR</td>\n",
       "      <td>1814</td>\n",
       "      <td>144</td>\n",
       "      <td>Liberia</td>\n",
       "      <td>Bomi</td>\n",
       "      <td>39173</td>\n",
       "      <td>Mecca</td>\n",
       "      <td>88135.540238</td>\n",
       "      <td>...</td>\n",
       "      <td>1.000000</td>\n",
       "      <td>0</td>\n",
       "      <td>0</td>\n",
       "      <td>1</td>\n",
       "      <td>1</td>\n",
       "      <td>1</td>\n",
       "      <td>0.000000</td>\n",
       "      <td>0.0000</td>\n",
       "      <td>1.000000</td>\n",
       "      <td>1.000000</td>\n",
       "    </tr>\n",
       "    <tr>\n",
       "      <th>2</th>\n",
       "      <td>22305</td>\n",
       "      <td>22306</td>\n",
       "      <td>LR</td>\n",
       "      <td>1815</td>\n",
       "      <td>144</td>\n",
       "      <td>Liberia</td>\n",
       "      <td>Bong</td>\n",
       "      <td>39174</td>\n",
       "      <td>Fuamah</td>\n",
       "      <td>140545.898902</td>\n",
       "      <td>...</td>\n",
       "      <td>0.855267</td>\n",
       "      <td>0</td>\n",
       "      <td>0</td>\n",
       "      <td>2</td>\n",
       "      <td>2</td>\n",
       "      <td>3</td>\n",
       "      <td>0.000000</td>\n",
       "      <td>0.0000</td>\n",
       "      <td>0.666667</td>\n",
       "      <td>0.666667</td>\n",
       "    </tr>\n",
       "    <tr>\n",
       "      <th>3</th>\n",
       "      <td>22306</td>\n",
       "      <td>22307</td>\n",
       "      <td>LR</td>\n",
       "      <td>1815</td>\n",
       "      <td>144</td>\n",
       "      <td>Liberia</td>\n",
       "      <td>Bong</td>\n",
       "      <td>39175</td>\n",
       "      <td>Jorquelleh</td>\n",
       "      <td>186576.711754</td>\n",
       "      <td>...</td>\n",
       "      <td>0.991790</td>\n",
       "      <td>2</td>\n",
       "      <td>2</td>\n",
       "      <td>5</td>\n",
       "      <td>5</td>\n",
       "      <td>5</td>\n",
       "      <td>0.400000</td>\n",
       "      <td>0.4000</td>\n",
       "      <td>1.000000</td>\n",
       "      <td>1.000000</td>\n",
       "    </tr>\n",
       "    <tr>\n",
       "      <th>4</th>\n",
       "      <td>22307</td>\n",
       "      <td>22308</td>\n",
       "      <td>LR</td>\n",
       "      <td>1815</td>\n",
       "      <td>144</td>\n",
       "      <td>Liberia</td>\n",
       "      <td>Bong</td>\n",
       "      <td>39176</td>\n",
       "      <td>Kokoyah</td>\n",
       "      <td>178374.092081</td>\n",
       "      <td>...</td>\n",
       "      <td>0.928034</td>\n",
       "      <td>5</td>\n",
       "      <td>6</td>\n",
       "      <td>6</td>\n",
       "      <td>6</td>\n",
       "      <td>6</td>\n",
       "      <td>0.833333</td>\n",
       "      <td>1.0000</td>\n",
       "      <td>1.000000</td>\n",
       "      <td>1.000000</td>\n",
       "    </tr>\n",
       "  </tbody>\n",
       "</table>\n",
       "<p>5 rows × 27 columns</p>\n",
       "</div>"
      ],
      "text/plain": [
       "   index  OBJECTID ISO_A2  WB_ADM1_CO  WB_ADM0_CO WB_ADM0_NA WB_ADM1_NA  \\\n",
       "0  22303     22304     LR        1814         144    Liberia       Bomi   \n",
       "1  22304     22305     LR        1814         144    Liberia       Bomi   \n",
       "2  22305     22306     LR        1815         144    Liberia       Bong   \n",
       "3  22306     22307     LR        1815         144    Liberia       Bong   \n",
       "4  22307     22308     LR        1815         144    Liberia       Bong   \n",
       "\n",
       "   WB_ADM2_CO  WB_ADM2_NA     Shape_Leng  ...  hospital_pct bool_1 bool_2  \\\n",
       "0       39172        Klay  230304.410707  ...      0.999539      2     10   \n",
       "1       39173       Mecca   88135.540238  ...      1.000000      0      0   \n",
       "2       39174      Fuamah  140545.898902  ...      0.855267      0      0   \n",
       "3       39175  Jorquelleh  186576.711754  ...      0.991790      2      2   \n",
       "4       39176     Kokoyah  178374.092081  ...      0.928034      5      6   \n",
       "\n",
       "   bool_3  bool_4  count  bool_1_pct  bool_2_pct  bool_3_pct  bool_4_pct  \n",
       "0      28      31     32    0.062500      0.3125    0.875000    0.968750  \n",
       "1       1       1      1    0.000000      0.0000    1.000000    1.000000  \n",
       "2       2       2      3    0.000000      0.0000    0.666667    0.666667  \n",
       "3       5       5      5    0.400000      0.4000    1.000000    1.000000  \n",
       "4       6       6      6    0.833333      1.0000    1.000000    1.000000  \n",
       "\n",
       "[5 rows x 27 columns]"
      ]
     },
     "execution_count": 324,
     "metadata": {},
     "output_type": "execute_result"
    }
   ],
   "source": [
    "res_merge.head()"
   ]
  },
  {
   "cell_type": "code",
   "execution_count": 325,
   "metadata": {},
   "outputs": [
    {
     "name": "stderr",
     "output_type": "stream",
     "text": [
      "/home/wb514197/.conda/envs/graph/lib/python3.7/site-packages/ipykernel_launcher.py:1: UserWarning: Column names longer than 10 characters will be truncated when saved to ESRI Shapefile.\n",
      "  \"\"\"Entry point for launching an IPython kernel.\n"
     ]
    }
   ],
   "source": [
    "res_merge.to_file(os.path.join(out_folder, \"health_roads_100m.shp\"), driver=\"ESRI Shapefile\")"
   ]
  },
  {
   "cell_type": "code",
   "execution_count": 297,
   "metadata": {},
   "outputs": [
    {
     "name": "stderr",
     "output_type": "stream",
     "text": [
      "/home/wb514197/.conda/envs/graph/lib/python3.7/site-packages/ipykernel_launcher.py:1: UserWarning: Column names longer than 10 characters will be truncated when saved to ESRI Shapefile.\n",
      "  \"\"\"Entry point for launching an IPython kernel.\n"
     ]
    }
   ],
   "source": [
    "res_merge.to_file(os.path.join(out_folder, \"health_roads_2km.shp\"), driver=\"ESRI Shapefile\")"
   ]
  },
  {
   "cell_type": "markdown",
   "metadata": {},
   "source": [
    "### FB Analysis"
   ]
  },
  {
   "cell_type": "code",
   "execution_count": 18,
   "metadata": {},
   "outputs": [
    {
     "data": {
      "text/plain": [
       "'/home/public/Data/PROJECTS/Health'"
      ]
     },
     "execution_count": 18,
     "metadata": {},
     "output_type": "execute_result"
    }
   ],
   "source": [
    "input_dir"
   ]
  },
  {
   "cell_type": "code",
   "execution_count": 19,
   "metadata": {},
   "outputs": [],
   "source": [
    "fb = pd.read_csv(os.path.join(input_dir, 'facebook', 'lbr_relative_wealth_index.csv'))"
   ]
  },
  {
   "cell_type": "code",
   "execution_count": 20,
   "metadata": {},
   "outputs": [],
   "source": [
    "fb_geoms = [Point(xy) for xy in zip(fb.longitude, fb.latitude)]\n",
    "fb_geo = gpd.GeoDataFrame(fb, crs='EPSG:4326', geometry=fb_geoms)"
   ]
  },
  {
   "cell_type": "code",
   "execution_count": 174,
   "metadata": {},
   "outputs": [],
   "source": [
    "fb_zs = pd.DataFrame(zonal_stats(fb_geo, tt_health.filled(), affine=tt_health_rio.transform, stats='mean', nodata=tt_health_rio.nodata)).rename(columns={'mean':'tt_health'})\n",
    "fb_zs_hosp = pd.DataFrame(zonal_stats(fb_geo, tt_hospital.filled(), affine=tt_hospital_rio.transform, stats='mean', nodata=tt_hospital_rio.nodata)).rename(columns={'mean':'tt_hospital'})"
   ]
  },
  {
   "cell_type": "code",
   "execution_count": 176,
   "metadata": {},
   "outputs": [],
   "source": [
    "fb_geo = fb_geo.join(fb_zs).join(fb_zs_hosp)"
   ]
  },
  {
   "cell_type": "code",
   "execution_count": 177,
   "metadata": {},
   "outputs": [
    {
     "data": {
      "text/html": [
       "<div>\n",
       "<style scoped>\n",
       "    .dataframe tbody tr th:only-of-type {\n",
       "        vertical-align: middle;\n",
       "    }\n",
       "\n",
       "    .dataframe tbody tr th {\n",
       "        vertical-align: top;\n",
       "    }\n",
       "\n",
       "    .dataframe thead th {\n",
       "        text-align: right;\n",
       "    }\n",
       "</style>\n",
       "<table border=\"1\" class=\"dataframe\">\n",
       "  <thead>\n",
       "    <tr style=\"text-align: right;\">\n",
       "      <th></th>\n",
       "      <th>latitude</th>\n",
       "      <th>longitude</th>\n",
       "      <th>rwi</th>\n",
       "      <th>error</th>\n",
       "      <th>geometry</th>\n",
       "      <th>tt_health</th>\n",
       "      <th>tt_hospital</th>\n",
       "    </tr>\n",
       "  </thead>\n",
       "  <tbody>\n",
       "    <tr>\n",
       "      <th>0</th>\n",
       "      <td>4.576425</td>\n",
       "      <td>-7.987061</td>\n",
       "      <td>-0.902</td>\n",
       "      <td>0.295</td>\n",
       "      <td>POINT (-7.98706 4.57642)</td>\n",
       "      <td>131.144119</td>\n",
       "      <td>185.625931</td>\n",
       "    </tr>\n",
       "    <tr>\n",
       "      <th>1</th>\n",
       "      <td>6.217012</td>\n",
       "      <td>-10.228271</td>\n",
       "      <td>-0.082</td>\n",
       "      <td>0.289</td>\n",
       "      <td>POINT (-10.22827 6.21701)</td>\n",
       "      <td>7.249699</td>\n",
       "      <td>39.488678</td>\n",
       "    </tr>\n",
       "    <tr>\n",
       "      <th>2</th>\n",
       "      <td>5.626919</td>\n",
       "      <td>-8.316650</td>\n",
       "      <td>-0.517</td>\n",
       "      <td>0.286</td>\n",
       "      <td>POINT (-8.31665 5.62692)</td>\n",
       "      <td>33.827759</td>\n",
       "      <td>146.152924</td>\n",
       "    </tr>\n",
       "    <tr>\n",
       "      <th>3</th>\n",
       "      <td>6.544560</td>\n",
       "      <td>-9.656982</td>\n",
       "      <td>-0.489</td>\n",
       "      <td>0.267</td>\n",
       "      <td>POINT (-9.65698 6.54456)</td>\n",
       "      <td>38.609650</td>\n",
       "      <td>103.398010</td>\n",
       "    </tr>\n",
       "    <tr>\n",
       "      <th>4</th>\n",
       "      <td>7.852499</td>\n",
       "      <td>-9.656982</td>\n",
       "      <td>-0.761</td>\n",
       "      <td>0.260</td>\n",
       "      <td>POINT (-9.65698 7.85250)</td>\n",
       "      <td>46.817535</td>\n",
       "      <td>74.537605</td>\n",
       "    </tr>\n",
       "    <tr>\n",
       "      <th>...</th>\n",
       "      <td>...</td>\n",
       "      <td>...</td>\n",
       "      <td>...</td>\n",
       "      <td>...</td>\n",
       "      <td>...</td>\n",
       "      <td>...</td>\n",
       "      <td>...</td>\n",
       "    </tr>\n",
       "    <tr>\n",
       "      <th>6184</th>\n",
       "      <td>7.111795</td>\n",
       "      <td>-8.822021</td>\n",
       "      <td>-0.277</td>\n",
       "      <td>0.271</td>\n",
       "      <td>POINT (-8.82202 7.11179)</td>\n",
       "      <td>5.380243</td>\n",
       "      <td>35.791603</td>\n",
       "    </tr>\n",
       "    <tr>\n",
       "      <th>6185</th>\n",
       "      <td>6.238855</td>\n",
       "      <td>-9.547119</td>\n",
       "      <td>-0.942</td>\n",
       "      <td>0.285</td>\n",
       "      <td>POINT (-9.54712 6.23886)</td>\n",
       "      <td>161.047684</td>\n",
       "      <td>180.021103</td>\n",
       "    </tr>\n",
       "    <tr>\n",
       "      <th>6186</th>\n",
       "      <td>6.369894</td>\n",
       "      <td>-9.964600</td>\n",
       "      <td>-0.279</td>\n",
       "      <td>0.269</td>\n",
       "      <td>POINT (-9.96460 6.36989)</td>\n",
       "      <td>40.256237</td>\n",
       "      <td>92.006248</td>\n",
       "    </tr>\n",
       "    <tr>\n",
       "      <th>6187</th>\n",
       "      <td>6.806444</td>\n",
       "      <td>-9.613037</td>\n",
       "      <td>-0.457</td>\n",
       "      <td>0.268</td>\n",
       "      <td>POINT (-9.61304 6.80644)</td>\n",
       "      <td>21.252628</td>\n",
       "      <td>52.030640</td>\n",
       "    </tr>\n",
       "    <tr>\n",
       "      <th>6188</th>\n",
       "      <td>6.588217</td>\n",
       "      <td>-10.272217</td>\n",
       "      <td>-0.165</td>\n",
       "      <td>0.302</td>\n",
       "      <td>POINT (-10.27222 6.58822)</td>\n",
       "      <td>9.968124</td>\n",
       "      <td>18.691496</td>\n",
       "    </tr>\n",
       "  </tbody>\n",
       "</table>\n",
       "<p>6189 rows × 7 columns</p>\n",
       "</div>"
      ],
      "text/plain": [
       "      latitude  longitude    rwi  error                   geometry  \\\n",
       "0     4.576425  -7.987061 -0.902  0.295   POINT (-7.98706 4.57642)   \n",
       "1     6.217012 -10.228271 -0.082  0.289  POINT (-10.22827 6.21701)   \n",
       "2     5.626919  -8.316650 -0.517  0.286   POINT (-8.31665 5.62692)   \n",
       "3     6.544560  -9.656982 -0.489  0.267   POINT (-9.65698 6.54456)   \n",
       "4     7.852499  -9.656982 -0.761  0.260   POINT (-9.65698 7.85250)   \n",
       "...        ...        ...    ...    ...                        ...   \n",
       "6184  7.111795  -8.822021 -0.277  0.271   POINT (-8.82202 7.11179)   \n",
       "6185  6.238855  -9.547119 -0.942  0.285   POINT (-9.54712 6.23886)   \n",
       "6186  6.369894  -9.964600 -0.279  0.269   POINT (-9.96460 6.36989)   \n",
       "6187  6.806444  -9.613037 -0.457  0.268   POINT (-9.61304 6.80644)   \n",
       "6188  6.588217 -10.272217 -0.165  0.302  POINT (-10.27222 6.58822)   \n",
       "\n",
       "       tt_health  tt_hospital  \n",
       "0     131.144119   185.625931  \n",
       "1       7.249699    39.488678  \n",
       "2      33.827759   146.152924  \n",
       "3      38.609650   103.398010  \n",
       "4      46.817535    74.537605  \n",
       "...          ...          ...  \n",
       "6184    5.380243    35.791603  \n",
       "6185  161.047684   180.021103  \n",
       "6186   40.256237    92.006248  \n",
       "6187   21.252628    52.030640  \n",
       "6188    9.968124    18.691496  \n",
       "\n",
       "[6189 rows x 7 columns]"
      ]
     },
     "execution_count": 177,
     "metadata": {},
     "output_type": "execute_result"
    }
   ],
   "source": [
    "fb_geo"
   ]
  },
  {
   "cell_type": "code",
   "execution_count": 185,
   "metadata": {},
   "outputs": [],
   "source": [
    "fb_geo.loc[:, \"rwi_cut\"] = pd.qcut(fb_geo['rwi'], [0, .2, .4, .6, .8, 1.], labels=['lowest', 'second-lowest', 'middle', 'second-highest', 'highest'])"
   ]
  },
  {
   "cell_type": "code",
   "execution_count": 200,
   "metadata": {},
   "outputs": [],
   "source": [
    "# fb_geo.groupby()"
   ]
  },
  {
   "cell_type": "code",
   "execution_count": 188,
   "metadata": {},
   "outputs": [],
   "source": [
    "import pandas as pd\n",
    "import geopandas as gpd\n",
    "from shapely.geometry import Point\n",
    "from shapely.geometry.polygon import Polygon\n",
    "from pyquadkey2 import quadkey"
   ]
  },
  {
   "cell_type": "code",
   "execution_count": 218,
   "metadata": {},
   "outputs": [],
   "source": [
    "fb_geo = gpd.sjoin(fb_geo, adm2[['WB_ADM2_CO', 'WB_ADM2_NA', 'geometry']])"
   ]
  },
  {
   "cell_type": "code",
   "execution_count": 242,
   "metadata": {},
   "outputs": [
    {
     "name": "stdout",
     "output_type": "stream",
     "text": [
      "(64, 13)\n"
     ]
    }
   ],
   "source": [
    "# not sure why this doesn't work aint nobody got time for that\n",
    "def get_point_in_polygon(lat, lon, polygons):\n",
    "    \"\"\" \n",
    "    @param lat: double\n",
    "    @param lon: double\n",
    "    @param polygons: dict\n",
    "    @return geo_id: str\n",
    "    \"\"\"\n",
    "    point = Point(lon, lat)\n",
    "    for geo_id in polygons:\n",
    "        polygon = polygons[geo_id]\n",
    "        if polygon.contains(point):\n",
    "            return geo_id\n",
    "        else:\n",
    "            return 'null'\n",
    "\n",
    "shapefile = adm2.copy()\n",
    "polygons = dict(zip(shapefile['WB_ADM2_CO'], shapefile['geometry']))\n",
    "print(shapefile.shape)\n",
    "shapefile.head()\n",
    "\n",
    "fb_geo['geo_id'] = fb_geo.apply(lambda x: get_point_in_polygon(x['latitude'], x['longitude'], polygons), axis=1)"
   ]
  },
  {
   "cell_type": "code",
   "execution_count": 227,
   "metadata": {},
   "outputs": [],
   "source": [
    "population = pd.read_csv(os.path.join(input_dir, 'facebook', 'population_lbr_2019-07-01.csv'))"
   ]
  },
  {
   "cell_type": "code",
   "execution_count": 228,
   "metadata": {},
   "outputs": [],
   "source": [
    "population = population.rename(columns={'Population': 'pop_2020'})"
   ]
  },
  {
   "cell_type": "code",
   "execution_count": 231,
   "metadata": {},
   "outputs": [],
   "source": [
    "population['quadkey'] = population.apply(lambda x: str(quadkey.from_geo((x['Lat'], x['Lon']), 14)), axis=1)"
   ]
  },
  {
   "cell_type": "code",
   "execution_count": 233,
   "metadata": {},
   "outputs": [],
   "source": [
    "bing_tile_z14_pop = population.groupby('quadkey', as_index=False)['pop_2020'].sum()"
   ]
  },
  {
   "cell_type": "code",
   "execution_count": 238,
   "metadata": {},
   "outputs": [],
   "source": [
    "fb_geo['quadkey'] = fb_geo.apply(lambda x: str(quadkey.from_geo((x['latitude'], x['longitude']), 14)), axis=1)"
   ]
  },
  {
   "cell_type": "code",
   "execution_count": 244,
   "metadata": {},
   "outputs": [],
   "source": [
    "rwi = fb_geo.merge(bing_tile_z14_pop[['quadkey', 'pop_2020']], on='quadkey', how='inner')"
   ]
  },
  {
   "cell_type": "code",
   "execution_count": 247,
   "metadata": {},
   "outputs": [],
   "source": [
    "rwi.loc[:, \"tt_health_bool\"] = rwi.tt_health<=120\n",
    "rwi.loc[:, \"tt_hospital_bool\"] = rwi.tt_hospital<=120"
   ]
  },
  {
   "cell_type": "code",
   "execution_count": 252,
   "metadata": {},
   "outputs": [
    {
     "data": {
      "text/plain": [
       "Index(['latitude', 'longitude', 'rwi', 'error', 'geometry', 'tt_health',\n",
       "       'tt_hospital', 'rwi_cut', 'geo_id', 'index_right', 'WB_ADM2_CO',\n",
       "       'WB_ADM2_NA', 'quadkey', 'pop_2020', 'tt_health_bool',\n",
       "       'tt_hospital_bool'],\n",
       "      dtype='object')"
      ]
     },
     "execution_count": 252,
     "metadata": {},
     "output_type": "execute_result"
    }
   ],
   "source": [
    "rwi.columns"
   ]
  },
  {
   "cell_type": "code",
   "execution_count": 265,
   "metadata": {},
   "outputs": [],
   "source": [
    "# rwi[['WB_ADM2_NA', 'tt_health_bool', 'rwi_cut', 'pop_2020']].groupby(['WB_ADM2_NA', 'tt_health_bool', 'rwi_cut']).sum()\n",
    "# res_rwi = rwi[['WB_ADM2_NA', 'tt_health_bool', 'tt_hospital_bool', 'rwi_cut', 'pop_2020']].groupby(['WB_ADM2_NA', 'tt_health_bool', 'tt_hospital_bool', 'rwi_cut']).sum()"
   ]
  },
  {
   "cell_type": "code",
   "execution_count": 273,
   "metadata": {},
   "outputs": [],
   "source": [
    "rwi_pop = rwi[['WB_ADM2_NA', 'rwi_cut', 'pop_2020']].groupby(['WB_ADM2_NA', 'rwi_cut']).sum()"
   ]
  },
  {
   "cell_type": "code",
   "execution_count": 274,
   "metadata": {},
   "outputs": [],
   "source": [
    "rwi_health = rwi.loc[rwi.tt_health_bool==True, ['WB_ADM2_NA', 'rwi_cut', 'pop_2020']].groupby(['WB_ADM2_NA', 'rwi_cut']).sum().rename(columns={'pop_2020':'pop_120_health'})"
   ]
  },
  {
   "cell_type": "code",
   "execution_count": 275,
   "metadata": {},
   "outputs": [],
   "source": [
    "rwi_hospital = rwi.loc[rwi.tt_hospital_bool==True, ['WB_ADM2_NA', 'rwi_cut', 'pop_2020']].groupby(['WB_ADM2_NA', 'rwi_cut']).sum().rename(columns={'pop_2020':'pop_120_hospital'})"
   ]
  },
  {
   "cell_type": "code",
   "execution_count": 276,
   "metadata": {},
   "outputs": [],
   "source": [
    "res_rwi = rwi_pop.join(rwi_health).join(rwi_hospital)"
   ]
  },
  {
   "cell_type": "code",
   "execution_count": 281,
   "metadata": {},
   "outputs": [],
   "source": [
    "res_rwi.loc[:, \"health_pct\"] = res_rwi['pop_120_health']/res_rwi['pop_2020']\n",
    "res_rwi.loc[:, \"hospital_pct\"] = res_rwi['pop_120_hospital']/res_rwi['pop_2020']"
   ]
  },
  {
   "cell_type": "code",
   "execution_count": 284,
   "metadata": {},
   "outputs": [
    {
     "data": {
      "text/html": [
       "<div>\n",
       "<style scoped>\n",
       "    .dataframe tbody tr th:only-of-type {\n",
       "        vertical-align: middle;\n",
       "    }\n",
       "\n",
       "    .dataframe tbody tr th {\n",
       "        vertical-align: top;\n",
       "    }\n",
       "\n",
       "    .dataframe thead th {\n",
       "        text-align: right;\n",
       "    }\n",
       "</style>\n",
       "<table border=\"1\" class=\"dataframe\">\n",
       "  <thead>\n",
       "    <tr style=\"text-align: right;\">\n",
       "      <th></th>\n",
       "      <th></th>\n",
       "      <th>pop_2020</th>\n",
       "      <th>pop_120_health</th>\n",
       "      <th>pop_120_hospital</th>\n",
       "      <th>health_pct</th>\n",
       "      <th>hospital_pct</th>\n",
       "    </tr>\n",
       "    <tr>\n",
       "      <th>WB_ADM2_NA</th>\n",
       "      <th>rwi_cut</th>\n",
       "      <th></th>\n",
       "      <th></th>\n",
       "      <th></th>\n",
       "      <th></th>\n",
       "      <th></th>\n",
       "    </tr>\n",
       "  </thead>\n",
       "  <tbody>\n",
       "    <tr>\n",
       "      <th rowspan=\"5\" valign=\"top\">Barrobo</th>\n",
       "      <th>lowest</th>\n",
       "      <td>8450.701912</td>\n",
       "      <td>8450.701912</td>\n",
       "      <td>8174.211583</td>\n",
       "      <td>1.000000</td>\n",
       "      <td>0.967282</td>\n",
       "    </tr>\n",
       "    <tr>\n",
       "      <th>second-lowest</th>\n",
       "      <td>7407.226104</td>\n",
       "      <td>6670.420840</td>\n",
       "      <td>6509.673563</td>\n",
       "      <td>0.900529</td>\n",
       "      <td>0.878827</td>\n",
       "    </tr>\n",
       "    <tr>\n",
       "      <th>middle</th>\n",
       "      <td>10500.503335</td>\n",
       "      <td>10500.503335</td>\n",
       "      <td>10500.503335</td>\n",
       "      <td>1.000000</td>\n",
       "      <td>1.000000</td>\n",
       "    </tr>\n",
       "    <tr>\n",
       "      <th>second-highest</th>\n",
       "      <td>5003.333989</td>\n",
       "      <td>3959.763720</td>\n",
       "      <td>3569.685334</td>\n",
       "      <td>0.791425</td>\n",
       "      <td>0.713461</td>\n",
       "    </tr>\n",
       "    <tr>\n",
       "      <th>highest</th>\n",
       "      <td>13804.978271</td>\n",
       "      <td>12536.130601</td>\n",
       "      <td>12536.130601</td>\n",
       "      <td>0.908088</td>\n",
       "      <td>0.908088</td>\n",
       "    </tr>\n",
       "  </tbody>\n",
       "</table>\n",
       "</div>"
      ],
      "text/plain": [
       "                               pop_2020  pop_120_health  pop_120_hospital  \\\n",
       "WB_ADM2_NA rwi_cut                                                          \n",
       "Barrobo    lowest           8450.701912     8450.701912       8174.211583   \n",
       "           second-lowest    7407.226104     6670.420840       6509.673563   \n",
       "           middle          10500.503335    10500.503335      10500.503335   \n",
       "           second-highest   5003.333989     3959.763720       3569.685334   \n",
       "           highest         13804.978271    12536.130601      12536.130601   \n",
       "\n",
       "                           health_pct  hospital_pct  \n",
       "WB_ADM2_NA rwi_cut                                   \n",
       "Barrobo    lowest            1.000000      0.967282  \n",
       "           second-lowest     0.900529      0.878827  \n",
       "           middle            1.000000      1.000000  \n",
       "           second-highest    0.791425      0.713461  \n",
       "           highest           0.908088      0.908088  "
      ]
     },
     "execution_count": 284,
     "metadata": {},
     "output_type": "execute_result"
    }
   ],
   "source": [
    "res_rwi.head()"
   ]
  },
  {
   "cell_type": "code",
   "execution_count": 285,
   "metadata": {},
   "outputs": [],
   "source": [
    "res_rwi.to_csv(os.path.join(out_folder, 'test_rwi.csv'))"
   ]
  },
  {
   "cell_type": "code",
   "execution_count": null,
   "metadata": {},
   "outputs": [],
   "source": []
  },
  {
   "cell_type": "code",
   "execution_count": 286,
   "metadata": {},
   "outputs": [],
   "source": [
    "rwi_pop_adm0 = rwi[['rwi_cut', 'pop_2020']].groupby(['rwi_cut']).sum()"
   ]
  },
  {
   "cell_type": "code",
   "execution_count": 288,
   "metadata": {},
   "outputs": [],
   "source": [
    "rwi_health_adm0 = rwi.loc[rwi.tt_health_bool==True, ['rwi_cut', 'pop_2020']].groupby(['rwi_cut']).sum().rename(columns={'pop_2020':'pop_120_health'})"
   ]
  },
  {
   "cell_type": "code",
   "execution_count": 289,
   "metadata": {},
   "outputs": [],
   "source": [
    "rwi_hospital_adm0 = rwi.loc[rwi.tt_hospital_bool==True, ['rwi_cut', 'pop_2020']].groupby(['rwi_cut']).sum().rename(columns={'pop_2020':'pop_120_hospital'})"
   ]
  },
  {
   "cell_type": "code",
   "execution_count": 291,
   "metadata": {},
   "outputs": [],
   "source": [
    "res_rwi_adm0 = rwi_pop_adm0.join(rwi_health_adm0).join(rwi_hospital_adm0)"
   ]
  },
  {
   "cell_type": "code",
   "execution_count": 292,
   "metadata": {},
   "outputs": [],
   "source": [
    "res_rwi_adm0.loc[:, \"health_pct\"] = res_rwi_adm0['pop_120_health']/res_rwi_adm0['pop_2020']\n",
    "res_rwi_adm0.loc[:, \"hospital_pct\"] = res_rwi_adm0['pop_120_hospital']/res_rwi_adm0['pop_2020']"
   ]
  },
  {
   "cell_type": "code",
   "execution_count": 294,
   "metadata": {},
   "outputs": [],
   "source": [
    "res_rwi_adm0.to_csv(os.path.join(out_folder, 'rwi_adm0.csv'))"
   ]
  },
  {
   "cell_type": "code",
   "execution_count": null,
   "metadata": {},
   "outputs": [],
   "source": []
  }
 ],
 "metadata": {
  "kernelspec": {
   "display_name": "Python (Graph)",
   "language": "python",
   "name": "graph"
  },
  "language_info": {
   "codemirror_mode": {
    "name": "ipython",
    "version": 3
   },
   "file_extension": ".py",
   "mimetype": "text/x-python",
   "name": "python",
   "nbconvert_exporter": "python",
   "pygments_lexer": "ipython3",
   "version": "3.7.10"
  },
  "toc": {
   "base_numbering": 1,
   "nav_menu": {},
   "number_sections": true,
   "sideBar": true,
   "skip_h1_title": false,
   "title_cell": "Table of Contents",
   "title_sidebar": "Contents",
   "toc_cell": false,
   "toc_position": {},
   "toc_section_display": true,
   "toc_window_display": false
  }
 },
 "nbformat": 4,
 "nbformat_minor": 2
}
