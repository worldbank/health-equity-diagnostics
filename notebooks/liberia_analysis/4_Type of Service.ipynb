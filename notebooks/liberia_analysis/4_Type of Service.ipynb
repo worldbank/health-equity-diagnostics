{
 "cells": [
  {
   "cell_type": "code",
   "execution_count": 1,
   "metadata": {},
   "outputs": [],
   "source": [
    "import os, sys\n",
    "import geopandas as gpd\n",
    "import pandas as pd\n",
    "import rasterio as rio\n",
    "import numpy as np\n",
    "from shapely.geometry import Point\n",
    "import skimage.graph as graph\n",
    "from glob import glob\n",
    "import matplotlib.ticker as mtick\n"
   ]
  },
  {
   "cell_type": "code",
   "execution_count": 2,
   "metadata": {},
   "outputs": [],
   "source": [
    "sys.path.append('/home/wb514197/Repos/gostrocks/src') # gostrocks is used for some basic raster operations (clip and standardize)\n",
    "sys.path.append('/home/wb514197/Repos/GOSTNets_Raster/src') # gostnets_raster has functions to work with friction surface\n",
    "sys.path.append('/home/wb514197/Repos/GOSTnets') # it also depends on gostnets for some reason\n",
    "sys.path.append('/home/wb514197/Repos/INFRA_SAP') # only used to save some raster results\n",
    "# sys.path.append('/home/wb514197/Repos/HospitalAccessibility/src') # only used to save some raster results"
   ]
  },
  {
   "cell_type": "code",
   "execution_count": 52,
   "metadata": {},
   "outputs": [],
   "source": [
    "import GOSTRocks.rasterMisc as rMisc\n",
    "import GOSTNetsRaster.market_access as ma\n",
    "from infrasap import aggregator\n",
    "from rasterstats import zonal_stats\n",
    "import seaborn as sns\n",
    "import matplotlib.pyplot as plt"
   ]
  },
  {
   "cell_type": "code",
   "execution_count": null,
   "metadata": {},
   "outputs": [],
   "source": [
    "sns.set()"
   ]
  },
  {
   "cell_type": "code",
   "execution_count": 4,
   "metadata": {},
   "outputs": [],
   "source": [
    "iso3 = 'LBR'"
   ]
  },
  {
   "cell_type": "code",
   "execution_count": 5,
   "metadata": {},
   "outputs": [],
   "source": [
    "input_dir = \"/home/public/Data/PROJECTS/Health\" #\n",
    "out_folder = os.path.join(input_dir, \"output\", iso3)\n",
    "if not os.path.exists(out_folder):\n",
    "    os.mkdir(out_folder)"
   ]
  },
  {
   "cell_type": "code",
   "execution_count": 6,
   "metadata": {},
   "outputs": [],
   "source": [
    "out_pop_surface_std = os.path.join(out_folder, \"WP_2020_1km_STD.tif\")"
   ]
  },
  {
   "cell_type": "code",
   "execution_count": 7,
   "metadata": {},
   "outputs": [],
   "source": [
    "# create a data frame of all points\n",
    "pop_surf = rio.open(out_pop_surface_std)\n",
    "pop = pop_surf.read(1, masked=True)\n",
    "# indices = list(np.ndindex(pop.shape))\n",
    "# xys = [Point(pop_surf.xy(ind[0], ind[1])) for ind in indices]\n",
    "# res_df = pd.DataFrame({\n",
    "#     'spatial_index': indices, \n",
    "#     'xy': xys, \n",
    "#     'pop': pop.flatten()\n",
    "# })\n",
    "# res_df['pointid'] = res_df.index"
   ]
  },
  {
   "cell_type": "code",
   "execution_count": 8,
   "metadata": {},
   "outputs": [],
   "source": [
    "global_admin2 = '/home/public/Data/GLOBAL/ADMIN/Admin2_Polys.shp'\n",
    "adm2 = gpd.read_file(global_admin2)\n",
    "adm2 = adm2.loc[adm2.ISO3==iso3].copy()\n",
    "adm2 = adm2.to_crs(\"EPSG:4326\")\n",
    "adm2.reset_index(inplace=True, drop=True)"
   ]
  },
  {
   "cell_type": "code",
   "execution_count": 57,
   "metadata": {},
   "outputs": [],
   "source": [
    "global_admin1 = '/home/public/Data/GLOBAL/ADMIN/Admin1_Polys.shp'\n",
    "adm1 = gpd.read_file(global_admin1)\n",
    "adm1 = adm1.loc[adm1.ISO3==iso3].copy()\n",
    "adm1 = adm1.to_crs(\"EPSG:4326\")\n",
    "adm1.reset_index(inplace=True, drop=True)"
   ]
  },
  {
   "cell_type": "code",
   "execution_count": 100,
   "metadata": {},
   "outputs": [],
   "source": [
    "global_admin0 = '/home/public/Data/GLOBAL/ADMIN/g2015_0_simplified.shp'\n",
    "adm0 = gpd.read_file(global_admin0)\n",
    "adm0 = adm0.loc[adm0.ISO3166_1_==iso3].copy()\n",
    "adm0 = adm0.to_crs(\"EPSG:4326\")\n",
    "adm0.reset_index(inplace=True, drop=True)"
   ]
  },
  {
   "cell_type": "code",
   "execution_count": 59,
   "metadata": {
    "scrolled": true
   },
   "outputs": [
    {
     "data": {
      "text/plain": [
       "<AxesSubplot:>"
      ]
     },
     "execution_count": 59,
     "metadata": {},
     "output_type": "execute_result"
    },
    {
     "data": {
      "image/png": "[encoded data removed]",
      "text/plain": [
       "<Figure size 432x288 with 1 Axes>"
      ]
     },
     "metadata": {},
     "output_type": "display_data"
    }
   ],
   "source": [
    "adm1.plot()"
   ]
  },
  {
   "cell_type": "code",
   "execution_count": 60,
   "metadata": {},
   "outputs": [],
   "source": [
    "tt_path = os.path.join(out_folder, 'tt_rasters')"
   ]
  },
  {
   "cell_type": "code",
   "execution_count": 84,
   "metadata": {},
   "outputs": [],
   "source": [
    "# glob(tt_path+\"/tt_offer*\")\n",
    "files = [os.path.join(tt_path, f) for f in os.listdir(tt_path) if 'offer' in f]"
   ]
  },
  {
   "cell_type": "code",
   "execution_count": 241,
   "metadata": {},
   "outputs": [],
   "source": [
    "res = pd.DataFrame(zonal_stats(adm1, pop.filled(), affine=pop_surf.transform, stats='sum', nodata=pop_surf.nodata)).rename(columns={'sum':'pop'})"
   ]
  },
  {
   "cell_type": "code",
   "execution_count": 242,
   "metadata": {},
   "outputs": [
    {
     "data": {
      "text/plain": [
       "['/home/public/Data/PROJECTS/Health/output/LBR/tt_rasters/tt_offer_emonc.tif',\n",
       " '/home/public/Data/PROJECTS/Health/output/LBR/tt_rasters/tt_offer_childimmune.tif',\n",
       " '/home/public/Data/PROJECTS/Health/output/LBR/tt_rasters/tt_offer_anc.tif',\n",
       " '/home/public/Data/PROJECTS/Health/output/LBR/tt_rasters/tt_offer_adolescentsrhr.tif',\n",
       " '/home/public/Data/PROJECTS/Health/output/LBR/tt_rasters/tt_offer_essentialnutrition.tif']"
      ]
     },
     "execution_count": 242,
     "metadata": {},
     "output_type": "execute_result"
    }
   ],
   "source": [
    "files"
   ]
  },
  {
   "cell_type": "code",
   "execution_count": 243,
   "metadata": {},
   "outputs": [],
   "source": [
    "for f in files:\n",
    "    service = f.split(\"_\")[-1].strip('.tif')\n",
    "    tt_rio = rio.open(f)\n",
    "    tt = tt_rio.read(1, masked=True)\n",
    "    pop_120 = pop*(tt>120)\n",
    "    zs = pd.DataFrame(zonal_stats(adm1, pop_120.filled(), affine=pop_surf.transform, stats='sum', nodata=pop_surf.nodata)).rename(columns={'sum':f'{service}'})\n",
    "    res = res.join(zs)"
   ]
  },
  {
   "cell_type": "code",
   "execution_count": 244,
   "metadata": {},
   "outputs": [],
   "source": [
    "# res.sort_values('pop_120_essentialnutrition', ascending=False, inplace=True)"
   ]
  },
  {
   "cell_type": "code",
   "execution_count": 245,
   "metadata": {},
   "outputs": [],
   "source": [
    "# df = res.head(10).iloc[:, 1:4].copy()\n",
    "# df = res.head(10)\n",
    "df = res.copy()"
   ]
  },
  {
   "cell_type": "code",
   "execution_count": 246,
   "metadata": {},
   "outputs": [],
   "source": [
    "df.reset_index(inplace=True)"
   ]
  },
  {
   "cell_type": "code",
   "execution_count": 247,
   "metadata": {},
   "outputs": [
    {
     "data": {
      "text/html": [
       "<div>\n",
       "<style scoped>\n",
       "    .dataframe tbody tr th:only-of-type {\n",
       "        vertical-align: middle;\n",
       "    }\n",
       "\n",
       "    .dataframe tbody tr th {\n",
       "        vertical-align: top;\n",
       "    }\n",
       "\n",
       "    .dataframe thead th {\n",
       "        text-align: right;\n",
       "    }\n",
       "</style>\n",
       "<table border=\"1\" class=\"dataframe\">\n",
       "  <thead>\n",
       "    <tr style=\"text-align: right;\">\n",
       "      <th></th>\n",
       "      <th>index</th>\n",
       "      <th>pop</th>\n",
       "      <th>emonc</th>\n",
       "      <th>childimmune</th>\n",
       "      <th>anc</th>\n",
       "      <th>adolescentsrhr</th>\n",
       "      <th>essentialnutrition</th>\n",
       "    </tr>\n",
       "  </thead>\n",
       "  <tbody>\n",
       "    <tr>\n",
       "      <th>0</th>\n",
       "      <td>0</td>\n",
       "      <td>152888.479056</td>\n",
       "      <td>0.000000</td>\n",
       "      <td>0.000000</td>\n",
       "      <td>0.000000</td>\n",
       "      <td>0.000000</td>\n",
       "      <td>0.000000</td>\n",
       "    </tr>\n",
       "    <tr>\n",
       "      <th>1</th>\n",
       "      <td>1</td>\n",
       "      <td>370047.514226</td>\n",
       "      <td>14067.058102</td>\n",
       "      <td>13629.488738</td>\n",
       "      <td>13629.488738</td>\n",
       "      <td>14375.905726</td>\n",
       "      <td>15095.827163</td>\n",
       "    </tr>\n",
       "  </tbody>\n",
       "</table>\n",
       "</div>"
      ],
      "text/plain": [
       "   index            pop         emonc   childimmune           anc  \\\n",
       "0      0  152888.479056      0.000000      0.000000      0.000000   \n",
       "1      1  370047.514226  14067.058102  13629.488738  13629.488738   \n",
       "\n",
       "   adolescentsrhr  essentialnutrition  \n",
       "0        0.000000            0.000000  \n",
       "1    14375.905726        15095.827163  "
      ]
     },
     "execution_count": 247,
     "metadata": {},
     "output_type": "execute_result"
    }
   ],
   "source": [
    "df.head(2)"
   ]
  },
  {
   "cell_type": "code",
   "execution_count": 248,
   "metadata": {},
   "outputs": [],
   "source": [
    "# df = adm2[['WB_ADM2_NA']].join(df)\n",
    "df = adm1[['WB_ADM1_NA']].join(df)"
   ]
  },
  {
   "cell_type": "code",
   "execution_count": 249,
   "metadata": {},
   "outputs": [
    {
     "data": {
      "text/html": [
       "<div>\n",
       "<style scoped>\n",
       "    .dataframe tbody tr th:only-of-type {\n",
       "        vertical-align: middle;\n",
       "    }\n",
       "\n",
       "    .dataframe tbody tr th {\n",
       "        vertical-align: top;\n",
       "    }\n",
       "\n",
       "    .dataframe thead th {\n",
       "        text-align: right;\n",
       "    }\n",
       "</style>\n",
       "<table border=\"1\" class=\"dataframe\">\n",
       "  <thead>\n",
       "    <tr style=\"text-align: right;\">\n",
       "      <th></th>\n",
       "      <th>WB_ADM1_NA</th>\n",
       "      <th>index</th>\n",
       "      <th>pop</th>\n",
       "      <th>emonc</th>\n",
       "      <th>childimmune</th>\n",
       "      <th>anc</th>\n",
       "      <th>adolescentsrhr</th>\n",
       "      <th>essentialnutrition</th>\n",
       "    </tr>\n",
       "  </thead>\n",
       "  <tbody>\n",
       "    <tr>\n",
       "      <th>0</th>\n",
       "      <td>Bomi</td>\n",
       "      <td>0</td>\n",
       "      <td>152888.479056</td>\n",
       "      <td>0.000000</td>\n",
       "      <td>0.000000</td>\n",
       "      <td>0.000000</td>\n",
       "      <td>0.000000</td>\n",
       "      <td>0.000000</td>\n",
       "    </tr>\n",
       "    <tr>\n",
       "      <th>1</th>\n",
       "      <td>Bong</td>\n",
       "      <td>1</td>\n",
       "      <td>370047.514226</td>\n",
       "      <td>14067.058102</td>\n",
       "      <td>13629.488738</td>\n",
       "      <td>13629.488738</td>\n",
       "      <td>14375.905726</td>\n",
       "      <td>15095.827163</td>\n",
       "    </tr>\n",
       "  </tbody>\n",
       "</table>\n",
       "</div>"
      ],
      "text/plain": [
       "  WB_ADM1_NA  index            pop         emonc   childimmune           anc  \\\n",
       "0       Bomi      0  152888.479056      0.000000      0.000000      0.000000   \n",
       "1       Bong      1  370047.514226  14067.058102  13629.488738  13629.488738   \n",
       "\n",
       "   adolescentsrhr  essentialnutrition  \n",
       "0        0.000000            0.000000  \n",
       "1    14375.905726        15095.827163  "
      ]
     },
     "execution_count": 249,
     "metadata": {},
     "output_type": "execute_result"
    }
   ],
   "source": [
    "df.head(2)"
   ]
  },
  {
   "cell_type": "code",
   "execution_count": 250,
   "metadata": {},
   "outputs": [],
   "source": [
    "# df = pd.melt(df, id_vars=['index', 'pop'], var_name='service', value_name='pop_exc')\n",
    "df = pd.melt(df, id_vars=['index', 'WB_ADM1_NA', 'pop'], var_name='service', value_name='pop_exc')\n",
    "# df = pd.melt(df, id_vars=['index', 'WB_ADM2_NA', 'pop'], var_name='service', value_name='pop_exc')"
   ]
  },
  {
   "cell_type": "code",
   "execution_count": 251,
   "metadata": {},
   "outputs": [
    {
     "data": {
      "text/html": [
       "<div>\n",
       "<style scoped>\n",
       "    .dataframe tbody tr th:only-of-type {\n",
       "        vertical-align: middle;\n",
       "    }\n",
       "\n",
       "    .dataframe tbody tr th {\n",
       "        vertical-align: top;\n",
       "    }\n",
       "\n",
       "    .dataframe thead th {\n",
       "        text-align: right;\n",
       "    }\n",
       "</style>\n",
       "<table border=\"1\" class=\"dataframe\">\n",
       "  <thead>\n",
       "    <tr style=\"text-align: right;\">\n",
       "      <th></th>\n",
       "      <th>index</th>\n",
       "      <th>WB_ADM1_NA</th>\n",
       "      <th>pop</th>\n",
       "      <th>service</th>\n",
       "      <th>pop_exc</th>\n",
       "    </tr>\n",
       "  </thead>\n",
       "  <tbody>\n",
       "    <tr>\n",
       "      <th>0</th>\n",
       "      <td>0</td>\n",
       "      <td>Bomi</td>\n",
       "      <td>152888.479056</td>\n",
       "      <td>emonc</td>\n",
       "      <td>0.000000</td>\n",
       "    </tr>\n",
       "    <tr>\n",
       "      <th>1</th>\n",
       "      <td>1</td>\n",
       "      <td>Bong</td>\n",
       "      <td>370047.514226</td>\n",
       "      <td>emonc</td>\n",
       "      <td>14067.058102</td>\n",
       "    </tr>\n",
       "  </tbody>\n",
       "</table>\n",
       "</div>"
      ],
      "text/plain": [
       "   index WB_ADM1_NA            pop service       pop_exc\n",
       "0      0       Bomi  152888.479056   emonc      0.000000\n",
       "1      1       Bong  370047.514226   emonc  14067.058102"
      ]
     },
     "execution_count": 251,
     "metadata": {},
     "output_type": "execute_result"
    }
   ],
   "source": [
    "df.head(2)"
   ]
  },
  {
   "cell_type": "code",
   "execution_count": 252,
   "metadata": {},
   "outputs": [],
   "source": [
    "df.loc[:, 'pop_exc_pct'] = df['pop_exc'] / df['pop']"
   ]
  },
  {
   "cell_type": "code",
   "execution_count": 253,
   "metadata": {},
   "outputs": [],
   "source": [
    "sns.set(font_scale = 1)\n",
    "sns.set_style(\"whitegrid\")"
   ]
  },
  {
   "cell_type": "code",
   "execution_count": 254,
   "metadata": {},
   "outputs": [],
   "source": [
    "# fig, ax = plt.subplots(figsize=(24, 6))\n",
    "# ax = sns.barplot(x=\"WB_ADM1_NA\", y=\"pop_exc\", hue=\"service\", data=df)"
   ]
  },
  {
   "cell_type": "code",
   "execution_count": 255,
   "metadata": {
    "scrolled": false
   },
   "outputs": [
    {
     "data": {
      "text/plain": [
       "<matplotlib.legend.Legend at 0x7f0c1cd931d0>"
      ]
     },
     "execution_count": 255,
     "metadata": {},
     "output_type": "execute_result"
    },
    {
     "data": {
      "image/png": "[encoded data removed]",
      "text/plain": [
       "<Figure size 1008x576 with 2 Axes>"
      ]
     },
     "metadata": {},
     "output_type": "display_data"
    }
   ],
   "source": [
    "fig, (ax1, ax2) = plt.subplots(2,1,figsize=(14,8))\n",
    "sns.barplot(ax = ax1, x=\"WB_ADM1_NA\", y=\"pop_exc_pct\", hue=\"service\", data=df.loc[df['index']<8])\n",
    "sns.barplot(ax = ax2, x=\"WB_ADM1_NA\", y=\"pop_exc_pct\", hue=\"service\", data=df.loc[df['index']>=8])\n",
    "ax1.set(xlabel=\"\", ylabel=\"% of pop.\")\n",
    "ax2.set(xlabel=\"\", ylabel=\"% of pop.\")\n",
    "ax1.set_ylim(0, 0.5)\n",
    "ax2.set_ylim(0, 0.5)\n",
    "ax1.yaxis.set_major_formatter(mtick.PercentFormatter(1))\n",
    "ax2.yaxis.set_major_formatter(mtick.PercentFormatter(1))\n",
    "ax1.legend([],[], frameon=False)\n",
    "# plt.savefig(\"./adm1_service.png\", facecolor='white', dpi=300)"
   ]
  },
  {
   "cell_type": "code",
   "execution_count": null,
   "metadata": {},
   "outputs": [],
   "source": []
  }
 ],
 "metadata": {
  "kernelspec": {
   "display_name": "Python (Graph)",
   "language": "python",
   "name": "graph"
  },
  "language_info": {
   "codemirror_mode": {
    "name": "ipython",
    "version": 3
   },
   "file_extension": ".py",
   "mimetype": "text/x-python",
   "name": "python",
   "nbconvert_exporter": "python",
   "pygments_lexer": "ipython3",
   "version": "3.7.10"
  },
  "toc": {
   "base_numbering": 1,
   "nav_menu": {},
   "number_sections": true,
   "sideBar": true,
   "skip_h1_title": false,
   "title_cell": "Table of Contents",
   "title_sidebar": "Contents",
   "toc_cell": false,
   "toc_position": {},
   "toc_section_display": true,
   "toc_window_display": false
  }
 },
 "nbformat": 4,
 "nbformat_minor": 2
}
