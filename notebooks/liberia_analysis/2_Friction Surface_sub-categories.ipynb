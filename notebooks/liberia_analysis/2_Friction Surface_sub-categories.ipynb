{
 "cells": [
  {
   "cell_type": "markdown",
   "metadata": {},
   "source": [
    "#### last checkpoint with code change: 8/15/2022"
   ]
  },
  {
   "cell_type": "code",
   "execution_count": 276,
   "metadata": {},
   "outputs": [],
   "source": [
    "import os, sys\n",
    "import geopandas as gpd\n",
    "import pandas as pd\n",
    "import rasterio as rio\n",
    "import numpy as np\n",
    "from shapely.geometry import Point\n",
    "import skimage.graph as graph"
   ]
  },
  {
   "cell_type": "code",
   "execution_count": 277,
   "metadata": {},
   "outputs": [],
   "source": [
    "import sys, os"
   ]
  },
  {
   "cell_type": "code",
   "execution_count": 278,
   "metadata": {},
   "outputs": [],
   "source": [
    "sys.path.append('/home/wb411133/Code/gostrocks/src') # gostrocks is used for some basic raster operations (clip and standardize)\n",
    "sys.path.append('/home/wb411133/Code/GOSTNets_Raster/src') # gostnets_raster has functions to work with friction surface\n",
    "sys.path.append('/home/wb411133/Code/GOSTnets') # it also depends on gostnets for some reason\n",
    "sys.path.append('/home/wb411133/Code/INFRA_SAP') # only used to save some raster results"
   ]
  },
  {
   "cell_type": "code",
   "execution_count": 279,
   "metadata": {},
   "outputs": [],
   "source": [
    "# sys.path.append('/home/wb514197/Repos/gostrocks/src') # gostrocks is used for some basic raster operations (clip and standardize)\n",
    "# sys.path.append('/home/wb514197/Repos/GOSTNets_Raster/src') # gostnets_raster has functions to work with friction surface\n",
    "# sys.path.append('/home/wb514197/Repos/GOSTnets') # it also depends on gostnets for some reason\n",
    "# sys.path.append('/home/wb514197/Repos/INFRA_SAP') # only used to save some raster results\n",
    "# sys.path.append('/home/wb514197/Repos/HospitalAccessibility/src') # only used to save some raster results"
   ]
  },
  {
   "cell_type": "code",
   "execution_count": 280,
   "metadata": {},
   "outputs": [],
   "source": [
    "import GOSTRocks.rasterMisc as rMisc\n",
    "import GOSTNetsRaster.market_access as ma\n",
    "from infrasap import aggregator"
   ]
  },
  {
   "cell_type": "code",
   "execution_count": 281,
   "metadata": {},
   "outputs": [],
   "source": [
    "iso3 = 'LBR'"
   ]
  },
  {
   "cell_type": "code",
   "execution_count": 282,
   "metadata": {},
   "outputs": [],
   "source": [
    "input_dir = \"/home/public/Data/PROJECTS/Health\" #\n",
    "out_folder = os.path.join(input_dir, \"output\", iso3)\n",
    "if not os.path.exists(out_folder):\n",
    "    os.mkdir(out_folder)"
   ]
  },
  {
   "cell_type": "markdown",
   "metadata": {},
   "source": [
    "## Admin Boundaries"
   ]
  },
  {
   "cell_type": "code",
   "execution_count": 283,
   "metadata": {},
   "outputs": [],
   "source": [
    "global_admin = '/home/public/Data/GLOBAL/ADMIN/g2015_0_simplified.shp'\n",
    "adm0 = gpd.read_file(global_admin)\n",
    "aoi = adm0.loc[adm0.ISO3166_1_==iso3]"
   ]
  },
  {
   "cell_type": "code",
   "execution_count": 284,
   "metadata": {},
   "outputs": [],
   "source": [
    "global_admin2 = '/home/public/Data/GLOBAL/ADMIN/Admin2_Polys.shp'\n",
    "adm2 = gpd.read_file(global_admin2)\n",
    "adm2 = adm2.loc[adm2.ISO3==iso3].copy()\n",
    "adm2 = adm2.to_crs(\"EPSG:4326\")"
   ]
  },
  {
   "cell_type": "markdown",
   "metadata": {},
   "source": [
    "### Destinations"
   ]
  },
  {
   "cell_type": "markdown",
   "metadata": {},
   "source": [
    "## 1st round master lists"
   ]
  },
  {
   "cell_type": "code",
   "execution_count": 285,
   "metadata": {},
   "outputs": [],
   "source": [
    "lbr_master = pd.read_excel(os.path.join(input_dir, \"from_tashrik\", \"master lists\", \"Liberia.xlsx\"))"
   ]
  },
  {
   "cell_type": "code",
   "execution_count": 286,
   "metadata": {},
   "outputs": [],
   "source": [
    "lbr_master['status'] = lbr_master['Status'].apply(lambda x: x.lower())\n",
    "lbr_master['hf_type'] = lbr_master['HF Type'].apply(lambda x: x.lower())\n",
    "lbr = lbr_master.loc[lbr_master.Status!=\"non-functional\"].copy()"
   ]
  },
  {
   "cell_type": "code",
   "execution_count": 287,
   "metadata": {},
   "outputs": [
    {
     "data": {
      "text/plain": [
       "Lat  \n",
       "False    627\n",
       "True      72\n",
       "dtype: int64"
      ]
     },
     "execution_count": 287,
     "metadata": {},
     "output_type": "execute_result"
    }
   ],
   "source": [
    "lbr[['Lat']].isna().value_counts()"
   ]
  },
  {
   "cell_type": "code",
   "execution_count": 288,
   "metadata": {},
   "outputs": [
    {
     "data": {
      "text/plain": [
       "hf_type      \n",
       "clinic           538\n",
       "health center     53\n",
       "hospital          36\n",
       "dtype: int64"
      ]
     },
     "execution_count": 288,
     "metadata": {},
     "output_type": "execute_result"
    }
   ],
   "source": [
    "lbr = lbr.loc[~lbr.Lat.isna()].copy()\n",
    "lbr[['hf_type']].value_counts()"
   ]
  },
  {
   "cell_type": "code",
   "execution_count": 289,
   "metadata": {},
   "outputs": [],
   "source": [
    "geoms = [Point(xy) for xy in zip(lbr.Long, lbr.Lat)]\n",
    "lbr_geo = gpd.GeoDataFrame(lbr, crs='EPSG:4326', geometry=geoms)"
   ]
  },
  {
   "cell_type": "code",
   "execution_count": 290,
   "metadata": {},
   "outputs": [
    {
     "name": "stderr",
     "output_type": "stream",
     "text": [
      "/tmp/ipykernel_22074/1498142498.py:2: UserWarning: Column names longer than 10 characters will be truncated when saved to ESRI Shapefile.\n",
      "  lbr_geo.to_file(os.path.join(out_folder, \"round_1_lbr_geo.tif\"))\n"
     ]
    }
   ],
   "source": [
    "# test map round 1\n",
    "lbr_geo.to_file(os.path.join(out_folder, \"round_1_lbr_geo.tif\"))"
   ]
  },
  {
   "cell_type": "markdown",
   "metadata": {},
   "source": [
    "## new updated master lists"
   ]
  },
  {
   "cell_type": "code",
   "execution_count": 291,
   "metadata": {},
   "outputs": [
    {
     "data": {
      "text/plain": [
       "(817, 55)"
      ]
     },
     "execution_count": 291,
     "metadata": {},
     "output_type": "execute_result"
    }
   ],
   "source": [
    "lbr_master = pd.read_csv(os.path.join(input_dir, \"from_tashrik\", \"master lists\", \"Liberia MFL Adjusted.csv\"), index_col=0)\n",
    "lbr_geocoded = pd.read_csv(os.path.join(input_dir, \"from_tashrik\", \"master lists\", \"Liberia MFL Adjusted Geocoded_Validated.csv\"), index_col=0)\n",
    "lbr = lbr_master.loc[lbr_master.functional==\"functional\"].copy()\n",
    "lbr = lbr.loc[~(lbr.latitude.isna())].copy()\n",
    "len(lbr), len(lbr_geocoded)"
   ]
  },
  {
   "cell_type": "code",
   "execution_count": 292,
   "metadata": {},
   "outputs": [
    {
     "data": {
      "text/plain": [
       "Location from old Master List     43\n",
       "District name and county query     8\n",
       "Location from Health Sites IO      2\n",
       "Fuzzy match to OSM by Tashrik      2\n",
       "Name: geocoding_method, dtype: int64"
      ]
     },
     "execution_count": 292,
     "metadata": {},
     "output_type": "execute_result"
    }
   ],
   "source": [
    "lbr_geocoded.geocoding_method.value_counts()"
   ]
  },
  {
   "cell_type": "code",
   "execution_count": 293,
   "metadata": {},
   "outputs": [
    {
     "data": {
      "text/plain": [
       "clinic           741\n",
       "health center     88\n",
       "hospital          24\n",
       "health post        6\n",
       "schoold based      4\n",
       "SDP                1\n",
       "Name: facilitytype, dtype: int64"
      ]
     },
     "execution_count": 293,
     "metadata": {},
     "output_type": "execute_result"
    }
   ],
   "source": [
    "lbr_geocoded = lbr_geocoded.loc[lbr_geocoded.geocoding_method!=\"District name and county query\"].copy()\n",
    "len(lbr), len(lbr_geocoded)\n",
    "lbr = pd.concat([lbr, lbr_geocoded])\n",
    "lbr.reset_index(drop=True, inplace=True)\n",
    "lbr.columns\n",
    "lbr.facilitytype.value_counts()"
   ]
  },
  {
   "cell_type": "code",
   "execution_count": 294,
   "metadata": {},
   "outputs": [],
   "source": [
    "geoms = [Point(xy) for xy in zip(lbr.longitude, lbr.latitude)]\n",
    "lbr_geo = gpd.GeoDataFrame(lbr, crs='EPSG:4326', geometry=geoms)"
   ]
  },
  {
   "cell_type": "code",
   "execution_count": 295,
   "metadata": {},
   "outputs": [],
   "source": [
    "#aoi['geometry'].plot()"
   ]
  },
  {
   "cell_type": "code",
   "execution_count": 296,
   "metadata": {},
   "outputs": [],
   "source": [
    "#lbr_geo.plot()"
   ]
  },
  {
   "cell_type": "code",
   "execution_count": 297,
   "metadata": {},
   "outputs": [
    {
     "name": "stderr",
     "output_type": "stream",
     "text": [
      "/home/wb411133/.conda/envs/geog/lib/python3.9/site-packages/IPython/core/interactiveshell.py:3364: FutureWarning: The `op` parameter is deprecated and will be removed in a future release. Please use the `predicate` parameter instead.\n",
      "  if (await self.run_code(code, result,  async_=asy)):\n"
     ]
    }
   ],
   "source": [
    "lbr_geo = gpd.sjoin(lbr_geo, aoi, op='within')"
   ]
  },
  {
   "cell_type": "code",
   "execution_count": 298,
   "metadata": {},
   "outputs": [
    {
     "data": {
      "text/plain": [
       "clinic           735\n",
       "health center     87\n",
       "hospital          24\n",
       "health post        6\n",
       "schoold based      4\n",
       "SDP                1\n",
       "Name: facilitytype, dtype: int64"
      ]
     },
     "execution_count": 298,
     "metadata": {},
     "output_type": "execute_result"
    }
   ],
   "source": [
    "lbr_geo.facilitytype.value_counts()"
   ]
  },
  {
   "cell_type": "code",
   "execution_count": 299,
   "metadata": {},
   "outputs": [],
   "source": [
    "# test map round 2\n",
    "lbr_geo.to_file(os.path.join(out_folder, \"round_2_lbr_geo.geojson\"))"
   ]
  },
  {
   "cell_type": "code",
   "execution_count": null,
   "metadata": {},
   "outputs": [],
   "source": []
  },
  {
   "cell_type": "code",
   "execution_count": null,
   "metadata": {},
   "outputs": [],
   "source": []
  },
  {
   "cell_type": "code",
   "execution_count": 300,
   "metadata": {},
   "outputs": [
    {
     "data": {
      "text/plain": [
       "Index(['admin_county', 'admin_district', 'today', 'latitude', 'longitude',\n",
       "       '_getcoordinate_altitude', 'precision', 'facilitytype', 'ownership',\n",
       "       'opendate', 'functional', 'offer_anc', 'offer_obstetric', 'offer_emonc',\n",
       "       'offer_postpartum', 'offer_newborncare', 'offer_maternalnewboen',\n",
       "       'offer_csection', 'offer_childimmune', 'offer_imci',\n",
       "       'offer_essentialnutrition', 'offer_fpcouple', 'offer_fpcounsel',\n",
       "       'offer_adolescentsrhr', 'offer_sexgender', 'offer_detectmanage',\n",
       "       'offer_precenttreat', 'dup', 'update_date', 'geocoding_method',\n",
       "       'facility', 'geometry', 'index_right', 'OBJECTID', 'STATUS',\n",
       "       'DISP_AREA', 'ADM0_CODE', 'ADM0_NAME', 'STR0_YEAR', 'EXP0_YEAR',\n",
       "       'Shape_Leng', 'ISO3166_1_', 'Country_Co', 'ISO3166_11', 'Country__1',\n",
       "       'Shape_Le_1', 'Shape_Area'],\n",
       "      dtype='object')"
      ]
     },
     "execution_count": 300,
     "metadata": {},
     "output_type": "execute_result"
    }
   ],
   "source": [
    "lbr_geo.columns"
   ]
  },
  {
   "cell_type": "code",
   "execution_count": 301,
   "metadata": {},
   "outputs": [],
   "source": [
    "# counts of sub categories"
   ]
  },
  {
   "cell_type": "code",
   "execution_count": 302,
   "metadata": {},
   "outputs": [
    {
     "data": {
      "text/plain": [
       "746"
      ]
     },
     "execution_count": 302,
     "metadata": {},
     "output_type": "execute_result"
    }
   ],
   "source": [
    "len(lbr_geo.loc[lbr_geo['offer_anc'] == 1])"
   ]
  },
  {
   "cell_type": "code",
   "execution_count": 303,
   "metadata": {},
   "outputs": [
    {
     "data": {
      "text/plain": [
       "351"
      ]
     },
     "execution_count": 303,
     "metadata": {},
     "output_type": "execute_result"
    }
   ],
   "source": [
    "len(lbr_geo.loc[lbr_geo['offer_emonc'] == 1])"
   ]
  },
  {
   "cell_type": "code",
   "execution_count": 304,
   "metadata": {},
   "outputs": [
    {
     "data": {
      "text/plain": [
       "674"
      ]
     },
     "execution_count": 304,
     "metadata": {},
     "output_type": "execute_result"
    }
   ],
   "source": [
    "len(lbr_geo.loc[lbr_geo['offer_childimmune'] == 1])"
   ]
  },
  {
   "cell_type": "code",
   "execution_count": 305,
   "metadata": {},
   "outputs": [
    {
     "data": {
      "text/plain": [
       "437"
      ]
     },
     "execution_count": 305,
     "metadata": {},
     "output_type": "execute_result"
    }
   ],
   "source": [
    "len(lbr_geo.loc[lbr_geo['offer_essentialnutrition'] == 1])"
   ]
  },
  {
   "cell_type": "code",
   "execution_count": 306,
   "metadata": {},
   "outputs": [
    {
     "data": {
      "text/plain": [
       "555"
      ]
     },
     "execution_count": 306,
     "metadata": {},
     "output_type": "execute_result"
    }
   ],
   "source": [
    "len(lbr_geo.loc[lbr_geo['offer_adolescentsrhr'] == 1])"
   ]
  },
  {
   "cell_type": "markdown",
   "metadata": {},
   "source": [
    "### Friction and Population"
   ]
  },
  {
   "cell_type": "code",
   "execution_count": 307,
   "metadata": {},
   "outputs": [],
   "source": [
    "global_friction_surface = \"/home/public/Data/GLOBAL/INFRA/FRICTION_2020/2020_motorized_friction_surface.geotiff\"\n",
    "global_population = \"/home/public/Data/GLOBAL/Population/WorldPop_PPP_2020/ppp_2020_1km_Aggregated.tif\""
   ]
  },
  {
   "cell_type": "code",
   "execution_count": 308,
   "metadata": {},
   "outputs": [],
   "source": [
    "inG = rio.open(global_friction_surface)"
   ]
  },
  {
   "cell_type": "code",
   "execution_count": 309,
   "metadata": {},
   "outputs": [],
   "source": [
    "rMisc.clipRaster?"
   ]
  },
  {
   "cell_type": "code",
   "execution_count": 310,
   "metadata": {},
   "outputs": [],
   "source": [
    "# Clip the travel raster to AOI\n",
    "out_travel_surface = os.path.join(out_folder, \"travel_surface.tif\")\n",
    "#rMisc.clipRaster(inG, aoi, out_travel_surface, bbox=False, buff=0.1)"
   ]
  },
  {
   "cell_type": "code",
   "execution_count": 311,
   "metadata": {},
   "outputs": [
    {
     "name": "stderr",
     "output_type": "stream",
     "text": [
      "/tmp/ipykernel_22074/1614152514.py:1: UserWarning: Geometry is in a geographic CRS. Results from 'buffer' are likely incorrect. Use 'GeoSeries.to_crs()' to re-project geometries to a projected CRS before this operation.\n",
      "\n",
      "  aoi_w_buff = aoi.buffer(0.1)\n"
     ]
    }
   ],
   "source": [
    "aoi_w_buff = aoi.buffer(0.1)"
   ]
  },
  {
   "cell_type": "code",
   "execution_count": 312,
   "metadata": {},
   "outputs": [],
   "source": [
    "rMisc.clipRaster(inG, aoi_w_buff, out_travel_surface)"
   ]
  },
  {
   "cell_type": "code",
   "execution_count": 313,
   "metadata": {},
   "outputs": [],
   "source": [
    "inP = rio.open(global_population)"
   ]
  },
  {
   "cell_type": "code",
   "execution_count": 314,
   "metadata": {},
   "outputs": [],
   "source": [
    "# Clip the pop raster to AOI\n",
    "out_pop = os.path.join(out_folder, \"WP_2020_1km.tif\")\n",
    "rMisc.clipRaster(inP, aoi_w_buff, out_pop)"
   ]
  },
  {
   "cell_type": "code",
   "execution_count": 315,
   "metadata": {},
   "outputs": [],
   "source": [
    "travel_surf = rio.open(out_travel_surface)\n",
    "pop_surf = rio.open(out_pop)"
   ]
  },
  {
   "cell_type": "code",
   "execution_count": 316,
   "metadata": {},
   "outputs": [],
   "source": [
    "#rMisc.standardizeInputRasters??"
   ]
  },
  {
   "cell_type": "code",
   "execution_count": 317,
   "metadata": {
    "scrolled": true
   },
   "outputs": [
    {
     "data": {
      "text/plain": [
       "[array([[[-3.4028235e+38, -3.4028235e+38, -3.4028235e+38, ...,\n",
       "          -3.4028235e+38, -3.4028235e+38, -3.4028235e+38],\n",
       "         [-3.4028235e+38, -3.4028235e+38, -3.4028235e+38, ...,\n",
       "          -3.4028235e+38, -3.4028235e+38, -3.4028235e+38],\n",
       "         [-3.4028235e+38, -3.4028235e+38, -3.4028235e+38, ...,\n",
       "          -3.4028235e+38, -3.4028235e+38, -3.4028235e+38],\n",
       "         ...,\n",
       "         [-3.4028235e+38, -3.4028235e+38, -3.4028235e+38, ...,\n",
       "          -3.4028235e+38, -3.4028235e+38, -3.4028235e+38],\n",
       "         [-3.4028235e+38, -3.4028235e+38, -3.4028235e+38, ...,\n",
       "          -3.4028235e+38, -3.4028235e+38, -3.4028235e+38],\n",
       "         [-3.4028235e+38, -3.4028235e+38, -3.4028235e+38, ...,\n",
       "          -3.4028235e+38, -3.4028235e+38, -3.4028235e+38]]], dtype=float32),\n",
       " {'driver': 'GTiff',\n",
       "  'dtype': 'float32',\n",
       "  'nodata': -3.4028234663852886e+38,\n",
       "  'width': 521,\n",
       "  'height': 528,\n",
       "  'count': 1,\n",
       "  'crs': CRS.from_epsg(4326),\n",
       "  'transform': Affine(0.008333333333333333, 0.0, -11.599999999999994,\n",
       "         0.0, -0.008333333333333333, 8.658333333333331)}]"
      ]
     },
     "execution_count": 317,
     "metadata": {},
     "output_type": "execute_result"
    }
   ],
   "source": [
    "# standardize so that they have the same number of pixels and dimensions\n",
    "out_pop_surface_std = os.path.join(out_folder, \"WP_2020_1km_STD.tif\")\n",
    "#rMisc.standardizeInputRasters(pop_surf, travel_surf, inR1_outFile=out_pop_surface_std, resampling_type=\"nearest\")\n",
    "rMisc.standardizeInputRasters(pop_surf, travel_surf, inR1_outFile=out_pop_surface_std, data_type=\"C\")"
   ]
  },
  {
   "cell_type": "code",
   "execution_count": 318,
   "metadata": {},
   "outputs": [
    {
     "name": "stderr",
     "output_type": "stream",
     "text": [
      "/home/wb411133/.conda/envs/geog/lib/python3.9/site-packages/pandas/core/dtypes/cast.py:118: ShapelyDeprecationWarning: The array interface is deprecated and will no longer work in Shapely 2.0. Convert the '.coords' to a numpy array instead.\n",
      "  arr = construct_1d_object_array_from_listlike(values)\n"
     ]
    }
   ],
   "source": [
    "# create a data frame of all points\n",
    "pop_surf = rio.open(out_pop_surface_std)\n",
    "pop = pop_surf.read(1, masked=True)\n",
    "indices = list(np.ndindex(pop.shape))\n",
    "xys = [Point(pop_surf.xy(ind[0], ind[1])) for ind in indices]\n",
    "res_df = pd.DataFrame({\n",
    "    'spatial_index': indices, \n",
    "    'xy': xys, \n",
    "    'pop': pop.flatten()\n",
    "})\n",
    "res_df['pointid'] = res_df.index"
   ]
  },
  {
   "cell_type": "code",
   "execution_count": 319,
   "metadata": {},
   "outputs": [],
   "source": [
    "# create MCP object\n",
    "inG_data = travel_surf.read(1) * 1000 # minutes to travel 1 meter, convert to km\n",
    "# Correct no data values\n",
    "inG_data[inG_data < 0] = 9999999999 # untraversable\n",
    "# inG_data[inG_data < 0] = np.nan\n",
    "mcp = graph.MCP_Geometric(inG_data)"
   ]
  },
  {
   "cell_type": "markdown",
   "metadata": {},
   "source": [
    "Separate destinations"
   ]
  },
  {
   "cell_type": "code",
   "execution_count": 320,
   "metadata": {},
   "outputs": [],
   "source": [
    "lbr_geo_filt = lbr_geo.loc[lbr_geo.intersects(aoi.unary_union)]"
   ]
  },
  {
   "cell_type": "code",
   "execution_count": 321,
   "metadata": {},
   "outputs": [],
   "source": [
    "lbr_geo_filt.reset_index(inplace=True, drop=True)"
   ]
  },
  {
   "cell_type": "code",
   "execution_count": 322,
   "metadata": {
    "scrolled": true
   },
   "outputs": [
    {
     "data": {
      "text/plain": [
       "(857, 857)"
      ]
     },
     "execution_count": 322,
     "metadata": {},
     "output_type": "execute_result"
    }
   ],
   "source": [
    "len(lbr_geo), len(lbr_geo_filt)"
   ]
  },
  {
   "cell_type": "code",
   "execution_count": 323,
   "metadata": {},
   "outputs": [
    {
     "data": {
      "text/html": [
       "<div>\n",
       "<style scoped>\n",
       "    .dataframe tbody tr th:only-of-type {\n",
       "        vertical-align: middle;\n",
       "    }\n",
       "\n",
       "    .dataframe tbody tr th {\n",
       "        vertical-align: top;\n",
       "    }\n",
       "\n",
       "    .dataframe thead th {\n",
       "        text-align: right;\n",
       "    }\n",
       "</style>\n",
       "<table border=\"1\" class=\"dataframe\">\n",
       "  <thead>\n",
       "    <tr style=\"text-align: right;\">\n",
       "      <th></th>\n",
       "      <th>admin_county</th>\n",
       "      <th>admin_district</th>\n",
       "      <th>today</th>\n",
       "      <th>latitude</th>\n",
       "      <th>longitude</th>\n",
       "      <th>_getcoordinate_altitude</th>\n",
       "      <th>precision</th>\n",
       "      <th>facilitytype</th>\n",
       "      <th>ownership</th>\n",
       "      <th>opendate</th>\n",
       "      <th>...</th>\n",
       "      <th>ADM0_NAME</th>\n",
       "      <th>STR0_YEAR</th>\n",
       "      <th>EXP0_YEAR</th>\n",
       "      <th>Shape_Leng</th>\n",
       "      <th>ISO3166_1_</th>\n",
       "      <th>Country_Co</th>\n",
       "      <th>ISO3166_11</th>\n",
       "      <th>Country__1</th>\n",
       "      <th>Shape_Le_1</th>\n",
       "      <th>Shape_Area</th>\n",
       "    </tr>\n",
       "  </thead>\n",
       "  <tbody>\n",
       "    <tr>\n",
       "      <th>0</th>\n",
       "      <td>Montserrado</td>\n",
       "      <td>Somalia Drive</td>\n",
       "      <td>2021-08-07</td>\n",
       "      <td>6.331593</td>\n",
       "      <td>-10.743366</td>\n",
       "      <td>4.009424</td>\n",
       "      <td>4.983</td>\n",
       "      <td>clinic</td>\n",
       "      <td>Private (non-faith based)</td>\n",
       "      <td>2013</td>\n",
       "      <td>...</td>\n",
       "      <td>Liberia</td>\n",
       "      <td>1000</td>\n",
       "      <td>3000</td>\n",
       "      <td>19.349878</td>\n",
       "      <td>LBR</td>\n",
       "      <td>LBR</td>\n",
       "      <td>LR</td>\n",
       "      <td>LR</td>\n",
       "      <td>19.349878</td>\n",
       "      <td>7.856866</td>\n",
       "    </tr>\n",
       "    <tr>\n",
       "      <th>1</th>\n",
       "      <td>Montserrado</td>\n",
       "      <td>Central Monrovia</td>\n",
       "      <td>2021-10-19</td>\n",
       "      <td>6.304997</td>\n",
       "      <td>-10.799709</td>\n",
       "      <td>2.900000</td>\n",
       "      <td>4.978</td>\n",
       "      <td>clinic</td>\n",
       "      <td>Private, (faith based)</td>\n",
       "      <td>1988</td>\n",
       "      <td>...</td>\n",
       "      <td>Liberia</td>\n",
       "      <td>1000</td>\n",
       "      <td>3000</td>\n",
       "      <td>19.349878</td>\n",
       "      <td>LBR</td>\n",
       "      <td>LBR</td>\n",
       "      <td>LR</td>\n",
       "      <td>LR</td>\n",
       "      <td>19.349878</td>\n",
       "      <td>7.856866</td>\n",
       "    </tr>\n",
       "    <tr>\n",
       "      <th>2</th>\n",
       "      <td>Montserrado</td>\n",
       "      <td>St Paul River</td>\n",
       "      <td>2021-11-18</td>\n",
       "      <td>6.412980</td>\n",
       "      <td>-10.778231</td>\n",
       "      <td>-2.712283</td>\n",
       "      <td>4.933</td>\n",
       "      <td>clinic</td>\n",
       "      <td>Private (non-faith based)</td>\n",
       "      <td>2018</td>\n",
       "      <td>...</td>\n",
       "      <td>Liberia</td>\n",
       "      <td>1000</td>\n",
       "      <td>3000</td>\n",
       "      <td>19.349878</td>\n",
       "      <td>LBR</td>\n",
       "      <td>LBR</td>\n",
       "      <td>LR</td>\n",
       "      <td>LR</td>\n",
       "      <td>19.349878</td>\n",
       "      <td>7.856866</td>\n",
       "    </tr>\n",
       "  </tbody>\n",
       "</table>\n",
       "<p>3 rows × 47 columns</p>\n",
       "</div>"
      ],
      "text/plain": [
       "  admin_county    admin_district       today  latitude  longitude  \\\n",
       "0  Montserrado     Somalia Drive  2021-08-07  6.331593 -10.743366   \n",
       "1  Montserrado  Central Monrovia  2021-10-19  6.304997 -10.799709   \n",
       "2  Montserrado     St Paul River  2021-11-18  6.412980 -10.778231   \n",
       "\n",
       "   _getcoordinate_altitude  precision facilitytype                  ownership  \\\n",
       "0                 4.009424      4.983       clinic  Private (non-faith based)   \n",
       "1                 2.900000      4.978       clinic     Private, (faith based)   \n",
       "2                -2.712283      4.933       clinic  Private (non-faith based)   \n",
       "\n",
       "   opendate  ... ADM0_NAME  STR0_YEAR  EXP0_YEAR  Shape_Leng  ISO3166_1_  \\\n",
       "0      2013  ...   Liberia       1000       3000   19.349878         LBR   \n",
       "1      1988  ...   Liberia       1000       3000   19.349878         LBR   \n",
       "2      2018  ...   Liberia       1000       3000   19.349878         LBR   \n",
       "\n",
       "   Country_Co  ISO3166_11  Country__1  Shape_Le_1  Shape_Area  \n",
       "0         LBR          LR          LR   19.349878    7.856866  \n",
       "1         LBR          LR          LR   19.349878    7.856866  \n",
       "2         LBR          LR          LR   19.349878    7.856866  \n",
       "\n",
       "[3 rows x 47 columns]"
      ]
     },
     "execution_count": 323,
     "metadata": {},
     "output_type": "execute_result"
    }
   ],
   "source": [
    "lbr_geo_filt[:3]"
   ]
  },
  {
   "cell_type": "code",
   "execution_count": 324,
   "metadata": {
    "scrolled": true
   },
   "outputs": [
    {
     "data": {
      "text/plain": [
       "clinic           735\n",
       "health center     87\n",
       "hospital          24\n",
       "health post        6\n",
       "schoold based      4\n",
       "SDP                1\n",
       "Name: facilitytype, dtype: int64"
      ]
     },
     "execution_count": 324,
     "metadata": {},
     "output_type": "execute_result"
    }
   ],
   "source": [
    "lbr_geo_filt.facilitytype.value_counts()\n",
    "#lbr_geo_filt.hf_type.value_counts()"
   ]
  },
  {
   "cell_type": "code",
   "execution_count": 325,
   "metadata": {},
   "outputs": [],
   "source": [
    "sub_category_list = [\"offer_anc\", \n",
    "\"offer_emonc\",\n",
    "\"offer_childimmune\", \n",
    "\"offer_essentialnutrition\", \n",
    "\"offer_adolescentsrhr\"\n",
    "]"
   ]
  },
  {
   "cell_type": "code",
   "execution_count": 326,
   "metadata": {},
   "outputs": [
    {
     "data": {
      "text/plain": [
       "['offer_anc',\n",
       " 'offer_emonc',\n",
       " 'offer_childimmune',\n",
       " 'offer_essentialnutrition',\n",
       " 'offer_adolescentsrhr']"
      ]
     },
     "execution_count": 326,
     "metadata": {},
     "output_type": "execute_result"
    }
   ],
   "source": [
    "sub_category_list"
   ]
  },
  {
   "cell_type": "code",
   "execution_count": 327,
   "metadata": {},
   "outputs": [
    {
     "data": {
      "text/plain": [
       "(275088, 4)"
      ]
     },
     "execution_count": 327,
     "metadata": {},
     "output_type": "execute_result"
    }
   ],
   "source": [
    "res_df.shape"
   ]
  },
  {
   "cell_type": "code",
   "execution_count": null,
   "metadata": {},
   "outputs": [],
   "source": []
  },
  {
   "cell_type": "code",
   "execution_count": 328,
   "metadata": {},
   "outputs": [],
   "source": [
    "# clean and prepare res_df\n",
    "#res_df = res_df.loc[res_df['pop']>0].copy()\n",
    "#res_df = res_df.loc[~(res_df['pop'].isna())].copy()\n",
    "res_df.loc[:,'xy'] = res_df['xy'].apply(Point)\n",
    "res_gdf = gpd.GeoDataFrame(res_df, geometry='xy', crs='EPSG:4326')\n",
    "res_gdf.loc[:, 'geometry'] = res_gdf.loc[:, 'xy']"
   ]
  },
  {
   "cell_type": "code",
   "execution_count": null,
   "metadata": {},
   "outputs": [],
   "source": []
  },
  {
   "cell_type": "markdown",
   "metadata": {},
   "source": [
    "### test"
   ]
  },
  {
   "cell_type": "code",
   "execution_count": 329,
   "metadata": {},
   "outputs": [
    {
     "name": "stdout",
     "output_type": "stream",
     "text": [
      "746\n",
      "339020541282.8016\n"
     ]
    }
   ],
   "source": [
    "print(len(lbr_geo_filt.loc[lbr_geo_filt['offer_anc']==1]))\n",
    "res = ma.calculate_travel_time(travel_surf, mcp, lbr_geo_filt.loc[lbr_geo_filt['offer_anc']==1])[0].copy()\n",
    "print(res.mean())"
   ]
  },
  {
   "cell_type": "code",
   "execution_count": 330,
   "metadata": {},
   "outputs": [
    {
     "data": {
      "text/plain": [
       "(528, 521)"
      ]
     },
     "execution_count": 330,
     "metadata": {},
     "output_type": "execute_result"
    }
   ],
   "source": [
    "res.shape"
   ]
  },
  {
   "cell_type": "code",
   "execution_count": 331,
   "metadata": {},
   "outputs": [
    {
     "data": {
      "text/plain": [
       "(275088,)"
      ]
     },
     "execution_count": 331,
     "metadata": {},
     "output_type": "execute_result"
    }
   ],
   "source": [
    "res.flatten().shape"
   ]
  },
  {
   "cell_type": "code",
   "execution_count": 332,
   "metadata": {},
   "outputs": [
    {
     "data": {
      "text/plain": [
       "(275088, 5)"
      ]
     },
     "execution_count": 332,
     "metadata": {},
     "output_type": "execute_result"
    }
   ],
   "source": [
    "res_gdf.shape"
   ]
  },
  {
   "cell_type": "code",
   "execution_count": null,
   "metadata": {},
   "outputs": [],
   "source": []
  },
  {
   "cell_type": "code",
   "execution_count": 333,
   "metadata": {},
   "outputs": [
    {
     "name": "stdout",
     "output_type": "stream",
     "text": [
      "746\n",
      "339020541282.8016\n",
      "351\n",
      "339020541289.9395\n",
      "674\n",
      "339020541282.9493\n",
      "437\n",
      "339020541283.68164\n",
      "555\n",
      "339020541283.4872\n"
     ]
    }
   ],
   "source": [
    "for sub_category in sub_category_list:\n",
    "    print(len(lbr_geo_filt.loc[lbr_geo_filt[sub_category]==1]))\n",
    "    res = ma.calculate_travel_time(travel_surf, mcp, lbr_geo_filt.loc[lbr_geo_filt[sub_category]==1])[0].copy()\n",
    "    print(res.mean())\n",
    "    res_gdf[sub_category] = res.flatten()"
   ]
  },
  {
   "cell_type": "code",
   "execution_count": null,
   "metadata": {},
   "outputs": [],
   "source": []
  },
  {
   "cell_type": "markdown",
   "metadata": {},
   "source": [
    "### also add travel times for health facilities and hospitals for statistics"
   ]
  },
  {
   "cell_type": "code",
   "execution_count": 334,
   "metadata": {},
   "outputs": [],
   "source": [
    "res_health = ma.calculate_travel_time(travel_surf, mcp, lbr_geo_filt)[0].copy()\n",
    "hospitals = lbr_geo_filt.loc[lbr_geo_filt.facilitytype==\"hospital\"].copy()\n",
    "res_hospital = ma.calculate_travel_time(travel_surf, mcp, hospitals)[0].copy()\n",
    "res_gdf.loc[:, f\"tt_health\"] = res_health.flatten()\n",
    "res_gdf.loc[:, f\"tt_hospital\"] = res_hospital.flatten()"
   ]
  },
  {
   "cell_type": "code",
   "execution_count": null,
   "metadata": {},
   "outputs": [],
   "source": []
  },
  {
   "cell_type": "code",
   "execution_count": 335,
   "metadata": {},
   "outputs": [],
   "source": [
    "res_gdf = res_gdf.loc[res_df['pop']>0].copy()\n",
    "res_gdf = res_gdf.loc[~(res_df['pop'].isna())].copy()"
   ]
  },
  {
   "cell_type": "code",
   "execution_count": 336,
   "metadata": {},
   "outputs": [
    {
     "data": {
      "text/html": [
       "<div>\n",
       "<style scoped>\n",
       "    .dataframe tbody tr th:only-of-type {\n",
       "        vertical-align: middle;\n",
       "    }\n",
       "\n",
       "    .dataframe tbody tr th {\n",
       "        vertical-align: top;\n",
       "    }\n",
       "\n",
       "    .dataframe thead th {\n",
       "        text-align: right;\n",
       "    }\n",
       "</style>\n",
       "<table border=\"1\" class=\"dataframe\">\n",
       "  <thead>\n",
       "    <tr style=\"text-align: right;\">\n",
       "      <th></th>\n",
       "      <th>spatial_index</th>\n",
       "      <th>xy</th>\n",
       "      <th>pop</th>\n",
       "      <th>pointid</th>\n",
       "      <th>geometry</th>\n",
       "      <th>offer_anc</th>\n",
       "      <th>offer_emonc</th>\n",
       "      <th>offer_childimmune</th>\n",
       "      <th>offer_essentialnutrition</th>\n",
       "      <th>offer_adolescentsrhr</th>\n",
       "      <th>tt_health</th>\n",
       "      <th>tt_hospital</th>\n",
       "    </tr>\n",
       "  </thead>\n",
       "  <tbody>\n",
       "    <tr>\n",
       "      <th>736</th>\n",
       "      <td>(1, 215)</td>\n",
       "      <td>POINT (-9.80417 8.64583)</td>\n",
       "      <td>8.980525</td>\n",
       "      <td>736</td>\n",
       "      <td>POINT (-9.80417 8.64583)</td>\n",
       "      <td>110.428970</td>\n",
       "      <td>122.193579</td>\n",
       "      <td>110.428970</td>\n",
       "      <td>114.735709</td>\n",
       "      <td>110.428970</td>\n",
       "      <td>110.428970</td>\n",
       "      <td>125.431865</td>\n",
       "    </tr>\n",
       "    <tr>\n",
       "      <th>737</th>\n",
       "      <td>(1, 216)</td>\n",
       "      <td>POINT (-9.79583 8.64583)</td>\n",
       "      <td>8.305853</td>\n",
       "      <td>737</td>\n",
       "      <td>POINT (-9.79583 8.64583)</td>\n",
       "      <td>111.119326</td>\n",
       "      <td>122.883935</td>\n",
       "      <td>111.119326</td>\n",
       "      <td>115.426065</td>\n",
       "      <td>111.119326</td>\n",
       "      <td>111.119326</td>\n",
       "      <td>126.122221</td>\n",
       "    </tr>\n",
       "    <tr>\n",
       "      <th>738</th>\n",
       "      <td>(1, 217)</td>\n",
       "      <td>POINT (-9.78750 8.64583)</td>\n",
       "      <td>13.495267</td>\n",
       "      <td>738</td>\n",
       "      <td>POINT (-9.78750 8.64583)</td>\n",
       "      <td>112.452659</td>\n",
       "      <td>124.217268</td>\n",
       "      <td>112.452659</td>\n",
       "      <td>116.759399</td>\n",
       "      <td>112.452659</td>\n",
       "      <td>112.452659</td>\n",
       "      <td>127.455554</td>\n",
       "    </tr>\n",
       "    <tr>\n",
       "      <th>739</th>\n",
       "      <td>(1, 218)</td>\n",
       "      <td>POINT (-9.77917 8.64583)</td>\n",
       "      <td>14.163782</td>\n",
       "      <td>739</td>\n",
       "      <td>POINT (-9.77917 8.64583)</td>\n",
       "      <td>115.700364</td>\n",
       "      <td>127.464973</td>\n",
       "      <td>115.700364</td>\n",
       "      <td>120.007104</td>\n",
       "      <td>115.700364</td>\n",
       "      <td>115.700364</td>\n",
       "      <td>130.703259</td>\n",
       "    </tr>\n",
       "    <tr>\n",
       "      <th>740</th>\n",
       "      <td>(1, 219)</td>\n",
       "      <td>POINT (-9.77083 8.64583)</td>\n",
       "      <td>15.457679</td>\n",
       "      <td>740</td>\n",
       "      <td>POINT (-9.77083 8.64583)</td>\n",
       "      <td>111.553164</td>\n",
       "      <td>123.317773</td>\n",
       "      <td>111.553164</td>\n",
       "      <td>115.859904</td>\n",
       "      <td>111.553164</td>\n",
       "      <td>111.553164</td>\n",
       "      <td>126.556059</td>\n",
       "    </tr>\n",
       "    <tr>\n",
       "      <th>...</th>\n",
       "      <td>...</td>\n",
       "      <td>...</td>\n",
       "      <td>...</td>\n",
       "      <td>...</td>\n",
       "      <td>...</td>\n",
       "      <td>...</td>\n",
       "      <td>...</td>\n",
       "      <td>...</td>\n",
       "      <td>...</td>\n",
       "      <td>...</td>\n",
       "      <td>...</td>\n",
       "      <td>...</td>\n",
       "    </tr>\n",
       "    <tr>\n",
       "      <th>268811</th>\n",
       "      <td>(515, 496)</td>\n",
       "      <td>POINT (-7.46250 4.36250)</td>\n",
       "      <td>3.900976</td>\n",
       "      <td>268811</td>\n",
       "      <td>POINT (-7.46250 4.36250)</td>\n",
       "      <td>65.622631</td>\n",
       "      <td>65.622631</td>\n",
       "      <td>65.622631</td>\n",
       "      <td>65.622631</td>\n",
       "      <td>74.345863</td>\n",
       "      <td>65.622631</td>\n",
       "      <td>75.653301</td>\n",
       "    </tr>\n",
       "    <tr>\n",
       "      <th>269313</th>\n",
       "      <td>(516, 477)</td>\n",
       "      <td>POINT (-7.62083 4.35417)</td>\n",
       "      <td>10.434936</td>\n",
       "      <td>269313</td>\n",
       "      <td>POINT (-7.62083 4.35417)</td>\n",
       "      <td>14.368887</td>\n",
       "      <td>14.368887</td>\n",
       "      <td>14.368887</td>\n",
       "      <td>14.368887</td>\n",
       "      <td>23.092119</td>\n",
       "      <td>14.368887</td>\n",
       "      <td>23.217810</td>\n",
       "    </tr>\n",
       "    <tr>\n",
       "      <th>269314</th>\n",
       "      <td>(516, 478)</td>\n",
       "      <td>POINT (-7.61250 4.35417)</td>\n",
       "      <td>75.483665</td>\n",
       "      <td>269314</td>\n",
       "      <td>POINT (-7.61250 4.35417)</td>\n",
       "      <td>12.472519</td>\n",
       "      <td>12.472519</td>\n",
       "      <td>12.472519</td>\n",
       "      <td>12.472519</td>\n",
       "      <td>21.195750</td>\n",
       "      <td>12.472519</td>\n",
       "      <td>22.503188</td>\n",
       "    </tr>\n",
       "    <tr>\n",
       "      <th>269315</th>\n",
       "      <td>(516, 479)</td>\n",
       "      <td>POINT (-7.60417 4.35417)</td>\n",
       "      <td>70.438751</td>\n",
       "      <td>269315</td>\n",
       "      <td>POINT (-7.60417 4.35417)</td>\n",
       "      <td>19.217592</td>\n",
       "      <td>19.217592</td>\n",
       "      <td>19.217592</td>\n",
       "      <td>19.217592</td>\n",
       "      <td>27.940824</td>\n",
       "      <td>19.217592</td>\n",
       "      <td>29.248262</td>\n",
       "    </tr>\n",
       "    <tr>\n",
       "      <th>269316</th>\n",
       "      <td>(516, 480)</td>\n",
       "      <td>POINT (-7.59583 4.35417)</td>\n",
       "      <td>56.749138</td>\n",
       "      <td>269316</td>\n",
       "      <td>POINT (-7.59583 4.35417)</td>\n",
       "      <td>26.510263</td>\n",
       "      <td>26.510263</td>\n",
       "      <td>26.510263</td>\n",
       "      <td>26.510263</td>\n",
       "      <td>35.233495</td>\n",
       "      <td>26.510263</td>\n",
       "      <td>36.540933</td>\n",
       "    </tr>\n",
       "  </tbody>\n",
       "</table>\n",
       "<p>128537 rows × 12 columns</p>\n",
       "</div>"
      ],
      "text/plain": [
       "       spatial_index                        xy        pop  pointid  \\\n",
       "736         (1, 215)  POINT (-9.80417 8.64583)   8.980525      736   \n",
       "737         (1, 216)  POINT (-9.79583 8.64583)   8.305853      737   \n",
       "738         (1, 217)  POINT (-9.78750 8.64583)  13.495267      738   \n",
       "739         (1, 218)  POINT (-9.77917 8.64583)  14.163782      739   \n",
       "740         (1, 219)  POINT (-9.77083 8.64583)  15.457679      740   \n",
       "...              ...                       ...        ...      ...   \n",
       "268811    (515, 496)  POINT (-7.46250 4.36250)   3.900976   268811   \n",
       "269313    (516, 477)  POINT (-7.62083 4.35417)  10.434936   269313   \n",
       "269314    (516, 478)  POINT (-7.61250 4.35417)  75.483665   269314   \n",
       "269315    (516, 479)  POINT (-7.60417 4.35417)  70.438751   269315   \n",
       "269316    (516, 480)  POINT (-7.59583 4.35417)  56.749138   269316   \n",
       "\n",
       "                        geometry   offer_anc  offer_emonc  offer_childimmune  \\\n",
       "736     POINT (-9.80417 8.64583)  110.428970   122.193579         110.428970   \n",
       "737     POINT (-9.79583 8.64583)  111.119326   122.883935         111.119326   \n",
       "738     POINT (-9.78750 8.64583)  112.452659   124.217268         112.452659   \n",
       "739     POINT (-9.77917 8.64583)  115.700364   127.464973         115.700364   \n",
       "740     POINT (-9.77083 8.64583)  111.553164   123.317773         111.553164   \n",
       "...                          ...         ...          ...                ...   \n",
       "268811  POINT (-7.46250 4.36250)   65.622631    65.622631          65.622631   \n",
       "269313  POINT (-7.62083 4.35417)   14.368887    14.368887          14.368887   \n",
       "269314  POINT (-7.61250 4.35417)   12.472519    12.472519          12.472519   \n",
       "269315  POINT (-7.60417 4.35417)   19.217592    19.217592          19.217592   \n",
       "269316  POINT (-7.59583 4.35417)   26.510263    26.510263          26.510263   \n",
       "\n",
       "        offer_essentialnutrition  offer_adolescentsrhr   tt_health  \\\n",
       "736                   114.735709            110.428970  110.428970   \n",
       "737                   115.426065            111.119326  111.119326   \n",
       "738                   116.759399            112.452659  112.452659   \n",
       "739                   120.007104            115.700364  115.700364   \n",
       "740                   115.859904            111.553164  111.553164   \n",
       "...                          ...                   ...         ...   \n",
       "268811                 65.622631             74.345863   65.622631   \n",
       "269313                 14.368887             23.092119   14.368887   \n",
       "269314                 12.472519             21.195750   12.472519   \n",
       "269315                 19.217592             27.940824   19.217592   \n",
       "269316                 26.510263             35.233495   26.510263   \n",
       "\n",
       "        tt_hospital  \n",
       "736      125.431865  \n",
       "737      126.122221  \n",
       "738      127.455554  \n",
       "739      130.703259  \n",
       "740      126.556059  \n",
       "...             ...  \n",
       "268811    75.653301  \n",
       "269313    23.217810  \n",
       "269314    22.503188  \n",
       "269315    29.248262  \n",
       "269316    36.540933  \n",
       "\n",
       "[128537 rows x 12 columns]"
      ]
     },
     "execution_count": 336,
     "metadata": {},
     "output_type": "execute_result"
    }
   ],
   "source": [
    "res_gdf"
   ]
  },
  {
   "cell_type": "code",
   "execution_count": 350,
   "metadata": {},
   "outputs": [],
   "source": [
    "res_gdf_export = res_gdf.drop(['geometry','spatial_index'], axis=1)"
   ]
  },
  {
   "cell_type": "code",
   "execution_count": 351,
   "metadata": {},
   "outputs": [
    {
     "data": {
      "text/html": [
       "<div>\n",
       "<style scoped>\n",
       "    .dataframe tbody tr th:only-of-type {\n",
       "        vertical-align: middle;\n",
       "    }\n",
       "\n",
       "    .dataframe tbody tr th {\n",
       "        vertical-align: top;\n",
       "    }\n",
       "\n",
       "    .dataframe thead th {\n",
       "        text-align: right;\n",
       "    }\n",
       "</style>\n",
       "<table border=\"1\" class=\"dataframe\">\n",
       "  <thead>\n",
       "    <tr style=\"text-align: right;\">\n",
       "      <th></th>\n",
       "      <th>xy</th>\n",
       "      <th>pop</th>\n",
       "      <th>pointid</th>\n",
       "      <th>offer_anc</th>\n",
       "      <th>offer_emonc</th>\n",
       "      <th>offer_childimmune</th>\n",
       "      <th>offer_essentialnutrition</th>\n",
       "      <th>offer_adolescentsrhr</th>\n",
       "      <th>tt_health</th>\n",
       "      <th>tt_hospital</th>\n",
       "    </tr>\n",
       "  </thead>\n",
       "  <tbody>\n",
       "    <tr>\n",
       "      <th>736</th>\n",
       "      <td>POINT (-9.80417 8.64583)</td>\n",
       "      <td>8.980525</td>\n",
       "      <td>736</td>\n",
       "      <td>110.428970</td>\n",
       "      <td>122.193579</td>\n",
       "      <td>110.428970</td>\n",
       "      <td>114.735709</td>\n",
       "      <td>110.428970</td>\n",
       "      <td>110.428970</td>\n",
       "      <td>125.431865</td>\n",
       "    </tr>\n",
       "    <tr>\n",
       "      <th>737</th>\n",
       "      <td>POINT (-9.79583 8.64583)</td>\n",
       "      <td>8.305853</td>\n",
       "      <td>737</td>\n",
       "      <td>111.119326</td>\n",
       "      <td>122.883935</td>\n",
       "      <td>111.119326</td>\n",
       "      <td>115.426065</td>\n",
       "      <td>111.119326</td>\n",
       "      <td>111.119326</td>\n",
       "      <td>126.122221</td>\n",
       "    </tr>\n",
       "    <tr>\n",
       "      <th>738</th>\n",
       "      <td>POINT (-9.78750 8.64583)</td>\n",
       "      <td>13.495267</td>\n",
       "      <td>738</td>\n",
       "      <td>112.452659</td>\n",
       "      <td>124.217268</td>\n",
       "      <td>112.452659</td>\n",
       "      <td>116.759399</td>\n",
       "      <td>112.452659</td>\n",
       "      <td>112.452659</td>\n",
       "      <td>127.455554</td>\n",
       "    </tr>\n",
       "    <tr>\n",
       "      <th>739</th>\n",
       "      <td>POINT (-9.77917 8.64583)</td>\n",
       "      <td>14.163782</td>\n",
       "      <td>739</td>\n",
       "      <td>115.700364</td>\n",
       "      <td>127.464973</td>\n",
       "      <td>115.700364</td>\n",
       "      <td>120.007104</td>\n",
       "      <td>115.700364</td>\n",
       "      <td>115.700364</td>\n",
       "      <td>130.703259</td>\n",
       "    </tr>\n",
       "    <tr>\n",
       "      <th>740</th>\n",
       "      <td>POINT (-9.77083 8.64583)</td>\n",
       "      <td>15.457679</td>\n",
       "      <td>740</td>\n",
       "      <td>111.553164</td>\n",
       "      <td>123.317773</td>\n",
       "      <td>111.553164</td>\n",
       "      <td>115.859904</td>\n",
       "      <td>111.553164</td>\n",
       "      <td>111.553164</td>\n",
       "      <td>126.556059</td>\n",
       "    </tr>\n",
       "    <tr>\n",
       "      <th>...</th>\n",
       "      <td>...</td>\n",
       "      <td>...</td>\n",
       "      <td>...</td>\n",
       "      <td>...</td>\n",
       "      <td>...</td>\n",
       "      <td>...</td>\n",
       "      <td>...</td>\n",
       "      <td>...</td>\n",
       "      <td>...</td>\n",
       "      <td>...</td>\n",
       "    </tr>\n",
       "    <tr>\n",
       "      <th>268811</th>\n",
       "      <td>POINT (-7.46250 4.36250)</td>\n",
       "      <td>3.900976</td>\n",
       "      <td>268811</td>\n",
       "      <td>65.622631</td>\n",
       "      <td>65.622631</td>\n",
       "      <td>65.622631</td>\n",
       "      <td>65.622631</td>\n",
       "      <td>74.345863</td>\n",
       "      <td>65.622631</td>\n",
       "      <td>75.653301</td>\n",
       "    </tr>\n",
       "    <tr>\n",
       "      <th>269313</th>\n",
       "      <td>POINT (-7.62083 4.35417)</td>\n",
       "      <td>10.434936</td>\n",
       "      <td>269313</td>\n",
       "      <td>14.368887</td>\n",
       "      <td>14.368887</td>\n",
       "      <td>14.368887</td>\n",
       "      <td>14.368887</td>\n",
       "      <td>23.092119</td>\n",
       "      <td>14.368887</td>\n",
       "      <td>23.217810</td>\n",
       "    </tr>\n",
       "    <tr>\n",
       "      <th>269314</th>\n",
       "      <td>POINT (-7.61250 4.35417)</td>\n",
       "      <td>75.483665</td>\n",
       "      <td>269314</td>\n",
       "      <td>12.472519</td>\n",
       "      <td>12.472519</td>\n",
       "      <td>12.472519</td>\n",
       "      <td>12.472519</td>\n",
       "      <td>21.195750</td>\n",
       "      <td>12.472519</td>\n",
       "      <td>22.503188</td>\n",
       "    </tr>\n",
       "    <tr>\n",
       "      <th>269315</th>\n",
       "      <td>POINT (-7.60417 4.35417)</td>\n",
       "      <td>70.438751</td>\n",
       "      <td>269315</td>\n",
       "      <td>19.217592</td>\n",
       "      <td>19.217592</td>\n",
       "      <td>19.217592</td>\n",
       "      <td>19.217592</td>\n",
       "      <td>27.940824</td>\n",
       "      <td>19.217592</td>\n",
       "      <td>29.248262</td>\n",
       "    </tr>\n",
       "    <tr>\n",
       "      <th>269316</th>\n",
       "      <td>POINT (-7.59583 4.35417)</td>\n",
       "      <td>56.749138</td>\n",
       "      <td>269316</td>\n",
       "      <td>26.510263</td>\n",
       "      <td>26.510263</td>\n",
       "      <td>26.510263</td>\n",
       "      <td>26.510263</td>\n",
       "      <td>35.233495</td>\n",
       "      <td>26.510263</td>\n",
       "      <td>36.540933</td>\n",
       "    </tr>\n",
       "  </tbody>\n",
       "</table>\n",
       "<p>128537 rows × 10 columns</p>\n",
       "</div>"
      ],
      "text/plain": [
       "                              xy        pop  pointid   offer_anc  offer_emonc  \\\n",
       "736     POINT (-9.80417 8.64583)   8.980525      736  110.428970   122.193579   \n",
       "737     POINT (-9.79583 8.64583)   8.305853      737  111.119326   122.883935   \n",
       "738     POINT (-9.78750 8.64583)  13.495267      738  112.452659   124.217268   \n",
       "739     POINT (-9.77917 8.64583)  14.163782      739  115.700364   127.464973   \n",
       "740     POINT (-9.77083 8.64583)  15.457679      740  111.553164   123.317773   \n",
       "...                          ...        ...      ...         ...          ...   \n",
       "268811  POINT (-7.46250 4.36250)   3.900976   268811   65.622631    65.622631   \n",
       "269313  POINT (-7.62083 4.35417)  10.434936   269313   14.368887    14.368887   \n",
       "269314  POINT (-7.61250 4.35417)  75.483665   269314   12.472519    12.472519   \n",
       "269315  POINT (-7.60417 4.35417)  70.438751   269315   19.217592    19.217592   \n",
       "269316  POINT (-7.59583 4.35417)  56.749138   269316   26.510263    26.510263   \n",
       "\n",
       "        offer_childimmune  offer_essentialnutrition  offer_adolescentsrhr  \\\n",
       "736            110.428970                114.735709            110.428970   \n",
       "737            111.119326                115.426065            111.119326   \n",
       "738            112.452659                116.759399            112.452659   \n",
       "739            115.700364                120.007104            115.700364   \n",
       "740            111.553164                115.859904            111.553164   \n",
       "...                   ...                       ...                   ...   \n",
       "268811          65.622631                 65.622631             74.345863   \n",
       "269313          14.368887                 14.368887             23.092119   \n",
       "269314          12.472519                 12.472519             21.195750   \n",
       "269315          19.217592                 19.217592             27.940824   \n",
       "269316          26.510263                 26.510263             35.233495   \n",
       "\n",
       "         tt_health  tt_hospital  \n",
       "736     110.428970   125.431865  \n",
       "737     111.119326   126.122221  \n",
       "738     112.452659   127.455554  \n",
       "739     115.700364   130.703259  \n",
       "740     111.553164   126.556059  \n",
       "...            ...          ...  \n",
       "268811   65.622631    75.653301  \n",
       "269313   14.368887    23.217810  \n",
       "269314   12.472519    22.503188  \n",
       "269315   19.217592    29.248262  \n",
       "269316   26.510263    36.540933  \n",
       "\n",
       "[128537 rows x 10 columns]"
      ]
     },
     "execution_count": 351,
     "metadata": {},
     "output_type": "execute_result"
    }
   ],
   "source": [
    "res_gdf_export"
   ]
  },
  {
   "cell_type": "code",
   "execution_count": 352,
   "metadata": {},
   "outputs": [
    {
     "name": "stderr",
     "output_type": "stream",
     "text": [
      "/tmp/ipykernel_22074/2710100137.py:2: UserWarning: Column names longer than 10 characters will be truncated when saved to ESRI Shapefile.\n",
      "  res_gdf_export.to_file(os.path.join(out_folder, \"results_gdf_w_sub_categories.shp\"))\n"
     ]
    }
   ],
   "source": [
    "# export stats gdf\n",
    "res_gdf_export.to_file(os.path.join(out_folder, \"results_gdf_w_sub_categories.shp\"))"
   ]
  },
  {
   "cell_type": "code",
   "execution_count": 353,
   "metadata": {},
   "outputs": [],
   "source": [
    "# export tt_health and tt_hospital\n",
    "aggregator.rasterize_gdf(res_gdf, 'tt_health', raster_path, os.path.join(out_folder, \"tt_health_2nd_rd.tif\"), nodata=-1)\n",
    "aggregator.rasterize_gdf(res_gdf, 'tt_hospital', raster_path, os.path.join(out_folder, \"tt_hospital_2nd_rd.tif\"), nodata=-1)"
   ]
  },
  {
   "cell_type": "code",
   "execution_count": null,
   "metadata": {},
   "outputs": [],
   "source": []
  },
  {
   "cell_type": "code",
   "execution_count": null,
   "metadata": {},
   "outputs": [],
   "source": []
  },
  {
   "cell_type": "code",
   "execution_count": 207,
   "metadata": {},
   "outputs": [],
   "source": [
    "raster_path = out_pop_surface_std"
   ]
  },
  {
   "cell_type": "code",
   "execution_count": 209,
   "metadata": {},
   "outputs": [],
   "source": [
    "aggregator.rasterize_gdf(res_gdf, 'offer_anc', raster_path, os.path.join(out_folder, \"tt_offer_anc_2nd_rd.tif\"), nodata=-1)\n",
    "aggregator.rasterize_gdf(res_gdf, 'offer_emonc', raster_path, os.path.join(out_folder, \"tt_offer_emonc_2nd_rd.tif\"), nodata=-1)\n",
    "aggregator.rasterize_gdf(res_gdf, 'offer_childimmune', raster_path, os.path.join(out_folder, \"tt_offer_childimmune_2nd_rd.tif\"), nodata=-1)\n",
    "aggregator.rasterize_gdf(res_gdf, 'offer_essentialnutrition', raster_path, os.path.join(out_folder, \"tt_offer_essentialnutrition_2nd_rd.tif\"), nodata=-1)\n",
    "aggregator.rasterize_gdf(res_gdf, 'offer_adolescentsrhr', raster_path, os.path.join(out_folder, \"tt_offer_adolescentsrhr_2nd_rd.tif\"), nodata=-1)"
   ]
  },
  {
   "cell_type": "code",
   "execution_count": null,
   "metadata": {},
   "outputs": [],
   "source": []
  }
 ],
 "metadata": {
  "kernelspec": {
   "display_name": "Python (geog)",
   "language": "python",
   "name": "geog"
  },
  "language_info": {
   "codemirror_mode": {
    "name": "ipython",
    "version": 3
   },
   "file_extension": ".py",
   "mimetype": "text/x-python",
   "name": "python",
   "nbconvert_exporter": "python",
   "pygments_lexer": "ipython3",
   "version": "3.9.7"
  }
 },
 "nbformat": 4,
 "nbformat_minor": 2
}
